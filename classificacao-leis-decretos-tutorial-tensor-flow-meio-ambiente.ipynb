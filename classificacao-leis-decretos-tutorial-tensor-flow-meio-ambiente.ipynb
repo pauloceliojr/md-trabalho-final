{
 "cells": [
  {
   "cell_type": "markdown",
   "metadata": {
    "collapsed": false,
    "pycharm": {
     "name": "#%% md\n"
    }
   },
   "source": [
    "# Trabalho Final de Mineração de Dados"
   ]
  },
  {
   "cell_type": "markdown",
   "metadata": {
    "collapsed": false,
    "pycharm": {
     "name": "#%% md\n"
    }
   },
   "source": [
    "## Importando bibliotecas"
   ]
  },
  {
   "cell_type": "code",
   "execution_count": 1,
   "metadata": {
    "collapsed": false,
    "pycharm": {
     "name": "#%%\n"
    }
   },
   "outputs": [
    {
     "name": "stderr",
     "output_type": "stream",
     "text": [
      "C:\\Users\\demet\\AppData\\Roaming\\Python\\Python39\\site-packages\\numpy\\_distributor_init.py:30: UserWarning: loaded more than 1 DLL from .libs:\n",
      "C:\\Users\\demet\\AppData\\Roaming\\Python\\Python39\\site-packages\\numpy\\.libs\\libopenblas.EL2C6PLE4ZYW3ECEVIV3OXXGRN2NRFM2.gfortran-win_amd64.dll\n",
      "C:\\Users\\demet\\AppData\\Roaming\\Python\\Python39\\site-packages\\numpy\\.libs\\libopenblas.FB5AE2TYXYH2IJRDKGDGQ3XBKLKTF43H.gfortran-win_amd64.dll\n",
      "  warnings.warn(\"loaded more than 1 DLL from .libs:\"\n",
      "[nltk_data] Downloading package punkt to\n",
      "[nltk_data]     C:\\Users\\demet\\AppData\\Roaming\\nltk_data...\n",
      "[nltk_data]   Package punkt is already up-to-date!\n",
      "[nltk_data] Downloading package stopwords to\n",
      "[nltk_data]     C:\\Users\\demet\\AppData\\Roaming\\nltk_data...\n",
      "[nltk_data]   Package stopwords is already up-to-date!\n"
     ]
    },
    {
     "data": {
      "text/plain": [
       "True"
      ]
     },
     "execution_count": 1,
     "metadata": {},
     "output_type": "execute_result"
    }
   ],
   "source": [
    "from gensim.models import KeyedVectors\n",
    "from sklearn.model_selection import train_test_split\n",
    "from sklearn.linear_model import LogisticRegression\n",
    "from sklearn.metrics import classification_report\n",
    "from sklearn.dummy import DummyClassifier\n",
    "from sklearn import metrics\n",
    "from collections import Counter\n",
    "import pandas as pd\n",
    "import numpy as np\n",
    "import nltk\n",
    "import string\n",
    "nltk.download(\"punkt\")\n",
    "nltk.download(\"stopwords\")"
   ]
  },
  {
   "cell_type": "markdown",
   "metadata": {
    "collapsed": false,
    "pycharm": {
     "name": "#%% md\n"
    }
   },
   "source": [
    "## 1 - Fase de Preparação dos Dados\n",
    "---"
   ]
  },
  {
   "cell_type": "markdown",
   "metadata": {
    "collapsed": false,
    "pycharm": {
     "name": "#%% md\n"
    }
   },
   "source": [
    "Carregando o arquivo original de classes."
   ]
  },
  {
   "cell_type": "code",
   "execution_count": 2,
   "metadata": {
    "collapsed": false,
    "pycharm": {
     "name": "#%%\n"
    }
   },
   "outputs": [
    {
     "data": {
      "text/html": [
       "<div>\n",
       "<style scoped>\n",
       "    .dataframe tbody tr th:only-of-type {\n",
       "        vertical-align: middle;\n",
       "    }\n",
       "\n",
       "    .dataframe tbody tr th {\n",
       "        vertical-align: top;\n",
       "    }\n",
       "\n",
       "    .dataframe thead th {\n",
       "        text-align: right;\n",
       "    }\n",
       "</style>\n",
       "<table border=\"1\" class=\"dataframe\">\n",
       "  <thead>\n",
       "    <tr style=\"text-align: right;\">\n",
       "      <th></th>\n",
       "      <th></th>\n",
       "      <th>COD_CLASSE</th>\n",
       "      <th>DES_NOME_PREFERIDO</th>\n",
       "      <th>COD_CLASSE_PAI</th>\n",
       "      <th>NUM_NIVEL</th>\n",
       "      <th>CYCLE</th>\n",
       "      <th>TREE</th>\n",
       "      <th>PATH</th>\n",
       "      <th>QTD_FILHOS</th>\n",
       "      <th>DES_NIVEL1</th>\n",
       "      <th>DES_NIVEL2</th>\n",
       "      <th>DES_NIVEL3</th>\n",
       "      <th>DES_NIVEL4</th>\n",
       "    </tr>\n",
       "  </thead>\n",
       "  <tbody>\n",
       "    <tr>\n",
       "      <th>0</th>\n",
       "      <td>1</td>\n",
       "      <td>33254494</td>\n",
       "      <td>Classificação Temática Unificada</td>\n",
       "      <td>NaN</td>\n",
       "      <td>1</td>\n",
       "      <td>0</td>\n",
       "      <td>Classificação Temática Unificada</td>\n",
       "      <td>Classificação Temática Unificada</td>\n",
       "      <td>202</td>\n",
       "      <td>NaN</td>\n",
       "      <td>NaN</td>\n",
       "      <td>NaN</td>\n",
       "      <td>NaN</td>\n",
       "    </tr>\n",
       "    <tr>\n",
       "      <th>1</th>\n",
       "      <td>2</td>\n",
       "      <td>33809814</td>\n",
       "      <td>Temas Exclusivos de Pronunciamentos</td>\n",
       "      <td>33254494.0</td>\n",
       "      <td>2</td>\n",
       "      <td>0</td>\n",
       "      <td>-- Temas Exclusivos de Pronunciamentos</td>\n",
       "      <td>Classificação Temática Unificada / Temas Exclu...</td>\n",
       "      <td>22</td>\n",
       "      <td>Temas Exclusivos de Pronunciamentos</td>\n",
       "      <td>NaN</td>\n",
       "      <td>NaN</td>\n",
       "      <td>NaN</td>\n",
       "    </tr>\n",
       "    <tr>\n",
       "      <th>2</th>\n",
       "      <td>3</td>\n",
       "      <td>33809634</td>\n",
       "      <td>Meio Ambiente</td>\n",
       "      <td>33254494.0</td>\n",
       "      <td>2</td>\n",
       "      <td>0</td>\n",
       "      <td>-- Meio Ambiente</td>\n",
       "      <td>Classificação Temática Unificada / Meio Ambiente</td>\n",
       "      <td>11</td>\n",
       "      <td>Meio Ambiente</td>\n",
       "      <td>NaN</td>\n",
       "      <td>NaN</td>\n",
       "      <td>NaN</td>\n",
       "    </tr>\n",
       "    <tr>\n",
       "      <th>3</th>\n",
       "      <td>4</td>\n",
       "      <td>33809514</td>\n",
       "      <td>Soberania, Defesa Nacional e Ordem Pública</td>\n",
       "      <td>33254494.0</td>\n",
       "      <td>2</td>\n",
       "      <td>0</td>\n",
       "      <td>-- Soberania, Defesa Nacional e Ordem Pública</td>\n",
       "      <td>Classificação Temática Unificada / Soberania, ...</td>\n",
       "      <td>7</td>\n",
       "      <td>Soberania, Defesa Nacional e Ordem Pública</td>\n",
       "      <td>NaN</td>\n",
       "      <td>NaN</td>\n",
       "      <td>NaN</td>\n",
       "    </tr>\n",
       "    <tr>\n",
       "      <th>4</th>\n",
       "      <td>5</td>\n",
       "      <td>33808912</td>\n",
       "      <td>Política Social</td>\n",
       "      <td>33254494.0</td>\n",
       "      <td>2</td>\n",
       "      <td>0</td>\n",
       "      <td>-- Política Social</td>\n",
       "      <td>Classificação Temática Unificada / Política So...</td>\n",
       "      <td>37</td>\n",
       "      <td>Política Social</td>\n",
       "      <td>NaN</td>\n",
       "      <td>NaN</td>\n",
       "      <td>NaN</td>\n",
       "    </tr>\n",
       "  </tbody>\n",
       "</table>\n",
       "</div>"
      ],
      "text/plain": [
       "        COD_CLASSE                          DES_NOME_PREFERIDO  \\\n",
       "0    1    33254494            Classificação Temática Unificada   \n",
       "1    2    33809814         Temas Exclusivos de Pronunciamentos   \n",
       "2    3    33809634                               Meio Ambiente   \n",
       "3    4    33809514  Soberania, Defesa Nacional e Ordem Pública   \n",
       "4    5    33808912                             Política Social   \n",
       "\n",
       "   COD_CLASSE_PAI  NUM_NIVEL  CYCLE  \\\n",
       "0             NaN          1      0   \n",
       "1      33254494.0          2      0   \n",
       "2      33254494.0          2      0   \n",
       "3      33254494.0          2      0   \n",
       "4      33254494.0          2      0   \n",
       "\n",
       "                                            TREE  \\\n",
       "0               Classificação Temática Unificada   \n",
       "1         -- Temas Exclusivos de Pronunciamentos   \n",
       "2                               -- Meio Ambiente   \n",
       "3  -- Soberania, Defesa Nacional e Ordem Pública   \n",
       "4                             -- Política Social   \n",
       "\n",
       "                                                PATH  QTD_FILHOS  \\\n",
       "0                   Classificação Temática Unificada         202   \n",
       "1  Classificação Temática Unificada / Temas Exclu...          22   \n",
       "2   Classificação Temática Unificada / Meio Ambiente          11   \n",
       "3  Classificação Temática Unificada / Soberania, ...           7   \n",
       "4  Classificação Temática Unificada / Política So...          37   \n",
       "\n",
       "                                   DES_NIVEL1 DES_NIVEL2 DES_NIVEL3  \\\n",
       "0                                         NaN        NaN        NaN   \n",
       "1         Temas Exclusivos de Pronunciamentos        NaN        NaN   \n",
       "2                               Meio Ambiente        NaN        NaN   \n",
       "3  Soberania, Defesa Nacional e Ordem Pública        NaN        NaN   \n",
       "4                             Política Social        NaN        NaN   \n",
       "\n",
       "   DES_NIVEL4  \n",
       "0         NaN  \n",
       "1         NaN  \n",
       "2         NaN  \n",
       "3         NaN  \n",
       "4         NaN  "
      ]
     },
     "execution_count": 2,
     "metadata": {},
     "output_type": "execute_result"
    }
   ],
   "source": [
    "classes_original = pd.read_excel(\"dados/SistemaDeClassificacao.xlsx\", \"Select viw_classificacao_arvore\")\n",
    "classes_original.head()"
   ]
  },
  {
   "cell_type": "markdown",
   "metadata": {
    "collapsed": false,
    "pycharm": {
     "name": "#%% md\n"
    }
   },
   "source": [
    "Filtra o arquivo de classes original para exibir apenas aquelas que serão raiz na classificação da ementa.\n",
    "Essa classes possuem nível 2 na tabela original."
   ]
  },
  {
   "cell_type": "code",
   "execution_count": 3,
   "metadata": {
    "collapsed": false,
    "pycharm": {
     "name": "#%%\n"
    }
   },
   "outputs": [
    {
     "data": {
      "text/html": [
       "<div>\n",
       "<style scoped>\n",
       "    .dataframe tbody tr th:only-of-type {\n",
       "        vertical-align: middle;\n",
       "    }\n",
       "\n",
       "    .dataframe tbody tr th {\n",
       "        vertical-align: top;\n",
       "    }\n",
       "\n",
       "    .dataframe thead th {\n",
       "        text-align: right;\n",
       "    }\n",
       "</style>\n",
       "<table border=\"1\" class=\"dataframe\">\n",
       "  <thead>\n",
       "    <tr style=\"text-align: right;\">\n",
       "      <th></th>\n",
       "      <th>COD_CLASSE</th>\n",
       "      <th>DES_CLASSE</th>\n",
       "    </tr>\n",
       "  </thead>\n",
       "  <tbody>\n",
       "    <tr>\n",
       "      <th>1</th>\n",
       "      <td>33809814</td>\n",
       "      <td>Temas Exclusivos de Pronunciamentos</td>\n",
       "    </tr>\n",
       "    <tr>\n",
       "      <th>2</th>\n",
       "      <td>33809634</td>\n",
       "      <td>Meio Ambiente</td>\n",
       "    </tr>\n",
       "    <tr>\n",
       "      <th>3</th>\n",
       "      <td>33809514</td>\n",
       "      <td>Soberania, Defesa Nacional e Ordem Pública</td>\n",
       "    </tr>\n",
       "    <tr>\n",
       "      <th>4</th>\n",
       "      <td>33808912</td>\n",
       "      <td>Política Social</td>\n",
       "    </tr>\n",
       "    <tr>\n",
       "      <th>5</th>\n",
       "      <td>33805362</td>\n",
       "      <td>Jurídico</td>\n",
       "    </tr>\n",
       "    <tr>\n",
       "      <th>6</th>\n",
       "      <td>33805317</td>\n",
       "      <td>Honorífico</td>\n",
       "    </tr>\n",
       "    <tr>\n",
       "      <th>7</th>\n",
       "      <td>33805137</td>\n",
       "      <td>Infraestrutura</td>\n",
       "    </tr>\n",
       "    <tr>\n",
       "      <th>8</th>\n",
       "      <td>33769167</td>\n",
       "      <td>Economia e Desenvolvimento</td>\n",
       "    </tr>\n",
       "    <tr>\n",
       "      <th>9</th>\n",
       "      <td>33768972</td>\n",
       "      <td>Organização do Estado</td>\n",
       "    </tr>\n",
       "    <tr>\n",
       "      <th>10</th>\n",
       "      <td>33685789</td>\n",
       "      <td>Administração Pública</td>\n",
       "    </tr>\n",
       "    <tr>\n",
       "      <th>11</th>\n",
       "      <td>33260515</td>\n",
       "      <td>Orçamento Público</td>\n",
       "    </tr>\n",
       "  </tbody>\n",
       "</table>\n",
       "</div>"
      ],
      "text/plain": [
       "    COD_CLASSE                                  DES_CLASSE\n",
       "1     33809814         Temas Exclusivos de Pronunciamentos\n",
       "2     33809634                               Meio Ambiente\n",
       "3     33809514  Soberania, Defesa Nacional e Ordem Pública\n",
       "4     33808912                             Política Social\n",
       "5     33805362                                    Jurídico\n",
       "6     33805317                                  Honorífico\n",
       "7     33805137                              Infraestrutura\n",
       "8     33769167                  Economia e Desenvolvimento\n",
       "9     33768972                       Organização do Estado\n",
       "10    33685789                       Administração Pública\n",
       "11    33260515                           Orçamento Público"
      ]
     },
     "execution_count": 3,
     "metadata": {},
     "output_type": "execute_result"
    }
   ],
   "source": [
    "classes_raiz = classes_original.query(\"NUM_NIVEL == 2\").filter([\"COD_CLASSE\", \"DES_NOME_PREFERIDO\"])\n",
    "classes_raiz.rename(columns={\"DES_NOME_PREFERIDO\": \"DES_CLASSE\"}, inplace=True)\n",
    "classes_raiz"
   ]
  },
  {
   "cell_type": "markdown",
   "metadata": {
    "collapsed": false,
    "pycharm": {
     "name": "#%% md\n"
    }
   },
   "source": [
    "Carrega o dataset contendo as leis que já foram classificadas. Com os dados carregados, cria uma coluna derivada (DES_CLASSE_RAIZ) a partir da árvore de classes (DES_CLASSE_HIERARQUIA), da qual a informação de classe raiz é extraída."
   ]
  },
  {
   "cell_type": "code",
   "execution_count": 4,
   "metadata": {
    "collapsed": false,
    "pycharm": {
     "name": "#%%\n"
    }
   },
   "outputs": [
    {
     "data": {
      "text/html": [
       "<div>\n",
       "<style scoped>\n",
       "    .dataframe tbody tr th:only-of-type {\n",
       "        vertical-align: middle;\n",
       "    }\n",
       "\n",
       "    .dataframe tbody tr th {\n",
       "        vertical-align: top;\n",
       "    }\n",
       "\n",
       "    .dataframe thead th {\n",
       "        text-align: right;\n",
       "    }\n",
       "</style>\n",
       "<table border=\"1\" class=\"dataframe\">\n",
       "  <thead>\n",
       "    <tr style=\"text-align: right;\">\n",
       "      <th></th>\n",
       "      <th></th>\n",
       "      <th>COD_PRC_DOC_TEMA</th>\n",
       "      <th>COD_PROCESSO_DOCUMENTO</th>\n",
       "      <th>COD_CLASSE</th>\n",
       "      <th>DES_CLASSE</th>\n",
       "      <th>DES_CLASSE_HIERARQUIA</th>\n",
       "      <th>DES_CLASSE_RAIZ</th>\n",
       "    </tr>\n",
       "  </thead>\n",
       "  <tbody>\n",
       "    <tr>\n",
       "      <th>0</th>\n",
       "      <td>1</td>\n",
       "      <td>36155183</td>\n",
       "      <td>386343</td>\n",
       "      <td>33805827</td>\n",
       "      <td>Crédito Suplementar</td>\n",
       "      <td>Classificação Temática Unificada / Orçamento P...</td>\n",
       "      <td>Orçamento Público</td>\n",
       "    </tr>\n",
       "    <tr>\n",
       "      <th>1</th>\n",
       "      <td>2</td>\n",
       "      <td>36192020</td>\n",
       "      <td>386579</td>\n",
       "      <td>33805287</td>\n",
       "      <td>Rádio e TV</td>\n",
       "      <td>Classificação Temática Unificada / Infraestrut...</td>\n",
       "      <td>Infraestrutura</td>\n",
       "    </tr>\n",
       "    <tr>\n",
       "      <th>2</th>\n",
       "      <td>3</td>\n",
       "      <td>36155185</td>\n",
       "      <td>387419</td>\n",
       "      <td>33805827</td>\n",
       "      <td>Crédito Suplementar</td>\n",
       "      <td>Classificação Temática Unificada / Orçamento P...</td>\n",
       "      <td>Orçamento Público</td>\n",
       "    </tr>\n",
       "    <tr>\n",
       "      <th>3</th>\n",
       "      <td>4</td>\n",
       "      <td>36192056</td>\n",
       "      <td>387832</td>\n",
       "      <td>33805287</td>\n",
       "      <td>Rádio e TV</td>\n",
       "      <td>Classificação Temática Unificada / Infraestrut...</td>\n",
       "      <td>Infraestrutura</td>\n",
       "    </tr>\n",
       "    <tr>\n",
       "      <th>4</th>\n",
       "      <td>5</td>\n",
       "      <td>36155187</td>\n",
       "      <td>388197</td>\n",
       "      <td>33805827</td>\n",
       "      <td>Crédito Suplementar</td>\n",
       "      <td>Classificação Temática Unificada / Orçamento P...</td>\n",
       "      <td>Orçamento Público</td>\n",
       "    </tr>\n",
       "  </tbody>\n",
       "</table>\n",
       "</div>"
      ],
      "text/plain": [
       "        COD_PRC_DOC_TEMA  COD_PROCESSO_DOCUMENTO  COD_CLASSE  \\\n",
       "0    1          36155183                  386343    33805827   \n",
       "1    2          36192020                  386579    33805287   \n",
       "2    3          36155185                  387419    33805827   \n",
       "3    4          36192056                  387832    33805287   \n",
       "4    5          36155187                  388197    33805827   \n",
       "\n",
       "            DES_CLASSE                              DES_CLASSE_HIERARQUIA  \\\n",
       "0  Crédito Suplementar  Classificação Temática Unificada / Orçamento P...   \n",
       "1           Rádio e TV  Classificação Temática Unificada / Infraestrut...   \n",
       "2  Crédito Suplementar  Classificação Temática Unificada / Orçamento P...   \n",
       "3           Rádio e TV  Classificação Temática Unificada / Infraestrut...   \n",
       "4  Crédito Suplementar  Classificação Temática Unificada / Orçamento P...   \n",
       "\n",
       "     DES_CLASSE_RAIZ  \n",
       "0  Orçamento Público  \n",
       "1     Infraestrutura  \n",
       "2  Orçamento Público  \n",
       "3     Infraestrutura  \n",
       "4  Orçamento Público  "
      ]
     },
     "execution_count": 4,
     "metadata": {},
     "output_type": "execute_result"
    }
   ],
   "source": [
    "leis_classificadas_original = pd.read_excel(\"dados/ClassificacaoDeLeisOrdinarias-LeisComplementares-e-DecretosNumerados-Desde1900.xlsx\", \"Select mvw_u03_prc_doc_tema\")\n",
    "leis_classificadas_original[\"DES_CLASSE_RAIZ\"] = leis_classificadas_original[\"DES_CLASSE_HIERARQUIA\"].apply(lambda hierarquia : hierarquia.split(\" / \")[1])\n",
    "leis_classificadas_original.head()"
   ]
  },
  {
   "cell_type": "markdown",
   "metadata": {
    "collapsed": false,
    "pycharm": {
     "name": "#%% md\n"
    }
   },
   "source": [
    "Carrega os dados de todas as leis (classificadas e não classificadas) e aplica as transformações iniciais."
   ]
  },
  {
   "cell_type": "code",
   "execution_count": 5,
   "metadata": {
    "collapsed": false,
    "pycharm": {
     "name": "#%%\n"
    }
   },
   "outputs": [
    {
     "data": {
      "text/html": [
       "<div>\n",
       "<style scoped>\n",
       "    .dataframe tbody tr th:only-of-type {\n",
       "        vertical-align: middle;\n",
       "    }\n",
       "\n",
       "    .dataframe tbody tr th {\n",
       "        vertical-align: top;\n",
       "    }\n",
       "\n",
       "    .dataframe thead th {\n",
       "        text-align: right;\n",
       "    }\n",
       "</style>\n",
       "<table border=\"1\" class=\"dataframe\">\n",
       "  <thead>\n",
       "    <tr style=\"text-align: right;\">\n",
       "      <th></th>\n",
       "      <th>COD_DOCUMENTO</th>\n",
       "      <th>DES_NOME_PREFERIDO</th>\n",
       "      <th>DES_NOMES_ALTERNATIVOS</th>\n",
       "      <th>TXT_EMENTA</th>\n",
       "    </tr>\n",
       "  </thead>\n",
       "  <tbody>\n",
       "    <tr>\n",
       "      <th>0</th>\n",
       "      <td>35345364</td>\n",
       "      <td>Lei nº 14.263 de 22/12/2021</td>\n",
       "      <td>LEI-14263-2021-12-22</td>\n",
       "      <td>Abre ao Orçamento da Seguridade Social da Uniã...</td>\n",
       "    </tr>\n",
       "    <tr>\n",
       "      <th>1</th>\n",
       "      <td>26247104</td>\n",
       "      <td>Lei nº 13.486 de 03/10/2017</td>\n",
       "      <td>LEI-13486-2017-10-03</td>\n",
       "      <td>Altera o art. 8º da Lei nº 8.078, de 11 de set...</td>\n",
       "    </tr>\n",
       "    <tr>\n",
       "      <th>2</th>\n",
       "      <td>27445746</td>\n",
       "      <td>Lei nº 13.701 de 06/08/2018</td>\n",
       "      <td>LEI-13701-2018-08-06</td>\n",
       "      <td>Cria o cargo de natureza especial de Intervent...</td>\n",
       "    </tr>\n",
       "    <tr>\n",
       "      <th>3</th>\n",
       "      <td>36348502</td>\n",
       "      <td>Lei nº 14.447 de 09/09/2022</td>\n",
       "      <td>LEI-14447-2022-09-09</td>\n",
       "      <td>Altera os limites da Floresta Nacional de Bras...</td>\n",
       "    </tr>\n",
       "    <tr>\n",
       "      <th>4</th>\n",
       "      <td>32103727</td>\n",
       "      <td>Lei nº 13.988 de 14/04/2020</td>\n",
       "      <td>LEI-13988-2020-04-14</td>\n",
       "      <td>Dispõe sobre a transação nas hipóteses que esp...</td>\n",
       "    </tr>\n",
       "  </tbody>\n",
       "</table>\n",
       "</div>"
      ],
      "text/plain": [
       "   COD_DOCUMENTO           DES_NOME_PREFERIDO DES_NOMES_ALTERNATIVOS  \\\n",
       "0       35345364  Lei nº 14.263 de 22/12/2021   LEI-14263-2021-12-22   \n",
       "1       26247104  Lei nº 13.486 de 03/10/2017   LEI-13486-2017-10-03   \n",
       "2       27445746  Lei nº 13.701 de 06/08/2018   LEI-13701-2018-08-06   \n",
       "3       36348502  Lei nº 14.447 de 09/09/2022   LEI-14447-2022-09-09   \n",
       "4       32103727  Lei nº 13.988 de 14/04/2020   LEI-13988-2020-04-14   \n",
       "\n",
       "                                          TXT_EMENTA  \n",
       "0  Abre ao Orçamento da Seguridade Social da Uniã...  \n",
       "1  Altera o art. 8º da Lei nº 8.078, de 11 de set...  \n",
       "2  Cria o cargo de natureza especial de Intervent...  \n",
       "3  Altera os limites da Floresta Nacional de Bras...  \n",
       "4  Dispõe sobre a transação nas hipóteses que esp...  "
      ]
     },
     "execution_count": 5,
     "metadata": {},
     "output_type": "execute_result"
    }
   ],
   "source": [
    "leis_original = pd.read_excel(\"dados/LeisOrdinarias-LeisComplementare-e-DecretosNumeradosComClassificacaoDesde1900.xlsx\", \"Select mvw_s01_documento\")\n",
    "leis_original.rename(columns={\"DBMS_LOB.SUBSTR(S01.TXT_EMENTA\": \"TXT_EMENTA\"}, inplace=True)\n",
    "leis_original.drop(columns=\"   \", inplace=True)\n",
    "leis_original.head()"
   ]
  },
  {
   "cell_type": "code",
   "execution_count": 6,
   "metadata": {
    "collapsed": false,
    "pycharm": {
     "name": "#%%\n"
    }
   },
   "outputs": [
    {
     "data": {
      "text/plain": [
       "26959"
      ]
     },
     "execution_count": 6,
     "metadata": {},
     "output_type": "execute_result"
    }
   ],
   "source": [
    "leis_original.shape[0]"
   ]
  },
  {
   "cell_type": "markdown",
   "metadata": {
    "collapsed": false,
    "pycharm": {
     "name": "#%% md\n"
    }
   },
   "source": [
    "Com os datasets necessários já carregados, cria-se um novo dataset a partir do dataset contendo todas as leis, incluindo-se a informação das classes contidadas nas leis do dataset de leis classificadas."
   ]
  },
  {
   "cell_type": "code",
   "execution_count": 7,
   "metadata": {
    "collapsed": false,
    "pycharm": {
     "name": "#%%\n"
    }
   },
   "outputs": [
    {
     "data": {
      "text/html": [
       "<div>\n",
       "<style scoped>\n",
       "    .dataframe tbody tr th:only-of-type {\n",
       "        vertical-align: middle;\n",
       "    }\n",
       "\n",
       "    .dataframe tbody tr th {\n",
       "        vertical-align: top;\n",
       "    }\n",
       "\n",
       "    .dataframe thead th {\n",
       "        text-align: right;\n",
       "    }\n",
       "</style>\n",
       "<table border=\"1\" class=\"dataframe\">\n",
       "  <thead>\n",
       "    <tr style=\"text-align: right;\">\n",
       "      <th></th>\n",
       "      <th>COD_DOCUMENTO</th>\n",
       "      <th>DES_NOME_PREFERIDO</th>\n",
       "      <th>DES_NOMES_ALTERNATIVOS</th>\n",
       "      <th>TXT_EMENTA</th>\n",
       "      <th>COD_CLASSE</th>\n",
       "      <th>DES_CLASSE</th>\n",
       "    </tr>\n",
       "  </thead>\n",
       "  <tbody>\n",
       "    <tr>\n",
       "      <th>0</th>\n",
       "      <td>35345364</td>\n",
       "      <td>Lei nº 14.263 de 22/12/2021</td>\n",
       "      <td>LEI-14263-2021-12-22</td>\n",
       "      <td>Abre ao Orçamento da Seguridade Social da Uniã...</td>\n",
       "      <td>33260515.0</td>\n",
       "      <td>Orçamento Público</td>\n",
       "    </tr>\n",
       "    <tr>\n",
       "      <th>1</th>\n",
       "      <td>26247104</td>\n",
       "      <td>Lei nº 13.486 de 03/10/2017</td>\n",
       "      <td>LEI-13486-2017-10-03</td>\n",
       "      <td>Altera o art. 8º da Lei nº 8.078, de 11 de set...</td>\n",
       "      <td>33808912.0</td>\n",
       "      <td>Política Social</td>\n",
       "    </tr>\n",
       "    <tr>\n",
       "      <th>2</th>\n",
       "      <td>27445746</td>\n",
       "      <td>Lei nº 13.701 de 06/08/2018</td>\n",
       "      <td>LEI-13701-2018-08-06</td>\n",
       "      <td>Cria o cargo de natureza especial de Intervent...</td>\n",
       "      <td>33768972.0</td>\n",
       "      <td>Organização do Estado</td>\n",
       "    </tr>\n",
       "    <tr>\n",
       "      <th>3</th>\n",
       "      <td>36348502</td>\n",
       "      <td>Lei nº 14.447 de 09/09/2022</td>\n",
       "      <td>LEI-14447-2022-09-09</td>\n",
       "      <td>Altera os limites da Floresta Nacional de Bras...</td>\n",
       "      <td>33685789.0</td>\n",
       "      <td>Administração Pública</td>\n",
       "    </tr>\n",
       "    <tr>\n",
       "      <th>4</th>\n",
       "      <td>36348502</td>\n",
       "      <td>Lei nº 14.447 de 09/09/2022</td>\n",
       "      <td>LEI-14447-2022-09-09</td>\n",
       "      <td>Altera os limites da Floresta Nacional de Bras...</td>\n",
       "      <td>33809634.0</td>\n",
       "      <td>Meio Ambiente</td>\n",
       "    </tr>\n",
       "  </tbody>\n",
       "</table>\n",
       "</div>"
      ],
      "text/plain": [
       "   COD_DOCUMENTO           DES_NOME_PREFERIDO DES_NOMES_ALTERNATIVOS  \\\n",
       "0       35345364  Lei nº 14.263 de 22/12/2021   LEI-14263-2021-12-22   \n",
       "1       26247104  Lei nº 13.486 de 03/10/2017   LEI-13486-2017-10-03   \n",
       "2       27445746  Lei nº 13.701 de 06/08/2018   LEI-13701-2018-08-06   \n",
       "3       36348502  Lei nº 14.447 de 09/09/2022   LEI-14447-2022-09-09   \n",
       "4       36348502  Lei nº 14.447 de 09/09/2022   LEI-14447-2022-09-09   \n",
       "\n",
       "                                          TXT_EMENTA  COD_CLASSE  \\\n",
       "0  Abre ao Orçamento da Seguridade Social da Uniã...  33260515.0   \n",
       "1  Altera o art. 8º da Lei nº 8.078, de 11 de set...  33808912.0   \n",
       "2  Cria o cargo de natureza especial de Intervent...  33768972.0   \n",
       "3  Altera os limites da Floresta Nacional de Bras...  33685789.0   \n",
       "4  Altera os limites da Floresta Nacional de Bras...  33809634.0   \n",
       "\n",
       "              DES_CLASSE  \n",
       "0      Orçamento Público  \n",
       "1        Política Social  \n",
       "2  Organização do Estado  \n",
       "3  Administração Pública  \n",
       "4          Meio Ambiente  "
      ]
     },
     "execution_count": 7,
     "metadata": {},
     "output_type": "execute_result"
    }
   ],
   "source": [
    "leis = leis_original.merge(leis_classificadas_original.filter([\"COD_PROCESSO_DOCUMENTO\",\"DES_CLASSE_RAIZ\"]), left_on=\"COD_DOCUMENTO\", right_on=\"COD_PROCESSO_DOCUMENTO\", how=\"left\")\n",
    "leis = leis.merge(classes_raiz, left_on=\"DES_CLASSE_RAIZ\", right_on=\"DES_CLASSE\", how=\"left\")\n",
    "leis.drop(columns=[\"COD_PROCESSO_DOCUMENTO\", \"DES_CLASSE_RAIZ\"], inplace=True)\n",
    "leis.head()"
   ]
  },
  {
   "cell_type": "code",
   "execution_count": 8,
   "metadata": {
    "collapsed": false,
    "pycharm": {
     "name": "#%%\n"
    }
   },
   "outputs": [
    {
     "data": {
      "text/plain": [
       "27743"
      ]
     },
     "execution_count": 8,
     "metadata": {},
     "output_type": "execute_result"
    }
   ],
   "source": [
    "leis.shape[0]"
   ]
  },
  {
   "cell_type": "markdown",
   "metadata": {
    "collapsed": false,
    "pycharm": {
     "name": "#%% md\n"
    }
   },
   "source": [
    "Limpa os registros duplicados de leis que possuem mais de uma classe folha, mas que tenham mesma classe raiz e exibe as leis que possuem mais de uma classe folha, mas que tenham classes raiz diferentes."
   ]
  },
  {
   "cell_type": "code",
   "execution_count": 9,
   "metadata": {
    "collapsed": false,
    "pycharm": {
     "name": "#%%\n"
    }
   },
   "outputs": [
    {
     "data": {
      "text/html": [
       "<div>\n",
       "<style scoped>\n",
       "    .dataframe tbody tr th:only-of-type {\n",
       "        vertical-align: middle;\n",
       "    }\n",
       "\n",
       "    .dataframe tbody tr th {\n",
       "        vertical-align: top;\n",
       "    }\n",
       "\n",
       "    .dataframe thead th {\n",
       "        text-align: right;\n",
       "    }\n",
       "</style>\n",
       "<table border=\"1\" class=\"dataframe\">\n",
       "  <thead>\n",
       "    <tr style=\"text-align: right;\">\n",
       "      <th></th>\n",
       "      <th>COD_DOCUMENTO</th>\n",
       "      <th>COD_CLASSE</th>\n",
       "      <th>DES_CLASSE</th>\n",
       "    </tr>\n",
       "  </thead>\n",
       "  <tbody>\n",
       "    <tr>\n",
       "      <th>3</th>\n",
       "      <td>36348502</td>\n",
       "      <td>33685789.0</td>\n",
       "      <td>Administração Pública</td>\n",
       "    </tr>\n",
       "    <tr>\n",
       "      <th>4</th>\n",
       "      <td>36348502</td>\n",
       "      <td>33809634.0</td>\n",
       "      <td>Meio Ambiente</td>\n",
       "    </tr>\n",
       "    <tr>\n",
       "      <th>5</th>\n",
       "      <td>36348502</td>\n",
       "      <td>33769167.0</td>\n",
       "      <td>Economia e Desenvolvimento</td>\n",
       "    </tr>\n",
       "    <tr>\n",
       "      <th>20</th>\n",
       "      <td>36062349</td>\n",
       "      <td>33808912.0</td>\n",
       "      <td>Política Social</td>\n",
       "    </tr>\n",
       "    <tr>\n",
       "      <th>21</th>\n",
       "      <td>36062349</td>\n",
       "      <td>33769167.0</td>\n",
       "      <td>Economia e Desenvolvimento</td>\n",
       "    </tr>\n",
       "    <tr>\n",
       "      <th>...</th>\n",
       "      <td>...</td>\n",
       "      <td>...</td>\n",
       "      <td>...</td>\n",
       "    </tr>\n",
       "    <tr>\n",
       "      <th>27349</th>\n",
       "      <td>36032872</td>\n",
       "      <td>33808912.0</td>\n",
       "      <td>Política Social</td>\n",
       "    </tr>\n",
       "    <tr>\n",
       "      <th>27350</th>\n",
       "      <td>35556312</td>\n",
       "      <td>33685789.0</td>\n",
       "      <td>Administração Pública</td>\n",
       "    </tr>\n",
       "    <tr>\n",
       "      <th>27351</th>\n",
       "      <td>35556312</td>\n",
       "      <td>33808912.0</td>\n",
       "      <td>Política Social</td>\n",
       "    </tr>\n",
       "    <tr>\n",
       "      <th>27359</th>\n",
       "      <td>35396946</td>\n",
       "      <td>33809514.0</td>\n",
       "      <td>Soberania, Defesa Nacional e Ordem Pública</td>\n",
       "    </tr>\n",
       "    <tr>\n",
       "      <th>27360</th>\n",
       "      <td>35396946</td>\n",
       "      <td>33769167.0</td>\n",
       "      <td>Economia e Desenvolvimento</td>\n",
       "    </tr>\n",
       "  </tbody>\n",
       "</table>\n",
       "<p>630 rows × 3 columns</p>\n",
       "</div>"
      ],
      "text/plain": [
       "       COD_DOCUMENTO  COD_CLASSE                                  DES_CLASSE\n",
       "3           36348502  33685789.0                       Administração Pública\n",
       "4           36348502  33809634.0                               Meio Ambiente\n",
       "5           36348502  33769167.0                  Economia e Desenvolvimento\n",
       "20          36062349  33808912.0                             Política Social\n",
       "21          36062349  33769167.0                  Economia e Desenvolvimento\n",
       "...              ...         ...                                         ...\n",
       "27349       36032872  33808912.0                             Política Social\n",
       "27350       35556312  33685789.0                       Administração Pública\n",
       "27351       35556312  33808912.0                             Política Social\n",
       "27359       35396946  33809514.0  Soberania, Defesa Nacional e Ordem Pública\n",
       "27360       35396946  33769167.0                  Economia e Desenvolvimento\n",
       "\n",
       "[630 rows x 3 columns]"
      ]
     },
     "execution_count": 9,
     "metadata": {},
     "output_type": "execute_result"
    }
   ],
   "source": [
    "leis.drop_duplicates(inplace=True)\n",
    "temp = leis[[\"COD_DOCUMENTO\", \"COD_CLASSE\", \"DES_CLASSE\"]].groupby(\"COD_DOCUMENTO\")\n",
    "temp.filter(lambda x: len(x) > 1)"
   ]
  },
  {
   "cell_type": "markdown",
   "metadata": {
    "collapsed": false,
    "pycharm": {
     "name": "#%% md\n"
    }
   },
   "source": [
    "Tamanho da base tratada de leis."
   ]
  },
  {
   "cell_type": "code",
   "execution_count": 10,
   "metadata": {
    "collapsed": false,
    "pycharm": {
     "name": "#%%\n"
    }
   },
   "outputs": [
    {
     "data": {
      "text/plain": [
       "27294"
      ]
     },
     "execution_count": 10,
     "metadata": {},
     "output_type": "execute_result"
    }
   ],
   "source": [
    "leis.shape[0]"
   ]
  },
  {
   "cell_type": "markdown",
   "metadata": {
    "collapsed": false,
    "pycharm": {
     "name": "#%% md\n"
    }
   },
   "source": [
    "Total de classificações feitas em leis."
   ]
  },
  {
   "cell_type": "code",
   "execution_count": 11,
   "metadata": {
    "collapsed": false,
    "pycharm": {
     "name": "#%%\n"
    }
   },
   "outputs": [
    {
     "data": {
      "text/plain": [
       "17438"
      ]
     },
     "execution_count": 11,
     "metadata": {},
     "output_type": "execute_result"
    }
   ],
   "source": [
    "leis_classificadas = leis.query(\"not COD_CLASSE.isnull()\")\n",
    "quantidade_classificacoes = leis_classificadas.shape[0]\n",
    "quantidade_classificacoes"
   ]
  },
  {
   "cell_type": "markdown",
   "metadata": {
    "collapsed": false,
    "pycharm": {
     "name": "#%% md\n"
    }
   },
   "source": [
    "Número distinto de leis classificadas."
   ]
  },
  {
   "cell_type": "code",
   "execution_count": 12,
   "metadata": {
    "collapsed": false,
    "pycharm": {
     "name": "#%%\n"
    }
   },
   "outputs": [
    {
     "data": {
      "text/plain": [
       "17103"
      ]
     },
     "execution_count": 12,
     "metadata": {},
     "output_type": "execute_result"
    }
   ],
   "source": [
    "len(leis_classificadas[\"COD_DOCUMENTO\"].unique())"
   ]
  },
  {
   "cell_type": "markdown",
   "metadata": {
    "collapsed": false,
    "pycharm": {
     "name": "#%% md\n"
    }
   },
   "source": [
    "Quantidade de leis a classificar."
   ]
  },
  {
   "cell_type": "code",
   "execution_count": 13,
   "metadata": {
    "collapsed": false,
    "pycharm": {
     "name": "#%%\n"
    }
   },
   "outputs": [
    {
     "data": {
      "text/plain": [
       "9856"
      ]
     },
     "execution_count": 13,
     "metadata": {},
     "output_type": "execute_result"
    }
   ],
   "source": [
    "leis_nao_classificadas = leis.query(\"COD_CLASSE.isnull()\")\n",
    "leis_nao_classificadas.shape[0]"
   ]
  },
  {
   "cell_type": "markdown",
   "metadata": {
    "collapsed": false,
    "pycharm": {
     "name": "#%% md\n"
    }
   },
   "source": [
    "Verificação da distribuição das classes (em %)."
   ]
  },
  {
   "cell_type": "code",
   "execution_count": 14,
   "metadata": {
    "collapsed": false,
    "pycharm": {
     "name": "#%%\n"
    }
   },
   "outputs": [
    {
     "data": {
      "text/html": [
       "<div>\n",
       "<style scoped>\n",
       "    .dataframe tbody tr th:only-of-type {\n",
       "        vertical-align: middle;\n",
       "    }\n",
       "\n",
       "    .dataframe tbody tr th {\n",
       "        vertical-align: top;\n",
       "    }\n",
       "\n",
       "    .dataframe thead th {\n",
       "        text-align: right;\n",
       "    }\n",
       "</style>\n",
       "<table border=\"1\" class=\"dataframe\">\n",
       "  <thead>\n",
       "    <tr style=\"text-align: right;\">\n",
       "      <th></th>\n",
       "      <th>COD_CLASSE</th>\n",
       "    </tr>\n",
       "    <tr>\n",
       "      <th>DES_CLASSE</th>\n",
       "      <th></th>\n",
       "    </tr>\n",
       "  </thead>\n",
       "  <tbody>\n",
       "    <tr>\n",
       "      <th>Orçamento Público</th>\n",
       "      <td>64.181672</td>\n",
       "    </tr>\n",
       "    <tr>\n",
       "      <th>Infraestrutura</th>\n",
       "      <td>14.382383</td>\n",
       "    </tr>\n",
       "    <tr>\n",
       "      <th>Política Social</th>\n",
       "      <td>5.029246</td>\n",
       "    </tr>\n",
       "    <tr>\n",
       "      <th>Administração Pública</th>\n",
       "      <td>4.490194</td>\n",
       "    </tr>\n",
       "    <tr>\n",
       "      <th>Honorífico</th>\n",
       "      <td>3.847918</td>\n",
       "    </tr>\n",
       "    <tr>\n",
       "      <th>Economia e Desenvolvimento</th>\n",
       "      <td>3.693084</td>\n",
       "    </tr>\n",
       "    <tr>\n",
       "      <th>Jurídico</th>\n",
       "      <td>2.184884</td>\n",
       "    </tr>\n",
       "    <tr>\n",
       "      <th>Soberania, Defesa Nacional e Ordem Pública</th>\n",
       "      <td>0.951944</td>\n",
       "    </tr>\n",
       "    <tr>\n",
       "      <th>Organização do Estado</th>\n",
       "      <td>0.745498</td>\n",
       "    </tr>\n",
       "    <tr>\n",
       "      <th>Meio Ambiente</th>\n",
       "      <td>0.493176</td>\n",
       "    </tr>\n",
       "  </tbody>\n",
       "</table>\n",
       "</div>"
      ],
      "text/plain": [
       "                                            COD_CLASSE\n",
       "DES_CLASSE                                            \n",
       "Orçamento Público                            64.181672\n",
       "Infraestrutura                               14.382383\n",
       "Política Social                               5.029246\n",
       "Administração Pública                         4.490194\n",
       "Honorífico                                    3.847918\n",
       "Economia e Desenvolvimento                    3.693084\n",
       "Jurídico                                      2.184884\n",
       "Soberania, Defesa Nacional e Ordem Pública    0.951944\n",
       "Organização do Estado                         0.745498\n",
       "Meio Ambiente                                 0.493176"
      ]
     },
     "execution_count": 14,
     "metadata": {},
     "output_type": "execute_result"
    }
   ],
   "source": [
    "distribuicao_classes = leis_classificadas[[\"COD_CLASSE\", \"DES_CLASSE\"]].groupby(\"DES_CLASSE\").count() / quantidade_classificacoes * 100\n",
    "distribuicao_classes.sort_values(by=\"COD_CLASSE\", ascending=False)"
   ]
  },
  {
   "cell_type": "markdown",
   "metadata": {},
   "source": [
    "## Desbalanceamento\n",
    "\n",
    "É possível verificar que há um desbalanceamento grande entre as classes, o que prejudica o processo de aprendizado. Vamos tentar atacá-lo utilizando a técnica SMOTE:"
   ]
  },
  {
   "cell_type": "code",
   "execution_count": 15,
   "metadata": {},
   "outputs": [
    {
     "name": "stdout",
     "output_type": "stream",
     "text": [
      "Classe=Orçamento Público, n=11192 (64.182%)\n",
      "Classe=Política Social, n=877 (5.029%)\n",
      "Classe=Organização do Estado, n=130 (0.745%)\n",
      "Classe=Administração Pública, n=783 (4.490%)\n",
      "Classe=Meio Ambiente, n=86 (0.493%)\n",
      "Classe=Economia e Desenvolvimento, n=644 (3.693%)\n",
      "Classe=Honorífico, n=671 (3.848%)\n",
      "Classe=Jurídico, n=381 (2.185%)\n",
      "Classe=Infraestrutura, n=2508 (14.382%)\n",
      "Classe=Soberania, Defesa Nacional e Ordem Pública, n=166 (0.952%)\n"
     ]
    }
   ],
   "source": [
    "from imblearn.over_sampling import SMOTE\n",
    "from sklearn.preprocessing import LabelEncoder\n",
    "from numpy import where\n",
    "\n",
    "\n",
    "def printClasses(classes):\n",
    "\tcounter = Counter(classes)\n",
    "\tfor k,v in counter.items():\n",
    "\t\tper = v / len(classes) * 100\n",
    "\t\tprint('Classe=%s, n=%d (%.3f%%)' % (k, v, per))\n",
    "\n",
    "X_smote = leis_classificadas.drop(columns=[\"COD_CLASSE\", \"DES_CLASSE\"]).copy()\n",
    "y_smote = leis_classificadas[\"DES_CLASSE\"].copy()\n",
    "printClasses(y_smote)\n"
   ]
  },
  {
   "cell_type": "markdown",
   "metadata": {},
   "source": [
    "## One Class Classifier\n",
    "\n",
    "Montaremos um exemplo que possa trabalhar as classes separadamente, utilizando o OneClassSVM para predizer se um texto pertence a uma determinada classe de treinamento. No nosso caso, utilizaremos Administração Pública como o caso positivo, e os demais como negativos. O tutorial utilizado como base está aqui: https://www.kaggle.com/code/saikumar587/bbc-text-oneclass-classificaiton\n",
    "\n"
   ]
  },
  {
   "cell_type": "markdown",
   "metadata": {},
   "source": [
    "### Preparação\n",
    "\n",
    "Como Administração Pública será a nossa classe de treinamento, vamos adicionar, no nosso conjunto de treino, uma coluna para dizer se aquele registro faz parte da nossa classe-alvo. Se fizer, o valor armazenado será +1, caso contrário, -1.\n",
    "\n",
    "A função abaixo tem esse objetivo.\n"
   ]
  },
  {
   "cell_type": "code",
   "execution_count": 16,
   "metadata": {},
   "outputs": [],
   "source": [
    "def addPositiveNegativeMarker(dataFrame, columnName, classeAlvo):\n",
    "    # resultDataFrame = dataFrame.copy()\n",
    "    # mask = resultDataFrame['DES_CLASSE'].str.equals(classeAlvo)\n",
    "    # resultDataFrame.loc[mask, columnName] = 1\n",
    "    dataFrame[columnName] = np.where(dataFrame['DES_CLASSE'] == classeAlvo, 1, 0)"
   ]
  },
  {
   "cell_type": "markdown",
   "metadata": {},
   "source": [
    "Vamos modificar agora o dataset de treino para incluir essa coluna:"
   ]
  },
  {
   "cell_type": "code",
   "execution_count": 17,
   "metadata": {},
   "outputs": [
    {
     "name": "stderr",
     "output_type": "stream",
     "text": [
      "C:\\Users\\demet\\AppData\\Local\\Temp\\ipykernel_22424\\430431104.py:5: SettingWithCopyWarning: \n",
      "A value is trying to be set on a copy of a slice from a DataFrame.\n",
      "Try using .loc[row_indexer,col_indexer] = value instead\n",
      "\n",
      "See the caveats in the documentation: https://pandas.pydata.org/pandas-docs/stable/user_guide/indexing.html#returning-a-view-versus-a-copy\n",
      "  dataFrame[columnName] = np.where(dataFrame['DES_CLASSE'] == classeAlvo, 1, 0)\n"
     ]
    },
    {
     "data": {
      "text/html": [
       "<div>\n",
       "<style scoped>\n",
       "    .dataframe tbody tr th:only-of-type {\n",
       "        vertical-align: middle;\n",
       "    }\n",
       "\n",
       "    .dataframe tbody tr th {\n",
       "        vertical-align: top;\n",
       "    }\n",
       "\n",
       "    .dataframe thead th {\n",
       "        text-align: right;\n",
       "    }\n",
       "</style>\n",
       "<table border=\"1\" class=\"dataframe\">\n",
       "  <thead>\n",
       "    <tr style=\"text-align: right;\">\n",
       "      <th></th>\n",
       "      <th>COD_DOCUMENTO</th>\n",
       "      <th>DES_NOME_PREFERIDO</th>\n",
       "      <th>DES_NOMES_ALTERNATIVOS</th>\n",
       "      <th>TXT_EMENTA</th>\n",
       "      <th>COD_CLASSE</th>\n",
       "      <th>DES_CLASSE</th>\n",
       "      <th>MARKER</th>\n",
       "    </tr>\n",
       "  </thead>\n",
       "  <tbody>\n",
       "    <tr>\n",
       "      <th>0</th>\n",
       "      <td>35345364</td>\n",
       "      <td>Lei nº 14.263 de 22/12/2021</td>\n",
       "      <td>LEI-14263-2021-12-22</td>\n",
       "      <td>Abre ao Orçamento da Seguridade Social da Uniã...</td>\n",
       "      <td>33260515.0</td>\n",
       "      <td>Orçamento Público</td>\n",
       "      <td>0</td>\n",
       "    </tr>\n",
       "    <tr>\n",
       "      <th>1</th>\n",
       "      <td>26247104</td>\n",
       "      <td>Lei nº 13.486 de 03/10/2017</td>\n",
       "      <td>LEI-13486-2017-10-03</td>\n",
       "      <td>Altera o art. 8º da Lei nº 8.078, de 11 de set...</td>\n",
       "      <td>33808912.0</td>\n",
       "      <td>Política Social</td>\n",
       "      <td>0</td>\n",
       "    </tr>\n",
       "    <tr>\n",
       "      <th>2</th>\n",
       "      <td>27445746</td>\n",
       "      <td>Lei nº 13.701 de 06/08/2018</td>\n",
       "      <td>LEI-13701-2018-08-06</td>\n",
       "      <td>Cria o cargo de natureza especial de Intervent...</td>\n",
       "      <td>33768972.0</td>\n",
       "      <td>Organização do Estado</td>\n",
       "      <td>0</td>\n",
       "    </tr>\n",
       "    <tr>\n",
       "      <th>3</th>\n",
       "      <td>36348502</td>\n",
       "      <td>Lei nº 14.447 de 09/09/2022</td>\n",
       "      <td>LEI-14447-2022-09-09</td>\n",
       "      <td>Altera os limites da Floresta Nacional de Bras...</td>\n",
       "      <td>33685789.0</td>\n",
       "      <td>Administração Pública</td>\n",
       "      <td>0</td>\n",
       "    </tr>\n",
       "    <tr>\n",
       "      <th>4</th>\n",
       "      <td>36348502</td>\n",
       "      <td>Lei nº 14.447 de 09/09/2022</td>\n",
       "      <td>LEI-14447-2022-09-09</td>\n",
       "      <td>Altera os limites da Floresta Nacional de Bras...</td>\n",
       "      <td>33809634.0</td>\n",
       "      <td>Meio Ambiente</td>\n",
       "      <td>1</td>\n",
       "    </tr>\n",
       "  </tbody>\n",
       "</table>\n",
       "</div>"
      ],
      "text/plain": [
       "   COD_DOCUMENTO           DES_NOME_PREFERIDO DES_NOMES_ALTERNATIVOS  \\\n",
       "0       35345364  Lei nº 14.263 de 22/12/2021   LEI-14263-2021-12-22   \n",
       "1       26247104  Lei nº 13.486 de 03/10/2017   LEI-13486-2017-10-03   \n",
       "2       27445746  Lei nº 13.701 de 06/08/2018   LEI-13701-2018-08-06   \n",
       "3       36348502  Lei nº 14.447 de 09/09/2022   LEI-14447-2022-09-09   \n",
       "4       36348502  Lei nº 14.447 de 09/09/2022   LEI-14447-2022-09-09   \n",
       "\n",
       "                                          TXT_EMENTA  COD_CLASSE  \\\n",
       "0  Abre ao Orçamento da Seguridade Social da Uniã...  33260515.0   \n",
       "1  Altera o art. 8º da Lei nº 8.078, de 11 de set...  33808912.0   \n",
       "2  Cria o cargo de natureza especial de Intervent...  33768972.0   \n",
       "3  Altera os limites da Floresta Nacional de Bras...  33685789.0   \n",
       "4  Altera os limites da Floresta Nacional de Bras...  33809634.0   \n",
       "\n",
       "              DES_CLASSE  MARKER  \n",
       "0      Orçamento Público       0  \n",
       "1        Política Social       0  \n",
       "2  Organização do Estado       0  \n",
       "3  Administração Pública       0  \n",
       "4          Meio Ambiente       1  "
      ]
     },
     "execution_count": 17,
     "metadata": {},
     "output_type": "execute_result"
    }
   ],
   "source": [
    "MARKER_COLUMN_NAME = 'MARKER'\n",
    "CLASSE_TREINAMENTO = 'Meio Ambiente'\n",
    "addPositiveNegativeMarker(leis_classificadas, MARKER_COLUMN_NAME, CLASSE_TREINAMENTO)\n",
    "leis_classificadas.head()"
   ]
  },
  {
   "cell_type": "markdown",
   "metadata": {},
   "source": [
    "# Exploração das informações\n",
    "\n",
    "Vamos ver algumas estatísticas das palavras:"
   ]
  },
  {
   "cell_type": "code",
   "execution_count": 18,
   "metadata": {},
   "outputs": [
    {
     "name": "stdout",
     "output_type": "stream",
     "text": [
      "Número de amostras:  17438\n",
      "Estatística das classes:                                              COD_DOCUMENTO  DES_NOME_PREFERIDO  \\\n",
      "DES_CLASSE                                                                      \n",
      "Administração Pública                                 783                 783   \n",
      "Economia e Desenvolvimento                            644                 644   \n",
      "Honorífico                                            671                 671   \n",
      "Infraestrutura                                       2508                2508   \n",
      "Jurídico                                              381                 381   \n",
      "Meio Ambiente                                          86                  86   \n",
      "Organização do Estado                                 130                 130   \n",
      "Orçamento Público                                   11192               11192   \n",
      "Política Social                                       877                 877   \n",
      "Soberania, Defesa Nacional e Ordem Pública            166                 166   \n",
      "\n",
      "                                            DES_NOMES_ALTERNATIVOS  \\\n",
      "DES_CLASSE                                                           \n",
      "Administração Pública                                          783   \n",
      "Economia e Desenvolvimento                                     644   \n",
      "Honorífico                                                     671   \n",
      "Infraestrutura                                                2508   \n",
      "Jurídico                                                       381   \n",
      "Meio Ambiente                                                   85   \n",
      "Organização do Estado                                          130   \n",
      "Orçamento Público                                            11192   \n",
      "Política Social                                                877   \n",
      "Soberania, Defesa Nacional e Ordem Pública                     166   \n",
      "\n",
      "                                            TXT_EMENTA  COD_CLASSE  MARKER  \n",
      "DES_CLASSE                                                                  \n",
      "Administração Pública                              783         783     783  \n",
      "Economia e Desenvolvimento                         644         644     644  \n",
      "Honorífico                                         671         671     671  \n",
      "Infraestrutura                                    2508        2508    2508  \n",
      "Jurídico                                           381         381     381  \n",
      "Meio Ambiente                                       86          86      86  \n",
      "Organização do Estado                              130         130     130  \n",
      "Orçamento Público                                11192       11192   11192  \n",
      "Política Social                                    877         877     877  \n",
      "Soberania, Defesa Nacional e Ordem Pública         166         166     166  \n",
      "Média de Número de palavras por amostra:  27.0\n"
     ]
    }
   ],
   "source": [
    "import explore_data as ed\n",
    "\n",
    "ementasClassificadas = leis_classificadas['TXT_EMENTA']\n",
    "classesLeis = leis_classificadas['DES_CLASSE']\n",
    "numeroAmostras = leis_classificadas.shape[0]\n",
    "numeroDePalavrasPorAmostra = ed.get_num_words_per_sample(ementasClassificadas)\n",
    "print('Número de amostras: ', numeroAmostras)\n",
    "print('Estatística das classes: ', leis_classificadas.groupby('DES_CLASSE').count())\n",
    "print('Média de Número de palavras por amostra: ', numeroDePalavrasPorAmostra)\n"
   ]
  },
  {
   "cell_type": "markdown",
   "metadata": {},
   "source": [
    "Criaremos agora um dataset que contém apenas os dados de Administração Pública:"
   ]
  },
  {
   "cell_type": "code",
   "execution_count": 19,
   "metadata": {},
   "outputs": [
    {
     "name": "stdout",
     "output_type": "stream",
     "text": [
      "Frequência de distribuição das palavras: \n"
     ]
    },
    {
     "name": "stderr",
     "output_type": "stream",
     "text": [
      "C:\\Users\\demet\\AppData\\Roaming\\Python\\Python39\\site-packages\\sklearn\\utils\\deprecation.py:87: FutureWarning: Function get_feature_names is deprecated; get_feature_names is deprecated in 1.0 and will be removed in 1.2. Please use get_feature_names_out instead.\n",
      "  warnings.warn(msg, category=FutureWarning)\n"
     ]
    },
    {
     "data": {
      "image/png": "[encoded data removed]",
      "text/plain": [
       "<Figure size 432x288 with 1 Axes>"
      ]
     },
     "metadata": {
      "needs_background": "light"
     },
     "output_type": "display_data"
    }
   ],
   "source": [
    "print('Frequência de distribuição das palavras: ')\n",
    "ed.plot_frequency_distribution_of_ngrams(ementasClassificadas)"
   ]
  },
  {
   "cell_type": "code",
   "execution_count": 20,
   "metadata": {},
   "outputs": [
    {
     "name": "stdout",
     "output_type": "stream",
     "text": [
      "Frequência de distribuição das palavras: \n"
     ]
    },
    {
     "data": {
      "image/png": "[encoded data removed]",
      "text/plain": [
       "<Figure size 432x288 with 1 Axes>"
      ]
     },
     "metadata": {
      "needs_background": "light"
     },
     "output_type": "display_data"
    },
    {
     "data": {
      "image/png": "[encoded data removed]",
      "text/plain": [
       "<Figure size 576x864 with 1 Axes>"
      ]
     },
     "metadata": {
      "needs_background": "light"
     },
     "output_type": "display_data"
    }
   ],
   "source": [
    "print('Frequência de distribuição das palavras: ')\n",
    "ed.plot_sample_length_distribution(ementasClassificadas)"
   ]
  },
  {
   "cell_type": "markdown",
   "metadata": {},
   "source": [
    "Distribuição das classes:"
   ]
  },
  {
   "cell_type": "markdown",
   "metadata": {},
   "source": [
    "## Definição do modelo\n",
    "\n",
    "Verificação da definição do modelo. Segundo o tutorial, se a razão do número de amostras pelo número de palavras por amostra for menor que 1500, a utilização de n-grams é recomendada (https://developers.google.com/machine-learning/guides/text-classification/step-2-5?hl=pt-br). "
   ]
  },
  {
   "cell_type": "code",
   "execution_count": 21,
   "metadata": {},
   "outputs": [
    {
     "name": "stdout",
     "output_type": "stream",
     "text": [
      "Número de amostras/ Número de palavras por amostra:  645.8518518518518\n"
     ]
    }
   ],
   "source": [
    "# Cálculo da razão amostras / número de palavras\n",
    "print('Número de amostras/ Número de palavras por amostra: ',numeroAmostras/numeroDePalavrasPorAmostra )"
   ]
  },
  {
   "cell_type": "markdown",
   "metadata": {},
   "source": [
    "Continuaremos a análise utilizando a abordagem de n-grams então."
   ]
  },
  {
   "cell_type": "markdown",
   "metadata": {},
   "source": [
    "# Preparação das informações\n",
    "\n",
    "Seguindo o tutorial, fazemos a normalização de n-grams, tokenizando as palavras, aplicando o TF-IDF  e selecionando apenas as maiores 20 mil features"
   ]
  },
  {
   "cell_type": "code",
   "execution_count": 22,
   "metadata": {},
   "outputs": [],
   "source": [
    "import tensorflow as tf\n",
    "from tensorflow import keras\n",
    "from sklearn.feature_extraction.text import TfidfVectorizer\n",
    "from sklearn.feature_selection import SelectKBest\n",
    "from sklearn.feature_selection import f_classif\n",
    "\n"
   ]
  },
  {
   "cell_type": "code",
   "execution_count": 34,
   "metadata": {},
   "outputs": [],
   "source": [
    "# Range (inclusive) of n-gram sizes for tokenizing text.\n",
    "NGRAM_RANGE = (1, 2)\n",
    "\n",
    "# Limit on the number of features. We use the top 20K features.\n",
    "TOP_K = 20000\n",
    "\n",
    "# Whether text should be split into word or character n-grams.\n",
    "# One of 'word', 'char'.\n",
    "TOKEN_MODE = 'word'\n",
    "\n",
    "# Minimum document/corpus frequency below which a token will be discarded.\n",
    "MIN_DOCUMENT_FREQUENCY = 2\n",
    "\n",
    "# Limit on the length of text sequences. Sequences longer than this\n",
    "# will be truncated.\n",
    "MAX_SEQUENCE_LENGTH = 500\n",
    "\n",
    "def get_tfidf_vectorizer():\n",
    " # Create keyword arguments to pass to the 'tf-idf' vectorizer.\n",
    "    kwargs = {\n",
    "            'ngram_range': NGRAM_RANGE,  # Use 1-grams + 2-grams.\n",
    "            'dtype': 'int32',\n",
    "            'strip_accents': 'unicode',\n",
    "            'decode_error': 'replace',\n",
    "            'analyzer': TOKEN_MODE,  # Split text into word tokens.\n",
    "            'min_df': MIN_DOCUMENT_FREQUENCY\n",
    "    }\n",
    "    return TfidfVectorizer(**kwargs)\n",
    "\n",
    "\n",
    "def ngram_vectorize(train_texts, train_labels, val_texts):\n",
    "    \"\"\"Vectorizes texts as ngram vectors.\n",
    "\n",
    "    1 text = 1 tf-idf vector the length of vocabulary of uni-grams + bi-grams.\n",
    "\n",
    "    # Arguments\n",
    "        train_texts: list, training text strings.\n",
    "        train_labels: np.ndarray, training labels.\n",
    "        val_texts: list, validation text strings.\n",
    "\n",
    "    # Returns\n",
    "        x_train, x_val: vectorized training and validation texts\n",
    "    \"\"\"\n",
    "   \n",
    "    vectorizer = get_tfidf_vectorizer()\n",
    "    # Learn vocabulary from training texts and vectorize training texts.\n",
    "    x_train = vectorizer.fit_transform(train_texts).todense()\n",
    "\n",
    "    # Vectorize validation texts.\n",
    "    x_val = vectorizer.transform(val_texts).todense()\n",
    "\n",
    "    # Select top 'k' of the vectorized features.\n",
    "    selector = SelectKBest(f_classif, k=min(TOP_K, x_train.shape[1]))\n",
    "    selector.fit(x_train, train_labels)\n",
    "    x_train = selector.transform(x_train)\n",
    "    x_val = selector.transform(x_val)\n",
    "\n",
    "    x_train = x_train.astype('float32')\n",
    "    x_val = x_val.astype('float32')\n",
    "    return x_train, x_val"
   ]
  },
  {
   "cell_type": "markdown",
   "metadata": {},
   "source": [
    "# Construção do modelo\n",
    "\n",
    "O tutorial recomenda o uso de MLP para a classificação, afirmando que ele performou melhor"
   ]
  },
  {
   "cell_type": "code",
   "execution_count": 31,
   "metadata": {},
   "outputs": [],
   "source": [
    "from tensorflow.python.keras import models\n",
    "from tensorflow.python.keras.layers import Dense\n",
    "from tensorflow.python.keras.layers import Dropout\n",
    "import build_model\n",
    "import explore_data\n",
    "\n",
    "FLAGS = None\n",
    "\n",
    "\n",
    "def train_ngram_model(train_texts, \n",
    "                        train_labels,\n",
    "                        val_texts,\n",
    "                         val_labels,\n",
    "                        classeTreinamento,\n",
    "                      learning_rate=1e-3,\n",
    "                      epochs=1000,\n",
    "                      batch_size=128,\n",
    "                      layers=2,\n",
    "                      units=64,\n",
    "                      dropout_rate=0.2\n",
    "                      ):\n",
    "    \"\"\"Trains n-gram model on the given dataset.\n",
    "\n",
    "    # Arguments\n",
    "        data: tuples of training and test texts and labels.\n",
    "        learning_rate: float, learning rate for training model.\n",
    "        epochs: int, number of epochs.\n",
    "        batch_size: int, number of samples per batch.\n",
    "        layers: int, number of `Dense` layers in the model.\n",
    "        units: int, output dimension of Dense layers in the model.\n",
    "        dropout_rate: float: percentage of input to drop at Dropout layers.\n",
    "\n",
    "    # Raises\n",
    "        ValueError: If validation data has label values which were not seen\n",
    "            in the training data.\n",
    "    \"\"\"\n",
    "    # Get the data.\n",
    "\n",
    "    # Verify that validation labels are in the same range as training labels.\n",
    "    num_classes = explore_data.get_num_classes(train_labels)\n",
    "    unexpected_labels = [v for v in val_labels if v not in range(num_classes)]\n",
    "    if len(unexpected_labels):\n",
    "        raise ValueError('Unexpected label values found in the validation set:'\n",
    "                         ' {unexpected_labels}. Please make sure that the '\n",
    "                         'labels in the validation set are in the same range '\n",
    "                         'as training labels.'.format(\n",
    "                             unexpected_labels=unexpected_labels))\n",
    "\n",
    "    # Vectorize texts.\n",
    "    x_train, x_val = ngram_vectorize(\n",
    "        train_texts, train_labels, val_texts)\n",
    "\n",
    "    # Create model instance.\n",
    "    model = build_model.mlp_model(layers=layers,\n",
    "                                  units=units,\n",
    "                                  dropout_rate=dropout_rate,\n",
    "                                  input_shape=x_train.shape[1:],\n",
    "                                  num_classes=num_classes)\n",
    "\n",
    "    # Compile model with learning parameters.\n",
    "    if num_classes == 2:\n",
    "        loss = 'binary_crossentropy'\n",
    "    else:\n",
    "        loss = 'sparse_categorical_crossentropy'\n",
    "    # optimizer = tf.keras.optimizers.Adam(lr=learning_rate)\n",
    "    \n",
    "    model.compile(optimizer='adam', loss=loss, metrics=['acc'])\n",
    "\n",
    "    # Create callback for early stopping on validation loss. If the loss does\n",
    "    # not decrease in two consecutive tries, stop training.\n",
    "    callbacks = [tf.keras.callbacks.EarlyStopping(\n",
    "        monitor='val_loss', patience=2)]\n",
    "\n",
    "    # Train and validate model.\n",
    "    history = model.fit(\n",
    "            x_train,\n",
    "            train_labels,\n",
    "            epochs=epochs,\n",
    "            callbacks=callbacks,\n",
    "            validation_data=(x_val, val_labels),\n",
    "            verbose=2,  # Logs once per epoch.\n",
    "            batch_size=batch_size)\n",
    "\n",
    "    # Print results.\n",
    "    history = history.history\n",
    "    print('Validation accuracy: {acc}, loss: {loss}'.format(\n",
    "            acc=history['val_acc'][-1], loss=history['val_loss'][-1]))\n",
    "\n",
    "    # Save model.\n",
    "    nomeArquivoModelo = classeTreinamento + '_mlp_model.h5'\n",
    "    model.save(nomeArquivoModelo)\n",
    "    \n",
    "    return nomeArquivoModelo\n"
   ]
  },
  {
   "cell_type": "markdown",
   "metadata": {},
   "source": [
    "Definiremos os datasets de treino e testes:"
   ]
  },
  {
   "cell_type": "code",
   "execution_count": 35,
   "metadata": {},
   "outputs": [
    {
     "name": "stderr",
     "output_type": "stream",
     "text": [
      "C:\\Users\\demet\\AppData\\Roaming\\Python\\Python39\\site-packages\\sklearn\\feature_extraction\\text.py:2008: UserWarning: Only (<class 'numpy.float64'>, <class 'numpy.float32'>, <class 'numpy.float16'>) 'dtype' should be used. int32 'dtype' will be converted to np.float64.\n",
      "  warnings.warn(\n",
      "C:\\Users\\demet\\AppData\\Roaming\\Python\\Python39\\site-packages\\sklearn\\utils\\validation.py:723: FutureWarning: np.matrix usage is deprecated in 1.0 and will raise a TypeError in 1.2. Please convert to a numpy array with np.asarray. For more information see: https://numpy.org/doc/stable/reference/generated/numpy.matrix.html\n",
      "  warnings.warn(\n",
      "C:\\Users\\demet\\AppData\\Roaming\\Python\\Python39\\site-packages\\sklearn\\utils\\validation.py:723: FutureWarning: np.matrix usage is deprecated in 1.0 and will raise a TypeError in 1.2. Please convert to a numpy array with np.asarray. For more information see: https://numpy.org/doc/stable/reference/generated/numpy.matrix.html\n",
      "  warnings.warn(\n",
      "C:\\Users\\demet\\AppData\\Roaming\\Python\\Python39\\site-packages\\sklearn\\utils\\validation.py:723: FutureWarning: np.matrix usage is deprecated in 1.0 and will raise a TypeError in 1.2. Please convert to a numpy array with np.asarray. For more information see: https://numpy.org/doc/stable/reference/generated/numpy.matrix.html\n",
      "  warnings.warn(\n"
     ]
    },
    {
     "name": "stdout",
     "output_type": "stream",
     "text": [
      "Epoch 1/1000\n",
      "96/96 - 15s - loss: 0.2907 - acc: 0.9871 - val_loss: 0.0719 - val_acc: 0.9950\n",
      "Epoch 2/1000\n",
      "96/96 - 6s - loss: 0.0476 - acc: 0.9951 - val_loss: 0.0308 - val_acc: 0.9950\n",
      "Epoch 3/1000\n",
      "96/96 - 6s - loss: 0.0273 - acc: 0.9951 - val_loss: 0.0239 - val_acc: 0.9950\n",
      "Epoch 4/1000\n",
      "96/96 - 6s - loss: 0.0211 - acc: 0.9951 - val_loss: 0.0211 - val_acc: 0.9950\n",
      "Epoch 5/1000\n",
      "96/96 - 6s - loss: 0.0175 - acc: 0.9951 - val_loss: 0.0193 - val_acc: 0.9950\n",
      "Epoch 6/1000\n",
      "96/96 - 7s - loss: 0.0138 - acc: 0.9952 - val_loss: 0.0178 - val_acc: 0.9950\n",
      "Epoch 7/1000\n",
      "96/96 - 6s - loss: 0.0115 - acc: 0.9955 - val_loss: 0.0166 - val_acc: 0.9952\n",
      "Epoch 8/1000\n",
      "96/96 - 6s - loss: 0.0092 - acc: 0.9962 - val_loss: 0.0157 - val_acc: 0.9956\n",
      "Epoch 9/1000\n",
      "96/96 - 6s - loss: 0.0068 - acc: 0.9974 - val_loss: 0.0151 - val_acc: 0.9956\n",
      "Epoch 10/1000\n",
      "96/96 - 8s - loss: 0.0061 - acc: 0.9981 - val_loss: 0.0149 - val_acc: 0.9956\n",
      "Epoch 11/1000\n",
      "96/96 - 6s - loss: 0.0050 - acc: 0.9984 - val_loss: 0.0149 - val_acc: 0.9954\n",
      "Epoch 12/1000\n",
      "96/96 - 6s - loss: 0.0045 - acc: 0.9985 - val_loss: 0.0151 - val_acc: 0.9954\n",
      "Epoch 13/1000\n",
      "96/96 - 5s - loss: 0.0041 - acc: 0.9988 - val_loss: 0.0152 - val_acc: 0.9952\n",
      "Validation accuracy: 0.995221734046936, loss: 0.01519591361284256\n"
     ]
    }
   ],
   "source": [
    "X = ementasClassificadas\n",
    "y = leis_classificadas[MARKER_COLUMN_NAME]\n",
    "\n",
    "train_data, val_data, train_labels, val_labels = train_test_split(X, y, test_size=0.3, stratify=y, random_state=42)\n",
    "\n",
    "nomeArquivoModelo = train_ngram_model(train_labels=train_labels.to_numpy(), \n",
    "train_texts=train_data.to_numpy(), val_labels = val_labels.to_numpy(), val_texts= val_data.to_numpy(), classeTreinamento=CLASSE_TREINAMENTO)\n",
    "\n",
    "\n"
   ]
  },
  {
   "cell_type": "code",
   "execution_count": 38,
   "metadata": {},
   "outputs": [
    {
     "name": "stdout",
     "output_type": "stream",
     "text": [
      "Model: \"sequential_2\"\n",
      "_________________________________________________________________\n",
      " Layer (type)                Output Shape              Param #   \n",
      "=================================================================\n",
      " dropout_4 (Dropout)         (None, 20000)             0         \n",
      "                                                                 \n",
      " dense_4 (Dense)             (None, 64)                1280064   \n",
      "                                                                 \n",
      " dropout_5 (Dropout)         (None, 64)                0         \n",
      "                                                                 \n",
      " dense_5 (Dense)             (None, 1)                 65        \n",
      "                                                                 \n",
      "=================================================================\n",
      "Total params: 1,280,129\n",
      "Trainable params: 1,280,129\n",
      "Non-trainable params: 0\n",
      "_________________________________________________________________\n",
      "WARNING:tensorflow:Model was constructed with shape (None, 20000) for input KerasTensor(type_spec=TensorSpec(shape=(None, 20000), dtype=tf.float32, name='dropout_4_input'), name='dropout_4_input', description=\"created by layer 'dropout_4_input'\"), but it was called on an input with incompatible shape (None,).\n"
     ]
    },
    {
     "ename": "ValueError",
     "evalue": "in user code:\n\n    File \"c:\\Users\\demet\\anaconda3\\envs\\mdenv\\lib\\site-packages\\keras\\engine\\training.py\", line 1845, in predict_function  *\n        return step_function(self, iterator)\n    File \"c:\\Users\\demet\\anaconda3\\envs\\mdenv\\lib\\site-packages\\keras\\engine\\training.py\", line 1834, in step_function  **\n        outputs = model.distribute_strategy.run(run_step, args=(data,))\n    File \"c:\\Users\\demet\\anaconda3\\envs\\mdenv\\lib\\site-packages\\keras\\engine\\training.py\", line 1823, in run_step  **\n        outputs = model.predict_step(data)\n    File \"c:\\Users\\demet\\anaconda3\\envs\\mdenv\\lib\\site-packages\\keras\\engine\\training.py\", line 1791, in predict_step\n        return self(x, training=False)\n    File \"c:\\Users\\demet\\anaconda3\\envs\\mdenv\\lib\\site-packages\\keras\\utils\\traceback_utils.py\", line 67, in error_handler\n        raise e.with_traceback(filtered_tb) from None\n    File \"c:\\Users\\demet\\anaconda3\\envs\\mdenv\\lib\\site-packages\\keras\\engine\\input_spec.py\", line 228, in assert_input_compatibility\n        raise ValueError(f'Input {input_index} of layer \"{layer_name}\" '\n\n    ValueError: Exception encountered when calling layer \"sequential_2\" (type Sequential).\n    \n    Input 0 of layer \"dense_4\" is incompatible with the layer: expected min_ndim=2, found ndim=1. Full shape received: (None,)\n    \n    Call arguments received by layer \"sequential_2\" (type Sequential):\n      • inputs=tf.Tensor(shape=(None,), dtype=string)\n      • training=False\n      • mask=None\n",
     "output_type": "error",
     "traceback": [
      "\u001b[1;31m---------------------------------------------------------------------------\u001b[0m",
      "\u001b[1;31mValueError\u001b[0m                                Traceback (most recent call last)",
      "\u001b[1;32mc:\\Users\\demet\\git\\md-trabalho-final\\classificacao-leis-decretos-tutorial-tensor-flow-meio-ambiente.ipynb Célula: 52\u001b[0m in \u001b[0;36m<cell line: 8>\u001b[1;34m()\u001b[0m\n\u001b[0;32m      <a href='vscode-notebook-cell:/c%3A/Users/demet/git/md-trabalho-final/classificacao-leis-decretos-tutorial-tensor-flow-meio-ambiente.ipynb#Y220sZmlsZQ%3D%3D?line=4'>5</a>\u001b[0m model\u001b[39m.\u001b[39msummary()\n\u001b[0;32m      <a href='vscode-notebook-cell:/c%3A/Users/demet/git/md-trabalho-final/classificacao-leis-decretos-tutorial-tensor-flow-meio-ambiente.ipynb#Y220sZmlsZQ%3D%3D?line=5'>6</a>\u001b[0m \u001b[39m# vectorizer = get_tfidf_vectorizer()\u001b[39;00m\n\u001b[0;32m      <a href='vscode-notebook-cell:/c%3A/Users/demet/git/md-trabalho-final/classificacao-leis-decretos-tutorial-tensor-flow-meio-ambiente.ipynb#Y220sZmlsZQ%3D%3D?line=6'>7</a>\u001b[0m \u001b[39m# textoTeste = vectorizer.fit_transform(texto).todense()\u001b[39;00m\n\u001b[1;32m----> <a href='vscode-notebook-cell:/c%3A/Users/demet/git/md-trabalho-final/classificacao-leis-decretos-tutorial-tensor-flow-meio-ambiente.ipynb#Y220sZmlsZQ%3D%3D?line=7'>8</a>\u001b[0m result \u001b[39m=\u001b[39m model\u001b[39m.\u001b[39;49mpredict(texto)\n\u001b[0;32m      <a href='vscode-notebook-cell:/c%3A/Users/demet/git/md-trabalho-final/classificacao-leis-decretos-tutorial-tensor-flow-meio-ambiente.ipynb#Y220sZmlsZQ%3D%3D?line=8'>9</a>\u001b[0m result\n",
      "File \u001b[1;32mc:\\Users\\demet\\anaconda3\\envs\\mdenv\\lib\\site-packages\\keras\\utils\\traceback_utils.py:67\u001b[0m, in \u001b[0;36mfilter_traceback.<locals>.error_handler\u001b[1;34m(*args, **kwargs)\u001b[0m\n\u001b[0;32m     65\u001b[0m \u001b[39mexcept\u001b[39;00m \u001b[39mException\u001b[39;00m \u001b[39mas\u001b[39;00m e:  \u001b[39m# pylint: disable=broad-except\u001b[39;00m\n\u001b[0;32m     66\u001b[0m   filtered_tb \u001b[39m=\u001b[39m _process_traceback_frames(e\u001b[39m.\u001b[39m__traceback__)\n\u001b[1;32m---> 67\u001b[0m   \u001b[39mraise\u001b[39;00m e\u001b[39m.\u001b[39mwith_traceback(filtered_tb) \u001b[39mfrom\u001b[39;00m \u001b[39mNone\u001b[39m\n\u001b[0;32m     68\u001b[0m \u001b[39mfinally\u001b[39;00m:\n\u001b[0;32m     69\u001b[0m   \u001b[39mdel\u001b[39;00m filtered_tb\n",
      "File \u001b[1;32m~\\AppData\\Local\\Temp\\__autograph_generated_filecpruqvh5.py:15\u001b[0m, in \u001b[0;36mouter_factory.<locals>.inner_factory.<locals>.tf__predict_function\u001b[1;34m(iterator)\u001b[0m\n\u001b[0;32m     13\u001b[0m \u001b[39mtry\u001b[39;00m:\n\u001b[0;32m     14\u001b[0m     do_return \u001b[39m=\u001b[39m \u001b[39mTrue\u001b[39;00m\n\u001b[1;32m---> 15\u001b[0m     retval_ \u001b[39m=\u001b[39m ag__\u001b[39m.\u001b[39mconverted_call(ag__\u001b[39m.\u001b[39mld(step_function), (ag__\u001b[39m.\u001b[39mld(\u001b[39mself\u001b[39m), ag__\u001b[39m.\u001b[39mld(iterator)), \u001b[39mNone\u001b[39;00m, fscope)\n\u001b[0;32m     16\u001b[0m \u001b[39mexcept\u001b[39;00m:\n\u001b[0;32m     17\u001b[0m     do_return \u001b[39m=\u001b[39m \u001b[39mFalse\u001b[39;00m\n",
      "\u001b[1;31mValueError\u001b[0m: in user code:\n\n    File \"c:\\Users\\demet\\anaconda3\\envs\\mdenv\\lib\\site-packages\\keras\\engine\\training.py\", line 1845, in predict_function  *\n        return step_function(self, iterator)\n    File \"c:\\Users\\demet\\anaconda3\\envs\\mdenv\\lib\\site-packages\\keras\\engine\\training.py\", line 1834, in step_function  **\n        outputs = model.distribute_strategy.run(run_step, args=(data,))\n    File \"c:\\Users\\demet\\anaconda3\\envs\\mdenv\\lib\\site-packages\\keras\\engine\\training.py\", line 1823, in run_step  **\n        outputs = model.predict_step(data)\n    File \"c:\\Users\\demet\\anaconda3\\envs\\mdenv\\lib\\site-packages\\keras\\engine\\training.py\", line 1791, in predict_step\n        return self(x, training=False)\n    File \"c:\\Users\\demet\\anaconda3\\envs\\mdenv\\lib\\site-packages\\keras\\utils\\traceback_utils.py\", line 67, in error_handler\n        raise e.with_traceback(filtered_tb) from None\n    File \"c:\\Users\\demet\\anaconda3\\envs\\mdenv\\lib\\site-packages\\keras\\engine\\input_spec.py\", line 228, in assert_input_compatibility\n        raise ValueError(f'Input {input_index} of layer \"{layer_name}\" '\n\n    ValueError: Exception encountered when calling layer \"sequential_2\" (type Sequential).\n    \n    Input 0 of layer \"dense_4\" is incompatible with the layer: expected min_ndim=2, found ndim=1. Full shape received: (None,)\n    \n    Call arguments received by layer \"sequential_2\" (type Sequential):\n      • inputs=tf.Tensor(shape=(None,), dtype=string)\n      • training=False\n      • mask=None\n"
     ]
    }
   ],
   "source": [
    "from keras.models import load_model\n",
    "texto = np.array(['Estabelece medidas para proteção das florestas existentes nas nascentes dos rios e dá outras providências.','Cria um Horto Florestal no Município de Silvânia, no Estado de Goiás.', 'Dispõe sôbre os incentivos fiscais concedidos a empreendimentos florestais.'])\n",
    "nomeArquivoModelo = 'Meio Ambiente_mlp_model.h5'\n",
    "model = load_model(nomeArquivoModelo)\n",
    "# vectorizer = get_tfidf_vectorizer()\n",
    "# textoTeste = vectorizer.fit_transform(texto).todense()\n",
    "result = model.predict(texto)\n",
    "result"
   ]
  }
 ],
 "metadata": {
  "kernelspec": {
   "display_name": "Python 3.9.12 ('mdenv')",
   "language": "python",
   "name": "python3"
  },
  "language_info": {
   "codemirror_mode": {
    "name": "ipython",
    "version": 3
   },
   "file_extension": ".py",
   "mimetype": "text/x-python",
   "name": "python",
   "nbconvert_exporter": "python",
   "pygments_lexer": "ipython3",
   "version": "3.9.12"
  },
  "vscode": {
   "interpreter": {
    "hash": "bb26a599782b3853c870df2c7a4979ed6ea3ce3b4ae25b1f6e4fc2e40113204d"
   }
  }
 },
 "nbformat": 4,
 "nbformat_minor": 0
}
