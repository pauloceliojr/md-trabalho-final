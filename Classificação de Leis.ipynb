{
 "cells": [
  {
   "cell_type": "markdown",
   "source": [
    "# Trabalho Final de Mineração de Dados"
   ],
   "metadata": {
    "collapsed": false,
    "pycharm": {
     "name": "#%% md\n"
    }
   }
  },
  {
   "cell_type": "markdown",
   "source": [
    "## Importando bibliotecas"
   ],
   "metadata": {
    "collapsed": false,
    "pycharm": {
     "name": "#%% md\n"
    }
   }
  },
  {
   "cell_type": "code",
   "execution_count": 10,
   "outputs": [],
   "source": [
    "import pandas as pd"
   ],
   "metadata": {
    "collapsed": false,
    "pycharm": {
     "name": "#%%\n"
    }
   }
  },
  {
   "cell_type": "markdown",
   "source": [
    "## 1 - Fase de Preparação dos Dados\n",
    "---"
   ],
   "metadata": {
    "collapsed": false,
    "pycharm": {
     "name": "#%% md\n"
    }
   }
  },
  {
   "cell_type": "markdown",
   "source": [
    "Carregando o arquivo original de classes."
   ],
   "metadata": {
    "collapsed": false,
    "pycharm": {
     "name": "#%% md\n"
    }
   }
  },
  {
   "cell_type": "code",
   "execution_count": 11,
   "outputs": [
    {
     "data": {
      "text/plain": "        COD_CLASSE                          DES_NOME_PREFERIDO  \\\n0    1    33254494            Classificação Temática Unificada   \n1    2    33809814         Temas Exclusivos de Pronunciamentos   \n2    3    33809634                               Meio Ambiente   \n3    4    33809514  Soberania, Defesa Nacional e Ordem Pública   \n4    5    33808912                             Política Social   \n\n   COD_CLASSE_PAI  NUM_NIVEL  CYCLE  \\\n0             NaN          1      0   \n1      33254494.0          2      0   \n2      33254494.0          2      0   \n3      33254494.0          2      0   \n4      33254494.0          2      0   \n\n                                            TREE  \\\n0               Classificação Temática Unificada   \n1         -- Temas Exclusivos de Pronunciamentos   \n2                               -- Meio Ambiente   \n3  -- Soberania, Defesa Nacional e Ordem Pública   \n4                             -- Política Social   \n\n                                                PATH  QTD_FILHOS  \\\n0                   Classificação Temática Unificada         202   \n1  Classificação Temática Unificada / Temas Exclu...          22   \n2   Classificação Temática Unificada / Meio Ambiente          11   \n3  Classificação Temática Unificada / Soberania, ...           7   \n4  Classificação Temática Unificada / Política So...          37   \n\n                                   DES_NIVEL1 DES_NIVEL2 DES_NIVEL3  \\\n0                                         NaN        NaN        NaN   \n1         Temas Exclusivos de Pronunciamentos        NaN        NaN   \n2                               Meio Ambiente        NaN        NaN   \n3  Soberania, Defesa Nacional e Ordem Pública        NaN        NaN   \n4                             Política Social        NaN        NaN   \n\n   DES_NIVEL4  \n0         NaN  \n1         NaN  \n2         NaN  \n3         NaN  \n4         NaN  ",
      "text/html": "<div>\n<style scoped>\n    .dataframe tbody tr th:only-of-type {\n        vertical-align: middle;\n    }\n\n    .dataframe tbody tr th {\n        vertical-align: top;\n    }\n\n    .dataframe thead th {\n        text-align: right;\n    }\n</style>\n<table border=\"1\" class=\"dataframe\">\n  <thead>\n    <tr style=\"text-align: right;\">\n      <th></th>\n      <th></th>\n      <th>COD_CLASSE</th>\n      <th>DES_NOME_PREFERIDO</th>\n      <th>COD_CLASSE_PAI</th>\n      <th>NUM_NIVEL</th>\n      <th>CYCLE</th>\n      <th>TREE</th>\n      <th>PATH</th>\n      <th>QTD_FILHOS</th>\n      <th>DES_NIVEL1</th>\n      <th>DES_NIVEL2</th>\n      <th>DES_NIVEL3</th>\n      <th>DES_NIVEL4</th>\n    </tr>\n  </thead>\n  <tbody>\n    <tr>\n      <th>0</th>\n      <td>1</td>\n      <td>33254494</td>\n      <td>Classificação Temática Unificada</td>\n      <td>NaN</td>\n      <td>1</td>\n      <td>0</td>\n      <td>Classificação Temática Unificada</td>\n      <td>Classificação Temática Unificada</td>\n      <td>202</td>\n      <td>NaN</td>\n      <td>NaN</td>\n      <td>NaN</td>\n      <td>NaN</td>\n    </tr>\n    <tr>\n      <th>1</th>\n      <td>2</td>\n      <td>33809814</td>\n      <td>Temas Exclusivos de Pronunciamentos</td>\n      <td>33254494.0</td>\n      <td>2</td>\n      <td>0</td>\n      <td>-- Temas Exclusivos de Pronunciamentos</td>\n      <td>Classificação Temática Unificada / Temas Exclu...</td>\n      <td>22</td>\n      <td>Temas Exclusivos de Pronunciamentos</td>\n      <td>NaN</td>\n      <td>NaN</td>\n      <td>NaN</td>\n    </tr>\n    <tr>\n      <th>2</th>\n      <td>3</td>\n      <td>33809634</td>\n      <td>Meio Ambiente</td>\n      <td>33254494.0</td>\n      <td>2</td>\n      <td>0</td>\n      <td>-- Meio Ambiente</td>\n      <td>Classificação Temática Unificada / Meio Ambiente</td>\n      <td>11</td>\n      <td>Meio Ambiente</td>\n      <td>NaN</td>\n      <td>NaN</td>\n      <td>NaN</td>\n    </tr>\n    <tr>\n      <th>3</th>\n      <td>4</td>\n      <td>33809514</td>\n      <td>Soberania, Defesa Nacional e Ordem Pública</td>\n      <td>33254494.0</td>\n      <td>2</td>\n      <td>0</td>\n      <td>-- Soberania, Defesa Nacional e Ordem Pública</td>\n      <td>Classificação Temática Unificada / Soberania, ...</td>\n      <td>7</td>\n      <td>Soberania, Defesa Nacional e Ordem Pública</td>\n      <td>NaN</td>\n      <td>NaN</td>\n      <td>NaN</td>\n    </tr>\n    <tr>\n      <th>4</th>\n      <td>5</td>\n      <td>33808912</td>\n      <td>Política Social</td>\n      <td>33254494.0</td>\n      <td>2</td>\n      <td>0</td>\n      <td>-- Política Social</td>\n      <td>Classificação Temática Unificada / Política So...</td>\n      <td>37</td>\n      <td>Política Social</td>\n      <td>NaN</td>\n      <td>NaN</td>\n      <td>NaN</td>\n    </tr>\n  </tbody>\n</table>\n</div>"
     },
     "execution_count": 11,
     "metadata": {},
     "output_type": "execute_result"
    }
   ],
   "source": [
    "classes_original = pd.read_excel(\"dados/SistemaDeClassificacao.xlsx\", \"Select viw_classificacao_arvore\")\n",
    "classes_original.head()"
   ],
   "metadata": {
    "collapsed": false,
    "pycharm": {
     "name": "#%%\n"
    }
   }
  },
  {
   "cell_type": "markdown",
   "source": [
    "Filtra o arquivo de classes original para exibir apenas aquelas que serão raiz na classificação da ementa.\n",
    "Essa classes possuem nível 2 na tabela original."
   ],
   "metadata": {
    "collapsed": false,
    "pycharm": {
     "name": "#%% md\n"
    }
   }
  },
  {
   "cell_type": "code",
   "execution_count": 12,
   "outputs": [
    {
     "data": {
      "text/plain": "    COD_CLASSE                                  DES_CLASSE\n1     33809814         Temas Exclusivos de Pronunciamentos\n2     33809634                               Meio Ambiente\n3     33809514  Soberania, Defesa Nacional e Ordem Pública\n4     33808912                             Política Social\n5     33805362                                    Jurídico\n6     33805317                                  Honorífico\n7     33805137                              Infraestrutura\n8     33769167                  Economia e Desenvolvimento\n9     33768972                       Organização do Estado\n10    33685789                       Administração Pública\n11    33260515                           Orçamento Público",
      "text/html": "<div>\n<style scoped>\n    .dataframe tbody tr th:only-of-type {\n        vertical-align: middle;\n    }\n\n    .dataframe tbody tr th {\n        vertical-align: top;\n    }\n\n    .dataframe thead th {\n        text-align: right;\n    }\n</style>\n<table border=\"1\" class=\"dataframe\">\n  <thead>\n    <tr style=\"text-align: right;\">\n      <th></th>\n      <th>COD_CLASSE</th>\n      <th>DES_CLASSE</th>\n    </tr>\n  </thead>\n  <tbody>\n    <tr>\n      <th>1</th>\n      <td>33809814</td>\n      <td>Temas Exclusivos de Pronunciamentos</td>\n    </tr>\n    <tr>\n      <th>2</th>\n      <td>33809634</td>\n      <td>Meio Ambiente</td>\n    </tr>\n    <tr>\n      <th>3</th>\n      <td>33809514</td>\n      <td>Soberania, Defesa Nacional e Ordem Pública</td>\n    </tr>\n    <tr>\n      <th>4</th>\n      <td>33808912</td>\n      <td>Política Social</td>\n    </tr>\n    <tr>\n      <th>5</th>\n      <td>33805362</td>\n      <td>Jurídico</td>\n    </tr>\n    <tr>\n      <th>6</th>\n      <td>33805317</td>\n      <td>Honorífico</td>\n    </tr>\n    <tr>\n      <th>7</th>\n      <td>33805137</td>\n      <td>Infraestrutura</td>\n    </tr>\n    <tr>\n      <th>8</th>\n      <td>33769167</td>\n      <td>Economia e Desenvolvimento</td>\n    </tr>\n    <tr>\n      <th>9</th>\n      <td>33768972</td>\n      <td>Organização do Estado</td>\n    </tr>\n    <tr>\n      <th>10</th>\n      <td>33685789</td>\n      <td>Administração Pública</td>\n    </tr>\n    <tr>\n      <th>11</th>\n      <td>33260515</td>\n      <td>Orçamento Público</td>\n    </tr>\n  </tbody>\n</table>\n</div>"
     },
     "execution_count": 12,
     "metadata": {},
     "output_type": "execute_result"
    }
   ],
   "source": [
    "classes_raiz = classes_original.query(\"NUM_NIVEL == 2\").filter([\"COD_CLASSE\", \"DES_NOME_PREFERIDO\"])\n",
    "classes_raiz.rename(columns={\"DES_NOME_PREFERIDO\": \"DES_CLASSE\"}, inplace=True)\n",
    "classes_raiz"
   ],
   "metadata": {
    "collapsed": false,
    "pycharm": {
     "name": "#%%\n"
    }
   }
  },
  {
   "cell_type": "markdown",
   "source": [
    "Carrega o dataset contendo as leis que já foram classificadas. Com os dados carregados, cria uma coluna derivada (DES_CLASSE_RAIZ) a partir da árvore de classes (DES_CLASSE_HIERARQUIA), da qual a informação de classe raiz é extraída."
   ],
   "metadata": {
    "collapsed": false,
    "pycharm": {
     "name": "#%% md\n"
    }
   }
  },
  {
   "cell_type": "code",
   "execution_count": 13,
   "outputs": [
    {
     "data": {
      "text/plain": "        COD_PRC_DOC_TEMA  COD_PROCESSO_DOCUMENTO  COD_CLASSE  \\\n0    1          36156374                  540837    33805827   \n1    2          36158248                  540987    33805842   \n2    3          36158249                  540998    33805842   \n3    4          36156375                  541008    33805827   \n4    5          36156376                  541015    33805827   \n\n               DES_CLASSE                              DES_CLASSE_HIERARQUIA  \\\n0     Crédito Suplementar  Classificação Temática Unificada / Orçamento P...   \n1  Crédito Extraordinário  Classificação Temática Unificada / Orçamento P...   \n2  Crédito Extraordinário  Classificação Temática Unificada / Orçamento P...   \n3     Crédito Suplementar  Classificação Temática Unificada / Orçamento P...   \n4     Crédito Suplementar  Classificação Temática Unificada / Orçamento P...   \n\n     DES_CLASSE_RAIZ  \n0  Orçamento Público  \n1  Orçamento Público  \n2  Orçamento Público  \n3  Orçamento Público  \n4  Orçamento Público  ",
      "text/html": "<div>\n<style scoped>\n    .dataframe tbody tr th:only-of-type {\n        vertical-align: middle;\n    }\n\n    .dataframe tbody tr th {\n        vertical-align: top;\n    }\n\n    .dataframe thead th {\n        text-align: right;\n    }\n</style>\n<table border=\"1\" class=\"dataframe\">\n  <thead>\n    <tr style=\"text-align: right;\">\n      <th></th>\n      <th></th>\n      <th>COD_PRC_DOC_TEMA</th>\n      <th>COD_PROCESSO_DOCUMENTO</th>\n      <th>COD_CLASSE</th>\n      <th>DES_CLASSE</th>\n      <th>DES_CLASSE_HIERARQUIA</th>\n      <th>DES_CLASSE_RAIZ</th>\n    </tr>\n  </thead>\n  <tbody>\n    <tr>\n      <th>0</th>\n      <td>1</td>\n      <td>36156374</td>\n      <td>540837</td>\n      <td>33805827</td>\n      <td>Crédito Suplementar</td>\n      <td>Classificação Temática Unificada / Orçamento P...</td>\n      <td>Orçamento Público</td>\n    </tr>\n    <tr>\n      <th>1</th>\n      <td>2</td>\n      <td>36158248</td>\n      <td>540987</td>\n      <td>33805842</td>\n      <td>Crédito Extraordinário</td>\n      <td>Classificação Temática Unificada / Orçamento P...</td>\n      <td>Orçamento Público</td>\n    </tr>\n    <tr>\n      <th>2</th>\n      <td>3</td>\n      <td>36158249</td>\n      <td>540998</td>\n      <td>33805842</td>\n      <td>Crédito Extraordinário</td>\n      <td>Classificação Temática Unificada / Orçamento P...</td>\n      <td>Orçamento Público</td>\n    </tr>\n    <tr>\n      <th>3</th>\n      <td>4</td>\n      <td>36156375</td>\n      <td>541008</td>\n      <td>33805827</td>\n      <td>Crédito Suplementar</td>\n      <td>Classificação Temática Unificada / Orçamento P...</td>\n      <td>Orçamento Público</td>\n    </tr>\n    <tr>\n      <th>4</th>\n      <td>5</td>\n      <td>36156376</td>\n      <td>541015</td>\n      <td>33805827</td>\n      <td>Crédito Suplementar</td>\n      <td>Classificação Temática Unificada / Orçamento P...</td>\n      <td>Orçamento Público</td>\n    </tr>\n  </tbody>\n</table>\n</div>"
     },
     "execution_count": 13,
     "metadata": {},
     "output_type": "execute_result"
    }
   ],
   "source": [
    "leis_classificadas_original = pd.read_excel(\"dados/ClassificacaoDeLeisOrdinariasDesde1900.xlsx\", \"Select mvw_u03_prc_doc_tema\")\n",
    "leis_classificadas_original[\"DES_CLASSE_RAIZ\"] = leis_classificadas_original[\"DES_CLASSE_HIERARQUIA\"].apply(lambda hierarquia : hierarquia.split(\" / \")[1])\n",
    "leis_classificadas_original.head()"
   ],
   "metadata": {
    "collapsed": false,
    "pycharm": {
     "name": "#%%\n"
    }
   }
  },
  {
   "cell_type": "markdown",
   "source": [
    "Carrega os dados de todas as leis (classificadas e não classificadas) e aplica as limpezas iniciais."
   ],
   "metadata": {
    "collapsed": false,
    "pycharm": {
     "name": "#%% md\n"
    }
   }
  },
  {
   "cell_type": "code",
   "execution_count": 14,
   "outputs": [
    {
     "data": {
      "text/plain": "   COD_DOCUMENTO        DES_NOME_PREFERIDO DES_NOMES_ALTERNATIVOS  \\\n0         542244  Lei nº 689 de 20/09/1900     LEI-689-1900-09-20   \n1         542305  Lei nº 741 de 26/12/1900     LEI-741-1900-12-26   \n2         542241  Lei nº 687 de 14/09/1900     LEI-687-1900-09-14   \n3         542412  Lei nº 834 de 30/12/1901     LEI-834-1901-12-30   \n4         542387  Lei nº 813 de 23/12/1901     LEI-813-1901-12-23   \n\n                                          TXT_EMENTA  \n0  Autoriza o Governo a recolher em conta corrent...  \n1  Orça a receita geral da Republica dos Estados ...  \n2   Fixa as Forças de terra para o exercicio de 1901  \n3  Fixa a despeza geral da Republica dos Estados ...  \n4  Fixa a receita geral da Republica dos Estados ...  ",
      "text/html": "<div>\n<style scoped>\n    .dataframe tbody tr th:only-of-type {\n        vertical-align: middle;\n    }\n\n    .dataframe tbody tr th {\n        vertical-align: top;\n    }\n\n    .dataframe thead th {\n        text-align: right;\n    }\n</style>\n<table border=\"1\" class=\"dataframe\">\n  <thead>\n    <tr style=\"text-align: right;\">\n      <th></th>\n      <th>COD_DOCUMENTO</th>\n      <th>DES_NOME_PREFERIDO</th>\n      <th>DES_NOMES_ALTERNATIVOS</th>\n      <th>TXT_EMENTA</th>\n    </tr>\n  </thead>\n  <tbody>\n    <tr>\n      <th>0</th>\n      <td>542244</td>\n      <td>Lei nº 689 de 20/09/1900</td>\n      <td>LEI-689-1900-09-20</td>\n      <td>Autoriza o Governo a recolher em conta corrent...</td>\n    </tr>\n    <tr>\n      <th>1</th>\n      <td>542305</td>\n      <td>Lei nº 741 de 26/12/1900</td>\n      <td>LEI-741-1900-12-26</td>\n      <td>Orça a receita geral da Republica dos Estados ...</td>\n    </tr>\n    <tr>\n      <th>2</th>\n      <td>542241</td>\n      <td>Lei nº 687 de 14/09/1900</td>\n      <td>LEI-687-1900-09-14</td>\n      <td>Fixa as Forças de terra para o exercicio de 1901</td>\n    </tr>\n    <tr>\n      <th>3</th>\n      <td>542412</td>\n      <td>Lei nº 834 de 30/12/1901</td>\n      <td>LEI-834-1901-12-30</td>\n      <td>Fixa a despeza geral da Republica dos Estados ...</td>\n    </tr>\n    <tr>\n      <th>4</th>\n      <td>542387</td>\n      <td>Lei nº 813 de 23/12/1901</td>\n      <td>LEI-813-1901-12-23</td>\n      <td>Fixa a receita geral da Republica dos Estados ...</td>\n    </tr>\n  </tbody>\n</table>\n</div>"
     },
     "execution_count": 14,
     "metadata": {},
     "output_type": "execute_result"
    }
   ],
   "source": [
    "leis_original = pd.read_excel(\"dados/LeisOrdinariasDesde1900.xlsx\", \"Select mvw_s01_documento\")\n",
    "leis_original.rename(columns={\"DBMS_LOB.SUBSTR(S01.TXT_EMENTA\": \"TXT_EMENTA\"}, inplace=True)\n",
    "leis_original.drop(columns=\"   \", inplace=True)\n",
    "leis_original.head()"
   ],
   "metadata": {
    "collapsed": false,
    "pycharm": {
     "name": "#%%\n"
    }
   }
  },
  {
   "cell_type": "markdown",
   "source": [
    "Com os datasets necessários já carregados, cria-se um novo dataset a partir do dataset contendo todas as leis, incluindo-se a informação das classes contidadas nas leis do dataset de leis classificadas."
   ],
   "metadata": {
    "collapsed": false,
    "pycharm": {
     "name": "#%% md\n"
    }
   }
  },
  {
   "cell_type": "code",
   "execution_count": 15,
   "outputs": [
    {
     "data": {
      "text/plain": "   COD_DOCUMENTO        DES_NOME_PREFERIDO DES_NOMES_ALTERNATIVOS  \\\n0         542244  Lei nº 689 de 20/09/1900     LEI-689-1900-09-20   \n1         542305  Lei nº 741 de 26/12/1900     LEI-741-1900-12-26   \n2         542241  Lei nº 687 de 14/09/1900     LEI-687-1900-09-14   \n3         542412  Lei nº 834 de 30/12/1901     LEI-834-1901-12-30   \n4         542387  Lei nº 813 de 23/12/1901     LEI-813-1901-12-23   \n\n                                          TXT_EMENTA  COD_CLASSE DES_CLASSE  \n0  Autoriza o Governo a recolher em conta corrent...         NaN        NaN  \n1  Orça a receita geral da Republica dos Estados ...         NaN        NaN  \n2   Fixa as Forças de terra para o exercicio de 1901         NaN        NaN  \n3  Fixa a despeza geral da Republica dos Estados ...         NaN        NaN  \n4  Fixa a receita geral da Republica dos Estados ...         NaN        NaN  ",
      "text/html": "<div>\n<style scoped>\n    .dataframe tbody tr th:only-of-type {\n        vertical-align: middle;\n    }\n\n    .dataframe tbody tr th {\n        vertical-align: top;\n    }\n\n    .dataframe thead th {\n        text-align: right;\n    }\n</style>\n<table border=\"1\" class=\"dataframe\">\n  <thead>\n    <tr style=\"text-align: right;\">\n      <th></th>\n      <th>COD_DOCUMENTO</th>\n      <th>DES_NOME_PREFERIDO</th>\n      <th>DES_NOMES_ALTERNATIVOS</th>\n      <th>TXT_EMENTA</th>\n      <th>COD_CLASSE</th>\n      <th>DES_CLASSE</th>\n    </tr>\n  </thead>\n  <tbody>\n    <tr>\n      <th>0</th>\n      <td>542244</td>\n      <td>Lei nº 689 de 20/09/1900</td>\n      <td>LEI-689-1900-09-20</td>\n      <td>Autoriza o Governo a recolher em conta corrent...</td>\n      <td>NaN</td>\n      <td>NaN</td>\n    </tr>\n    <tr>\n      <th>1</th>\n      <td>542305</td>\n      <td>Lei nº 741 de 26/12/1900</td>\n      <td>LEI-741-1900-12-26</td>\n      <td>Orça a receita geral da Republica dos Estados ...</td>\n      <td>NaN</td>\n      <td>NaN</td>\n    </tr>\n    <tr>\n      <th>2</th>\n      <td>542241</td>\n      <td>Lei nº 687 de 14/09/1900</td>\n      <td>LEI-687-1900-09-14</td>\n      <td>Fixa as Forças de terra para o exercicio de 1901</td>\n      <td>NaN</td>\n      <td>NaN</td>\n    </tr>\n    <tr>\n      <th>3</th>\n      <td>542412</td>\n      <td>Lei nº 834 de 30/12/1901</td>\n      <td>LEI-834-1901-12-30</td>\n      <td>Fixa a despeza geral da Republica dos Estados ...</td>\n      <td>NaN</td>\n      <td>NaN</td>\n    </tr>\n    <tr>\n      <th>4</th>\n      <td>542387</td>\n      <td>Lei nº 813 de 23/12/1901</td>\n      <td>LEI-813-1901-12-23</td>\n      <td>Fixa a receita geral da Republica dos Estados ...</td>\n      <td>NaN</td>\n      <td>NaN</td>\n    </tr>\n  </tbody>\n</table>\n</div>"
     },
     "execution_count": 15,
     "metadata": {},
     "output_type": "execute_result"
    }
   ],
   "source": [
    "leis = leis_original.merge(leis_classificadas_original.filter([\"COD_PROCESSO_DOCUMENTO\",\"DES_CLASSE_RAIZ\"]), left_on=\"COD_DOCUMENTO\", right_on=\"COD_PROCESSO_DOCUMENTO\", how=\"left\")\n",
    "leis = leis.merge(classes_raiz, left_on=\"DES_CLASSE_RAIZ\", right_on=\"DES_CLASSE\", how=\"left\")\n",
    "leis.drop(columns=[\"COD_PROCESSO_DOCUMENTO\", \"DES_CLASSE_RAIZ\"], inplace=True)\n",
    "leis.head()"
   ],
   "metadata": {
    "collapsed": false,
    "pycharm": {
     "name": "#%%\n"
    }
   }
  },
  {
   "cell_type": "markdown",
   "source": [
    "Limpa os registros duplicados de leis que possuem mais de uma classe folha, mas que tenham mesma classe raiz e exibe as leis que possuem mais de uma classe folha, mas que tenham classes raiz diferentes."
   ],
   "metadata": {
    "collapsed": false,
    "pycharm": {
     "name": "#%% md\n"
    }
   }
  },
  {
   "cell_type": "code",
   "execution_count": 16,
   "outputs": [
    {
     "data": {
      "text/plain": "       COD_DOCUMENTO  COD_CLASSE                  DES_CLASSE\n8844          549877  33805137.0              Infraestrutura\n8845          549877  33769167.0  Economia e Desenvolvimento\n10839         551926  33805362.0                    Jurídico\n10840         551926  33808912.0             Política Social\n11031         552026  33769167.0  Economia e Desenvolvimento\n...              ...         ...                         ...\n15645       35847286  33805362.0                    Jurídico\n15648       35957120  33805137.0              Infraestrutura\n15649       35957120  33769167.0  Economia e Desenvolvimento\n15650       36198674  33769167.0  Economia e Desenvolvimento\n15652       36198674  33808912.0             Política Social\n\n[324 rows x 3 columns]",
      "text/html": "<div>\n<style scoped>\n    .dataframe tbody tr th:only-of-type {\n        vertical-align: middle;\n    }\n\n    .dataframe tbody tr th {\n        vertical-align: top;\n    }\n\n    .dataframe thead th {\n        text-align: right;\n    }\n</style>\n<table border=\"1\" class=\"dataframe\">\n  <thead>\n    <tr style=\"text-align: right;\">\n      <th></th>\n      <th>COD_DOCUMENTO</th>\n      <th>COD_CLASSE</th>\n      <th>DES_CLASSE</th>\n    </tr>\n  </thead>\n  <tbody>\n    <tr>\n      <th>8844</th>\n      <td>549877</td>\n      <td>33805137.0</td>\n      <td>Infraestrutura</td>\n    </tr>\n    <tr>\n      <th>8845</th>\n      <td>549877</td>\n      <td>33769167.0</td>\n      <td>Economia e Desenvolvimento</td>\n    </tr>\n    <tr>\n      <th>10839</th>\n      <td>551926</td>\n      <td>33805362.0</td>\n      <td>Jurídico</td>\n    </tr>\n    <tr>\n      <th>10840</th>\n      <td>551926</td>\n      <td>33808912.0</td>\n      <td>Política Social</td>\n    </tr>\n    <tr>\n      <th>11031</th>\n      <td>552026</td>\n      <td>33769167.0</td>\n      <td>Economia e Desenvolvimento</td>\n    </tr>\n    <tr>\n      <th>...</th>\n      <td>...</td>\n      <td>...</td>\n      <td>...</td>\n    </tr>\n    <tr>\n      <th>15645</th>\n      <td>35847286</td>\n      <td>33805362.0</td>\n      <td>Jurídico</td>\n    </tr>\n    <tr>\n      <th>15648</th>\n      <td>35957120</td>\n      <td>33805137.0</td>\n      <td>Infraestrutura</td>\n    </tr>\n    <tr>\n      <th>15649</th>\n      <td>35957120</td>\n      <td>33769167.0</td>\n      <td>Economia e Desenvolvimento</td>\n    </tr>\n    <tr>\n      <th>15650</th>\n      <td>36198674</td>\n      <td>33769167.0</td>\n      <td>Economia e Desenvolvimento</td>\n    </tr>\n    <tr>\n      <th>15652</th>\n      <td>36198674</td>\n      <td>33808912.0</td>\n      <td>Política Social</td>\n    </tr>\n  </tbody>\n</table>\n<p>324 rows × 3 columns</p>\n</div>"
     },
     "execution_count": 16,
     "metadata": {},
     "output_type": "execute_result"
    }
   ],
   "source": [
    "leis.drop_duplicates(inplace=True)\n",
    "temp = leis[[\"COD_DOCUMENTO\", \"COD_CLASSE\", \"DES_CLASSE\"]].groupby(\"COD_DOCUMENTO\")\n",
    "temp.filter(lambda x: len(x) > 1)"
   ],
   "metadata": {
    "collapsed": false,
    "pycharm": {
     "name": "#%%\n"
    }
   }
  },
  {
   "cell_type": "code",
   "execution_count": 19,
   "outputs": [
    {
     "data": {
      "text/plain": "5668"
     },
     "execution_count": 19,
     "metadata": {},
     "output_type": "execute_result"
    }
   ],
   "source": [
    "leis_classificadas = leis.query(\"not COD_CLASSE.isnull()\")\n",
    "leis_classificadas.shape[0]"
   ],
   "metadata": {
    "collapsed": false,
    "pycharm": {
     "name": "#%%\n"
    }
   }
  },
  {
   "cell_type": "code",
   "execution_count": 20,
   "outputs": [
    {
     "data": {
      "text/plain": "9758"
     },
     "execution_count": 20,
     "metadata": {},
     "output_type": "execute_result"
    }
   ],
   "source": [
    "leis_nao_classificadas = leis.query(\"COD_CLASSE.isnull()\")\n",
    "leis_nao_classificadas.shape[0]"
   ],
   "metadata": {
    "collapsed": false,
    "pycharm": {
     "name": "#%%\n"
    }
   }
  }
 ],
 "metadata": {
  "kernelspec": {
   "display_name": "Python 3",
   "language": "python",
   "name": "python3"
  },
  "language_info": {
   "codemirror_mode": {
    "name": "ipython",
    "version": 2
   },
   "file_extension": ".py",
   "mimetype": "text/x-python",
   "name": "python",
   "nbconvert_exporter": "python",
   "pygments_lexer": "ipython2",
   "version": "2.7.6"
  }
 },
 "nbformat": 4,
 "nbformat_minor": 0
}