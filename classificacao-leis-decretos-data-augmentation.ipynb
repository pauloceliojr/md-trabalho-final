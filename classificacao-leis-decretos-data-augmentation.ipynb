{
 "cells": [
  {
   "cell_type": "markdown",
   "metadata": {
    "collapsed": false,
    "pycharm": {
     "name": "#%% md\n"
    }
   },
   "source": [
    "# Trabalho Final de Mineração de Dados"
   ]
  },
  {
   "cell_type": "markdown",
   "metadata": {
    "collapsed": false,
    "pycharm": {
     "name": "#%% md\n"
    }
   },
   "source": [
    "## Importando bibliotecas"
   ]
  },
  {
   "cell_type": "code",
   "execution_count": 2,
   "metadata": {
    "collapsed": false,
    "pycharm": {
     "name": "#%%\n"
    }
   },
   "outputs": [
    {
     "name": "stderr",
     "output_type": "stream",
     "text": [
      "C:\\Users\\demet\\AppData\\Roaming\\Python\\Python39\\site-packages\\numpy\\_distributor_init.py:30: UserWarning: loaded more than 1 DLL from .libs:\n",
      "C:\\Users\\demet\\AppData\\Roaming\\Python\\Python39\\site-packages\\numpy\\.libs\\libopenblas.EL2C6PLE4ZYW3ECEVIV3OXXGRN2NRFM2.gfortran-win_amd64.dll\n",
      "C:\\Users\\demet\\AppData\\Roaming\\Python\\Python39\\site-packages\\numpy\\.libs\\libopenblas.FB5AE2TYXYH2IJRDKGDGQ3XBKLKTF43H.gfortran-win_amd64.dll\n",
      "  warnings.warn(\"loaded more than 1 DLL from .libs:\"\n",
      "[nltk_data] Downloading package punkt to\n",
      "[nltk_data]     C:\\Users\\demet\\AppData\\Roaming\\nltk_data...\n",
      "[nltk_data]   Package punkt is already up-to-date!\n",
      "[nltk_data] Downloading package stopwords to\n",
      "[nltk_data]     C:\\Users\\demet\\AppData\\Roaming\\nltk_data...\n",
      "[nltk_data]   Package stopwords is already up-to-date!\n"
     ]
    },
    {
     "data": {
      "text/plain": [
       "True"
      ]
     },
     "execution_count": 2,
     "metadata": {},
     "output_type": "execute_result"
    }
   ],
   "source": [
    "from gensim.models import KeyedVectors\n",
    "from sklearn.model_selection import train_test_split\n",
    "from sklearn.linear_model import LogisticRegression\n",
    "from sklearn.metrics import classification_report\n",
    "from sklearn.dummy import DummyClassifier\n",
    "from sklearn import metrics\n",
    "from collections import Counter\n",
    "import pandas as pd\n",
    "import numpy as np\n",
    "import nltk\n",
    "import string\n",
    "nltk.download(\"punkt\")\n",
    "nltk.download(\"stopwords\")"
   ]
  },
  {
   "cell_type": "markdown",
   "metadata": {
    "collapsed": false,
    "pycharm": {
     "name": "#%% md\n"
    }
   },
   "source": [
    "## 1 - Fase de Preparação dos Dados\n",
    "---"
   ]
  },
  {
   "cell_type": "markdown",
   "metadata": {
    "collapsed": false,
    "pycharm": {
     "name": "#%% md\n"
    }
   },
   "source": [
    "Carregando o arquivo original de classes."
   ]
  },
  {
   "cell_type": "code",
   "execution_count": 3,
   "metadata": {
    "collapsed": false,
    "pycharm": {
     "name": "#%%\n"
    }
   },
   "outputs": [
    {
     "data": {
      "text/html": [
       "<div>\n",
       "<style scoped>\n",
       "    .dataframe tbody tr th:only-of-type {\n",
       "        vertical-align: middle;\n",
       "    }\n",
       "\n",
       "    .dataframe tbody tr th {\n",
       "        vertical-align: top;\n",
       "    }\n",
       "\n",
       "    .dataframe thead th {\n",
       "        text-align: right;\n",
       "    }\n",
       "</style>\n",
       "<table border=\"1\" class=\"dataframe\">\n",
       "  <thead>\n",
       "    <tr style=\"text-align: right;\">\n",
       "      <th></th>\n",
       "      <th></th>\n",
       "      <th>COD_CLASSE</th>\n",
       "      <th>DES_NOME_PREFERIDO</th>\n",
       "      <th>COD_CLASSE_PAI</th>\n",
       "      <th>NUM_NIVEL</th>\n",
       "      <th>CYCLE</th>\n",
       "      <th>TREE</th>\n",
       "      <th>PATH</th>\n",
       "      <th>QTD_FILHOS</th>\n",
       "      <th>DES_NIVEL1</th>\n",
       "      <th>DES_NIVEL2</th>\n",
       "      <th>DES_NIVEL3</th>\n",
       "      <th>DES_NIVEL4</th>\n",
       "    </tr>\n",
       "  </thead>\n",
       "  <tbody>\n",
       "    <tr>\n",
       "      <th>0</th>\n",
       "      <td>1</td>\n",
       "      <td>33254494</td>\n",
       "      <td>Classificação Temática Unificada</td>\n",
       "      <td>NaN</td>\n",
       "      <td>1</td>\n",
       "      <td>0</td>\n",
       "      <td>Classificação Temática Unificada</td>\n",
       "      <td>Classificação Temática Unificada</td>\n",
       "      <td>202</td>\n",
       "      <td>NaN</td>\n",
       "      <td>NaN</td>\n",
       "      <td>NaN</td>\n",
       "      <td>NaN</td>\n",
       "    </tr>\n",
       "    <tr>\n",
       "      <th>1</th>\n",
       "      <td>2</td>\n",
       "      <td>33809814</td>\n",
       "      <td>Temas Exclusivos de Pronunciamentos</td>\n",
       "      <td>33254494.0</td>\n",
       "      <td>2</td>\n",
       "      <td>0</td>\n",
       "      <td>-- Temas Exclusivos de Pronunciamentos</td>\n",
       "      <td>Classificação Temática Unificada / Temas Exclu...</td>\n",
       "      <td>22</td>\n",
       "      <td>Temas Exclusivos de Pronunciamentos</td>\n",
       "      <td>NaN</td>\n",
       "      <td>NaN</td>\n",
       "      <td>NaN</td>\n",
       "    </tr>\n",
       "    <tr>\n",
       "      <th>2</th>\n",
       "      <td>3</td>\n",
       "      <td>33809634</td>\n",
       "      <td>Meio Ambiente</td>\n",
       "      <td>33254494.0</td>\n",
       "      <td>2</td>\n",
       "      <td>0</td>\n",
       "      <td>-- Meio Ambiente</td>\n",
       "      <td>Classificação Temática Unificada / Meio Ambiente</td>\n",
       "      <td>11</td>\n",
       "      <td>Meio Ambiente</td>\n",
       "      <td>NaN</td>\n",
       "      <td>NaN</td>\n",
       "      <td>NaN</td>\n",
       "    </tr>\n",
       "    <tr>\n",
       "      <th>3</th>\n",
       "      <td>4</td>\n",
       "      <td>33809514</td>\n",
       "      <td>Soberania, Defesa Nacional e Ordem Pública</td>\n",
       "      <td>33254494.0</td>\n",
       "      <td>2</td>\n",
       "      <td>0</td>\n",
       "      <td>-- Soberania, Defesa Nacional e Ordem Pública</td>\n",
       "      <td>Classificação Temática Unificada / Soberania, ...</td>\n",
       "      <td>7</td>\n",
       "      <td>Soberania, Defesa Nacional e Ordem Pública</td>\n",
       "      <td>NaN</td>\n",
       "      <td>NaN</td>\n",
       "      <td>NaN</td>\n",
       "    </tr>\n",
       "    <tr>\n",
       "      <th>4</th>\n",
       "      <td>5</td>\n",
       "      <td>33808912</td>\n",
       "      <td>Política Social</td>\n",
       "      <td>33254494.0</td>\n",
       "      <td>2</td>\n",
       "      <td>0</td>\n",
       "      <td>-- Política Social</td>\n",
       "      <td>Classificação Temática Unificada / Política So...</td>\n",
       "      <td>37</td>\n",
       "      <td>Política Social</td>\n",
       "      <td>NaN</td>\n",
       "      <td>NaN</td>\n",
       "      <td>NaN</td>\n",
       "    </tr>\n",
       "  </tbody>\n",
       "</table>\n",
       "</div>"
      ],
      "text/plain": [
       "        COD_CLASSE                          DES_NOME_PREFERIDO  \\\n",
       "0    1    33254494            Classificação Temática Unificada   \n",
       "1    2    33809814         Temas Exclusivos de Pronunciamentos   \n",
       "2    3    33809634                               Meio Ambiente   \n",
       "3    4    33809514  Soberania, Defesa Nacional e Ordem Pública   \n",
       "4    5    33808912                             Política Social   \n",
       "\n",
       "   COD_CLASSE_PAI  NUM_NIVEL  CYCLE  \\\n",
       "0             NaN          1      0   \n",
       "1      33254494.0          2      0   \n",
       "2      33254494.0          2      0   \n",
       "3      33254494.0          2      0   \n",
       "4      33254494.0          2      0   \n",
       "\n",
       "                                            TREE  \\\n",
       "0               Classificação Temática Unificada   \n",
       "1         -- Temas Exclusivos de Pronunciamentos   \n",
       "2                               -- Meio Ambiente   \n",
       "3  -- Soberania, Defesa Nacional e Ordem Pública   \n",
       "4                             -- Política Social   \n",
       "\n",
       "                                                PATH  QTD_FILHOS  \\\n",
       "0                   Classificação Temática Unificada         202   \n",
       "1  Classificação Temática Unificada / Temas Exclu...          22   \n",
       "2   Classificação Temática Unificada / Meio Ambiente          11   \n",
       "3  Classificação Temática Unificada / Soberania, ...           7   \n",
       "4  Classificação Temática Unificada / Política So...          37   \n",
       "\n",
       "                                   DES_NIVEL1 DES_NIVEL2 DES_NIVEL3  \\\n",
       "0                                         NaN        NaN        NaN   \n",
       "1         Temas Exclusivos de Pronunciamentos        NaN        NaN   \n",
       "2                               Meio Ambiente        NaN        NaN   \n",
       "3  Soberania, Defesa Nacional e Ordem Pública        NaN        NaN   \n",
       "4                             Política Social        NaN        NaN   \n",
       "\n",
       "   DES_NIVEL4  \n",
       "0         NaN  \n",
       "1         NaN  \n",
       "2         NaN  \n",
       "3         NaN  \n",
       "4         NaN  "
      ]
     },
     "execution_count": 3,
     "metadata": {},
     "output_type": "execute_result"
    }
   ],
   "source": [
    "classes_original = pd.read_excel(\"dados/SistemaDeClassificacao.xlsx\", \"Select viw_classificacao_arvore\")\n",
    "classes_original.head()"
   ]
  },
  {
   "cell_type": "markdown",
   "metadata": {
    "collapsed": false,
    "pycharm": {
     "name": "#%% md\n"
    }
   },
   "source": [
    "Filtra o arquivo de classes original para exibir apenas aquelas que serão raiz na classificação da ementa.\n",
    "Essa classes possuem nível 2 na tabela original."
   ]
  },
  {
   "cell_type": "code",
   "execution_count": 4,
   "metadata": {
    "collapsed": false,
    "pycharm": {
     "name": "#%%\n"
    }
   },
   "outputs": [
    {
     "data": {
      "text/html": [
       "<div>\n",
       "<style scoped>\n",
       "    .dataframe tbody tr th:only-of-type {\n",
       "        vertical-align: middle;\n",
       "    }\n",
       "\n",
       "    .dataframe tbody tr th {\n",
       "        vertical-align: top;\n",
       "    }\n",
       "\n",
       "    .dataframe thead th {\n",
       "        text-align: right;\n",
       "    }\n",
       "</style>\n",
       "<table border=\"1\" class=\"dataframe\">\n",
       "  <thead>\n",
       "    <tr style=\"text-align: right;\">\n",
       "      <th></th>\n",
       "      <th>COD_CLASSE</th>\n",
       "      <th>DES_CLASSE</th>\n",
       "    </tr>\n",
       "  </thead>\n",
       "  <tbody>\n",
       "    <tr>\n",
       "      <th>1</th>\n",
       "      <td>33809814</td>\n",
       "      <td>Temas Exclusivos de Pronunciamentos</td>\n",
       "    </tr>\n",
       "    <tr>\n",
       "      <th>2</th>\n",
       "      <td>33809634</td>\n",
       "      <td>Meio Ambiente</td>\n",
       "    </tr>\n",
       "    <tr>\n",
       "      <th>3</th>\n",
       "      <td>33809514</td>\n",
       "      <td>Soberania, Defesa Nacional e Ordem Pública</td>\n",
       "    </tr>\n",
       "    <tr>\n",
       "      <th>4</th>\n",
       "      <td>33808912</td>\n",
       "      <td>Política Social</td>\n",
       "    </tr>\n",
       "    <tr>\n",
       "      <th>5</th>\n",
       "      <td>33805362</td>\n",
       "      <td>Jurídico</td>\n",
       "    </tr>\n",
       "    <tr>\n",
       "      <th>6</th>\n",
       "      <td>33805317</td>\n",
       "      <td>Honorífico</td>\n",
       "    </tr>\n",
       "    <tr>\n",
       "      <th>7</th>\n",
       "      <td>33805137</td>\n",
       "      <td>Infraestrutura</td>\n",
       "    </tr>\n",
       "    <tr>\n",
       "      <th>8</th>\n",
       "      <td>33769167</td>\n",
       "      <td>Economia e Desenvolvimento</td>\n",
       "    </tr>\n",
       "    <tr>\n",
       "      <th>9</th>\n",
       "      <td>33768972</td>\n",
       "      <td>Organização do Estado</td>\n",
       "    </tr>\n",
       "    <tr>\n",
       "      <th>10</th>\n",
       "      <td>33685789</td>\n",
       "      <td>Administração Pública</td>\n",
       "    </tr>\n",
       "    <tr>\n",
       "      <th>11</th>\n",
       "      <td>33260515</td>\n",
       "      <td>Orçamento Público</td>\n",
       "    </tr>\n",
       "  </tbody>\n",
       "</table>\n",
       "</div>"
      ],
      "text/plain": [
       "    COD_CLASSE                                  DES_CLASSE\n",
       "1     33809814         Temas Exclusivos de Pronunciamentos\n",
       "2     33809634                               Meio Ambiente\n",
       "3     33809514  Soberania, Defesa Nacional e Ordem Pública\n",
       "4     33808912                             Política Social\n",
       "5     33805362                                    Jurídico\n",
       "6     33805317                                  Honorífico\n",
       "7     33805137                              Infraestrutura\n",
       "8     33769167                  Economia e Desenvolvimento\n",
       "9     33768972                       Organização do Estado\n",
       "10    33685789                       Administração Pública\n",
       "11    33260515                           Orçamento Público"
      ]
     },
     "execution_count": 4,
     "metadata": {},
     "output_type": "execute_result"
    }
   ],
   "source": [
    "classes_raiz = classes_original.query(\"NUM_NIVEL == 2\").filter([\"COD_CLASSE\", \"DES_NOME_PREFERIDO\"])\n",
    "classes_raiz.rename(columns={\"DES_NOME_PREFERIDO\": \"DES_CLASSE\"}, inplace=True)\n",
    "classes_raiz"
   ]
  },
  {
   "cell_type": "markdown",
   "metadata": {
    "collapsed": false,
    "pycharm": {
     "name": "#%% md\n"
    }
   },
   "source": [
    "Carrega o dataset contendo as leis que já foram classificadas. Com os dados carregados, cria uma coluna derivada (DES_CLASSE_RAIZ) a partir da árvore de classes (DES_CLASSE_HIERARQUIA), da qual a informação de classe raiz é extraída."
   ]
  },
  {
   "cell_type": "code",
   "execution_count": 5,
   "metadata": {
    "collapsed": false,
    "pycharm": {
     "name": "#%%\n"
    }
   },
   "outputs": [
    {
     "data": {
      "text/html": [
       "<div>\n",
       "<style scoped>\n",
       "    .dataframe tbody tr th:only-of-type {\n",
       "        vertical-align: middle;\n",
       "    }\n",
       "\n",
       "    .dataframe tbody tr th {\n",
       "        vertical-align: top;\n",
       "    }\n",
       "\n",
       "    .dataframe thead th {\n",
       "        text-align: right;\n",
       "    }\n",
       "</style>\n",
       "<table border=\"1\" class=\"dataframe\">\n",
       "  <thead>\n",
       "    <tr style=\"text-align: right;\">\n",
       "      <th></th>\n",
       "      <th></th>\n",
       "      <th>COD_PRC_DOC_TEMA</th>\n",
       "      <th>COD_PROCESSO_DOCUMENTO</th>\n",
       "      <th>COD_CLASSE</th>\n",
       "      <th>DES_CLASSE</th>\n",
       "      <th>DES_CLASSE_HIERARQUIA</th>\n",
       "      <th>DES_CLASSE_RAIZ</th>\n",
       "    </tr>\n",
       "  </thead>\n",
       "  <tbody>\n",
       "    <tr>\n",
       "      <th>0</th>\n",
       "      <td>1</td>\n",
       "      <td>36155183</td>\n",
       "      <td>386343</td>\n",
       "      <td>33805827</td>\n",
       "      <td>Crédito Suplementar</td>\n",
       "      <td>Classificação Temática Unificada / Orçamento P...</td>\n",
       "      <td>Orçamento Público</td>\n",
       "    </tr>\n",
       "    <tr>\n",
       "      <th>1</th>\n",
       "      <td>2</td>\n",
       "      <td>36192020</td>\n",
       "      <td>386579</td>\n",
       "      <td>33805287</td>\n",
       "      <td>Rádio e TV</td>\n",
       "      <td>Classificação Temática Unificada / Infraestrut...</td>\n",
       "      <td>Infraestrutura</td>\n",
       "    </tr>\n",
       "    <tr>\n",
       "      <th>2</th>\n",
       "      <td>3</td>\n",
       "      <td>36155185</td>\n",
       "      <td>387419</td>\n",
       "      <td>33805827</td>\n",
       "      <td>Crédito Suplementar</td>\n",
       "      <td>Classificação Temática Unificada / Orçamento P...</td>\n",
       "      <td>Orçamento Público</td>\n",
       "    </tr>\n",
       "    <tr>\n",
       "      <th>3</th>\n",
       "      <td>4</td>\n",
       "      <td>36192056</td>\n",
       "      <td>387832</td>\n",
       "      <td>33805287</td>\n",
       "      <td>Rádio e TV</td>\n",
       "      <td>Classificação Temática Unificada / Infraestrut...</td>\n",
       "      <td>Infraestrutura</td>\n",
       "    </tr>\n",
       "    <tr>\n",
       "      <th>4</th>\n",
       "      <td>5</td>\n",
       "      <td>36155187</td>\n",
       "      <td>388197</td>\n",
       "      <td>33805827</td>\n",
       "      <td>Crédito Suplementar</td>\n",
       "      <td>Classificação Temática Unificada / Orçamento P...</td>\n",
       "      <td>Orçamento Público</td>\n",
       "    </tr>\n",
       "  </tbody>\n",
       "</table>\n",
       "</div>"
      ],
      "text/plain": [
       "        COD_PRC_DOC_TEMA  COD_PROCESSO_DOCUMENTO  COD_CLASSE  \\\n",
       "0    1          36155183                  386343    33805827   \n",
       "1    2          36192020                  386579    33805287   \n",
       "2    3          36155185                  387419    33805827   \n",
       "3    4          36192056                  387832    33805287   \n",
       "4    5          36155187                  388197    33805827   \n",
       "\n",
       "            DES_CLASSE                              DES_CLASSE_HIERARQUIA  \\\n",
       "0  Crédito Suplementar  Classificação Temática Unificada / Orçamento P...   \n",
       "1           Rádio e TV  Classificação Temática Unificada / Infraestrut...   \n",
       "2  Crédito Suplementar  Classificação Temática Unificada / Orçamento P...   \n",
       "3           Rádio e TV  Classificação Temática Unificada / Infraestrut...   \n",
       "4  Crédito Suplementar  Classificação Temática Unificada / Orçamento P...   \n",
       "\n",
       "     DES_CLASSE_RAIZ  \n",
       "0  Orçamento Público  \n",
       "1     Infraestrutura  \n",
       "2  Orçamento Público  \n",
       "3     Infraestrutura  \n",
       "4  Orçamento Público  "
      ]
     },
     "execution_count": 5,
     "metadata": {},
     "output_type": "execute_result"
    }
   ],
   "source": [
    "leis_classificadas_original = pd.read_excel(\"dados/ClassificacaoDeLeisOrdinarias-LeisComplementares-e-DecretosNumerados-Desde1900.xlsx\", \"Select mvw_u03_prc_doc_tema\")\n",
    "leis_classificadas_original[\"DES_CLASSE_RAIZ\"] = leis_classificadas_original[\"DES_CLASSE_HIERARQUIA\"].apply(lambda hierarquia : hierarquia.split(\" / \")[1])\n",
    "leis_classificadas_original.head()"
   ]
  },
  {
   "cell_type": "markdown",
   "metadata": {
    "collapsed": false,
    "pycharm": {
     "name": "#%% md\n"
    }
   },
   "source": [
    "Carrega os dados de todas as leis (classificadas e não classificadas) e aplica as transformações iniciais."
   ]
  },
  {
   "cell_type": "code",
   "execution_count": 6,
   "metadata": {
    "collapsed": false,
    "pycharm": {
     "name": "#%%\n"
    }
   },
   "outputs": [
    {
     "data": {
      "text/html": [
       "<div>\n",
       "<style scoped>\n",
       "    .dataframe tbody tr th:only-of-type {\n",
       "        vertical-align: middle;\n",
       "    }\n",
       "\n",
       "    .dataframe tbody tr th {\n",
       "        vertical-align: top;\n",
       "    }\n",
       "\n",
       "    .dataframe thead th {\n",
       "        text-align: right;\n",
       "    }\n",
       "</style>\n",
       "<table border=\"1\" class=\"dataframe\">\n",
       "  <thead>\n",
       "    <tr style=\"text-align: right;\">\n",
       "      <th></th>\n",
       "      <th>COD_DOCUMENTO</th>\n",
       "      <th>DES_NOME_PREFERIDO</th>\n",
       "      <th>DES_NOMES_ALTERNATIVOS</th>\n",
       "      <th>TXT_EMENTA</th>\n",
       "    </tr>\n",
       "  </thead>\n",
       "  <tbody>\n",
       "    <tr>\n",
       "      <th>0</th>\n",
       "      <td>35345364</td>\n",
       "      <td>Lei nº 14.263 de 22/12/2021</td>\n",
       "      <td>LEI-14263-2021-12-22</td>\n",
       "      <td>Abre ao Orçamento da Seguridade Social da Uniã...</td>\n",
       "    </tr>\n",
       "    <tr>\n",
       "      <th>1</th>\n",
       "      <td>26247104</td>\n",
       "      <td>Lei nº 13.486 de 03/10/2017</td>\n",
       "      <td>LEI-13486-2017-10-03</td>\n",
       "      <td>Altera o art. 8º da Lei nº 8.078, de 11 de set...</td>\n",
       "    </tr>\n",
       "    <tr>\n",
       "      <th>2</th>\n",
       "      <td>27445746</td>\n",
       "      <td>Lei nº 13.701 de 06/08/2018</td>\n",
       "      <td>LEI-13701-2018-08-06</td>\n",
       "      <td>Cria o cargo de natureza especial de Intervent...</td>\n",
       "    </tr>\n",
       "    <tr>\n",
       "      <th>3</th>\n",
       "      <td>36348502</td>\n",
       "      <td>Lei nº 14.447 de 09/09/2022</td>\n",
       "      <td>LEI-14447-2022-09-09</td>\n",
       "      <td>Altera os limites da Floresta Nacional de Bras...</td>\n",
       "    </tr>\n",
       "    <tr>\n",
       "      <th>4</th>\n",
       "      <td>32103727</td>\n",
       "      <td>Lei nº 13.988 de 14/04/2020</td>\n",
       "      <td>LEI-13988-2020-04-14</td>\n",
       "      <td>Dispõe sobre a transação nas hipóteses que esp...</td>\n",
       "    </tr>\n",
       "  </tbody>\n",
       "</table>\n",
       "</div>"
      ],
      "text/plain": [
       "   COD_DOCUMENTO           DES_NOME_PREFERIDO DES_NOMES_ALTERNATIVOS  \\\n",
       "0       35345364  Lei nº 14.263 de 22/12/2021   LEI-14263-2021-12-22   \n",
       "1       26247104  Lei nº 13.486 de 03/10/2017   LEI-13486-2017-10-03   \n",
       "2       27445746  Lei nº 13.701 de 06/08/2018   LEI-13701-2018-08-06   \n",
       "3       36348502  Lei nº 14.447 de 09/09/2022   LEI-14447-2022-09-09   \n",
       "4       32103727  Lei nº 13.988 de 14/04/2020   LEI-13988-2020-04-14   \n",
       "\n",
       "                                          TXT_EMENTA  \n",
       "0  Abre ao Orçamento da Seguridade Social da Uniã...  \n",
       "1  Altera o art. 8º da Lei nº 8.078, de 11 de set...  \n",
       "2  Cria o cargo de natureza especial de Intervent...  \n",
       "3  Altera os limites da Floresta Nacional de Bras...  \n",
       "4  Dispõe sobre a transação nas hipóteses que esp...  "
      ]
     },
     "execution_count": 6,
     "metadata": {},
     "output_type": "execute_result"
    }
   ],
   "source": [
    "leis_original = pd.read_excel(\"dados/LeisOrdinarias-LeisComplementare-e-DecretosNumeradosComClassificacaoDesde1900.xlsx\", \"Select mvw_s01_documento\")\n",
    "leis_original.rename(columns={\"DBMS_LOB.SUBSTR(S01.TXT_EMENTA\": \"TXT_EMENTA\"}, inplace=True)\n",
    "leis_original.drop(columns=\"   \", inplace=True)\n",
    "leis_original.head()"
   ]
  },
  {
   "cell_type": "code",
   "execution_count": 7,
   "metadata": {
    "collapsed": false,
    "pycharm": {
     "name": "#%%\n"
    }
   },
   "outputs": [
    {
     "data": {
      "text/plain": [
       "26959"
      ]
     },
     "execution_count": 7,
     "metadata": {},
     "output_type": "execute_result"
    }
   ],
   "source": [
    "leis_original.shape[0]"
   ]
  },
  {
   "cell_type": "markdown",
   "metadata": {
    "collapsed": false,
    "pycharm": {
     "name": "#%% md\n"
    }
   },
   "source": [
    "Com os datasets necessários já carregados, cria-se um novo dataset a partir do dataset contendo todas as leis, incluindo-se a informação das classes contidadas nas leis do dataset de leis classificadas."
   ]
  },
  {
   "cell_type": "code",
   "execution_count": 8,
   "metadata": {
    "collapsed": false,
    "pycharm": {
     "name": "#%%\n"
    }
   },
   "outputs": [
    {
     "data": {
      "text/html": [
       "<div>\n",
       "<style scoped>\n",
       "    .dataframe tbody tr th:only-of-type {\n",
       "        vertical-align: middle;\n",
       "    }\n",
       "\n",
       "    .dataframe tbody tr th {\n",
       "        vertical-align: top;\n",
       "    }\n",
       "\n",
       "    .dataframe thead th {\n",
       "        text-align: right;\n",
       "    }\n",
       "</style>\n",
       "<table border=\"1\" class=\"dataframe\">\n",
       "  <thead>\n",
       "    <tr style=\"text-align: right;\">\n",
       "      <th></th>\n",
       "      <th>COD_DOCUMENTO</th>\n",
       "      <th>DES_NOME_PREFERIDO</th>\n",
       "      <th>DES_NOMES_ALTERNATIVOS</th>\n",
       "      <th>TXT_EMENTA</th>\n",
       "      <th>COD_CLASSE</th>\n",
       "      <th>DES_CLASSE</th>\n",
       "    </tr>\n",
       "  </thead>\n",
       "  <tbody>\n",
       "    <tr>\n",
       "      <th>0</th>\n",
       "      <td>35345364</td>\n",
       "      <td>Lei nº 14.263 de 22/12/2021</td>\n",
       "      <td>LEI-14263-2021-12-22</td>\n",
       "      <td>Abre ao Orçamento da Seguridade Social da Uniã...</td>\n",
       "      <td>33260515.0</td>\n",
       "      <td>Orçamento Público</td>\n",
       "    </tr>\n",
       "    <tr>\n",
       "      <th>1</th>\n",
       "      <td>26247104</td>\n",
       "      <td>Lei nº 13.486 de 03/10/2017</td>\n",
       "      <td>LEI-13486-2017-10-03</td>\n",
       "      <td>Altera o art. 8º da Lei nº 8.078, de 11 de set...</td>\n",
       "      <td>33808912.0</td>\n",
       "      <td>Política Social</td>\n",
       "    </tr>\n",
       "    <tr>\n",
       "      <th>2</th>\n",
       "      <td>27445746</td>\n",
       "      <td>Lei nº 13.701 de 06/08/2018</td>\n",
       "      <td>LEI-13701-2018-08-06</td>\n",
       "      <td>Cria o cargo de natureza especial de Intervent...</td>\n",
       "      <td>33768972.0</td>\n",
       "      <td>Organização do Estado</td>\n",
       "    </tr>\n",
       "    <tr>\n",
       "      <th>3</th>\n",
       "      <td>36348502</td>\n",
       "      <td>Lei nº 14.447 de 09/09/2022</td>\n",
       "      <td>LEI-14447-2022-09-09</td>\n",
       "      <td>Altera os limites da Floresta Nacional de Bras...</td>\n",
       "      <td>33685789.0</td>\n",
       "      <td>Administração Pública</td>\n",
       "    </tr>\n",
       "    <tr>\n",
       "      <th>4</th>\n",
       "      <td>36348502</td>\n",
       "      <td>Lei nº 14.447 de 09/09/2022</td>\n",
       "      <td>LEI-14447-2022-09-09</td>\n",
       "      <td>Altera os limites da Floresta Nacional de Bras...</td>\n",
       "      <td>33809634.0</td>\n",
       "      <td>Meio Ambiente</td>\n",
       "    </tr>\n",
       "  </tbody>\n",
       "</table>\n",
       "</div>"
      ],
      "text/plain": [
       "   COD_DOCUMENTO           DES_NOME_PREFERIDO DES_NOMES_ALTERNATIVOS  \\\n",
       "0       35345364  Lei nº 14.263 de 22/12/2021   LEI-14263-2021-12-22   \n",
       "1       26247104  Lei nº 13.486 de 03/10/2017   LEI-13486-2017-10-03   \n",
       "2       27445746  Lei nº 13.701 de 06/08/2018   LEI-13701-2018-08-06   \n",
       "3       36348502  Lei nº 14.447 de 09/09/2022   LEI-14447-2022-09-09   \n",
       "4       36348502  Lei nº 14.447 de 09/09/2022   LEI-14447-2022-09-09   \n",
       "\n",
       "                                          TXT_EMENTA  COD_CLASSE  \\\n",
       "0  Abre ao Orçamento da Seguridade Social da Uniã...  33260515.0   \n",
       "1  Altera o art. 8º da Lei nº 8.078, de 11 de set...  33808912.0   \n",
       "2  Cria o cargo de natureza especial de Intervent...  33768972.0   \n",
       "3  Altera os limites da Floresta Nacional de Bras...  33685789.0   \n",
       "4  Altera os limites da Floresta Nacional de Bras...  33809634.0   \n",
       "\n",
       "              DES_CLASSE  \n",
       "0      Orçamento Público  \n",
       "1        Política Social  \n",
       "2  Organização do Estado  \n",
       "3  Administração Pública  \n",
       "4          Meio Ambiente  "
      ]
     },
     "execution_count": 8,
     "metadata": {},
     "output_type": "execute_result"
    }
   ],
   "source": [
    "leis = leis_original.merge(leis_classificadas_original.filter([\"COD_PROCESSO_DOCUMENTO\",\"DES_CLASSE_RAIZ\"]), left_on=\"COD_DOCUMENTO\", right_on=\"COD_PROCESSO_DOCUMENTO\", how=\"left\")\n",
    "leis = leis.merge(classes_raiz, left_on=\"DES_CLASSE_RAIZ\", right_on=\"DES_CLASSE\", how=\"left\")\n",
    "leis.drop(columns=[\"COD_PROCESSO_DOCUMENTO\", \"DES_CLASSE_RAIZ\"], inplace=True)\n",
    "leis.head()"
   ]
  },
  {
   "cell_type": "code",
   "execution_count": 9,
   "metadata": {
    "collapsed": false,
    "pycharm": {
     "name": "#%%\n"
    }
   },
   "outputs": [
    {
     "data": {
      "text/plain": [
       "27743"
      ]
     },
     "execution_count": 9,
     "metadata": {},
     "output_type": "execute_result"
    }
   ],
   "source": [
    "leis.shape[0]"
   ]
  },
  {
   "cell_type": "markdown",
   "metadata": {
    "collapsed": false,
    "pycharm": {
     "name": "#%% md\n"
    }
   },
   "source": [
    "Limpa os registros duplicados de leis que possuem mais de uma classe folha, mas que tenham mesma classe raiz e exibe as leis que possuem mais de uma classe folha, mas que tenham classes raiz diferentes."
   ]
  },
  {
   "cell_type": "code",
   "execution_count": 10,
   "metadata": {
    "collapsed": false,
    "pycharm": {
     "name": "#%%\n"
    }
   },
   "outputs": [
    {
     "data": {
      "text/html": [
       "<div>\n",
       "<style scoped>\n",
       "    .dataframe tbody tr th:only-of-type {\n",
       "        vertical-align: middle;\n",
       "    }\n",
       "\n",
       "    .dataframe tbody tr th {\n",
       "        vertical-align: top;\n",
       "    }\n",
       "\n",
       "    .dataframe thead th {\n",
       "        text-align: right;\n",
       "    }\n",
       "</style>\n",
       "<table border=\"1\" class=\"dataframe\">\n",
       "  <thead>\n",
       "    <tr style=\"text-align: right;\">\n",
       "      <th></th>\n",
       "      <th>COD_DOCUMENTO</th>\n",
       "      <th>COD_CLASSE</th>\n",
       "      <th>DES_CLASSE</th>\n",
       "    </tr>\n",
       "  </thead>\n",
       "  <tbody>\n",
       "    <tr>\n",
       "      <th>3</th>\n",
       "      <td>36348502</td>\n",
       "      <td>33685789.0</td>\n",
       "      <td>Administração Pública</td>\n",
       "    </tr>\n",
       "    <tr>\n",
       "      <th>4</th>\n",
       "      <td>36348502</td>\n",
       "      <td>33809634.0</td>\n",
       "      <td>Meio Ambiente</td>\n",
       "    </tr>\n",
       "    <tr>\n",
       "      <th>5</th>\n",
       "      <td>36348502</td>\n",
       "      <td>33769167.0</td>\n",
       "      <td>Economia e Desenvolvimento</td>\n",
       "    </tr>\n",
       "    <tr>\n",
       "      <th>20</th>\n",
       "      <td>36062349</td>\n",
       "      <td>33808912.0</td>\n",
       "      <td>Política Social</td>\n",
       "    </tr>\n",
       "    <tr>\n",
       "      <th>21</th>\n",
       "      <td>36062349</td>\n",
       "      <td>33769167.0</td>\n",
       "      <td>Economia e Desenvolvimento</td>\n",
       "    </tr>\n",
       "    <tr>\n",
       "      <th>...</th>\n",
       "      <td>...</td>\n",
       "      <td>...</td>\n",
       "      <td>...</td>\n",
       "    </tr>\n",
       "    <tr>\n",
       "      <th>27349</th>\n",
       "      <td>36032872</td>\n",
       "      <td>33808912.0</td>\n",
       "      <td>Política Social</td>\n",
       "    </tr>\n",
       "    <tr>\n",
       "      <th>27350</th>\n",
       "      <td>35556312</td>\n",
       "      <td>33685789.0</td>\n",
       "      <td>Administração Pública</td>\n",
       "    </tr>\n",
       "    <tr>\n",
       "      <th>27351</th>\n",
       "      <td>35556312</td>\n",
       "      <td>33808912.0</td>\n",
       "      <td>Política Social</td>\n",
       "    </tr>\n",
       "    <tr>\n",
       "      <th>27359</th>\n",
       "      <td>35396946</td>\n",
       "      <td>33809514.0</td>\n",
       "      <td>Soberania, Defesa Nacional e Ordem Pública</td>\n",
       "    </tr>\n",
       "    <tr>\n",
       "      <th>27360</th>\n",
       "      <td>35396946</td>\n",
       "      <td>33769167.0</td>\n",
       "      <td>Economia e Desenvolvimento</td>\n",
       "    </tr>\n",
       "  </tbody>\n",
       "</table>\n",
       "<p>630 rows × 3 columns</p>\n",
       "</div>"
      ],
      "text/plain": [
       "       COD_DOCUMENTO  COD_CLASSE                                  DES_CLASSE\n",
       "3           36348502  33685789.0                       Administração Pública\n",
       "4           36348502  33809634.0                               Meio Ambiente\n",
       "5           36348502  33769167.0                  Economia e Desenvolvimento\n",
       "20          36062349  33808912.0                             Política Social\n",
       "21          36062349  33769167.0                  Economia e Desenvolvimento\n",
       "...              ...         ...                                         ...\n",
       "27349       36032872  33808912.0                             Política Social\n",
       "27350       35556312  33685789.0                       Administração Pública\n",
       "27351       35556312  33808912.0                             Política Social\n",
       "27359       35396946  33809514.0  Soberania, Defesa Nacional e Ordem Pública\n",
       "27360       35396946  33769167.0                  Economia e Desenvolvimento\n",
       "\n",
       "[630 rows x 3 columns]"
      ]
     },
     "execution_count": 10,
     "metadata": {},
     "output_type": "execute_result"
    }
   ],
   "source": [
    "leis.drop_duplicates(inplace=True)\n",
    "temp = leis[[\"COD_DOCUMENTO\", \"COD_CLASSE\", \"DES_CLASSE\"]].groupby(\"COD_DOCUMENTO\")\n",
    "temp.filter(lambda x: len(x) > 1)"
   ]
  },
  {
   "cell_type": "markdown",
   "metadata": {
    "collapsed": false,
    "pycharm": {
     "name": "#%% md\n"
    }
   },
   "source": [
    "Tamanho da base tratada de leis."
   ]
  },
  {
   "cell_type": "code",
   "execution_count": 11,
   "metadata": {
    "collapsed": false,
    "pycharm": {
     "name": "#%%\n"
    }
   },
   "outputs": [
    {
     "data": {
      "text/plain": [
       "27294"
      ]
     },
     "execution_count": 11,
     "metadata": {},
     "output_type": "execute_result"
    }
   ],
   "source": [
    "leis.shape[0]"
   ]
  },
  {
   "cell_type": "markdown",
   "metadata": {
    "collapsed": false,
    "pycharm": {
     "name": "#%% md\n"
    }
   },
   "source": [
    "Total de classificações feitas em leis."
   ]
  },
  {
   "cell_type": "code",
   "execution_count": 12,
   "metadata": {
    "collapsed": false,
    "pycharm": {
     "name": "#%%\n"
    }
   },
   "outputs": [
    {
     "data": {
      "text/plain": [
       "17438"
      ]
     },
     "execution_count": 12,
     "metadata": {},
     "output_type": "execute_result"
    }
   ],
   "source": [
    "leis_classificadas = leis.query(\"not COD_CLASSE.isnull()\")\n",
    "quantidade_classificacoes = leis_classificadas.shape[0]\n",
    "quantidade_classificacoes"
   ]
  },
  {
   "cell_type": "markdown",
   "metadata": {
    "collapsed": false,
    "pycharm": {
     "name": "#%% md\n"
    }
   },
   "source": [
    "Número distinto de leis classificadas."
   ]
  },
  {
   "cell_type": "code",
   "execution_count": 13,
   "metadata": {
    "collapsed": false,
    "pycharm": {
     "name": "#%%\n"
    }
   },
   "outputs": [
    {
     "data": {
      "text/plain": [
       "17103"
      ]
     },
     "execution_count": 13,
     "metadata": {},
     "output_type": "execute_result"
    }
   ],
   "source": [
    "len(leis_classificadas[\"COD_DOCUMENTO\"].unique())"
   ]
  },
  {
   "cell_type": "markdown",
   "metadata": {
    "collapsed": false,
    "pycharm": {
     "name": "#%% md\n"
    }
   },
   "source": [
    "Quantidade de leis a classificar."
   ]
  },
  {
   "cell_type": "code",
   "execution_count": 14,
   "metadata": {
    "collapsed": false,
    "pycharm": {
     "name": "#%%\n"
    }
   },
   "outputs": [
    {
     "data": {
      "text/plain": [
       "9856"
      ]
     },
     "execution_count": 14,
     "metadata": {},
     "output_type": "execute_result"
    }
   ],
   "source": [
    "leis_nao_classificadas = leis.query(\"COD_CLASSE.isnull()\")\n",
    "leis_nao_classificadas.shape[0]"
   ]
  },
  {
   "cell_type": "markdown",
   "metadata": {
    "collapsed": false,
    "pycharm": {
     "name": "#%% md\n"
    }
   },
   "source": [
    "Verificação da distribuição das classes (em %)."
   ]
  },
  {
   "cell_type": "code",
   "execution_count": 15,
   "metadata": {
    "collapsed": false,
    "pycharm": {
     "name": "#%%\n"
    }
   },
   "outputs": [
    {
     "data": {
      "text/html": [
       "<div>\n",
       "<style scoped>\n",
       "    .dataframe tbody tr th:only-of-type {\n",
       "        vertical-align: middle;\n",
       "    }\n",
       "\n",
       "    .dataframe tbody tr th {\n",
       "        vertical-align: top;\n",
       "    }\n",
       "\n",
       "    .dataframe thead th {\n",
       "        text-align: right;\n",
       "    }\n",
       "</style>\n",
       "<table border=\"1\" class=\"dataframe\">\n",
       "  <thead>\n",
       "    <tr style=\"text-align: right;\">\n",
       "      <th></th>\n",
       "      <th>COD_CLASSE</th>\n",
       "    </tr>\n",
       "    <tr>\n",
       "      <th>DES_CLASSE</th>\n",
       "      <th></th>\n",
       "    </tr>\n",
       "  </thead>\n",
       "  <tbody>\n",
       "    <tr>\n",
       "      <th>Orçamento Público</th>\n",
       "      <td>64.181672</td>\n",
       "    </tr>\n",
       "    <tr>\n",
       "      <th>Infraestrutura</th>\n",
       "      <td>14.382383</td>\n",
       "    </tr>\n",
       "    <tr>\n",
       "      <th>Política Social</th>\n",
       "      <td>5.029246</td>\n",
       "    </tr>\n",
       "    <tr>\n",
       "      <th>Administração Pública</th>\n",
       "      <td>4.490194</td>\n",
       "    </tr>\n",
       "    <tr>\n",
       "      <th>Honorífico</th>\n",
       "      <td>3.847918</td>\n",
       "    </tr>\n",
       "    <tr>\n",
       "      <th>Economia e Desenvolvimento</th>\n",
       "      <td>3.693084</td>\n",
       "    </tr>\n",
       "    <tr>\n",
       "      <th>Jurídico</th>\n",
       "      <td>2.184884</td>\n",
       "    </tr>\n",
       "    <tr>\n",
       "      <th>Soberania, Defesa Nacional e Ordem Pública</th>\n",
       "      <td>0.951944</td>\n",
       "    </tr>\n",
       "    <tr>\n",
       "      <th>Organização do Estado</th>\n",
       "      <td>0.745498</td>\n",
       "    </tr>\n",
       "    <tr>\n",
       "      <th>Meio Ambiente</th>\n",
       "      <td>0.493176</td>\n",
       "    </tr>\n",
       "  </tbody>\n",
       "</table>\n",
       "</div>"
      ],
      "text/plain": [
       "                                            COD_CLASSE\n",
       "DES_CLASSE                                            \n",
       "Orçamento Público                            64.181672\n",
       "Infraestrutura                               14.382383\n",
       "Política Social                               5.029246\n",
       "Administração Pública                         4.490194\n",
       "Honorífico                                    3.847918\n",
       "Economia e Desenvolvimento                    3.693084\n",
       "Jurídico                                      2.184884\n",
       "Soberania, Defesa Nacional e Ordem Pública    0.951944\n",
       "Organização do Estado                         0.745498\n",
       "Meio Ambiente                                 0.493176"
      ]
     },
     "execution_count": 15,
     "metadata": {},
     "output_type": "execute_result"
    }
   ],
   "source": [
    "distribuicao_classes = leis_classificadas[[\"COD_CLASSE\", \"DES_CLASSE\"]].groupby(\"DES_CLASSE\").count() / quantidade_classificacoes * 100\n",
    "distribuicao_classes.sort_values(by=\"COD_CLASSE\", ascending=False)"
   ]
  },
  {
   "cell_type": "markdown",
   "metadata": {},
   "source": [
    "# Desbalanceamento\n",
    "\n",
    "É possível verificar que há um desbalanceamento grande entre as classes, o que prejudica o processo de aprendizado. Vamos tentar atacá-lo utilizando a técnica SMOTE:"
   ]
  },
  {
   "cell_type": "code",
   "execution_count": 16,
   "metadata": {},
   "outputs": [
    {
     "name": "stdout",
     "output_type": "stream",
     "text": [
      "Classe=Orçamento Público, n=11192 (64.182%)\n",
      "Classe=Política Social, n=877 (5.029%)\n",
      "Classe=Organização do Estado, n=130 (0.745%)\n",
      "Classe=Administração Pública, n=783 (4.490%)\n",
      "Classe=Meio Ambiente, n=86 (0.493%)\n",
      "Classe=Economia e Desenvolvimento, n=644 (3.693%)\n",
      "Classe=Honorífico, n=671 (3.848%)\n",
      "Classe=Jurídico, n=381 (2.185%)\n",
      "Classe=Infraestrutura, n=2508 (14.382%)\n",
      "Classe=Soberania, Defesa Nacional e Ordem Pública, n=166 (0.952%)\n"
     ]
    }
   ],
   "source": [
    "from imblearn.over_sampling import SMOTE\n",
    "from sklearn.preprocessing import LabelEncoder\n",
    "from numpy import where\n",
    "\n",
    "\n",
    "def printClasses(classes):\n",
    "\tcounter = Counter(classes)\n",
    "\tfor k,v in counter.items():\n",
    "\t\tper = v / len(classes) * 100\n",
    "\t\tprint('Classe=%s, n=%d (%.3f%%)' % (k, v, per))\n",
    "\n",
    "X_smote = leis_classificadas.drop(columns=[\"COD_CLASSE\", \"DES_CLASSE\"]).copy()\n",
    "y_smote = leis_classificadas[\"DES_CLASSE\"].copy()\n",
    "printClasses(y_smote)\n"
   ]
  },
  {
   "cell_type": "code",
   "execution_count": 26,
   "metadata": {},
   "outputs": [
    {
     "name": "stdout",
     "output_type": "stream",
     "text": [
      "4        Altera os limites da Floresta Nacional de Bras...\n",
      "16       Altera as Leis nºs 12.651, de 25 de maio de 20...\n",
      "200      Altera a categoria da unidade de conservação P...\n",
      "366      Altera o art. 25 da Lei nº 9.605, de 12 de fev...\n",
      "375      Altera a Lei nº 6.938, de 31 de agosto de 1981...\n",
      "                               ...                        \n",
      "25622    Dispõe sobre o Plano Nacional de Contingência ...\n",
      "25648    Determina a suspensão da permissão do emprego ...\n",
      "26889    Altera a Lei nº 9.605, de 12 de fevereiro de 1...\n",
      "27122    Altera a Lei nº 11.445, de 5 de janeiro de 200...\n",
      "27352    Altera o Decreto nº 9.888, de 27 de junho de 2...\n",
      "Name: TXT_EMENTA, Length: 86, dtype: object\n",
      "16       Altera as Leis nºs 12.651, de 25 de maio de 20...\n",
      "366      Altera o art. 25 da Lei nº 9.605, de 12 de fev...\n",
      "375      Altera a Lei nº 6.938, de 31 de agosto de 1981...\n",
      "2160     Altera a Lei nº 12.651, de 25 de maio de 2012,...\n",
      "4441     Altera o art. 2º da Lei nº 9.433, de 8 de jane...\n",
      "5323     Altera a Lei nº 8.001, de 13 de março de 1990,...\n",
      "7538     Altera o Decreto nº 6.514, de 22 de julho de 2...\n",
      "9621     Altera as Leis nºs 11.516, de 28 de agosto de ...\n",
      "10068    Altera o Decreto nº 8.772, de 11 de maio de 20...\n",
      "10597    Altera a Lei nº 11.445, de 5 de janeiro de 200...\n",
      "12160    Altera a Lei nº 9.795, de 27 de abril de 1999,...\n",
      "13005    Altera a Lei nº 12.651, de 25 de maio de 2012,...\n",
      "13384    Altera a Lei nº 6.938, de 31 de agosto de 1981...\n",
      "16874    Altera a Lei nº 12.651, de 25 de maio de 2012,...\n",
      "18506    Altera a Lei nº 11.445, de 5 de janeiro de 200...\n",
      "24278    Altera a Lei nº 12.651, de 25 de maio de 2012,...\n",
      "24779    Altera o Decreto nº 9.829, de 10 de junho de 2...\n",
      "26889    Altera a Lei nº 9.605, de 12 de fevereiro de 1...\n",
      "27122    Altera a Lei nº 11.445, de 5 de janeiro de 200...\n",
      "27352    Altera o Decreto nº 9.888, de 27 de junho de 2...\n",
      "Name: TXT_EMENTA, dtype: object\n"
     ]
    },
    {
     "data": {
      "text/plain": [
       "20"
      ]
     },
     "execution_count": 26,
     "metadata": {},
     "output_type": "execute_result"
    }
   ],
   "source": [
    "leis_classificadas_aumentadas = leis_classificadas.copy()\n",
    "leis_meio_ambiente = leis_classificadas_aumentadas.query(\"DES_CLASSE == 'Meio Ambiente'\")\n",
    "print(leis_meio_ambiente[\"TXT_EMENTA\"])\n"
   ]
  },
  {
   "cell_type": "code",
   "execution_count": 27,
   "metadata": {},
   "outputs": [
    {
     "name": "stdout",
     "output_type": "stream",
     "text": [
      "16       Altera as Leis nºs 12.651, de 25 de maio de 20...\n",
      "366      Altera o art. 25 da Lei nº 9.605, de 12 de fev...\n",
      "375      Altera a Lei nº 6.938, de 31 de agosto de 1981...\n",
      "2160     Altera a Lei nº 12.651, de 25 de maio de 2012,...\n",
      "4441     Altera o art. 2º da Lei nº 9.433, de 8 de jane...\n",
      "5323     Altera a Lei nº 8.001, de 13 de março de 1990,...\n",
      "7538     Altera o Decreto nº 6.514, de 22 de julho de 2...\n",
      "9621     Altera as Leis nºs 11.516, de 28 de agosto de ...\n",
      "10068    Altera o Decreto nº 8.772, de 11 de maio de 20...\n",
      "10597    Altera a Lei nº 11.445, de 5 de janeiro de 200...\n",
      "12160    Altera a Lei nº 9.795, de 27 de abril de 1999,...\n",
      "13005    Altera a Lei nº 12.651, de 25 de maio de 2012,...\n",
      "13384    Altera a Lei nº 6.938, de 31 de agosto de 1981...\n",
      "16874    Altera a Lei nº 12.651, de 25 de maio de 2012,...\n",
      "18506    Altera a Lei nº 11.445, de 5 de janeiro de 200...\n",
      "24278    Altera a Lei nº 12.651, de 25 de maio de 2012,...\n",
      "24779    Altera o Decreto nº 9.829, de 10 de junho de 2...\n",
      "26889    Altera a Lei nº 9.605, de 12 de fevereiro de 1...\n",
      "27122    Altera a Lei nº 11.445, de 5 de janeiro de 200...\n",
      "27352    Altera o Decreto nº 9.888, de 27 de junho de 2...\n",
      "Name: TXT_EMENTA, dtype: object\n"
     ]
    },
    {
     "data": {
      "text/plain": [
       "20"
      ]
     },
     "execution_count": 27,
     "metadata": {},
     "output_type": "execute_result"
    }
   ],
   "source": [
    "leis_meio_ambiente_altera_lei = leis_meio_ambiente.query('TXT_EMENTA.str.contains(\"Altera a Lei\") or TXT_EMENTA.str.contains(\"Altera as Leis\") or TXT_EMENTA.str.contains(\"Altera o Decreto\") or TXT_EMENTA.str.contains(\"Altera o art.\")')\n",
    "print(leis_meio_ambiente_altera_lei[\"TXT_EMENTA\"])\n",
    "leis_meio_ambiente_altera_lei.shape[0]"
   ]
  },
  {
   "cell_type": "code",
   "execution_count": 34,
   "metadata": {},
   "outputs": [
    {
     "name": "stdout",
     "output_type": "stream",
     "text": [
      "COD_DOCUMENTO\n",
      "DES_NOME_PREFERIDO\n",
      "DES_NOMES_ALTERNATIVOS\n",
      "TXT_EMENTA\n",
      "COD_CLASSE\n",
      "DES_CLASSE\n"
     ]
    }
   ],
   "source": [
    "import re\n",
    "def cleanAlteraALei(ementa):\n",
    "    if re.search('', ementa):\n",
    " # Extract the position of beginning of pattern\n",
    "        pos = re.search('\\(.*', ementa).start()\n",
    "  \n",
    "        # return the cleaned name\n",
    "        return ementa[:pos]\n",
    "  \n",
    "    else:\n",
    "        # if clean up needed return the same name\n",
    "        return ementa  "
   ]
  },
  {
   "cell_type": "markdown",
   "metadata": {
    "collapsed": false,
    "pycharm": {
     "name": "#%% md\n"
    }
   },
   "source": [
    "## 2 - Estruturação do texto\n",
    "***"
   ]
  },
  {
   "cell_type": "markdown",
   "metadata": {
    "collapsed": false,
    "pycharm": {
     "name": "#%% md\n"
    }
   },
   "source": [
    "Separação em datasets de treino e teste."
   ]
  },
  {
   "cell_type": "code",
   "execution_count": 16,
   "metadata": {
    "collapsed": false,
    "pycharm": {
     "name": "#%%\n"
    }
   },
   "outputs": [],
   "source": [
    "X = leis_classificadas.drop(columns=[\"COD_CLASSE\", \"DES_CLASSE\"])\n",
    "y = leis_classificadas[\"DES_CLASSE\"]\n",
    "\n",
    "X_treino, X_teste, y_treino, y_teste = train_test_split(X, y, test_size=0.3, stratify=y, random_state=42)"
   ]
  },
  {
   "cell_type": "code",
   "execution_count": null,
   "metadata": {},
   "outputs": [],
   "source": [
    "\n"
   ]
  },
  {
   "cell_type": "markdown",
   "metadata": {
    "collapsed": false,
    "pycharm": {
     "name": "#%% md\n"
    }
   },
   "source": [
    "Definição das funções para a tarefa de criação das matrizes de documentos (texto da ementa)"
   ]
  },
  {
   "cell_type": "code",
   "execution_count": 17,
   "metadata": {
    "collapsed": false,
    "pycharm": {
     "name": "#%%\n"
    }
   },
   "outputs": [],
   "source": [
    "# Divide um texto em tokens utilizando a biblioteca de NLP nltk\n",
    "def tokenizador(texto):\n",
    "    texto = texto.lower()\n",
    "    lista_alfanumerica = []\n",
    "\n",
    "    for token_valido in nltk.word_tokenize(texto, language=\"portuguese\"):\n",
    "        # Se for caracter de pontuação ou for stopword\n",
    "        if token_valido in string.punctuation:\n",
    "            continue\n",
    "        # elif token_valido in nltk.corpus.stopwords.words('portuguese'):\n",
    "        #     continue\n",
    "\n",
    "        lista_alfanumerica.append(token_valido)\n",
    "\n",
    "    return lista_alfanumerica"
   ]
  },
  {
   "cell_type": "code",
   "execution_count": 18,
   "metadata": {
    "collapsed": false,
    "pycharm": {
     "name": "#%%\n"
    }
   },
   "outputs": [],
   "source": [
    "# Combinação de vetores por soma\n",
    "def combinacao_vetores(palavras_numeros, vocabulario):\n",
    "    vetor_resultante = np.zeros(300)\n",
    "\n",
    "    for pn in palavras_numeros:\n",
    "        try:\n",
    "            vetor_resultante += vocabulario.get_vector(pn)\n",
    "        except KeyError:\n",
    "            if pn.isnumeric():\n",
    "                pn = \"0\" * len(pn) # \"0, 00, 000, 0000, etc. dependendo do tamanho de caracteres do número\n",
    "                vetor_resultante += vocabulario.get_vector(pn)\n",
    "            else:\n",
    "                vetor_resultante += vocabulario.get_vector(\"unknown\")\n",
    "\n",
    "    return vetor_resultante"
   ]
  },
  {
   "cell_type": "code",
   "execution_count": 19,
   "metadata": {
    "collapsed": false,
    "pycharm": {
     "name": "#%%\n"
    }
   },
   "outputs": [],
   "source": [
    "def matriz_vetores(textos, vocabulario):\n",
    "    x = len(textos)\n",
    "    y = 300 # número de dimensões do vocabulário skip300\n",
    "    matriz = np.zeros((x, y))\n",
    "\n",
    "    for i in range(x):\n",
    "        palavras_numeros = tokenizador(textos.iloc[i])\n",
    "        matriz[i] = combinacao_vetores(palavras_numeros, vocabulario)\n",
    "\n",
    "    return matriz"
   ]
  },
  {
   "cell_type": "markdown",
   "metadata": {
    "collapsed": false,
    "pycharm": {
     "name": "#%% md\n"
    }
   },
   "source": [
    "Carrega o vocabulário Word Embeddings (Word2Vec - Skipgram) pré-treinado pelo NILC (Núcleo Interinstitucional de Linguística Computacional)."
   ]
  },
  {
   "cell_type": "code",
   "execution_count": 20,
   "metadata": {
    "collapsed": false,
    "pycharm": {
     "name": "#%%\n"
    }
   },
   "outputs": [],
   "source": [
    "# Carrega vocabulário Skipgram\n",
    "vocabulario_skipgram = KeyedVectors.load_word2vec_format(\"dados/skip_s300.txt\")"
   ]
  },
  {
   "cell_type": "markdown",
   "metadata": {
    "collapsed": false,
    "pycharm": {
     "name": "#%% md\n"
    }
   },
   "source": [
    "Criação da matriz de documentos do corpus (conjunto de ementas), aqui representada por matrizes por vetores (cada ementa é vetorizada assim como o vocabulário)."
   ]
  },
  {
   "cell_type": "code",
   "execution_count": 32,
   "metadata": {
    "collapsed": false,
    "pycharm": {
     "name": "#%%\n"
    }
   },
   "outputs": [],
   "source": [
    "matriz_vetores_treino = matriz_vetores(X_treino[\"TXT_EMENTA\"], vocabulario_skipgram)\n",
    "matriz_vetores_teste = matriz_vetores(X_teste[\"TXT_EMENTA\"], vocabulario_skipgram)"
   ]
  },
  {
   "cell_type": "code",
   "execution_count": null,
   "metadata": {},
   "outputs": [],
   "source": []
  },
  {
   "cell_type": "markdown",
   "metadata": {
    "collapsed": false,
    "pycharm": {
     "name": "#%% md\n"
    }
   },
   "source": [
    "## 3 - Treinamento e predição do modelo de Machine Learning"
   ]
  },
  {
   "cell_type": "markdown",
   "metadata": {
    "collapsed": false,
    "pycharm": {
     "name": "#%% md\n"
    }
   },
   "source": [
    "Treinamento e predição do classificador dummy."
   ]
  },
  {
   "cell_type": "code",
   "execution_count": 22,
   "metadata": {
    "collapsed": false,
    "pycharm": {
     "name": "#%%\n"
    }
   },
   "outputs": [],
   "source": [
    "dc = DummyClassifier()\n",
    "dc.fit(matriz_vetores_treino, y_treino)\n",
    "classe_prevista_dc = dc.predict(matriz_vetores_teste)"
   ]
  },
  {
   "cell_type": "markdown",
   "metadata": {
    "collapsed": false,
    "pycharm": {
     "name": "#%% md\n"
    }
   },
   "source": [
    "Treinamento e predição do classificador por Regressão Logística."
   ]
  },
  {
   "cell_type": "code",
   "execution_count": 23,
   "metadata": {
    "collapsed": false,
    "pycharm": {
     "name": "#%%\n"
    }
   },
   "outputs": [],
   "source": [
    "lr = LogisticRegression(max_iter=3000)\n",
    "lr.fit(matriz_vetores_treino, y_treino)\n",
    "classe_prevista_lr = lr.predict(matriz_vetores_teste)"
   ]
  },
  {
   "cell_type": "markdown",
   "metadata": {
    "collapsed": false,
    "pycharm": {
     "name": "#%% md\n"
    }
   },
   "source": [
    "## 4 - Avaliando o modelo"
   ]
  },
  {
   "cell_type": "markdown",
   "metadata": {
    "collapsed": false,
    "pycharm": {
     "name": "#%% md\n"
    }
   },
   "source": [
    "Exibe os relatórios de desempenho do modelo do classificador dummy e do de Regressão Logística no dataset de testes"
   ]
  },
  {
   "cell_type": "code",
   "execution_count": 24,
   "metadata": {
    "collapsed": false,
    "pycharm": {
     "name": "#%%\n"
    }
   },
   "outputs": [
    {
     "name": "stdout",
     "output_type": "stream",
     "text": [
      "Acurácia DummyClassifier: 0.64\n",
      "Acurácia LinearRegressor: 0.9\n",
      "                                            precision    recall  f1-score   support\n",
      "\n",
      "                     Administração Pública       0.60      0.57      0.59       235\n",
      "                Economia e Desenvolvimento       0.57      0.53      0.55       193\n",
      "                                Honorífico       0.94      0.90      0.92       201\n",
      "                            Infraestrutura       0.94      0.97      0.95       753\n",
      "                                  Jurídico       0.50      0.47      0.48       114\n",
      "                             Meio Ambiente       0.45      0.38      0.42        26\n",
      "                     Organização do Estado       0.20      0.21      0.20        39\n",
      "                         Orçamento Público       0.99      0.99      0.99      3358\n",
      "                           Política Social       0.62      0.62      0.62       263\n",
      "Soberania, Defesa Nacional e Ordem Pública       0.29      0.30      0.29        50\n",
      "\n",
      "                                  accuracy                           0.90      5232\n",
      "                                 macro avg       0.61      0.59      0.60      5232\n",
      "                              weighted avg       0.90      0.90      0.90      5232\n",
      "\n"
     ]
    }
   ],
   "source": [
    "acuracia_dc = metrics.accuracy_score(y_teste, classe_prevista_dc)\n",
    "acuracia_lr = metrics.accuracy_score(y_teste, classe_prevista_lr)\n",
    "print(\"Acurácia DummyClassifier:\",  round(acuracia_dc, 2))\n",
    "print(\"Acurácia LinearRegressor:\",  round(acuracia_lr, 2))\n",
    "\n",
    "cr_lr = classification_report(y_teste, classe_prevista_lr)\n",
    "\n",
    "print(cr_lr)"
   ]
  }
 ],
 "metadata": {
  "kernelspec": {
   "display_name": "Python 3.9.12 ('mdenv')",
   "language": "python",
   "name": "python3"
  },
  "language_info": {
   "codemirror_mode": {
    "name": "ipython",
    "version": 3
   },
   "file_extension": ".py",
   "mimetype": "text/x-python",
   "name": "python",
   "nbconvert_exporter": "python",
   "pygments_lexer": "ipython3",
   "version": "3.9.12"
  },
  "vscode": {
   "interpreter": {
    "hash": "bb26a599782b3853c870df2c7a4979ed6ea3ce3b4ae25b1f6e4fc2e40113204d"
   }
  }
 },
 "nbformat": 4,
 "nbformat_minor": 0
}
