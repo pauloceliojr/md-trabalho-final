{
 "cells": [
  {
   "cell_type": "markdown",
   "metadata": {
    "collapsed": false,
    "pycharm": {
     "name": "#%% md\n"
    }
   },
   "source": [
    "# Trabalho Final de Mineração de Dados"
   ]
  },
  {
   "cell_type": "markdown",
   "metadata": {
    "collapsed": false,
    "pycharm": {
     "name": "#%% md\n"
    }
   },
   "source": [
    "## Importando bibliotecas"
   ]
  },
  {
   "cell_type": "code",
   "execution_count": 1,
   "metadata": {
    "collapsed": false,
    "pycharm": {
     "name": "#%%\n"
    }
   },
   "outputs": [
    {
     "name": "stderr",
     "output_type": "stream",
     "text": [
      "[nltk_data] Downloading package punkt to\n",
      "[nltk_data]     C:\\Users\\paulo\\AppData\\Roaming\\nltk_data...\n",
      "[nltk_data]   Package punkt is already up-to-date!\n"
     ]
    },
    {
     "data": {
      "text/plain": "True"
     },
     "execution_count": 1,
     "metadata": {},
     "output_type": "execute_result"
    }
   ],
   "source": [
    "import string\n",
    "\n",
    "import nltk\n",
    "import numpy as np\n",
    "import pandas as pd\n",
    "from gensim.models import KeyedVectors\n",
    "from imblearn.under_sampling import RandomUnderSampler\n",
    "from sklearn.dummy import DummyClassifier\n",
    "from sklearn.ensemble import RandomForestClassifier\n",
    "from sklearn.linear_model import LogisticRegression\n",
    "from sklearn.metrics import classification_report, accuracy_score\n",
    "from sklearn.model_selection import train_test_split, StratifiedKFold, cross_val_score\n",
    "from sklearn.naive_bayes import BernoulliNB\n",
    "from sklearn.neighbors import KNeighborsClassifier\n",
    "from sklearn.svm import SVC\n",
    "from sklearn.tree import DecisionTreeClassifier\n",
    "\n",
    "nltk.download(\"punkt\")"
   ]
  },
  {
   "cell_type": "markdown",
   "metadata": {
    "collapsed": false,
    "pycharm": {
     "name": "#%% md\n"
    }
   },
   "source": [
    "## 1 - Fase de Preparação dos Dados\n",
    "***"
   ]
  },
  {
   "cell_type": "markdown",
   "metadata": {
    "collapsed": false,
    "pycharm": {
     "name": "#%% md\n"
    }
   },
   "source": [
    "Carregando o arquivo original de classes."
   ]
  },
  {
   "cell_type": "code",
   "execution_count": 2,
   "metadata": {
    "collapsed": false,
    "pycharm": {
     "name": "#%%\n"
    }
   },
   "outputs": [
    {
     "data": {
      "text/plain": "        COD_CLASSE                          DES_NOME_PREFERIDO  \\\n0    1    33254494            Classificação Temática Unificada   \n1    2    33809814         Temas Exclusivos de Pronunciamentos   \n2    3    33809634                               Meio Ambiente   \n3    4    33809514  Soberania, Defesa Nacional e Ordem Pública   \n4    5    33808912                             Política Social   \n\n   COD_CLASSE_PAI  NUM_NIVEL  CYCLE  \\\n0             NaN          1      0   \n1      33254494.0          2      0   \n2      33254494.0          2      0   \n3      33254494.0          2      0   \n4      33254494.0          2      0   \n\n                                            TREE  \\\n0               Classificação Temática Unificada   \n1         -- Temas Exclusivos de Pronunciamentos   \n2                               -- Meio Ambiente   \n3  -- Soberania, Defesa Nacional e Ordem Pública   \n4                             -- Política Social   \n\n                                                PATH  QTD_FILHOS  \\\n0                   Classificação Temática Unificada         202   \n1  Classificação Temática Unificada / Temas Exclu...          22   \n2   Classificação Temática Unificada / Meio Ambiente          11   \n3  Classificação Temática Unificada / Soberania, ...           7   \n4  Classificação Temática Unificada / Política So...          37   \n\n                                   DES_NIVEL1 DES_NIVEL2 DES_NIVEL3  \\\n0                                         NaN        NaN        NaN   \n1         Temas Exclusivos de Pronunciamentos        NaN        NaN   \n2                               Meio Ambiente        NaN        NaN   \n3  Soberania, Defesa Nacional e Ordem Pública        NaN        NaN   \n4                             Política Social        NaN        NaN   \n\n   DES_NIVEL4  \n0         NaN  \n1         NaN  \n2         NaN  \n3         NaN  \n4         NaN  ",
      "text/html": "<div>\n<style scoped>\n    .dataframe tbody tr th:only-of-type {\n        vertical-align: middle;\n    }\n\n    .dataframe tbody tr th {\n        vertical-align: top;\n    }\n\n    .dataframe thead th {\n        text-align: right;\n    }\n</style>\n<table border=\"1\" class=\"dataframe\">\n  <thead>\n    <tr style=\"text-align: right;\">\n      <th></th>\n      <th></th>\n      <th>COD_CLASSE</th>\n      <th>DES_NOME_PREFERIDO</th>\n      <th>COD_CLASSE_PAI</th>\n      <th>NUM_NIVEL</th>\n      <th>CYCLE</th>\n      <th>TREE</th>\n      <th>PATH</th>\n      <th>QTD_FILHOS</th>\n      <th>DES_NIVEL1</th>\n      <th>DES_NIVEL2</th>\n      <th>DES_NIVEL3</th>\n      <th>DES_NIVEL4</th>\n    </tr>\n  </thead>\n  <tbody>\n    <tr>\n      <th>0</th>\n      <td>1</td>\n      <td>33254494</td>\n      <td>Classificação Temática Unificada</td>\n      <td>NaN</td>\n      <td>1</td>\n      <td>0</td>\n      <td>Classificação Temática Unificada</td>\n      <td>Classificação Temática Unificada</td>\n      <td>202</td>\n      <td>NaN</td>\n      <td>NaN</td>\n      <td>NaN</td>\n      <td>NaN</td>\n    </tr>\n    <tr>\n      <th>1</th>\n      <td>2</td>\n      <td>33809814</td>\n      <td>Temas Exclusivos de Pronunciamentos</td>\n      <td>33254494.0</td>\n      <td>2</td>\n      <td>0</td>\n      <td>-- Temas Exclusivos de Pronunciamentos</td>\n      <td>Classificação Temática Unificada / Temas Exclu...</td>\n      <td>22</td>\n      <td>Temas Exclusivos de Pronunciamentos</td>\n      <td>NaN</td>\n      <td>NaN</td>\n      <td>NaN</td>\n    </tr>\n    <tr>\n      <th>2</th>\n      <td>3</td>\n      <td>33809634</td>\n      <td>Meio Ambiente</td>\n      <td>33254494.0</td>\n      <td>2</td>\n      <td>0</td>\n      <td>-- Meio Ambiente</td>\n      <td>Classificação Temática Unificada / Meio Ambiente</td>\n      <td>11</td>\n      <td>Meio Ambiente</td>\n      <td>NaN</td>\n      <td>NaN</td>\n      <td>NaN</td>\n    </tr>\n    <tr>\n      <th>3</th>\n      <td>4</td>\n      <td>33809514</td>\n      <td>Soberania, Defesa Nacional e Ordem Pública</td>\n      <td>33254494.0</td>\n      <td>2</td>\n      <td>0</td>\n      <td>-- Soberania, Defesa Nacional e Ordem Pública</td>\n      <td>Classificação Temática Unificada / Soberania, ...</td>\n      <td>7</td>\n      <td>Soberania, Defesa Nacional e Ordem Pública</td>\n      <td>NaN</td>\n      <td>NaN</td>\n      <td>NaN</td>\n    </tr>\n    <tr>\n      <th>4</th>\n      <td>5</td>\n      <td>33808912</td>\n      <td>Política Social</td>\n      <td>33254494.0</td>\n      <td>2</td>\n      <td>0</td>\n      <td>-- Política Social</td>\n      <td>Classificação Temática Unificada / Política So...</td>\n      <td>37</td>\n      <td>Política Social</td>\n      <td>NaN</td>\n      <td>NaN</td>\n      <td>NaN</td>\n    </tr>\n  </tbody>\n</table>\n</div>"
     },
     "execution_count": 2,
     "metadata": {},
     "output_type": "execute_result"
    }
   ],
   "source": [
    "classes_original = pd.read_excel(\"dados/SistemaDeClassificacao.xlsx\", \"Select viw_classificacao_arvore\")\n",
    "classes_original.head()"
   ]
  },
  {
   "cell_type": "markdown",
   "metadata": {
    "collapsed": false,
    "pycharm": {
     "name": "#%% md\n"
    }
   },
   "source": [
    "Filtra o arquivo de classes original para exibir apenas aquelas que serão raiz na classificação da ementa. Essa classes possuem nível 2 na tabela original."
   ]
  },
  {
   "cell_type": "code",
   "execution_count": 3,
   "metadata": {
    "collapsed": false,
    "pycharm": {
     "name": "#%%\n"
    }
   },
   "outputs": [
    {
     "data": {
      "text/plain": "    COD_CLASSE                                  DES_CLASSE\n0     33685789                       Administração Pública\n1     33769167                  Economia e Desenvolvimento\n2     33805317                                  Honorífico\n3     33805137                              Infraestrutura\n4     33805362                                    Jurídico\n5     33809634                               Meio Ambiente\n6     33768972                       Organização do Estado\n7     33260515                           Orçamento Público\n8     33808912                             Política Social\n9     33809514  Soberania, Defesa Nacional e Ordem Pública\n10    33809814         Temas Exclusivos de Pronunciamentos",
      "text/html": "<div>\n<style scoped>\n    .dataframe tbody tr th:only-of-type {\n        vertical-align: middle;\n    }\n\n    .dataframe tbody tr th {\n        vertical-align: top;\n    }\n\n    .dataframe thead th {\n        text-align: right;\n    }\n</style>\n<table border=\"1\" class=\"dataframe\">\n  <thead>\n    <tr style=\"text-align: right;\">\n      <th></th>\n      <th>COD_CLASSE</th>\n      <th>DES_CLASSE</th>\n    </tr>\n  </thead>\n  <tbody>\n    <tr>\n      <th>0</th>\n      <td>33685789</td>\n      <td>Administração Pública</td>\n    </tr>\n    <tr>\n      <th>1</th>\n      <td>33769167</td>\n      <td>Economia e Desenvolvimento</td>\n    </tr>\n    <tr>\n      <th>2</th>\n      <td>33805317</td>\n      <td>Honorífico</td>\n    </tr>\n    <tr>\n      <th>3</th>\n      <td>33805137</td>\n      <td>Infraestrutura</td>\n    </tr>\n    <tr>\n      <th>4</th>\n      <td>33805362</td>\n      <td>Jurídico</td>\n    </tr>\n    <tr>\n      <th>5</th>\n      <td>33809634</td>\n      <td>Meio Ambiente</td>\n    </tr>\n    <tr>\n      <th>6</th>\n      <td>33768972</td>\n      <td>Organização do Estado</td>\n    </tr>\n    <tr>\n      <th>7</th>\n      <td>33260515</td>\n      <td>Orçamento Público</td>\n    </tr>\n    <tr>\n      <th>8</th>\n      <td>33808912</td>\n      <td>Política Social</td>\n    </tr>\n    <tr>\n      <th>9</th>\n      <td>33809514</td>\n      <td>Soberania, Defesa Nacional e Ordem Pública</td>\n    </tr>\n    <tr>\n      <th>10</th>\n      <td>33809814</td>\n      <td>Temas Exclusivos de Pronunciamentos</td>\n    </tr>\n  </tbody>\n</table>\n</div>"
     },
     "execution_count": 3,
     "metadata": {},
     "output_type": "execute_result"
    }
   ],
   "source": [
    "classes_raiz = classes_original.query(\"NUM_NIVEL == 2\").filter([\"COD_CLASSE\", \"DES_NOME_PREFERIDO\"])\n",
    "classes_raiz = classes_raiz.sort_values(\"DES_NOME_PREFERIDO\")\n",
    "classes_raiz.reset_index(drop=True, inplace=True)\n",
    "classes_raiz.rename(columns={\"DES_NOME_PREFERIDO\": \"DES_CLASSE\", \"index\": \"INDICE\"}, inplace=True)\n",
    "classes_raiz"
   ]
  },
  {
   "cell_type": "markdown",
   "metadata": {
    "collapsed": false,
    "pycharm": {
     "name": "#%% md\n"
    }
   },
   "source": [
    "Carrega o dataset contendo as normas que já foram classificadas. Com os dados carregados, cria uma coluna derivada (DES_CLASSE_RAIZ) a partir da árvore de classes (DES_CLASSE_HIERARQUIA), da qual a informação de classe raiz é extraída."
   ]
  },
  {
   "cell_type": "code",
   "execution_count": 4,
   "metadata": {
    "collapsed": false,
    "pycharm": {
     "name": "#%%\n"
    }
   },
   "outputs": [
    {
     "data": {
      "text/plain": "        COD_PRC_DOC_TEMA  COD_PROCESSO_DOCUMENTO  COD_CLASSE  \\\n0    1          36155183                  386343    33805827   \n1    2          36192020                  386579    33805287   \n2    3          36155185                  387419    33805827   \n3    4          36192056                  387832    33805287   \n4    5          36155187                  388197    33805827   \n\n            DES_CLASSE                              DES_CLASSE_HIERARQUIA  \\\n0  Crédito Suplementar  Classificação Temática Unificada / Orçamento P...   \n1           Rádio e TV  Classificação Temática Unificada / Infraestrut...   \n2  Crédito Suplementar  Classificação Temática Unificada / Orçamento P...   \n3           Rádio e TV  Classificação Temática Unificada / Infraestrut...   \n4  Crédito Suplementar  Classificação Temática Unificada / Orçamento P...   \n\n     DES_CLASSE_RAIZ  \n0  Orçamento Público  \n1     Infraestrutura  \n2  Orçamento Público  \n3     Infraestrutura  \n4  Orçamento Público  ",
      "text/html": "<div>\n<style scoped>\n    .dataframe tbody tr th:only-of-type {\n        vertical-align: middle;\n    }\n\n    .dataframe tbody tr th {\n        vertical-align: top;\n    }\n\n    .dataframe thead th {\n        text-align: right;\n    }\n</style>\n<table border=\"1\" class=\"dataframe\">\n  <thead>\n    <tr style=\"text-align: right;\">\n      <th></th>\n      <th></th>\n      <th>COD_PRC_DOC_TEMA</th>\n      <th>COD_PROCESSO_DOCUMENTO</th>\n      <th>COD_CLASSE</th>\n      <th>DES_CLASSE</th>\n      <th>DES_CLASSE_HIERARQUIA</th>\n      <th>DES_CLASSE_RAIZ</th>\n    </tr>\n  </thead>\n  <tbody>\n    <tr>\n      <th>0</th>\n      <td>1</td>\n      <td>36155183</td>\n      <td>386343</td>\n      <td>33805827</td>\n      <td>Crédito Suplementar</td>\n      <td>Classificação Temática Unificada / Orçamento P...</td>\n      <td>Orçamento Público</td>\n    </tr>\n    <tr>\n      <th>1</th>\n      <td>2</td>\n      <td>36192020</td>\n      <td>386579</td>\n      <td>33805287</td>\n      <td>Rádio e TV</td>\n      <td>Classificação Temática Unificada / Infraestrut...</td>\n      <td>Infraestrutura</td>\n    </tr>\n    <tr>\n      <th>2</th>\n      <td>3</td>\n      <td>36155185</td>\n      <td>387419</td>\n      <td>33805827</td>\n      <td>Crédito Suplementar</td>\n      <td>Classificação Temática Unificada / Orçamento P...</td>\n      <td>Orçamento Público</td>\n    </tr>\n    <tr>\n      <th>3</th>\n      <td>4</td>\n      <td>36192056</td>\n      <td>387832</td>\n      <td>33805287</td>\n      <td>Rádio e TV</td>\n      <td>Classificação Temática Unificada / Infraestrut...</td>\n      <td>Infraestrutura</td>\n    </tr>\n    <tr>\n      <th>4</th>\n      <td>5</td>\n      <td>36155187</td>\n      <td>388197</td>\n      <td>33805827</td>\n      <td>Crédito Suplementar</td>\n      <td>Classificação Temática Unificada / Orçamento P...</td>\n      <td>Orçamento Público</td>\n    </tr>\n  </tbody>\n</table>\n</div>"
     },
     "execution_count": 4,
     "metadata": {},
     "output_type": "execute_result"
    }
   ],
   "source": [
    "normas_classificadas_original = pd.read_excel(\n",
    "    \"dados/ClassificacaoDeLeisOrdinarias-LeisComplementares-e-DecretosNumerados-Desde1900.xlsx\",\n",
    "    \"Select mvw_u03_prc_doc_tema\")\n",
    "normas_classificadas_original[\"DES_CLASSE_RAIZ\"] = normas_classificadas_original[\"DES_CLASSE_HIERARQUIA\"].apply(\n",
    "    lambda hierarquia: hierarquia.split(\" / \")[1])\n",
    "normas_classificadas_original.head()"
   ]
  },
  {
   "cell_type": "markdown",
   "metadata": {
    "collapsed": false,
    "pycharm": {
     "name": "#%% md\n"
    }
   },
   "source": [
    "Carrega os dados de todas as normas (classificadas e não classificadas) e aplica as transformações iniciais."
   ]
  },
  {
   "cell_type": "code",
   "execution_count": 5,
   "metadata": {
    "collapsed": false,
    "pycharm": {
     "name": "#%%\n"
    }
   },
   "outputs": [
    {
     "data": {
      "text/plain": "   COD_DOCUMENTO           DES_NOME_PREFERIDO DES_NOMES_ALTERNATIVOS  \\\n0       35345364  Lei nº 14.263 de 22/12/2021   LEI-14263-2021-12-22   \n1       26247104  Lei nº 13.486 de 03/10/2017   LEI-13486-2017-10-03   \n2       27445746  Lei nº 13.701 de 06/08/2018   LEI-13701-2018-08-06   \n3       36348502  Lei nº 14.447 de 09/09/2022   LEI-14447-2022-09-09   \n4       32103727  Lei nº 13.988 de 14/04/2020   LEI-13988-2020-04-14   \n\n                                          TXT_EMENTA   ANO  \n0  Abre ao Orçamento da Seguridade Social da Uniã...  2021  \n1  Altera o art. 8º da Lei nº 8.078, de 11 de set...  2017  \n2  Cria o cargo de natureza especial de Intervent...  2018  \n3  Altera os limites da Floresta Nacional de Bras...  2022  \n4  Dispõe sobre a transação nas hipóteses que esp...  2020  ",
      "text/html": "<div>\n<style scoped>\n    .dataframe tbody tr th:only-of-type {\n        vertical-align: middle;\n    }\n\n    .dataframe tbody tr th {\n        vertical-align: top;\n    }\n\n    .dataframe thead th {\n        text-align: right;\n    }\n</style>\n<table border=\"1\" class=\"dataframe\">\n  <thead>\n    <tr style=\"text-align: right;\">\n      <th></th>\n      <th>COD_DOCUMENTO</th>\n      <th>DES_NOME_PREFERIDO</th>\n      <th>DES_NOMES_ALTERNATIVOS</th>\n      <th>TXT_EMENTA</th>\n      <th>ANO</th>\n    </tr>\n  </thead>\n  <tbody>\n    <tr>\n      <th>0</th>\n      <td>35345364</td>\n      <td>Lei nº 14.263 de 22/12/2021</td>\n      <td>LEI-14263-2021-12-22</td>\n      <td>Abre ao Orçamento da Seguridade Social da Uniã...</td>\n      <td>2021</td>\n    </tr>\n    <tr>\n      <th>1</th>\n      <td>26247104</td>\n      <td>Lei nº 13.486 de 03/10/2017</td>\n      <td>LEI-13486-2017-10-03</td>\n      <td>Altera o art. 8º da Lei nº 8.078, de 11 de set...</td>\n      <td>2017</td>\n    </tr>\n    <tr>\n      <th>2</th>\n      <td>27445746</td>\n      <td>Lei nº 13.701 de 06/08/2018</td>\n      <td>LEI-13701-2018-08-06</td>\n      <td>Cria o cargo de natureza especial de Intervent...</td>\n      <td>2018</td>\n    </tr>\n    <tr>\n      <th>3</th>\n      <td>36348502</td>\n      <td>Lei nº 14.447 de 09/09/2022</td>\n      <td>LEI-14447-2022-09-09</td>\n      <td>Altera os limites da Floresta Nacional de Bras...</td>\n      <td>2022</td>\n    </tr>\n    <tr>\n      <th>4</th>\n      <td>32103727</td>\n      <td>Lei nº 13.988 de 14/04/2020</td>\n      <td>LEI-13988-2020-04-14</td>\n      <td>Dispõe sobre a transação nas hipóteses que esp...</td>\n      <td>2020</td>\n    </tr>\n  </tbody>\n</table>\n</div>"
     },
     "execution_count": 5,
     "metadata": {},
     "output_type": "execute_result"
    }
   ],
   "source": [
    "normas_original = pd.read_excel(\n",
    "    \"dados/LeisOrdinarias-LeisComplementare-e-DecretosNumeradosComClassificacaoDesde1900.xlsx\",\n",
    "    \"Select mvw_s01_documento\")\n",
    "normas_original.rename(columns={\"DBMS_LOB.SUBSTR(S01.TXT_EMENTA\": \"TXT_EMENTA\"}, inplace=True)\n",
    "normas_original.drop(columns=\"   \", inplace=True)\n",
    "normas_original[\"ANO\"] = normas_original[\"DES_NOME_PREFERIDO\"].apply(lambda x : x[len(x) - 4:])\n",
    "normas_original.head()"
   ]
  },
  {
   "cell_type": "code",
   "execution_count": 6,
   "metadata": {
    "collapsed": false,
    "pycharm": {
     "name": "#%%\n"
    }
   },
   "outputs": [
    {
     "data": {
      "text/plain": "26959"
     },
     "execution_count": 6,
     "metadata": {},
     "output_type": "execute_result"
    }
   ],
   "source": [
    "normas_original.shape[0]"
   ]
  },
  {
   "cell_type": "markdown",
   "metadata": {
    "collapsed": false,
    "pycharm": {
     "name": "#%% md\n"
    }
   },
   "source": [
    "Com os datasets necessários já carregados, cria-se um novo dataset a partir do dataset contendo todas as leis, incluindo-se a informação das classes contidadas nas normas do dataset de normas classificadas."
   ]
  },
  {
   "cell_type": "code",
   "execution_count": 7,
   "metadata": {
    "collapsed": false,
    "pycharm": {
     "name": "#%%\n"
    }
   },
   "outputs": [
    {
     "data": {
      "text/plain": "   COD_DOCUMENTO           DES_NOME_PREFERIDO DES_NOMES_ALTERNATIVOS  \\\n0       35345364  Lei nº 14.263 de 22/12/2021   LEI-14263-2021-12-22   \n1       26247104  Lei nº 13.486 de 03/10/2017   LEI-13486-2017-10-03   \n2       27445746  Lei nº 13.701 de 06/08/2018   LEI-13701-2018-08-06   \n3       36348502  Lei nº 14.447 de 09/09/2022   LEI-14447-2022-09-09   \n4       36348502  Lei nº 14.447 de 09/09/2022   LEI-14447-2022-09-09   \n\n                                          TXT_EMENTA   ANO  COD_CLASSE  \\\n0  Abre ao Orçamento da Seguridade Social da Uniã...  2021  33260515.0   \n1  Altera o art. 8º da Lei nº 8.078, de 11 de set...  2017  33808912.0   \n2  Cria o cargo de natureza especial de Intervent...  2018  33768972.0   \n3  Altera os limites da Floresta Nacional de Bras...  2022  33685789.0   \n4  Altera os limites da Floresta Nacional de Bras...  2022  33809634.0   \n\n              DES_CLASSE  \n0      Orçamento Público  \n1        Política Social  \n2  Organização do Estado  \n3  Administração Pública  \n4          Meio Ambiente  ",
      "text/html": "<div>\n<style scoped>\n    .dataframe tbody tr th:only-of-type {\n        vertical-align: middle;\n    }\n\n    .dataframe tbody tr th {\n        vertical-align: top;\n    }\n\n    .dataframe thead th {\n        text-align: right;\n    }\n</style>\n<table border=\"1\" class=\"dataframe\">\n  <thead>\n    <tr style=\"text-align: right;\">\n      <th></th>\n      <th>COD_DOCUMENTO</th>\n      <th>DES_NOME_PREFERIDO</th>\n      <th>DES_NOMES_ALTERNATIVOS</th>\n      <th>TXT_EMENTA</th>\n      <th>ANO</th>\n      <th>COD_CLASSE</th>\n      <th>DES_CLASSE</th>\n    </tr>\n  </thead>\n  <tbody>\n    <tr>\n      <th>0</th>\n      <td>35345364</td>\n      <td>Lei nº 14.263 de 22/12/2021</td>\n      <td>LEI-14263-2021-12-22</td>\n      <td>Abre ao Orçamento da Seguridade Social da Uniã...</td>\n      <td>2021</td>\n      <td>33260515.0</td>\n      <td>Orçamento Público</td>\n    </tr>\n    <tr>\n      <th>1</th>\n      <td>26247104</td>\n      <td>Lei nº 13.486 de 03/10/2017</td>\n      <td>LEI-13486-2017-10-03</td>\n      <td>Altera o art. 8º da Lei nº 8.078, de 11 de set...</td>\n      <td>2017</td>\n      <td>33808912.0</td>\n      <td>Política Social</td>\n    </tr>\n    <tr>\n      <th>2</th>\n      <td>27445746</td>\n      <td>Lei nº 13.701 de 06/08/2018</td>\n      <td>LEI-13701-2018-08-06</td>\n      <td>Cria o cargo de natureza especial de Intervent...</td>\n      <td>2018</td>\n      <td>33768972.0</td>\n      <td>Organização do Estado</td>\n    </tr>\n    <tr>\n      <th>3</th>\n      <td>36348502</td>\n      <td>Lei nº 14.447 de 09/09/2022</td>\n      <td>LEI-14447-2022-09-09</td>\n      <td>Altera os limites da Floresta Nacional de Bras...</td>\n      <td>2022</td>\n      <td>33685789.0</td>\n      <td>Administração Pública</td>\n    </tr>\n    <tr>\n      <th>4</th>\n      <td>36348502</td>\n      <td>Lei nº 14.447 de 09/09/2022</td>\n      <td>LEI-14447-2022-09-09</td>\n      <td>Altera os limites da Floresta Nacional de Bras...</td>\n      <td>2022</td>\n      <td>33809634.0</td>\n      <td>Meio Ambiente</td>\n    </tr>\n  </tbody>\n</table>\n</div>"
     },
     "execution_count": 7,
     "metadata": {},
     "output_type": "execute_result"
    }
   ],
   "source": [
    "normas = normas_original.merge(normas_classificadas_original.filter([\"COD_PROCESSO_DOCUMENTO\", \"DES_CLASSE_RAIZ\"]),\n",
    "                               left_on=\"COD_DOCUMENTO\", right_on=\"COD_PROCESSO_DOCUMENTO\", how=\"left\")\n",
    "normas = normas.merge(classes_raiz, left_on=\"DES_CLASSE_RAIZ\", right_on=\"DES_CLASSE\", how=\"left\")\n",
    "normas.drop(columns=[\"COD_PROCESSO_DOCUMENTO\", \"DES_CLASSE_RAIZ\"], inplace=True)\n",
    "normas.head()"
   ]
  },
  {
   "cell_type": "code",
   "execution_count": 8,
   "metadata": {
    "collapsed": false,
    "pycharm": {
     "name": "#%%\n"
    }
   },
   "outputs": [
    {
     "data": {
      "text/plain": "27743"
     },
     "execution_count": 8,
     "metadata": {},
     "output_type": "execute_result"
    }
   ],
   "source": [
    "normas.shape[0]"
   ]
  },
  {
   "cell_type": "markdown",
   "metadata": {
    "collapsed": false,
    "pycharm": {
     "name": "#%% md\n"
    }
   },
   "source": [
    "Limpa os registros duplicados de normas que possuem mais de uma classe folha, mas que tenham mesma classe raiz e exibe as leis que possuem mais de uma classe folha, mas que tenham classes raiz diferentes."
   ]
  },
  {
   "cell_type": "code",
   "execution_count": 9,
   "metadata": {
    "collapsed": false,
    "pycharm": {
     "name": "#%%\n"
    }
   },
   "outputs": [
    {
     "data": {
      "text/plain": "       COD_DOCUMENTO  COD_CLASSE                                  DES_CLASSE\n3           36348502  33685789.0                       Administração Pública\n4           36348502  33809634.0                               Meio Ambiente\n5           36348502  33769167.0                  Economia e Desenvolvimento\n18          36062349  33808912.0                             Política Social\n19          36062349  33769167.0                  Economia e Desenvolvimento\n...              ...         ...                                         ...\n26904       36032872  33808912.0                             Política Social\n26905       35556312  33685789.0                       Administração Pública\n26906       35556312  33808912.0                             Política Social\n26910       35396946  33809514.0  Soberania, Defesa Nacional e Ordem Pública\n26911       35396946  33769167.0                  Economia e Desenvolvimento\n\n[630 rows x 3 columns]",
      "text/html": "<div>\n<style scoped>\n    .dataframe tbody tr th:only-of-type {\n        vertical-align: middle;\n    }\n\n    .dataframe tbody tr th {\n        vertical-align: top;\n    }\n\n    .dataframe thead th {\n        text-align: right;\n    }\n</style>\n<table border=\"1\" class=\"dataframe\">\n  <thead>\n    <tr style=\"text-align: right;\">\n      <th></th>\n      <th>COD_DOCUMENTO</th>\n      <th>COD_CLASSE</th>\n      <th>DES_CLASSE</th>\n    </tr>\n  </thead>\n  <tbody>\n    <tr>\n      <th>3</th>\n      <td>36348502</td>\n      <td>33685789.0</td>\n      <td>Administração Pública</td>\n    </tr>\n    <tr>\n      <th>4</th>\n      <td>36348502</td>\n      <td>33809634.0</td>\n      <td>Meio Ambiente</td>\n    </tr>\n    <tr>\n      <th>5</th>\n      <td>36348502</td>\n      <td>33769167.0</td>\n      <td>Economia e Desenvolvimento</td>\n    </tr>\n    <tr>\n      <th>18</th>\n      <td>36062349</td>\n      <td>33808912.0</td>\n      <td>Política Social</td>\n    </tr>\n    <tr>\n      <th>19</th>\n      <td>36062349</td>\n      <td>33769167.0</td>\n      <td>Economia e Desenvolvimento</td>\n    </tr>\n    <tr>\n      <th>...</th>\n      <td>...</td>\n      <td>...</td>\n      <td>...</td>\n    </tr>\n    <tr>\n      <th>26904</th>\n      <td>36032872</td>\n      <td>33808912.0</td>\n      <td>Política Social</td>\n    </tr>\n    <tr>\n      <th>26905</th>\n      <td>35556312</td>\n      <td>33685789.0</td>\n      <td>Administração Pública</td>\n    </tr>\n    <tr>\n      <th>26906</th>\n      <td>35556312</td>\n      <td>33808912.0</td>\n      <td>Política Social</td>\n    </tr>\n    <tr>\n      <th>26910</th>\n      <td>35396946</td>\n      <td>33809514.0</td>\n      <td>Soberania, Defesa Nacional e Ordem Pública</td>\n    </tr>\n    <tr>\n      <th>26911</th>\n      <td>35396946</td>\n      <td>33769167.0</td>\n      <td>Economia e Desenvolvimento</td>\n    </tr>\n  </tbody>\n</table>\n<p>630 rows × 3 columns</p>\n</div>"
     },
     "execution_count": 9,
     "metadata": {},
     "output_type": "execute_result"
    }
   ],
   "source": [
    "normas.drop_duplicates(inplace=True)\n",
    "normas.reset_index(drop=True, inplace=True)\n",
    "temp = normas[[\"COD_DOCUMENTO\", \"COD_CLASSE\", \"DES_CLASSE\"]].groupby(\"COD_DOCUMENTO\")\n",
    "temp.filter(lambda x: len(x) > 1)"
   ]
  },
  {
   "cell_type": "markdown",
   "metadata": {
    "collapsed": false,
    "pycharm": {
     "name": "#%% md\n"
    }
   },
   "source": [
    "Tamanho da base tratada de normas."
   ]
  },
  {
   "cell_type": "code",
   "execution_count": 10,
   "metadata": {
    "collapsed": false,
    "pycharm": {
     "name": "#%%\n"
    }
   },
   "outputs": [
    {
     "data": {
      "text/plain": "27294"
     },
     "execution_count": 10,
     "metadata": {},
     "output_type": "execute_result"
    }
   ],
   "source": [
    "normas.shape[0]"
   ]
  },
  {
   "cell_type": "markdown",
   "metadata": {
    "collapsed": false,
    "pycharm": {
     "name": "#%% md\n"
    }
   },
   "source": [
    "Total de classificações feitas em normas."
   ]
  },
  {
   "cell_type": "code",
   "execution_count": 11,
   "metadata": {
    "collapsed": false,
    "pycharm": {
     "name": "#%%\n"
    }
   },
   "outputs": [
    {
     "data": {
      "text/plain": "17438"
     },
     "execution_count": 11,
     "metadata": {},
     "output_type": "execute_result"
    }
   ],
   "source": [
    "normas_classificadas = normas.query(\"not COD_CLASSE.isnull()\")\n",
    "normas_classificadas.reset_index(drop=True, inplace=True)\n",
    "normas_classificadas.shape[0]"
   ]
  },
  {
   "cell_type": "markdown",
   "metadata": {
    "collapsed": false,
    "pycharm": {
     "name": "#%% md\n"
    }
   },
   "source": [
    "Número distinto de normas classificadas."
   ]
  },
  {
   "cell_type": "code",
   "execution_count": 12,
   "metadata": {
    "collapsed": false,
    "pycharm": {
     "name": "#%%\n"
    }
   },
   "outputs": [
    {
     "data": {
      "text/plain": "17103"
     },
     "execution_count": 12,
     "metadata": {},
     "output_type": "execute_result"
    }
   ],
   "source": [
    "len(normas_classificadas[\"COD_DOCUMENTO\"].unique())"
   ]
  },
  {
   "cell_type": "markdown",
   "metadata": {
    "collapsed": false,
    "pycharm": {
     "name": "#%% md\n"
    }
   },
   "source": [
    "Quantidade de normas a classificar."
   ]
  },
  {
   "cell_type": "code",
   "execution_count": 13,
   "metadata": {
    "collapsed": false,
    "pycharm": {
     "name": "#%%\n"
    }
   },
   "outputs": [
    {
     "data": {
      "text/plain": "9856"
     },
     "execution_count": 13,
     "metadata": {},
     "output_type": "execute_result"
    }
   ],
   "source": [
    "def criar_dataset_normas_nao_classificadas():\n",
    "    normas_nao_classificadas = normas.query(\"COD_CLASSE.isnull()\")\n",
    "    normas_nao_classificadas.reset_index(drop=True, inplace=True)\n",
    "    normas_nao_classificadas = normas_nao_classificadas.drop(columns=[\"COD_CLASSE\", \"DES_CLASSE\"])\n",
    "\n",
    "    return normas_nao_classificadas\n",
    "\n",
    "normas_nao_classificadas = criar_dataset_normas_nao_classificadas()\n",
    "normas_nao_classificadas.shape[0]"
   ]
  },
  {
   "cell_type": "markdown",
   "metadata": {
    "collapsed": false,
    "pycharm": {
     "name": "#%% md\n"
    }
   },
   "source": [
    "Verificação da distribuição das classes (em %)."
   ]
  },
  {
   "cell_type": "code",
   "execution_count": 14,
   "metadata": {
    "collapsed": false,
    "pycharm": {
     "name": "#%%\n"
    }
   },
   "outputs": [
    {
     "data": {
      "text/plain": "                                            Frequência  Percentual (%)\nOrçamento Público                                11192       64.181672\nInfraestrutura                                    2508       14.382383\nPolítica Social                                    877        5.029246\nAdministração Pública                              783        4.490194\nHonorífico                                         671        3.847918\nEconomia e Desenvolvimento                         644        3.693084\nJurídico                                           381        2.184884\nSoberania, Defesa Nacional e Ordem Pública         166        0.951944\nOrganização do Estado                              130        0.745498\nMeio Ambiente                                       86        0.493176",
      "text/html": "<div>\n<style scoped>\n    .dataframe tbody tr th:only-of-type {\n        vertical-align: middle;\n    }\n\n    .dataframe tbody tr th {\n        vertical-align: top;\n    }\n\n    .dataframe thead th {\n        text-align: right;\n    }\n</style>\n<table border=\"1\" class=\"dataframe\">\n  <thead>\n    <tr style=\"text-align: right;\">\n      <th></th>\n      <th>Frequência</th>\n      <th>Percentual (%)</th>\n    </tr>\n  </thead>\n  <tbody>\n    <tr>\n      <th>Orçamento Público</th>\n      <td>11192</td>\n      <td>64.181672</td>\n    </tr>\n    <tr>\n      <th>Infraestrutura</th>\n      <td>2508</td>\n      <td>14.382383</td>\n    </tr>\n    <tr>\n      <th>Política Social</th>\n      <td>877</td>\n      <td>5.029246</td>\n    </tr>\n    <tr>\n      <th>Administração Pública</th>\n      <td>783</td>\n      <td>4.490194</td>\n    </tr>\n    <tr>\n      <th>Honorífico</th>\n      <td>671</td>\n      <td>3.847918</td>\n    </tr>\n    <tr>\n      <th>Economia e Desenvolvimento</th>\n      <td>644</td>\n      <td>3.693084</td>\n    </tr>\n    <tr>\n      <th>Jurídico</th>\n      <td>381</td>\n      <td>2.184884</td>\n    </tr>\n    <tr>\n      <th>Soberania, Defesa Nacional e Ordem Pública</th>\n      <td>166</td>\n      <td>0.951944</td>\n    </tr>\n    <tr>\n      <th>Organização do Estado</th>\n      <td>130</td>\n      <td>0.745498</td>\n    </tr>\n    <tr>\n      <th>Meio Ambiente</th>\n      <td>86</td>\n      <td>0.493176</td>\n    </tr>\n  </tbody>\n</table>\n</div>"
     },
     "execution_count": 14,
     "metadata": {},
     "output_type": "execute_result"
    }
   ],
   "source": [
    "frequencia = normas_classificadas[\"DES_CLASSE\"].value_counts()\n",
    "percentual = normas_classificadas[\"DES_CLASSE\"].value_counts(normalize=True) * 100\n",
    "distribuicao_classes = pd.DataFrame({'Frequência': frequencia, 'Percentual (%)': percentual})\n",
    "distribuicao_classes.sort_values(by=\"Frequência\", ascending=False)"
   ]
  },
  {
   "cell_type": "markdown",
   "metadata": {
    "collapsed": false,
    "pycharm": {
     "name": "#%% md\n"
    }
   },
   "source": [
    "## 2 - Estruturação do texto\n",
    "***"
   ]
  },
  {
   "cell_type": "markdown",
   "metadata": {
    "collapsed": false,
    "pycharm": {
     "name": "#%% md\n"
    }
   },
   "source": [
    "Definição das funções para a tarefa de criação das matrizes de documentos (texto da ementa)"
   ]
  },
  {
   "cell_type": "code",
   "execution_count": 15,
   "metadata": {
    "collapsed": false,
    "pycharm": {
     "name": "#%%\n"
    }
   },
   "outputs": [],
   "source": [
    "# Divide um texto em tokens utilizando a biblioteca de NLP nltk\n",
    "def tokenizador(texto):\n",
    "    texto = str(texto).lower()\n",
    "    lista_alfanumerica = []\n",
    "\n",
    "    for token_valido in nltk.word_tokenize(texto, language=\"portuguese\"):\n",
    "        # Se for caracter de pontuação ou for stopword\n",
    "        if token_valido in string.punctuation:\n",
    "            continue\n",
    "\n",
    "        lista_alfanumerica.append(token_valido)\n",
    "\n",
    "    return lista_alfanumerica"
   ]
  },
  {
   "cell_type": "code",
   "execution_count": 16,
   "metadata": {
    "collapsed": false,
    "pycharm": {
     "name": "#%%\n"
    }
   },
   "outputs": [],
   "source": [
    "# Combinação de vetores por soma\n",
    "def combinacao_vetores(palavras_numeros, skipgram):\n",
    "    vetor_resultante = np.zeros(300)\n",
    "\n",
    "    for pn in palavras_numeros:\n",
    "        try:\n",
    "            vetor_resultante += skipgram.get_vector(pn)\n",
    "        except KeyError:\n",
    "            if pn.isnumeric():\n",
    "                pn = \"0\" * len(pn)  # \"0, 00, 000, 0000, etc. dependendo do tamanho de caracteres do número\n",
    "                vetor_resultante += skipgram.get_vector(pn)\n",
    "            else:\n",
    "                vetor_resultante += skipgram.get_vector(\"unknown\")\n",
    "\n",
    "    return vetor_resultante"
   ]
  },
  {
   "cell_type": "code",
   "execution_count": 17,
   "metadata": {
    "collapsed": false,
    "pycharm": {
     "name": "#%%\n"
    }
   },
   "outputs": [],
   "source": [
    "def matriz_word_embeddings(textos, skipgram):\n",
    "    x = len(textos)\n",
    "    y = 300  # número de dimensões do skipgram (skip300)\n",
    "    matriz = np.zeros((x, y))\n",
    "\n",
    "    for i in range(x):\n",
    "        palavras_numeros = tokenizador(textos.iloc[i])\n",
    "        matriz[i] = combinacao_vetores(palavras_numeros, skipgram)\n",
    "\n",
    "    return matriz"
   ]
  },
  {
   "cell_type": "markdown",
   "metadata": {
    "collapsed": false,
    "pycharm": {
     "name": "#%% md\n"
    }
   },
   "source": [
    "Carrega o word embeddings (Word2Vec - Skipgram) pré-treinado pelo NILC (Núcleo Interinstitucional de Linguística Computacional)."
   ]
  },
  {
   "cell_type": "code",
   "execution_count": 18,
   "metadata": {
    "collapsed": false,
    "pycharm": {
     "name": "#%%\n"
    }
   },
   "outputs": [],
   "source": [
    "# Carrega o word embeddings skip-gram\n",
    "skipgram = KeyedVectors.load_word2vec_format(\"dados/skip_s300.txt\")"
   ]
  },
  {
   "cell_type": "markdown",
   "metadata": {
    "collapsed": false,
    "pycharm": {
     "name": "#%% md\n"
    }
   },
   "source": [
    "Criação da matriz de documentos do corpus (conjunto de ementas), aqui representada por matrizes de word embeddings (cada ementa é vetorizada assim como o word embeddings pré-treinado). Também é feita a separação das classes (labels)."
   ]
  },
  {
   "cell_type": "code",
   "execution_count": 19,
   "metadata": {
    "collapsed": false,
    "pycharm": {
     "name": "#%%\n"
    }
   },
   "outputs": [],
   "source": [
    "X = matriz_word_embeddings(normas_classificadas[\"TXT_EMENTA\"], skipgram)\n",
    "y = normas_classificadas[\"DES_CLASSE\"]\n",
    "\n",
    "X_nao_classificadas = matriz_word_embeddings(normas_nao_classificadas[\"TXT_EMENTA\"], skipgram)"
   ]
  },
  {
   "cell_type": "markdown",
   "metadata": {
    "collapsed": false,
    "pycharm": {
     "name": "#%% md\n"
    }
   },
   "source": [
    "## 3 - Treinamento e predição do modelo de Machine Learning para classificação"
   ]
  },
  {
   "cell_type": "markdown",
   "source": [
    "### 3.1 - Comparação de modelos - Método _hold-out_"
   ],
   "metadata": {
    "collapsed": false,
    "pycharm": {
     "name": "#%% md\n"
    }
   }
  },
  {
   "cell_type": "markdown",
   "source": [
    "Separação inicial dos dados, utilizando-se o método _hold-out_ para a avaliação inicial de algoritmos de ML. A proporção utilizada é de 70% para treino e 30% para testes."
   ],
   "metadata": {
    "collapsed": false,
    "pycharm": {
     "name": "#%% md\n"
    }
   }
  },
  {
   "cell_type": "code",
   "execution_count": 20,
   "outputs": [],
   "source": [
    "X_treino, X_teste, y_treino, y_teste = train_test_split(X, y, test_size=0.3, stratify=y, random_state=42)"
   ],
   "metadata": {
    "collapsed": false,
    "pycharm": {
     "name": "#%%\n"
    }
   }
  },
  {
   "cell_type": "markdown",
   "source": [
    "Modelos de classificação a serem comparados."
   ],
   "metadata": {
    "collapsed": false,
    "pycharm": {
     "name": "#%% md\n"
    }
   }
  },
  {
   "cell_type": "code",
   "execution_count": 21,
   "outputs": [],
   "source": [
    "modelos = {\"Dummy\": DummyClassifier(random_state=42),\n",
    "           \"BernoulliNB\": BernoulliNB(binarize=np.median(X_treino)),\n",
    "           \"KNN 1\": KNeighborsClassifier(n_neighbors=1),\n",
    "           \"KNN 3\": KNeighborsClassifier(n_neighbors=3),\n",
    "           \"KNN 5\": KNeighborsClassifier(),\n",
    "           \"KNN 11\": KNeighborsClassifier(n_neighbors=11),\n",
    "           \"DecisionTree\": DecisionTreeClassifier(class_weight=\"balanced\", random_state=42),\n",
    "           \"SVC\": SVC(class_weight=\"balanced\", random_state=42),\n",
    "           \"RandomForest\": RandomForestClassifier(class_weight=\"balanced\", random_state=42),\n",
    "           \"LogisticRegression\": LogisticRegression(max_iter=6000, class_weight=\"balanced\", multi_class=\"ovr\", random_state=42)}"
   ],
   "metadata": {
    "collapsed": false,
    "pycharm": {
     "name": "#%%\n"
    }
   }
  },
  {
   "cell_type": "markdown",
   "source": [
    "Definindo a função para execução dos modelos, utilizando-se o método _hold-out_."
   ],
   "metadata": {
    "collapsed": false,
    "pycharm": {
     "name": "#%% md\n"
    }
   }
  },
  {
   "cell_type": "code",
   "execution_count": 22,
   "outputs": [],
   "source": [
    "def executar_modelo_holdout(modelo, X_treino, y_treino, X_teste, y_teste):\n",
    "    modelo.fit(X_treino, y_treino)\n",
    "    y_previsto = modelo.predict(X_teste)\n",
    "    return accuracy_score(y_teste, y_previsto)"
   ],
   "metadata": {
    "collapsed": false,
    "pycharm": {
     "name": "#%%\n"
    }
   }
  },
  {
   "cell_type": "markdown",
   "source": [
    "Executando os modelos de Machine Learning para avaliação."
   ],
   "metadata": {
    "collapsed": false,
    "pycharm": {
     "name": "#%% md\n"
    }
   }
  },
  {
   "cell_type": "code",
   "execution_count": 23,
   "outputs": [
    {
     "name": "stdout",
     "output_type": "stream",
     "text": [
      "Dummy: 64.18\n",
      "BernoulliNB: 81.19\n",
      "KNN 1: 88.15\n",
      "KNN 3: 89.05\n",
      "KNN 5: 89.18\n",
      "KNN 11: 89.01\n",
      "DecisionTree: 82.32\n",
      "SVC: 89.07\n",
      "RandomForest: 88.11\n",
      "LogisticRegression: 90.81\n"
     ]
    }
   ],
   "source": [
    "for nome, modelo in modelos.items():\n",
    "    score = executar_modelo_holdout(modelo, X_treino, y_treino, X_teste, y_teste)\n",
    "    print(f\"{nome}: {score * 100:0.2f}\")"
   ],
   "metadata": {
    "collapsed": false,
    "pycharm": {
     "name": "#%%\n"
    }
   }
  },
  {
   "cell_type": "markdown",
   "metadata": {
    "collapsed": false,
    "pycharm": {
     "name": "#%% md\n"
    }
   },
   "source": [
    "Treinamento e predição do melhor classificador encontrado (LogisticRegression) com o método _hold-out_."
   ]
  },
  {
   "cell_type": "code",
   "execution_count": 24,
   "metadata": {
    "collapsed": false,
    "pycharm": {
     "name": "#%%\n"
    }
   },
   "outputs": [],
   "source": [
    "lr = LogisticRegression(max_iter=6000, class_weight=\"balanced\", random_state=42, multi_class=\"ovr\")\n",
    "lr.fit(X_treino, y_treino)\n",
    "y_previsto = lr.predict(X_teste)"
   ]
  },
  {
   "cell_type": "markdown",
   "metadata": {
    "collapsed": false,
    "pycharm": {
     "name": "#%% md\n"
    }
   },
   "source": [
    "#### 3.1.1 - Avaliando o modelo de maior acurácia"
   ]
  },
  {
   "cell_type": "markdown",
   "metadata": {
    "collapsed": false,
    "pycharm": {
     "name": "#%% md\n"
    }
   },
   "source": [
    "Exibe os relatórios de desempenho do modelo de maior acurácia (LogisticRegression)."
   ]
  },
  {
   "cell_type": "code",
   "execution_count": 25,
   "outputs": [
    {
     "name": "stdout",
     "output_type": "stream",
     "text": [
      "Acurácia LogisticRegression: 0.91\n",
      "                                            precision    recall  f1-score   support\n",
      "\n",
      "                     Administração Pública       0.63      0.63      0.63       235\n",
      "                Economia e Desenvolvimento       0.54      0.61      0.57       193\n",
      "                                Honorífico       0.95      0.88      0.91       201\n",
      "                            Infraestrutura       0.97      0.95      0.96       753\n",
      "                                  Jurídico       0.54      0.52      0.53       114\n",
      "                             Meio Ambiente       0.43      0.35      0.38        26\n",
      "                     Organização do Estado       0.26      0.33      0.29        39\n",
      "                         Orçamento Público       1.00      0.99      0.99      3358\n",
      "                           Política Social       0.60      0.64      0.62       263\n",
      "Soberania, Defesa Nacional e Ordem Pública       0.32      0.30      0.31        50\n",
      "\n",
      "                                  accuracy                           0.91      5232\n",
      "                                 macro avg       0.62      0.62      0.62      5232\n",
      "                              weighted avg       0.91      0.91      0.91      5232\n",
      "\n"
     ]
    }
   ],
   "source": [
    "acuracia = accuracy_score(y_teste, y_previsto)\n",
    "print(\"Acurácia LogisticRegression:\", round(acuracia, 2))\n",
    "\n",
    "cr = classification_report(y_teste, y_previsto)\n",
    "print(cr)"
   ],
   "metadata": {
    "collapsed": false,
    "pycharm": {
     "name": "#%%\n"
    }
   }
  },
  {
   "cell_type": "markdown",
   "source": [
    "#### 3.1.2 - Criando _baseline_ do dataset com redução das classes majoritárias"
   ],
   "metadata": {
    "collapsed": false,
    "pycharm": {
     "name": "#%% md\n"
    }
   }
  },
  {
   "cell_type": "markdown",
   "source": [
    "Para tentar diminuir o desbalanceamento dos dados, o número de amostras das duas classes majoritárias (Orçamento Público e Infraestrutura) será diminuído para 1000 cada."
   ],
   "metadata": {
    "collapsed": false,
    "pycharm": {
     "name": "#%% md\n"
    }
   }
  },
  {
   "cell_type": "code",
   "execution_count": 26,
   "outputs": [
    {
     "data": {
      "text/plain": "                                            Frequência  Percentual (%)\nInfraestrutura                                    1000       17.427675\nOrçamento Público                                 1000       17.427675\nPolítica Social                                    877       15.284071\nAdministração Pública                              783       13.645870\nHonorífico                                         671       11.693970\nEconomia e Desenvolvimento                         644       11.223423\nJurídico                                           381        6.639944\nSoberania, Defesa Nacional e Ordem Pública         166        2.892994\nOrganização do Estado                              130        2.265598\nMeio Ambiente                                       86        1.498780",
      "text/html": "<div>\n<style scoped>\n    .dataframe tbody tr th:only-of-type {\n        vertical-align: middle;\n    }\n\n    .dataframe tbody tr th {\n        vertical-align: top;\n    }\n\n    .dataframe thead th {\n        text-align: right;\n    }\n</style>\n<table border=\"1\" class=\"dataframe\">\n  <thead>\n    <tr style=\"text-align: right;\">\n      <th></th>\n      <th>Frequência</th>\n      <th>Percentual (%)</th>\n    </tr>\n  </thead>\n  <tbody>\n    <tr>\n      <th>Infraestrutura</th>\n      <td>1000</td>\n      <td>17.427675</td>\n    </tr>\n    <tr>\n      <th>Orçamento Público</th>\n      <td>1000</td>\n      <td>17.427675</td>\n    </tr>\n    <tr>\n      <th>Política Social</th>\n      <td>877</td>\n      <td>15.284071</td>\n    </tr>\n    <tr>\n      <th>Administração Pública</th>\n      <td>783</td>\n      <td>13.645870</td>\n    </tr>\n    <tr>\n      <th>Honorífico</th>\n      <td>671</td>\n      <td>11.693970</td>\n    </tr>\n    <tr>\n      <th>Economia e Desenvolvimento</th>\n      <td>644</td>\n      <td>11.223423</td>\n    </tr>\n    <tr>\n      <th>Jurídico</th>\n      <td>381</td>\n      <td>6.639944</td>\n    </tr>\n    <tr>\n      <th>Soberania, Defesa Nacional e Ordem Pública</th>\n      <td>166</td>\n      <td>2.892994</td>\n    </tr>\n    <tr>\n      <th>Organização do Estado</th>\n      <td>130</td>\n      <td>2.265598</td>\n    </tr>\n    <tr>\n      <th>Meio Ambiente</th>\n      <td>86</td>\n      <td>1.498780</td>\n    </tr>\n  </tbody>\n</table>\n</div>"
     },
     "execution_count": 26,
     "metadata": {},
     "output_type": "execute_result"
    }
   ],
   "source": [
    "rus = RandomUnderSampler(sampling_strategy={\"Orçamento Público\": 1000, \"Infraestrutura\": 1000}, random_state=42)\n",
    "X_res, y_res = rus.fit_resample(X, y)\n",
    "\n",
    "frequencia_res = y_res.value_counts()\n",
    "percentual_res = y_res.value_counts(normalize=True) * 100\n",
    "distribuicao_classes_res = pd.DataFrame({'Frequência': frequencia_res, 'Percentual (%)': percentual_res})\n",
    "distribuicao_classes_res.sort_values(by=\"Frequência\", ascending=False)"
   ],
   "metadata": {
    "collapsed": false,
    "pycharm": {
     "name": "#%%\n"
    }
   }
  },
  {
   "cell_type": "markdown",
   "source": [
    "Dividindo o dataset na mesma proporção treino/teste anterior (70%/30%)."
   ],
   "metadata": {
    "collapsed": false,
    "pycharm": {
     "name": "#%% md\n"
    }
   }
  },
  {
   "cell_type": "code",
   "execution_count": 27,
   "outputs": [],
   "source": [
    "X_treino_res, X_teste_res, y_treino_res, y_teste_res = train_test_split(X_res, y_res, test_size=0.3, stratify=y_res, random_state=42)"
   ],
   "metadata": {
    "collapsed": false,
    "pycharm": {
     "name": "#%%\n"
    }
   }
  },
  {
   "cell_type": "markdown",
   "source": [
    "Treinamento, predição e avaliação do novo modelo (LogisticRegression) com dataset reduzido."
   ],
   "metadata": {
    "collapsed": false,
    "pycharm": {
     "name": "#%% md\n"
    }
   }
  },
  {
   "cell_type": "code",
   "execution_count": 28,
   "outputs": [],
   "source": [
    "lr_res = LogisticRegression(max_iter=6000, class_weight=\"balanced\", random_state=42)\n",
    "lr_res.fit(X_treino_res, y_treino_res)\n",
    "y_previsto_res = lr_res.predict(X_teste_res)"
   ],
   "metadata": {
    "collapsed": false,
    "pycharm": {
     "name": "#%%\n"
    }
   }
  },
  {
   "cell_type": "code",
   "execution_count": 29,
   "outputs": [
    {
     "name": "stdout",
     "output_type": "stream",
     "text": [
      "Acurácia LogisticRegression: 0.71\n",
      "                                            precision    recall  f1-score   support\n",
      "\n",
      "                     Administração Pública       0.59      0.53      0.56       235\n",
      "                Economia e Desenvolvimento       0.57      0.53      0.55       193\n",
      "                                Honorífico       0.89      0.93      0.91       202\n",
      "                            Infraestrutura       0.94      0.93      0.93       300\n",
      "                                  Jurídico       0.48      0.56      0.52       114\n",
      "                             Meio Ambiente       0.36      0.35      0.35        26\n",
      "                     Organização do Estado       0.24      0.49      0.32        39\n",
      "                         Orçamento Público       0.98      0.97      0.98       300\n",
      "                           Política Social       0.57      0.52      0.55       263\n",
      "Soberania, Defesa Nacional e Ordem Pública       0.28      0.30      0.29        50\n",
      "\n",
      "                                  accuracy                           0.71      1722\n",
      "                                 macro avg       0.59      0.61      0.60      1722\n",
      "                              weighted avg       0.72      0.71      0.72      1722\n",
      "\n"
     ]
    }
   ],
   "source": [
    "acuracia_res = accuracy_score(y_teste_res, y_previsto_res)\n",
    "print(\"Acurácia LogisticRegression:\", round(acuracia_res, 2))\n",
    "\n",
    "cr_res = classification_report(y_teste_res, y_previsto_res)\n",
    "print(cr_res)"
   ],
   "metadata": {
    "collapsed": false,
    "pycharm": {
     "name": "#%%\n"
    }
   }
  },
  {
   "cell_type": "markdown",
   "source": [
    "### 3.2 - Comparação de modelos - _10 Fold Cross-Validation_"
   ],
   "metadata": {
    "collapsed": false,
    "pycharm": {
     "name": "#%% md\n"
    }
   }
  },
  {
   "cell_type": "markdown",
   "source": [
    "Definindo a função para comparação dos modelos, utilizando-se o método _10 Fold cross-validation_."
   ],
   "metadata": {
    "collapsed": false,
    "pycharm": {
     "name": "#%% md\n"
    }
   }
  },
  {
   "cell_type": "code",
   "execution_count": 30,
   "outputs": [],
   "source": [
    "def executar_modelo_cross_validation(modelo, X, y, splits=10):\n",
    "    cv = StratifiedKFold(n_splits=splits, shuffle=True, random_state=42)  # shuffle gera uma forma aleatória dos dados\n",
    "    scores = cross_val_score(modelo, X, y, cv=cv)\n",
    "    return scores, modelo"
   ],
   "metadata": {
    "collapsed": false,
    "pycharm": {
     "name": "#%%\n"
    }
   }
  },
  {
   "cell_type": "code",
   "execution_count": 31,
   "outputs": [],
   "source": [
    "def imprimir_scores(nome, scores):\n",
    "    media = scores.mean()\n",
    "    desvio_padrao = scores.std()\n",
    "    print(f\"{nome}: {media * 100:0.2f} [{(media - 2 * desvio_padrao) * 100:0.2f}, {(media + 2 * desvio_padrao) * 100:0.2f}]\")"
   ],
   "metadata": {
    "collapsed": false,
    "pycharm": {
     "name": "#%%\n"
    }
   }
  },
  {
   "cell_type": "markdown",
   "source": [
    "Executando os modelos de Machine Learning para avaliação."
   ],
   "metadata": {
    "collapsed": false,
    "pycharm": {
     "name": "#%% md\n"
    }
   }
  },
  {
   "cell_type": "code",
   "execution_count": 32,
   "outputs": [
    {
     "name": "stdout",
     "output_type": "stream",
     "text": [
      "Dummy: 64.18 [64.13, 64.23]\n",
      "BernoulliNB: 80.45 [78.71, 82.19]\n",
      "KNN 1: 88.75 [87.60, 89.91]\n",
      "KNN 3: 89.40 [88.37, 90.43]\n",
      "KNN 5: 89.70 [88.49, 90.91]\n",
      "KNN 11: 89.84 [88.77, 90.92]\n",
      "DecisionTree: 82.81 [81.39, 84.24]\n",
      "SVC: 89.59 [88.29, 90.88]\n",
      "RandomForest: 88.65 [88.11, 89.18]\n",
      "LogisticRegression: 90.84 [89.93, 91.75]\n"
     ]
    }
   ],
   "source": [
    "for nome, modelo in modelos.items():\n",
    "    scores, _ = executar_modelo_cross_validation(modelo, X, y)\n",
    "    imprimir_scores(nome, scores)"
   ],
   "metadata": {
    "collapsed": false,
    "pycharm": {
     "name": "#%%\n"
    }
   }
  },
  {
   "cell_type": "markdown",
   "source": [
    "Treinamento, predição e avaliação com o melhor classificador encontrado (LogisticRegression) utilizando-se o método de _cross-validation_."
   ],
   "metadata": {
    "collapsed": false,
    "pycharm": {
     "name": "#%% md\n"
    }
   }
  },
  {
   "cell_type": "code",
   "execution_count": 33,
   "outputs": [
    {
     "name": "stdout",
     "output_type": "stream",
     "text": [
      "LogisticRegression: 90.84 [89.93, 91.75]\n"
     ]
    }
   ],
   "source": [
    "lr = LogisticRegression(max_iter=6000, class_weight=\"balanced\", random_state=42, multi_class=\"ovr\")\n",
    "\n",
    "scores, lr = executar_modelo_cross_validation(lr, X, y)\n",
    "imprimir_scores(\"LogisticRegression\", scores)\n",
    "\n",
    "lr.fit(X, y)\n",
    "y_previsto = lr.predict(X)"
   ],
   "metadata": {
    "collapsed": false,
    "pycharm": {
     "name": "#%%\n"
    }
   }
  },
  {
   "cell_type": "code",
   "execution_count": 34,
   "outputs": [
    {
     "name": "stdout",
     "output_type": "stream",
     "text": [
      "                                            precision    recall  f1-score   support\n",
      "\n",
      "                     Administração Pública       0.76      0.73      0.74       783\n",
      "                Economia e Desenvolvimento       0.62      0.74      0.67       644\n",
      "                                Honorífico       0.97      0.98      0.97       671\n",
      "                            Infraestrutura       0.99      0.96      0.97      2508\n",
      "                                  Jurídico       0.71      0.77      0.74       381\n",
      "                             Meio Ambiente       0.77      0.91      0.83        86\n",
      "                     Organização do Estado       0.56      0.62      0.59       130\n",
      "                         Orçamento Público       1.00      0.99      1.00     11192\n",
      "                           Política Social       0.76      0.72      0.74       877\n",
      "Soberania, Defesa Nacional e Ordem Pública       0.64      0.74      0.69       166\n",
      "\n",
      "                                  accuracy                           0.94     17438\n",
      "                                 macro avg       0.78      0.82      0.79     17438\n",
      "                              weighted avg       0.94      0.94      0.94     17438\n",
      "\n"
     ]
    }
   ],
   "source": [
    "cr = classification_report(y, y_previsto)\n",
    "print(cr)"
   ],
   "metadata": {
    "collapsed": false,
    "pycharm": {
     "name": "#%%\n"
    }
   }
  },
  {
   "cell_type": "markdown",
   "source": [
    "## 4 - Predição do conjunto de dados não classificados"
   ],
   "metadata": {
    "collapsed": false,
    "pycharm": {
     "name": "#%% md\n"
    }
   }
  },
  {
   "cell_type": "markdown",
   "source": [
    "Considerando-se que o modelo baseado em Regressão Logística foi o melhor ajustado para o problema em todos os cenários testados, a predição do conjunto de dados não classificados será feita beseado nele. Além disso, para todas as estimativas de classes realizadas, foram incluídas as probabilidades utilizadas pelo algoritmo para realização da cada uma das previsões, permitindo que o especialista possa analisar e decidir se aceita ou não a previsão feita pelo modelo de _Machine Learning_."
   ],
   "metadata": {
    "collapsed": false,
    "pycharm": {
     "name": "#%% md\n"
    }
   }
  },
  {
   "cell_type": "code",
   "execution_count": 35,
   "outputs": [
    {
     "data": {
      "text/plain": "      COD_DOCUMENTO          DES_NOME_PREFERIDO  \\\n0            545971  Lei nº 4.129 de 27/08/1962   \n1            540989     Lei nº 72 de 18/07/1935   \n2            551655  Lei nº 9.779 de 19/01/1999   \n3            549729  Lei nº 7.853 de 24/10/1989   \n4            546721  Lei nº 4.867 de 30/11/1965   \n...             ...                         ...   \n9851         548182  Lei nº 6.306 de 15/12/1975   \n9852         542152    Lei nº 617 de 10/02/1949   \n9853         541919    Lei nº 502 de 11/09/1937   \n9854         547526  Lei nº 5.653 de 27/04/1971   \n9855         547820  Lei nº 5.944 de 29/11/1973   \n\n                                 DES_NOMES_ALTERNATIVOS  \\\n0                                   LEI-4129-1962-08-27   \n1                                     LEI-72-1935-07-18   \n2                                   LEI-9779-1999-01-19   \n3     LEI-7853-1989-10-24 , Lei da Pessoa com Defici...   \n4                                   LEI-4867-1965-11-30   \n...                                                 ...   \n9851                                LEI-6306-1975-12-15   \n9852                                 LEI-617-1949-02-10   \n9853                                 LEI-502-1937-09-11   \n9854                                LEI-5653-1971-04-27   \n9855                                LEI-5944-1973-11-29   \n\n                                             TXT_EMENTA   ANO  \\\n0     Autoriza o Poder Executivo a abrir, pelo Minis...  1962   \n1     Autoriza a abrir, pelo Ministerio da Viação, o...  1935   \n2     Altera a legislação do Imposto sobre a Renda, ...  1999   \n3     Dispõe sobre o apoio às pessoas portadoras de ...  1989   \n4     Concede a pensão especial de Cr$ 66.000 (sesse...  1965   \n...                                                 ...   ...   \n9851  Altera o § 2º do art. 26 do Decreto-lei nº 3.3...  1975   \n9852  Modifica os artigos 4º e 5º do Decreto-Lei n. ...  1949   \n9853  Revoga o parágrafo único do art. 33 do decreto...  1937   \n9854  Altera o art. 19 do Decreto-Lei nº 3.200, de 1...  1971   \n9855  Altera o § 1º, do artigo 5º, do Decreto-lei nº...  1973   \n\n                                 CLASSE_PROVAVEL  PROBABILIDADE  \n0                                Política Social       0.999995  \n1                              Orçamento Público       0.999990  \n2                     Economia e Desenvolvimento       0.999983  \n3                                Política Social       0.999979  \n4                                Política Social       0.999976  \n...                                          ...            ...  \n9851                       Administração Pública       0.175303  \n9852  Soberania, Defesa Nacional e Ordem Pública       0.173023  \n9853  Soberania, Defesa Nacional e Ordem Pública       0.170754  \n9854                       Organização do Estado       0.158356  \n9855                                    Jurídico       0.153787  \n\n[9856 rows x 7 columns]",
      "text/html": "<div>\n<style scoped>\n    .dataframe tbody tr th:only-of-type {\n        vertical-align: middle;\n    }\n\n    .dataframe tbody tr th {\n        vertical-align: top;\n    }\n\n    .dataframe thead th {\n        text-align: right;\n    }\n</style>\n<table border=\"1\" class=\"dataframe\">\n  <thead>\n    <tr style=\"text-align: right;\">\n      <th></th>\n      <th>COD_DOCUMENTO</th>\n      <th>DES_NOME_PREFERIDO</th>\n      <th>DES_NOMES_ALTERNATIVOS</th>\n      <th>TXT_EMENTA</th>\n      <th>ANO</th>\n      <th>CLASSE_PROVAVEL</th>\n      <th>PROBABILIDADE</th>\n    </tr>\n  </thead>\n  <tbody>\n    <tr>\n      <th>0</th>\n      <td>545971</td>\n      <td>Lei nº 4.129 de 27/08/1962</td>\n      <td>LEI-4129-1962-08-27</td>\n      <td>Autoriza o Poder Executivo a abrir, pelo Minis...</td>\n      <td>1962</td>\n      <td>Política Social</td>\n      <td>0.999995</td>\n    </tr>\n    <tr>\n      <th>1</th>\n      <td>540989</td>\n      <td>Lei nº 72 de 18/07/1935</td>\n      <td>LEI-72-1935-07-18</td>\n      <td>Autoriza a abrir, pelo Ministerio da Viação, o...</td>\n      <td>1935</td>\n      <td>Orçamento Público</td>\n      <td>0.999990</td>\n    </tr>\n    <tr>\n      <th>2</th>\n      <td>551655</td>\n      <td>Lei nº 9.779 de 19/01/1999</td>\n      <td>LEI-9779-1999-01-19</td>\n      <td>Altera a legislação do Imposto sobre a Renda, ...</td>\n      <td>1999</td>\n      <td>Economia e Desenvolvimento</td>\n      <td>0.999983</td>\n    </tr>\n    <tr>\n      <th>3</th>\n      <td>549729</td>\n      <td>Lei nº 7.853 de 24/10/1989</td>\n      <td>LEI-7853-1989-10-24 , Lei da Pessoa com Defici...</td>\n      <td>Dispõe sobre o apoio às pessoas portadoras de ...</td>\n      <td>1989</td>\n      <td>Política Social</td>\n      <td>0.999979</td>\n    </tr>\n    <tr>\n      <th>4</th>\n      <td>546721</td>\n      <td>Lei nº 4.867 de 30/11/1965</td>\n      <td>LEI-4867-1965-11-30</td>\n      <td>Concede a pensão especial de Cr$ 66.000 (sesse...</td>\n      <td>1965</td>\n      <td>Política Social</td>\n      <td>0.999976</td>\n    </tr>\n    <tr>\n      <th>...</th>\n      <td>...</td>\n      <td>...</td>\n      <td>...</td>\n      <td>...</td>\n      <td>...</td>\n      <td>...</td>\n      <td>...</td>\n    </tr>\n    <tr>\n      <th>9851</th>\n      <td>548182</td>\n      <td>Lei nº 6.306 de 15/12/1975</td>\n      <td>LEI-6306-1975-12-15</td>\n      <td>Altera o § 2º do art. 26 do Decreto-lei nº 3.3...</td>\n      <td>1975</td>\n      <td>Administração Pública</td>\n      <td>0.175303</td>\n    </tr>\n    <tr>\n      <th>9852</th>\n      <td>542152</td>\n      <td>Lei nº 617 de 10/02/1949</td>\n      <td>LEI-617-1949-02-10</td>\n      <td>Modifica os artigos 4º e 5º do Decreto-Lei n. ...</td>\n      <td>1949</td>\n      <td>Soberania, Defesa Nacional e Ordem Pública</td>\n      <td>0.173023</td>\n    </tr>\n    <tr>\n      <th>9853</th>\n      <td>541919</td>\n      <td>Lei nº 502 de 11/09/1937</td>\n      <td>LEI-502-1937-09-11</td>\n      <td>Revoga o parágrafo único do art. 33 do decreto...</td>\n      <td>1937</td>\n      <td>Soberania, Defesa Nacional e Ordem Pública</td>\n      <td>0.170754</td>\n    </tr>\n    <tr>\n      <th>9854</th>\n      <td>547526</td>\n      <td>Lei nº 5.653 de 27/04/1971</td>\n      <td>LEI-5653-1971-04-27</td>\n      <td>Altera o art. 19 do Decreto-Lei nº 3.200, de 1...</td>\n      <td>1971</td>\n      <td>Organização do Estado</td>\n      <td>0.158356</td>\n    </tr>\n    <tr>\n      <th>9855</th>\n      <td>547820</td>\n      <td>Lei nº 5.944 de 29/11/1973</td>\n      <td>LEI-5944-1973-11-29</td>\n      <td>Altera o § 1º, do artigo 5º, do Decreto-lei nº...</td>\n      <td>1973</td>\n      <td>Jurídico</td>\n      <td>0.153787</td>\n    </tr>\n  </tbody>\n</table>\n<p>9856 rows × 7 columns</p>\n</div>"
     },
     "execution_count": 35,
     "metadata": {},
     "output_type": "execute_result"
    }
   ],
   "source": [
    "# A partir do modelo gerado anteriormente, prevê as classes das normas não classificadas.\n",
    "y_previsto = lr.predict(X_nao_classificadas)\n",
    "y_proba = lr.predict_proba(X_nao_classificadas)\n",
    "\n",
    "# Reinicia o dataset de normas não classificadas para o caso de alguma modificação tenha sido realizada\n",
    "normas_nao_classificadas = criar_dataset_normas_nao_classificadas()\n",
    "\n",
    "# Constrói o dataset final com as previsões e probabilidades.\n",
    "previsoes = pd.DataFrame(y_previsto, columns=[\"CLASSE_PROVAVEL\"])\n",
    "probabilidades = pd.DataFrame(y_proba)\n",
    "normas_nao_classificadas = pd.concat([normas_nao_classificadas, probabilidades, previsoes], axis=1)\n",
    "normas_nao_classificadas = normas_nao_classificadas.melt(id_vars=[\"COD_DOCUMENTO\",\"DES_NOME_PREFERIDO\",\"DES_NOMES_ALTERNATIVOS\",\"TXT_EMENTA\",\"ANO\",\"CLASSE_PROVAVEL\"], var_name=\"CLASSE_TEMP\", value_name=\"PROBABILIDADE\")\n",
    "normas_nao_classificadas[\"CLASSE_TEMP\"] = normas_nao_classificadas[\"CLASSE_TEMP\"].map(classes_raiz[\"DES_CLASSE\"].to_dict())\n",
    "normas_nao_classificadas = normas_nao_classificadas.query(\"CLASSE_PROVAVEL == CLASSE_TEMP\")\n",
    "normas_nao_classificadas.drop(columns=\"CLASSE_TEMP\", inplace=True)\n",
    "normas_nao_classificadas.sort_values(by=\"PROBABILIDADE\", ascending=False, inplace=True)\n",
    "normas_nao_classificadas.reset_index(drop=True, inplace=True)\n",
    "normas_nao_classificadas"
   ],
   "metadata": {
    "collapsed": false,
    "pycharm": {
     "name": "#%%\n"
    }
   }
  },
  {
   "cell_type": "markdown",
   "source": [
    "Exportando para o formato Excel."
   ],
   "metadata": {
    "collapsed": false,
    "pycharm": {
     "name": "#%% md\n"
    }
   }
  },
  {
   "cell_type": "code",
   "execution_count": 36,
   "outputs": [],
   "source": [
    "normas_nao_classificadas.to_excel(\"dados/classificacoes_sugeridas.xlsx\", \"Classificações\", index=False, freeze_panes=(1, 0))"
   ],
   "metadata": {
    "collapsed": false,
    "pycharm": {
     "name": "#%%\n"
    }
   }
  }
 ],
 "metadata": {
  "kernelspec": {
   "display_name": "Python 3.9.12 ('base')",
   "language": "python",
   "name": "python3"
  },
  "language_info": {
   "codemirror_mode": {
    "name": "ipython",
    "version": 3
   },
   "file_extension": ".py",
   "mimetype": "text/x-python",
   "name": "python",
   "nbconvert_exporter": "python",
   "pygments_lexer": "ipython3",
   "version": "3.9.12"
  },
  "vscode": {
   "interpreter": {
    "hash": "81e257058df10583e9d8d11ec74e8dbfa2c26d0d059139d21bb13510adff3663"
   }
  }
 },
 "nbformat": 4,
 "nbformat_minor": 0
}