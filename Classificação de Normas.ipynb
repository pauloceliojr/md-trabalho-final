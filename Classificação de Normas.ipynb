{
 "cells": [
  {
   "cell_type": "markdown",
   "metadata": {
    "collapsed": false,
    "pycharm": {
     "name": "#%% md\n"
    }
   },
   "source": [
    "# Trabalho Final de Mineração de Dados"
   ]
  },
  {
   "cell_type": "markdown",
   "metadata": {
    "collapsed": false,
    "pycharm": {
     "name": "#%% md\n"
    }
   },
   "source": [
    "## Importando bibliotecas"
   ]
  },
  {
   "cell_type": "code",
   "execution_count": 1,
   "metadata": {
    "collapsed": false,
    "pycharm": {
     "name": "#%%\n"
    }
   },
   "outputs": [
    {
     "name": "stderr",
     "output_type": "stream",
     "text": [
      "[nltk_data] Downloading package punkt to\n",
      "[nltk_data]     C:\\Users\\paulo\\AppData\\Roaming\\nltk_data...\n",
      "[nltk_data]   Package punkt is already up-to-date!\n",
      "[nltk_data] Downloading package stopwords to\n",
      "[nltk_data]     C:\\Users\\paulo\\AppData\\Roaming\\nltk_data...\n",
      "[nltk_data]   Package stopwords is already up-to-date!\n"
     ]
    },
    {
     "data": {
      "text/plain": "True"
     },
     "execution_count": 1,
     "metadata": {},
     "output_type": "execute_result"
    }
   ],
   "source": [
    "from gensim.models import KeyedVectors\n",
    "from sklearn.model_selection import train_test_split\n",
    "from sklearn.linear_model import LogisticRegression\n",
    "from sklearn.ensemble import RandomForestClassifier\n",
    "from sklearn.tree import DecisionTreeClassifier\n",
    "from sklearn.neighbors import KNeighborsClassifier\n",
    "from sklearn.naive_bayes import BernoulliNB\n",
    "from sklearn.svm import SVC\n",
    "from sklearn.metrics import classification_report, accuracy_score\n",
    "from sklearn.dummy import DummyClassifier\n",
    "from imblearn.under_sampling import RandomUnderSampler\n",
    "\n",
    "import pandas as pd\n",
    "import numpy as np\n",
    "import seaborn as sns\n",
    "import nltk\n",
    "import string\n",
    "nltk.download(\"punkt\")\n",
    "nltk.download(\"stopwords\")"
   ]
  },
  {
   "cell_type": "markdown",
   "metadata": {
    "collapsed": false,
    "pycharm": {
     "name": "#%% md\n"
    }
   },
   "source": [
    "## 1 - Fase de Preparação dos Dados\n",
    "---"
   ]
  },
  {
   "cell_type": "markdown",
   "metadata": {
    "collapsed": false,
    "pycharm": {
     "name": "#%% md\n"
    }
   },
   "source": [
    "Carregando o arquivo original de classes."
   ]
  },
  {
   "cell_type": "code",
   "execution_count": 2,
   "metadata": {
    "collapsed": false,
    "pycharm": {
     "name": "#%%\n"
    }
   },
   "outputs": [
    {
     "data": {
      "text/plain": "        COD_CLASSE                          DES_NOME_PREFERIDO  \\\n0    1    33254494            Classificação Temática Unificada   \n1    2    33809814         Temas Exclusivos de Pronunciamentos   \n2    3    33809634                               Meio Ambiente   \n3    4    33809514  Soberania, Defesa Nacional e Ordem Pública   \n4    5    33808912                             Política Social   \n\n   COD_CLASSE_PAI  NUM_NIVEL  CYCLE  \\\n0             NaN          1      0   \n1      33254494.0          2      0   \n2      33254494.0          2      0   \n3      33254494.0          2      0   \n4      33254494.0          2      0   \n\n                                            TREE  \\\n0               Classificação Temática Unificada   \n1         -- Temas Exclusivos de Pronunciamentos   \n2                               -- Meio Ambiente   \n3  -- Soberania, Defesa Nacional e Ordem Pública   \n4                             -- Política Social   \n\n                                                PATH  QTD_FILHOS  \\\n0                   Classificação Temática Unificada         202   \n1  Classificação Temática Unificada / Temas Exclu...          22   \n2   Classificação Temática Unificada / Meio Ambiente          11   \n3  Classificação Temática Unificada / Soberania, ...           7   \n4  Classificação Temática Unificada / Política So...          37   \n\n                                   DES_NIVEL1 DES_NIVEL2 DES_NIVEL3  \\\n0                                         NaN        NaN        NaN   \n1         Temas Exclusivos de Pronunciamentos        NaN        NaN   \n2                               Meio Ambiente        NaN        NaN   \n3  Soberania, Defesa Nacional e Ordem Pública        NaN        NaN   \n4                             Política Social        NaN        NaN   \n\n   DES_NIVEL4  \n0         NaN  \n1         NaN  \n2         NaN  \n3         NaN  \n4         NaN  ",
      "text/html": "<div>\n<style scoped>\n    .dataframe tbody tr th:only-of-type {\n        vertical-align: middle;\n    }\n\n    .dataframe tbody tr th {\n        vertical-align: top;\n    }\n\n    .dataframe thead th {\n        text-align: right;\n    }\n</style>\n<table border=\"1\" class=\"dataframe\">\n  <thead>\n    <tr style=\"text-align: right;\">\n      <th></th>\n      <th></th>\n      <th>COD_CLASSE</th>\n      <th>DES_NOME_PREFERIDO</th>\n      <th>COD_CLASSE_PAI</th>\n      <th>NUM_NIVEL</th>\n      <th>CYCLE</th>\n      <th>TREE</th>\n      <th>PATH</th>\n      <th>QTD_FILHOS</th>\n      <th>DES_NIVEL1</th>\n      <th>DES_NIVEL2</th>\n      <th>DES_NIVEL3</th>\n      <th>DES_NIVEL4</th>\n    </tr>\n  </thead>\n  <tbody>\n    <tr>\n      <th>0</th>\n      <td>1</td>\n      <td>33254494</td>\n      <td>Classificação Temática Unificada</td>\n      <td>NaN</td>\n      <td>1</td>\n      <td>0</td>\n      <td>Classificação Temática Unificada</td>\n      <td>Classificação Temática Unificada</td>\n      <td>202</td>\n      <td>NaN</td>\n      <td>NaN</td>\n      <td>NaN</td>\n      <td>NaN</td>\n    </tr>\n    <tr>\n      <th>1</th>\n      <td>2</td>\n      <td>33809814</td>\n      <td>Temas Exclusivos de Pronunciamentos</td>\n      <td>33254494.0</td>\n      <td>2</td>\n      <td>0</td>\n      <td>-- Temas Exclusivos de Pronunciamentos</td>\n      <td>Classificação Temática Unificada / Temas Exclu...</td>\n      <td>22</td>\n      <td>Temas Exclusivos de Pronunciamentos</td>\n      <td>NaN</td>\n      <td>NaN</td>\n      <td>NaN</td>\n    </tr>\n    <tr>\n      <th>2</th>\n      <td>3</td>\n      <td>33809634</td>\n      <td>Meio Ambiente</td>\n      <td>33254494.0</td>\n      <td>2</td>\n      <td>0</td>\n      <td>-- Meio Ambiente</td>\n      <td>Classificação Temática Unificada / Meio Ambiente</td>\n      <td>11</td>\n      <td>Meio Ambiente</td>\n      <td>NaN</td>\n      <td>NaN</td>\n      <td>NaN</td>\n    </tr>\n    <tr>\n      <th>3</th>\n      <td>4</td>\n      <td>33809514</td>\n      <td>Soberania, Defesa Nacional e Ordem Pública</td>\n      <td>33254494.0</td>\n      <td>2</td>\n      <td>0</td>\n      <td>-- Soberania, Defesa Nacional e Ordem Pública</td>\n      <td>Classificação Temática Unificada / Soberania, ...</td>\n      <td>7</td>\n      <td>Soberania, Defesa Nacional e Ordem Pública</td>\n      <td>NaN</td>\n      <td>NaN</td>\n      <td>NaN</td>\n    </tr>\n    <tr>\n      <th>4</th>\n      <td>5</td>\n      <td>33808912</td>\n      <td>Política Social</td>\n      <td>33254494.0</td>\n      <td>2</td>\n      <td>0</td>\n      <td>-- Política Social</td>\n      <td>Classificação Temática Unificada / Política So...</td>\n      <td>37</td>\n      <td>Política Social</td>\n      <td>NaN</td>\n      <td>NaN</td>\n      <td>NaN</td>\n    </tr>\n  </tbody>\n</table>\n</div>"
     },
     "execution_count": 2,
     "metadata": {},
     "output_type": "execute_result"
    }
   ],
   "source": [
    "classes_original = pd.read_excel(\"dados/SistemaDeClassificacao.xlsx\", \"Select viw_classificacao_arvore\")\n",
    "classes_original.head()"
   ]
  },
  {
   "cell_type": "markdown",
   "metadata": {
    "collapsed": false,
    "pycharm": {
     "name": "#%% md\n"
    }
   },
   "source": [
    "Filtra o arquivo de classes original para exibir apenas aquelas que serão raiz na classificação da ementa.\n",
    "Essa classes possuem nível 2 na tabela original."
   ]
  },
  {
   "cell_type": "code",
   "execution_count": 3,
   "metadata": {
    "collapsed": false,
    "pycharm": {
     "name": "#%%\n"
    }
   },
   "outputs": [
    {
     "data": {
      "text/plain": "    COD_CLASSE                                  DES_CLASSE\n1     33809814         Temas Exclusivos de Pronunciamentos\n2     33809634                               Meio Ambiente\n3     33809514  Soberania, Defesa Nacional e Ordem Pública\n4     33808912                             Política Social\n5     33805362                                    Jurídico\n6     33805317                                  Honorífico\n7     33805137                              Infraestrutura\n8     33769167                  Economia e Desenvolvimento\n9     33768972                       Organização do Estado\n10    33685789                       Administração Pública\n11    33260515                           Orçamento Público",
      "text/html": "<div>\n<style scoped>\n    .dataframe tbody tr th:only-of-type {\n        vertical-align: middle;\n    }\n\n    .dataframe tbody tr th {\n        vertical-align: top;\n    }\n\n    .dataframe thead th {\n        text-align: right;\n    }\n</style>\n<table border=\"1\" class=\"dataframe\">\n  <thead>\n    <tr style=\"text-align: right;\">\n      <th></th>\n      <th>COD_CLASSE</th>\n      <th>DES_CLASSE</th>\n    </tr>\n  </thead>\n  <tbody>\n    <tr>\n      <th>1</th>\n      <td>33809814</td>\n      <td>Temas Exclusivos de Pronunciamentos</td>\n    </tr>\n    <tr>\n      <th>2</th>\n      <td>33809634</td>\n      <td>Meio Ambiente</td>\n    </tr>\n    <tr>\n      <th>3</th>\n      <td>33809514</td>\n      <td>Soberania, Defesa Nacional e Ordem Pública</td>\n    </tr>\n    <tr>\n      <th>4</th>\n      <td>33808912</td>\n      <td>Política Social</td>\n    </tr>\n    <tr>\n      <th>5</th>\n      <td>33805362</td>\n      <td>Jurídico</td>\n    </tr>\n    <tr>\n      <th>6</th>\n      <td>33805317</td>\n      <td>Honorífico</td>\n    </tr>\n    <tr>\n      <th>7</th>\n      <td>33805137</td>\n      <td>Infraestrutura</td>\n    </tr>\n    <tr>\n      <th>8</th>\n      <td>33769167</td>\n      <td>Economia e Desenvolvimento</td>\n    </tr>\n    <tr>\n      <th>9</th>\n      <td>33768972</td>\n      <td>Organização do Estado</td>\n    </tr>\n    <tr>\n      <th>10</th>\n      <td>33685789</td>\n      <td>Administração Pública</td>\n    </tr>\n    <tr>\n      <th>11</th>\n      <td>33260515</td>\n      <td>Orçamento Público</td>\n    </tr>\n  </tbody>\n</table>\n</div>"
     },
     "execution_count": 3,
     "metadata": {},
     "output_type": "execute_result"
    }
   ],
   "source": [
    "classes_raiz = classes_original.query(\"NUM_NIVEL == 2\").filter([\"COD_CLASSE\", \"DES_NOME_PREFERIDO\"])\n",
    "classes_raiz.rename(columns={\"DES_NOME_PREFERIDO\": \"DES_CLASSE\"}, inplace=True)\n",
    "classes_raiz"
   ]
  },
  {
   "cell_type": "markdown",
   "metadata": {
    "collapsed": false,
    "pycharm": {
     "name": "#%% md\n"
    }
   },
   "source": [
    "Carrega o dataset contendo as normas que já foram classificadas. Com os dados carregados, cria uma coluna derivada (DES_CLASSE_RAIZ) a partir da árvore de classes (DES_CLASSE_HIERARQUIA), da qual a informação de classe raiz é extraída."
   ]
  },
  {
   "cell_type": "code",
   "execution_count": 4,
   "metadata": {
    "collapsed": false,
    "pycharm": {
     "name": "#%%\n"
    }
   },
   "outputs": [
    {
     "data": {
      "text/plain": "        COD_PRC_DOC_TEMA  COD_PROCESSO_DOCUMENTO  COD_CLASSE  \\\n0    1          36155183                  386343    33805827   \n1    2          36192020                  386579    33805287   \n2    3          36155185                  387419    33805827   \n3    4          36192056                  387832    33805287   \n4    5          36155187                  388197    33805827   \n\n            DES_CLASSE                              DES_CLASSE_HIERARQUIA  \\\n0  Crédito Suplementar  Classificação Temática Unificada / Orçamento P...   \n1           Rádio e TV  Classificação Temática Unificada / Infraestrut...   \n2  Crédito Suplementar  Classificação Temática Unificada / Orçamento P...   \n3           Rádio e TV  Classificação Temática Unificada / Infraestrut...   \n4  Crédito Suplementar  Classificação Temática Unificada / Orçamento P...   \n\n     DES_CLASSE_RAIZ  \n0  Orçamento Público  \n1     Infraestrutura  \n2  Orçamento Público  \n3     Infraestrutura  \n4  Orçamento Público  ",
      "text/html": "<div>\n<style scoped>\n    .dataframe tbody tr th:only-of-type {\n        vertical-align: middle;\n    }\n\n    .dataframe tbody tr th {\n        vertical-align: top;\n    }\n\n    .dataframe thead th {\n        text-align: right;\n    }\n</style>\n<table border=\"1\" class=\"dataframe\">\n  <thead>\n    <tr style=\"text-align: right;\">\n      <th></th>\n      <th></th>\n      <th>COD_PRC_DOC_TEMA</th>\n      <th>COD_PROCESSO_DOCUMENTO</th>\n      <th>COD_CLASSE</th>\n      <th>DES_CLASSE</th>\n      <th>DES_CLASSE_HIERARQUIA</th>\n      <th>DES_CLASSE_RAIZ</th>\n    </tr>\n  </thead>\n  <tbody>\n    <tr>\n      <th>0</th>\n      <td>1</td>\n      <td>36155183</td>\n      <td>386343</td>\n      <td>33805827</td>\n      <td>Crédito Suplementar</td>\n      <td>Classificação Temática Unificada / Orçamento P...</td>\n      <td>Orçamento Público</td>\n    </tr>\n    <tr>\n      <th>1</th>\n      <td>2</td>\n      <td>36192020</td>\n      <td>386579</td>\n      <td>33805287</td>\n      <td>Rádio e TV</td>\n      <td>Classificação Temática Unificada / Infraestrut...</td>\n      <td>Infraestrutura</td>\n    </tr>\n    <tr>\n      <th>2</th>\n      <td>3</td>\n      <td>36155185</td>\n      <td>387419</td>\n      <td>33805827</td>\n      <td>Crédito Suplementar</td>\n      <td>Classificação Temática Unificada / Orçamento P...</td>\n      <td>Orçamento Público</td>\n    </tr>\n    <tr>\n      <th>3</th>\n      <td>4</td>\n      <td>36192056</td>\n      <td>387832</td>\n      <td>33805287</td>\n      <td>Rádio e TV</td>\n      <td>Classificação Temática Unificada / Infraestrut...</td>\n      <td>Infraestrutura</td>\n    </tr>\n    <tr>\n      <th>4</th>\n      <td>5</td>\n      <td>36155187</td>\n      <td>388197</td>\n      <td>33805827</td>\n      <td>Crédito Suplementar</td>\n      <td>Classificação Temática Unificada / Orçamento P...</td>\n      <td>Orçamento Público</td>\n    </tr>\n  </tbody>\n</table>\n</div>"
     },
     "execution_count": 4,
     "metadata": {},
     "output_type": "execute_result"
    }
   ],
   "source": [
    "normas_classificadas_original = pd.read_excel(\"dados/ClassificacaoDeLeisOrdinarias-LeisComplementares-e-DecretosNumerados-Desde1900.xlsx\", \"Select mvw_u03_prc_doc_tema\")\n",
    "normas_classificadas_original[\"DES_CLASSE_RAIZ\"] = normas_classificadas_original[\"DES_CLASSE_HIERARQUIA\"].apply(lambda hierarquia : hierarquia.split(\" / \")[1])\n",
    "normas_classificadas_original.head()"
   ]
  },
  {
   "cell_type": "markdown",
   "metadata": {
    "collapsed": false,
    "pycharm": {
     "name": "#%% md\n"
    }
   },
   "source": [
    "Carrega os dados de todas as normas (classificadas e não classificadas) e aplica as transformações iniciais."
   ]
  },
  {
   "cell_type": "code",
   "execution_count": 5,
   "metadata": {
    "collapsed": false,
    "pycharm": {
     "name": "#%%\n"
    }
   },
   "outputs": [
    {
     "data": {
      "text/plain": "   COD_DOCUMENTO           DES_NOME_PREFERIDO DES_NOMES_ALTERNATIVOS  \\\n0       35345364  Lei nº 14.263 de 22/12/2021   LEI-14263-2021-12-22   \n1       26247104  Lei nº 13.486 de 03/10/2017   LEI-13486-2017-10-03   \n2       27445746  Lei nº 13.701 de 06/08/2018   LEI-13701-2018-08-06   \n3       36348502  Lei nº 14.447 de 09/09/2022   LEI-14447-2022-09-09   \n4       32103727  Lei nº 13.988 de 14/04/2020   LEI-13988-2020-04-14   \n\n                                          TXT_EMENTA  \n0  Abre ao Orçamento da Seguridade Social da Uniã...  \n1  Altera o art. 8º da Lei nº 8.078, de 11 de set...  \n2  Cria o cargo de natureza especial de Intervent...  \n3  Altera os limites da Floresta Nacional de Bras...  \n4  Dispõe sobre a transação nas hipóteses que esp...  ",
      "text/html": "<div>\n<style scoped>\n    .dataframe tbody tr th:only-of-type {\n        vertical-align: middle;\n    }\n\n    .dataframe tbody tr th {\n        vertical-align: top;\n    }\n\n    .dataframe thead th {\n        text-align: right;\n    }\n</style>\n<table border=\"1\" class=\"dataframe\">\n  <thead>\n    <tr style=\"text-align: right;\">\n      <th></th>\n      <th>COD_DOCUMENTO</th>\n      <th>DES_NOME_PREFERIDO</th>\n      <th>DES_NOMES_ALTERNATIVOS</th>\n      <th>TXT_EMENTA</th>\n    </tr>\n  </thead>\n  <tbody>\n    <tr>\n      <th>0</th>\n      <td>35345364</td>\n      <td>Lei nº 14.263 de 22/12/2021</td>\n      <td>LEI-14263-2021-12-22</td>\n      <td>Abre ao Orçamento da Seguridade Social da Uniã...</td>\n    </tr>\n    <tr>\n      <th>1</th>\n      <td>26247104</td>\n      <td>Lei nº 13.486 de 03/10/2017</td>\n      <td>LEI-13486-2017-10-03</td>\n      <td>Altera o art. 8º da Lei nº 8.078, de 11 de set...</td>\n    </tr>\n    <tr>\n      <th>2</th>\n      <td>27445746</td>\n      <td>Lei nº 13.701 de 06/08/2018</td>\n      <td>LEI-13701-2018-08-06</td>\n      <td>Cria o cargo de natureza especial de Intervent...</td>\n    </tr>\n    <tr>\n      <th>3</th>\n      <td>36348502</td>\n      <td>Lei nº 14.447 de 09/09/2022</td>\n      <td>LEI-14447-2022-09-09</td>\n      <td>Altera os limites da Floresta Nacional de Bras...</td>\n    </tr>\n    <tr>\n      <th>4</th>\n      <td>32103727</td>\n      <td>Lei nº 13.988 de 14/04/2020</td>\n      <td>LEI-13988-2020-04-14</td>\n      <td>Dispõe sobre a transação nas hipóteses que esp...</td>\n    </tr>\n  </tbody>\n</table>\n</div>"
     },
     "execution_count": 5,
     "metadata": {},
     "output_type": "execute_result"
    }
   ],
   "source": [
    "normas_original = pd.read_excel(\"dados/LeisOrdinarias-LeisComplementare-e-DecretosNumeradosComClassificacaoDesde1900.xlsx\", \"Select mvw_s01_documento\")\n",
    "normas_original.rename(columns={\"DBMS_LOB.SUBSTR(S01.TXT_EMENTA\": \"TXT_EMENTA\"}, inplace=True)\n",
    "normas_original.drop(columns=\"   \", inplace=True)\n",
    "normas_original.head()"
   ]
  },
  {
   "cell_type": "code",
   "execution_count": 6,
   "metadata": {
    "collapsed": false,
    "pycharm": {
     "name": "#%%\n"
    }
   },
   "outputs": [
    {
     "data": {
      "text/plain": "26959"
     },
     "execution_count": 6,
     "metadata": {},
     "output_type": "execute_result"
    }
   ],
   "source": [
    "normas_original.shape[0]"
   ]
  },
  {
   "cell_type": "markdown",
   "metadata": {
    "collapsed": false,
    "pycharm": {
     "name": "#%% md\n"
    }
   },
   "source": [
    "Com os datasets necessários já carregados, cria-se um novo dataset a partir do dataset contendo todas as leis, incluindo-se a informação das classes contidadas nas normas do dataset de normas classificadas."
   ]
  },
  {
   "cell_type": "code",
   "execution_count": 7,
   "metadata": {
    "collapsed": false,
    "pycharm": {
     "name": "#%%\n"
    }
   },
   "outputs": [
    {
     "data": {
      "text/plain": "   COD_DOCUMENTO           DES_NOME_PREFERIDO DES_NOMES_ALTERNATIVOS  \\\n0       35345364  Lei nº 14.263 de 22/12/2021   LEI-14263-2021-12-22   \n1       26247104  Lei nº 13.486 de 03/10/2017   LEI-13486-2017-10-03   \n2       27445746  Lei nº 13.701 de 06/08/2018   LEI-13701-2018-08-06   \n3       36348502  Lei nº 14.447 de 09/09/2022   LEI-14447-2022-09-09   \n4       36348502  Lei nº 14.447 de 09/09/2022   LEI-14447-2022-09-09   \n\n                                          TXT_EMENTA  COD_CLASSE  \\\n0  Abre ao Orçamento da Seguridade Social da Uniã...  33260515.0   \n1  Altera o art. 8º da Lei nº 8.078, de 11 de set...  33808912.0   \n2  Cria o cargo de natureza especial de Intervent...  33768972.0   \n3  Altera os limites da Floresta Nacional de Bras...  33685789.0   \n4  Altera os limites da Floresta Nacional de Bras...  33809634.0   \n\n              DES_CLASSE  \n0      Orçamento Público  \n1        Política Social  \n2  Organização do Estado  \n3  Administração Pública  \n4          Meio Ambiente  ",
      "text/html": "<div>\n<style scoped>\n    .dataframe tbody tr th:only-of-type {\n        vertical-align: middle;\n    }\n\n    .dataframe tbody tr th {\n        vertical-align: top;\n    }\n\n    .dataframe thead th {\n        text-align: right;\n    }\n</style>\n<table border=\"1\" class=\"dataframe\">\n  <thead>\n    <tr style=\"text-align: right;\">\n      <th></th>\n      <th>COD_DOCUMENTO</th>\n      <th>DES_NOME_PREFERIDO</th>\n      <th>DES_NOMES_ALTERNATIVOS</th>\n      <th>TXT_EMENTA</th>\n      <th>COD_CLASSE</th>\n      <th>DES_CLASSE</th>\n    </tr>\n  </thead>\n  <tbody>\n    <tr>\n      <th>0</th>\n      <td>35345364</td>\n      <td>Lei nº 14.263 de 22/12/2021</td>\n      <td>LEI-14263-2021-12-22</td>\n      <td>Abre ao Orçamento da Seguridade Social da Uniã...</td>\n      <td>33260515.0</td>\n      <td>Orçamento Público</td>\n    </tr>\n    <tr>\n      <th>1</th>\n      <td>26247104</td>\n      <td>Lei nº 13.486 de 03/10/2017</td>\n      <td>LEI-13486-2017-10-03</td>\n      <td>Altera o art. 8º da Lei nº 8.078, de 11 de set...</td>\n      <td>33808912.0</td>\n      <td>Política Social</td>\n    </tr>\n    <tr>\n      <th>2</th>\n      <td>27445746</td>\n      <td>Lei nº 13.701 de 06/08/2018</td>\n      <td>LEI-13701-2018-08-06</td>\n      <td>Cria o cargo de natureza especial de Intervent...</td>\n      <td>33768972.0</td>\n      <td>Organização do Estado</td>\n    </tr>\n    <tr>\n      <th>3</th>\n      <td>36348502</td>\n      <td>Lei nº 14.447 de 09/09/2022</td>\n      <td>LEI-14447-2022-09-09</td>\n      <td>Altera os limites da Floresta Nacional de Bras...</td>\n      <td>33685789.0</td>\n      <td>Administração Pública</td>\n    </tr>\n    <tr>\n      <th>4</th>\n      <td>36348502</td>\n      <td>Lei nº 14.447 de 09/09/2022</td>\n      <td>LEI-14447-2022-09-09</td>\n      <td>Altera os limites da Floresta Nacional de Bras...</td>\n      <td>33809634.0</td>\n      <td>Meio Ambiente</td>\n    </tr>\n  </tbody>\n</table>\n</div>"
     },
     "execution_count": 7,
     "metadata": {},
     "output_type": "execute_result"
    }
   ],
   "source": [
    "normas = normas_original.merge(normas_classificadas_original.filter([\"COD_PROCESSO_DOCUMENTO\", \"DES_CLASSE_RAIZ\"]), left_on=\"COD_DOCUMENTO\", right_on=\"COD_PROCESSO_DOCUMENTO\", how=\"left\")\n",
    "normas = normas.merge(classes_raiz, left_on=\"DES_CLASSE_RAIZ\", right_on=\"DES_CLASSE\", how=\"left\")\n",
    "normas.drop(columns=[\"COD_PROCESSO_DOCUMENTO\", \"DES_CLASSE_RAIZ\"], inplace=True)\n",
    "normas.head()"
   ]
  },
  {
   "cell_type": "code",
   "execution_count": 8,
   "metadata": {
    "collapsed": false,
    "pycharm": {
     "name": "#%%\n"
    }
   },
   "outputs": [
    {
     "data": {
      "text/plain": "27743"
     },
     "execution_count": 8,
     "metadata": {},
     "output_type": "execute_result"
    }
   ],
   "source": [
    "normas.shape[0]"
   ]
  },
  {
   "cell_type": "markdown",
   "metadata": {
    "collapsed": false,
    "pycharm": {
     "name": "#%% md\n"
    }
   },
   "source": [
    "Limpa os registros duplicados de normas que possuem mais de uma classe folha, mas que tenham mesma classe raiz e exibe as leis que possuem mais de uma classe folha, mas que tenham classes raiz diferentes."
   ]
  },
  {
   "cell_type": "code",
   "execution_count": 9,
   "metadata": {
    "collapsed": false,
    "pycharm": {
     "name": "#%%\n"
    }
   },
   "outputs": [
    {
     "data": {
      "text/plain": "       COD_DOCUMENTO  COD_CLASSE                                  DES_CLASSE\n3           36348502  33685789.0                       Administração Pública\n4           36348502  33809634.0                               Meio Ambiente\n5           36348502  33769167.0                  Economia e Desenvolvimento\n20          36062349  33808912.0                             Política Social\n21          36062349  33769167.0                  Economia e Desenvolvimento\n...              ...         ...                                         ...\n27349       36032872  33808912.0                             Política Social\n27350       35556312  33685789.0                       Administração Pública\n27351       35556312  33808912.0                             Política Social\n27359       35396946  33809514.0  Soberania, Defesa Nacional e Ordem Pública\n27360       35396946  33769167.0                  Economia e Desenvolvimento\n\n[630 rows x 3 columns]",
      "text/html": "<div>\n<style scoped>\n    .dataframe tbody tr th:only-of-type {\n        vertical-align: middle;\n    }\n\n    .dataframe tbody tr th {\n        vertical-align: top;\n    }\n\n    .dataframe thead th {\n        text-align: right;\n    }\n</style>\n<table border=\"1\" class=\"dataframe\">\n  <thead>\n    <tr style=\"text-align: right;\">\n      <th></th>\n      <th>COD_DOCUMENTO</th>\n      <th>COD_CLASSE</th>\n      <th>DES_CLASSE</th>\n    </tr>\n  </thead>\n  <tbody>\n    <tr>\n      <th>3</th>\n      <td>36348502</td>\n      <td>33685789.0</td>\n      <td>Administração Pública</td>\n    </tr>\n    <tr>\n      <th>4</th>\n      <td>36348502</td>\n      <td>33809634.0</td>\n      <td>Meio Ambiente</td>\n    </tr>\n    <tr>\n      <th>5</th>\n      <td>36348502</td>\n      <td>33769167.0</td>\n      <td>Economia e Desenvolvimento</td>\n    </tr>\n    <tr>\n      <th>20</th>\n      <td>36062349</td>\n      <td>33808912.0</td>\n      <td>Política Social</td>\n    </tr>\n    <tr>\n      <th>21</th>\n      <td>36062349</td>\n      <td>33769167.0</td>\n      <td>Economia e Desenvolvimento</td>\n    </tr>\n    <tr>\n      <th>...</th>\n      <td>...</td>\n      <td>...</td>\n      <td>...</td>\n    </tr>\n    <tr>\n      <th>27349</th>\n      <td>36032872</td>\n      <td>33808912.0</td>\n      <td>Política Social</td>\n    </tr>\n    <tr>\n      <th>27350</th>\n      <td>35556312</td>\n      <td>33685789.0</td>\n      <td>Administração Pública</td>\n    </tr>\n    <tr>\n      <th>27351</th>\n      <td>35556312</td>\n      <td>33808912.0</td>\n      <td>Política Social</td>\n    </tr>\n    <tr>\n      <th>27359</th>\n      <td>35396946</td>\n      <td>33809514.0</td>\n      <td>Soberania, Defesa Nacional e Ordem Pública</td>\n    </tr>\n    <tr>\n      <th>27360</th>\n      <td>35396946</td>\n      <td>33769167.0</td>\n      <td>Economia e Desenvolvimento</td>\n    </tr>\n  </tbody>\n</table>\n<p>630 rows × 3 columns</p>\n</div>"
     },
     "execution_count": 9,
     "metadata": {},
     "output_type": "execute_result"
    }
   ],
   "source": [
    "normas.drop_duplicates(inplace=True)\n",
    "temp = normas[[\"COD_DOCUMENTO\", \"COD_CLASSE\", \"DES_CLASSE\"]].groupby(\"COD_DOCUMENTO\")\n",
    "temp.filter(lambda x: len(x) > 1)"
   ]
  },
  {
   "cell_type": "markdown",
   "metadata": {
    "collapsed": false,
    "pycharm": {
     "name": "#%% md\n"
    }
   },
   "source": [
    "Tamanho da base tratada de normas."
   ]
  },
  {
   "cell_type": "code",
   "execution_count": 10,
   "metadata": {
    "collapsed": false,
    "pycharm": {
     "name": "#%%\n"
    }
   },
   "outputs": [
    {
     "data": {
      "text/plain": "27294"
     },
     "execution_count": 10,
     "metadata": {},
     "output_type": "execute_result"
    }
   ],
   "source": [
    "normas.shape[0]"
   ]
  },
  {
   "cell_type": "markdown",
   "metadata": {
    "collapsed": false,
    "pycharm": {
     "name": "#%% md\n"
    }
   },
   "source": [
    "Total de classificações feitas em normas."
   ]
  },
  {
   "cell_type": "code",
   "execution_count": 11,
   "metadata": {
    "collapsed": false,
    "pycharm": {
     "name": "#%%\n"
    }
   },
   "outputs": [
    {
     "data": {
      "text/plain": "17438"
     },
     "execution_count": 11,
     "metadata": {},
     "output_type": "execute_result"
    }
   ],
   "source": [
    "normas_classificadas = normas.query(\"not COD_CLASSE.isnull()\")\n",
    "quantidade_classificacoes = normas_classificadas.shape[0]\n",
    "quantidade_classificacoes"
   ]
  },
  {
   "cell_type": "markdown",
   "metadata": {
    "collapsed": false,
    "pycharm": {
     "name": "#%% md\n"
    }
   },
   "source": [
    "Número distinto de normas classificadas."
   ]
  },
  {
   "cell_type": "code",
   "execution_count": 12,
   "metadata": {
    "collapsed": false,
    "pycharm": {
     "name": "#%%\n"
    }
   },
   "outputs": [
    {
     "data": {
      "text/plain": "17103"
     },
     "execution_count": 12,
     "metadata": {},
     "output_type": "execute_result"
    }
   ],
   "source": [
    "len(normas_classificadas[\"COD_DOCUMENTO\"].unique())"
   ]
  },
  {
   "cell_type": "markdown",
   "metadata": {
    "collapsed": false,
    "pycharm": {
     "name": "#%% md\n"
    }
   },
   "source": [
    "Quantidade de normas a classificar."
   ]
  },
  {
   "cell_type": "code",
   "execution_count": 13,
   "metadata": {
    "collapsed": false,
    "pycharm": {
     "name": "#%%\n"
    }
   },
   "outputs": [
    {
     "data": {
      "text/plain": "9856"
     },
     "execution_count": 13,
     "metadata": {},
     "output_type": "execute_result"
    }
   ],
   "source": [
    "normas_nao_classificadas = normas.query(\"COD_CLASSE.isnull()\")\n",
    "normas_nao_classificadas.shape[0]"
   ]
  },
  {
   "cell_type": "markdown",
   "metadata": {
    "collapsed": false,
    "pycharm": {
     "name": "#%% md\n"
    }
   },
   "source": [
    "Verificação da distribuição das classes (em %)."
   ]
  },
  {
   "cell_type": "code",
   "execution_count": 14,
   "metadata": {
    "collapsed": false,
    "pycharm": {
     "name": "#%%\n"
    }
   },
   "outputs": [
    {
     "data": {
      "text/plain": "                                            Frequência  Percentual (%)\nOrçamento Público                                11192       64.181672\nInfraestrutura                                    2508       14.382383\nPolítica Social                                    877        5.029246\nAdministração Pública                              783        4.490194\nHonorífico                                         671        3.847918\nEconomia e Desenvolvimento                         644        3.693084\nJurídico                                           381        2.184884\nSoberania, Defesa Nacional e Ordem Pública         166        0.951944\nOrganização do Estado                              130        0.745498\nMeio Ambiente                                       86        0.493176",
      "text/html": "<div>\n<style scoped>\n    .dataframe tbody tr th:only-of-type {\n        vertical-align: middle;\n    }\n\n    .dataframe tbody tr th {\n        vertical-align: top;\n    }\n\n    .dataframe thead th {\n        text-align: right;\n    }\n</style>\n<table border=\"1\" class=\"dataframe\">\n  <thead>\n    <tr style=\"text-align: right;\">\n      <th></th>\n      <th>Frequência</th>\n      <th>Percentual (%)</th>\n    </tr>\n  </thead>\n  <tbody>\n    <tr>\n      <th>Orçamento Público</th>\n      <td>11192</td>\n      <td>64.181672</td>\n    </tr>\n    <tr>\n      <th>Infraestrutura</th>\n      <td>2508</td>\n      <td>14.382383</td>\n    </tr>\n    <tr>\n      <th>Política Social</th>\n      <td>877</td>\n      <td>5.029246</td>\n    </tr>\n    <tr>\n      <th>Administração Pública</th>\n      <td>783</td>\n      <td>4.490194</td>\n    </tr>\n    <tr>\n      <th>Honorífico</th>\n      <td>671</td>\n      <td>3.847918</td>\n    </tr>\n    <tr>\n      <th>Economia e Desenvolvimento</th>\n      <td>644</td>\n      <td>3.693084</td>\n    </tr>\n    <tr>\n      <th>Jurídico</th>\n      <td>381</td>\n      <td>2.184884</td>\n    </tr>\n    <tr>\n      <th>Soberania, Defesa Nacional e Ordem Pública</th>\n      <td>166</td>\n      <td>0.951944</td>\n    </tr>\n    <tr>\n      <th>Organização do Estado</th>\n      <td>130</td>\n      <td>0.745498</td>\n    </tr>\n    <tr>\n      <th>Meio Ambiente</th>\n      <td>86</td>\n      <td>0.493176</td>\n    </tr>\n  </tbody>\n</table>\n</div>"
     },
     "execution_count": 14,
     "metadata": {},
     "output_type": "execute_result"
    }
   ],
   "source": [
    "frequencia = normas_classificadas[\"DES_CLASSE\"].value_counts()\n",
    "percentual = normas_classificadas[\"DES_CLASSE\"].value_counts(normalize=True) * 100\n",
    "distribuicao_classes = pd.DataFrame({'Frequência': frequencia, 'Percentual (%)': percentual})\n",
    "distribuicao_classes.sort_values(by=\"Frequência\", ascending=False)"
   ]
  },
  {
   "cell_type": "markdown",
   "metadata": {
    "collapsed": false,
    "pycharm": {
     "name": "#%% md\n"
    }
   },
   "source": [
    "## 2 - Estruturação do texto\n",
    "***"
   ]
  },
  {
   "cell_type": "markdown",
   "metadata": {
    "collapsed": false,
    "pycharm": {
     "name": "#%% md\n"
    }
   },
   "source": [
    "Definição das funções para a tarefa de criação das matrizes de documentos (texto da ementa)"
   ]
  },
  {
   "cell_type": "code",
   "execution_count": 15,
   "metadata": {
    "collapsed": false,
    "pycharm": {
     "name": "#%%\n"
    }
   },
   "outputs": [],
   "source": [
    "# Divide um texto em tokens utilizando a biblioteca de NLP nltk\n",
    "def tokenizador(texto):\n",
    "    texto = texto.lower()\n",
    "    lista_alfanumerica = []\n",
    "\n",
    "    for token_valido in nltk.word_tokenize(texto, language=\"portuguese\"):\n",
    "        # Se for caracter de pontuação ou for stopword\n",
    "        if token_valido in string.punctuation:\n",
    "            continue\n",
    "        # elif token_valido in nltk.corpus.stopwords.words('portuguese'):\n",
    "        #     continue\n",
    "\n",
    "        lista_alfanumerica.append(token_valido)\n",
    "\n",
    "    return lista_alfanumerica"
   ]
  },
  {
   "cell_type": "code",
   "execution_count": 16,
   "metadata": {
    "collapsed": false,
    "pycharm": {
     "name": "#%%\n"
    }
   },
   "outputs": [],
   "source": [
    "# Combinação de vetores por soma\n",
    "def combinacao_vetores(palavras_numeros, skipgram):\n",
    "    vetor_resultante = np.zeros(300)\n",
    "\n",
    "    for pn in palavras_numeros:\n",
    "        try:\n",
    "            vetor_resultante += skipgram.get_vector(pn)\n",
    "        except KeyError:\n",
    "            if pn.isnumeric():\n",
    "                pn = \"0\" * len(pn) # \"0, 00, 000, 0000, etc. dependendo do tamanho de caracteres do número\n",
    "                vetor_resultante += skipgram.get_vector(pn)\n",
    "            else:\n",
    "                vetor_resultante += skipgram.get_vector(\"unknown\")\n",
    "\n",
    "    return vetor_resultante"
   ]
  },
  {
   "cell_type": "code",
   "execution_count": 17,
   "metadata": {
    "collapsed": false,
    "pycharm": {
     "name": "#%%\n"
    }
   },
   "outputs": [],
   "source": [
    "def matriz_word_embeddings(textos, skipgram):\n",
    "    x = len(textos)\n",
    "    y = 300 # número de dimensões do skipgram (skip300)\n",
    "    matriz = np.zeros((x, y))\n",
    "\n",
    "    for i in range(x):\n",
    "        palavras_numeros = tokenizador(textos.iloc[i])\n",
    "        matriz[i] = combinacao_vetores(palavras_numeros, skipgram)\n",
    "\n",
    "    return matriz"
   ]
  },
  {
   "cell_type": "markdown",
   "metadata": {
    "collapsed": false,
    "pycharm": {
     "name": "#%% md\n"
    }
   },
   "source": [
    "Carrega o word embeddings (Word2Vec - Skipgram) pré-treinado pelo NILC (Núcleo Interinstitucional de Linguística Computacional)."
   ]
  },
  {
   "cell_type": "code",
   "execution_count": 18,
   "metadata": {
    "collapsed": false,
    "pycharm": {
     "name": "#%%\n"
    }
   },
   "outputs": [],
   "source": [
    "# Carrega o word embeddings skip-gram\n",
    "skipgram = KeyedVectors.load_word2vec_format(\"dados/skip_s300.txt\")"
   ]
  },
  {
   "cell_type": "markdown",
   "metadata": {
    "collapsed": false,
    "pycharm": {
     "name": "#%% md\n"
    }
   },
   "source": [
    "Criação da matriz de documentos do corpus (conjunto de ementas), aqui representada por matrizes de word embeddings (cada ementa é vetorizada assim como o word embeddings pré-treinado). Também é feita a separação das classes (labels)."
   ]
  },
  {
   "cell_type": "code",
   "execution_count": 19,
   "metadata": {
    "collapsed": false,
    "pycharm": {
     "name": "#%%\n"
    }
   },
   "outputs": [],
   "source": [
    "X = matriz_word_embeddings(normas_classificadas[\"TXT_EMENTA\"], skipgram)\n",
    "y = normas_classificadas[\"DES_CLASSE\"]"
   ]
  },
  {
   "cell_type": "markdown",
   "metadata": {
    "collapsed": false,
    "pycharm": {
     "name": "#%% md\n"
    }
   },
   "source": [
    "## 3 - Treinamento e predição do modelo de Machine Learning para classificação"
   ]
  },
  {
   "cell_type": "markdown",
   "source": [
    "Separação inicial dos dados. Para a avaliação inicial dos modelos de ML, a proporção será de 70% para treino e 30% para testes."
   ],
   "metadata": {
    "collapsed": false,
    "pycharm": {
     "name": "#%% md\n"
    }
   }
  },
  {
   "cell_type": "code",
   "execution_count": 20,
   "outputs": [],
   "source": [
    "X_treino, X_teste, y_treino, y_teste = train_test_split(X, y, test_size=0.3, stratify=y, random_state=42)"
   ],
   "metadata": {
    "collapsed": false,
    "pycharm": {
     "name": "#%%\n"
    }
   }
  },
  {
   "cell_type": "markdown",
   "source": [
    "### 3.1 - Comparação de modelos"
   ],
   "metadata": {
    "collapsed": false,
    "pycharm": {
     "name": "#%% md\n"
    }
   }
  },
  {
   "cell_type": "markdown",
   "source": [
    "Modelos de classificação a serem comparados."
   ],
   "metadata": {
    "collapsed": false,
    "pycharm": {
     "name": "#%% md\n"
    }
   }
  },
  {
   "cell_type": "code",
   "execution_count": 21,
   "outputs": [],
   "source": [
    "modelos = {\"Dummy\": DummyClassifier(random_state=42),\n",
    "           \"BernoulliNB\": BernoulliNB(binarize=np.median(X_treino)),\n",
    "           \"KNN 1\": KNeighborsClassifier(n_neighbors=1),\n",
    "           \"KNN 3\": KNeighborsClassifier(n_neighbors=3),\n",
    "           \"KNN 5\": KNeighborsClassifier(),\n",
    "           \"KNN 11\": KNeighborsClassifier(n_neighbors=11),\n",
    "           \"DecisionTree\": DecisionTreeClassifier(class_weight=\"balanced\", random_state=42),\n",
    "           \"SVC\": SVC(class_weight=\"balanced\", random_state=42),\n",
    "           \"RandomForest\": RandomForestClassifier(class_weight=\"balanced\", random_state=42),\n",
    "           \"LogisticRegression\": LogisticRegression(max_iter=6000, class_weight=\"balanced\", random_state=42)}"
   ],
   "metadata": {
    "collapsed": false,
    "pycharm": {
     "name": "#%%\n"
    }
   }
  },
  {
   "cell_type": "markdown",
   "source": [
    "Definindo a função para execução dos modelos."
   ],
   "metadata": {
    "collapsed": false,
    "pycharm": {
     "name": "#%% md\n"
    }
   }
  },
  {
   "cell_type": "code",
   "execution_count": 22,
   "outputs": [],
   "source": [
    "def executar_modelo(modelo, X_treino, y_treino, X_teste, y_teste):\n",
    "    modelo.fit(X_treino, y_treino)\n",
    "    y_previsto = modelo.predict(X_teste)\n",
    "    return accuracy_score(y_teste, y_previsto)"
   ],
   "metadata": {
    "collapsed": false,
    "pycharm": {
     "name": "#%%\n"
    }
   }
  },
  {
   "cell_type": "markdown",
   "source": [
    "Executando os modelos de Machine Learning para avaliação."
   ],
   "metadata": {
    "collapsed": false,
    "pycharm": {
     "name": "#%% md\n"
    }
   }
  },
  {
   "cell_type": "code",
   "execution_count": 23,
   "outputs": [
    {
     "name": "stdout",
     "output_type": "stream",
     "text": [
      "Dummy: 0.6418195718654435\n",
      "BernoulliNB: 0.8119266055045872\n",
      "KNN 1: 0.8814984709480123\n",
      "KNN 3: 0.8904816513761468\n",
      "KNN 5: 0.8918195718654435\n",
      "KNN 11: 0.8900993883792049\n",
      "DecisionTree: 0.8232033639143731\n",
      "SVC: 0.8906727828746177\n",
      "RandomForest: 0.8811162079510704\n",
      "LogisticRegression: 0.8950688073394495\n"
     ]
    }
   ],
   "source": [
    "scores = []\n",
    "for nome, modelo in modelos.items():\n",
    "    score = executar_modelo(modelo, X_treino, y_treino, X_teste, y_teste)\n",
    "    scores.append(score)\n",
    "    print(f\"{nome}: {score}\")"
   ],
   "metadata": {
    "collapsed": false,
    "pycharm": {
     "name": "#%%\n"
    }
   }
  },
  {
   "cell_type": "markdown",
   "metadata": {
    "collapsed": false,
    "pycharm": {
     "name": "#%% md\n"
    }
   },
   "source": [
    "Treinamento e predição do classificador por Regressão Logística."
   ]
  },
  {
   "cell_type": "code",
   "execution_count": 24,
   "metadata": {
    "collapsed": false,
    "pycharm": {
     "name": "#%%\n"
    }
   },
   "outputs": [],
   "source": [
    "lr = LogisticRegression(max_iter=6000, class_weight=\"balanced\", random_state=42)\n",
    "lr.fit(X_treino, y_treino)\n",
    "y_previsto = lr.predict(X_teste)"
   ]
  },
  {
   "cell_type": "markdown",
   "metadata": {
    "collapsed": false,
    "pycharm": {
     "name": "#%% md\n"
    }
   },
   "source": [
    "### 3.2 - Avaliando o modelo de maior acurácia"
   ]
  },
  {
   "cell_type": "markdown",
   "metadata": {
    "collapsed": false,
    "pycharm": {
     "name": "#%% md\n"
    }
   },
   "source": [
    "Exibe os relatórios de desempenho do modelo de maior acurácia (LogisticRegression)."
   ]
  },
  {
   "cell_type": "code",
   "execution_count": 25,
   "outputs": [
    {
     "name": "stdout",
     "output_type": "stream",
     "text": [
      "Acurácia LogisticRegression: 0.9\n",
      "                                            precision    recall  f1-score   support\n",
      "\n",
      "                     Administração Pública       0.61      0.54      0.57       235\n",
      "                Economia e Desenvolvimento       0.50      0.59      0.54       193\n",
      "                                Honorífico       0.92      0.88      0.90       201\n",
      "                            Infraestrutura       0.96      0.96      0.96       753\n",
      "                                  Jurídico       0.45      0.49      0.47       114\n",
      "                             Meio Ambiente       0.40      0.38      0.39        26\n",
      "                     Organização do Estado       0.17      0.31      0.22        39\n",
      "                         Orçamento Público       1.00      0.98      0.99      3358\n",
      "                           Política Social       0.61      0.60      0.60       263\n",
      "Soberania, Defesa Nacional e Ordem Pública       0.26      0.32      0.29        50\n",
      "\n",
      "                                  accuracy                           0.90      5232\n",
      "                                 macro avg       0.59      0.60      0.59      5232\n",
      "                              weighted avg       0.90      0.90      0.90      5232\n",
      "\n"
     ]
    }
   ],
   "source": [
    "acuracia = accuracy_score(y_teste, y_previsto)\n",
    "print(\"Acurácia LogisticRegression:\",  round(acuracia, 2))\n",
    "\n",
    "cr = classification_report(y_teste, y_previsto)\n",
    "print(cr)"
   ],
   "metadata": {
    "collapsed": false,
    "pycharm": {
     "name": "#%%\n"
    }
   }
  },
  {
   "cell_type": "markdown",
   "source": [
    "### 3.3 - Criando _baseline_ do dataset com redução das classes majoritárias"
   ],
   "metadata": {
    "collapsed": false,
    "pycharm": {
     "name": "#%% md\n"
    }
   }
  },
  {
   "cell_type": "markdown",
   "source": [
    "Para tentar diminuir o desbalanceamento dos dados, o número de amostras das duas classes majoritárias (Orçamento Público e Infraestrutura) será diminuído para 1000 cada."
   ],
   "metadata": {
    "collapsed": false,
    "pycharm": {
     "name": "#%% md\n"
    }
   }
  },
  {
   "cell_type": "code",
   "execution_count": 26,
   "outputs": [
    {
     "data": {
      "text/plain": "                                            Frequência  Percentual (%)\nInfraestrutura                                    1000       17.427675\nOrçamento Público                                 1000       17.427675\nPolítica Social                                    877       15.284071\nAdministração Pública                              783       13.645870\nHonorífico                                         671       11.693970\nEconomia e Desenvolvimento                         644       11.223423\nJurídico                                           381        6.639944\nSoberania, Defesa Nacional e Ordem Pública         166        2.892994\nOrganização do Estado                              130        2.265598\nMeio Ambiente                                       86        1.498780",
      "text/html": "<div>\n<style scoped>\n    .dataframe tbody tr th:only-of-type {\n        vertical-align: middle;\n    }\n\n    .dataframe tbody tr th {\n        vertical-align: top;\n    }\n\n    .dataframe thead th {\n        text-align: right;\n    }\n</style>\n<table border=\"1\" class=\"dataframe\">\n  <thead>\n    <tr style=\"text-align: right;\">\n      <th></th>\n      <th>Frequência</th>\n      <th>Percentual (%)</th>\n    </tr>\n  </thead>\n  <tbody>\n    <tr>\n      <th>Infraestrutura</th>\n      <td>1000</td>\n      <td>17.427675</td>\n    </tr>\n    <tr>\n      <th>Orçamento Público</th>\n      <td>1000</td>\n      <td>17.427675</td>\n    </tr>\n    <tr>\n      <th>Política Social</th>\n      <td>877</td>\n      <td>15.284071</td>\n    </tr>\n    <tr>\n      <th>Administração Pública</th>\n      <td>783</td>\n      <td>13.645870</td>\n    </tr>\n    <tr>\n      <th>Honorífico</th>\n      <td>671</td>\n      <td>11.693970</td>\n    </tr>\n    <tr>\n      <th>Economia e Desenvolvimento</th>\n      <td>644</td>\n      <td>11.223423</td>\n    </tr>\n    <tr>\n      <th>Jurídico</th>\n      <td>381</td>\n      <td>6.639944</td>\n    </tr>\n    <tr>\n      <th>Soberania, Defesa Nacional e Ordem Pública</th>\n      <td>166</td>\n      <td>2.892994</td>\n    </tr>\n    <tr>\n      <th>Organização do Estado</th>\n      <td>130</td>\n      <td>2.265598</td>\n    </tr>\n    <tr>\n      <th>Meio Ambiente</th>\n      <td>86</td>\n      <td>1.498780</td>\n    </tr>\n  </tbody>\n</table>\n</div>"
     },
     "execution_count": 26,
     "metadata": {},
     "output_type": "execute_result"
    }
   ],
   "source": [
    "rus = RandomUnderSampler(sampling_strategy={\"Orçamento Público\": 1000, \"Infraestrutura\": 1000}, random_state=42)\n",
    "X_res, y_res = rus.fit_resample(X, y)\n",
    "\n",
    "frequencia_res = y_res.value_counts()\n",
    "percentual_res = y_res.value_counts(normalize=True) * 100\n",
    "distribuicao_classes_res = pd.DataFrame({'Frequência': frequencia_res, 'Percentual (%)': percentual_res})\n",
    "distribuicao_classes_res.sort_values(by=\"Frequência\", ascending=False)"
   ],
   "metadata": {
    "collapsed": false,
    "pycharm": {
     "name": "#%%\n"
    }
   }
  },
  {
   "cell_type": "markdown",
   "source": [
    "Dividindo o dataset na mesma proporção treino/teste anterior (70%/30%)."
   ],
   "metadata": {
    "collapsed": false,
    "pycharm": {
     "name": "#%% md\n"
    }
   }
  },
  {
   "cell_type": "code",
   "execution_count": 27,
   "outputs": [],
   "source": [
    "X_treino_res, X_teste_res, y_treino_res, y_teste_res = train_test_split(X_res, y_res, test_size=0.3, stratify=y_res, random_state=42)"
   ],
   "metadata": {
    "collapsed": false,
    "pycharm": {
     "name": "#%%\n"
    }
   }
  },
  {
   "cell_type": "markdown",
   "source": [
    "Comparando modelos com o novo dataset reduzido."
   ],
   "metadata": {
    "collapsed": false,
    "pycharm": {
     "name": "#%% md\n"
    }
   }
  },
  {
   "cell_type": "code",
   "execution_count": 28,
   "outputs": [
    {
     "name": "stdout",
     "output_type": "stream",
     "text": [
      "Dummy: 0.17421602787456447\n",
      "BernoulliNB: 0.6347270615563299\n",
      "KNN 1: 0.6817653890824622\n",
      "KNN 3: 0.705574912891986\n",
      "KNN 5: 0.7154471544715447\n",
      "KNN 11: 0.7038327526132404\n",
      "DecisionTree: 0.554006968641115\n",
      "SVC: 0.7212543554006968\n",
      "RandomForest: 0.7003484320557491\n",
      "LogisticRegression: 0.7131242740998839\n"
     ]
    }
   ],
   "source": [
    "scores = []\n",
    "for nome, modelo in modelos.items():\n",
    "    score = executar_modelo(modelo, X_treino_res, y_treino_res, X_teste_res, y_teste_res)\n",
    "    scores.append(score)\n",
    "    print(f\"{nome}: {score}\")"
   ],
   "metadata": {
    "collapsed": false,
    "pycharm": {
     "name": "#%%\n"
    }
   }
  },
  {
   "cell_type": "markdown",
   "source": [
    "Treinando e avaliando o novo modelo (LogisticRegression) com dataset reduzido."
   ],
   "metadata": {
    "collapsed": false,
    "pycharm": {
     "name": "#%% md\n"
    }
   }
  },
  {
   "cell_type": "code",
   "execution_count": 29,
   "outputs": [],
   "source": [
    "lr_res = LogisticRegression(max_iter=6000, class_weight=\"balanced\", random_state=42)\n",
    "lr_res.fit(X_treino_res, y_treino_res)\n",
    "y_previsto_res = lr_res.predict(X_teste_res)"
   ],
   "metadata": {
    "collapsed": false,
    "pycharm": {
     "name": "#%%\n"
    }
   }
  },
  {
   "cell_type": "code",
   "execution_count": 30,
   "outputs": [
    {
     "name": "stdout",
     "output_type": "stream",
     "text": [
      "Acurácia LogisticRegression: 0.71\n",
      "                                            precision    recall  f1-score   support\n",
      "\n",
      "                     Administração Pública       0.59      0.53      0.56       235\n",
      "                Economia e Desenvolvimento       0.57      0.53      0.55       193\n",
      "                                Honorífico       0.89      0.93      0.91       202\n",
      "                            Infraestrutura       0.94      0.93      0.93       300\n",
      "                                  Jurídico       0.48      0.56      0.52       114\n",
      "                             Meio Ambiente       0.36      0.35      0.35        26\n",
      "                     Organização do Estado       0.24      0.49      0.32        39\n",
      "                         Orçamento Público       0.98      0.97      0.98       300\n",
      "                           Política Social       0.57      0.52      0.55       263\n",
      "Soberania, Defesa Nacional e Ordem Pública       0.28      0.30      0.29        50\n",
      "\n",
      "                                  accuracy                           0.71      1722\n",
      "                                 macro avg       0.59      0.61      0.60      1722\n",
      "                              weighted avg       0.72      0.71      0.72      1722\n",
      "\n"
     ]
    }
   ],
   "source": [
    "acuracia_res = accuracy_score(y_teste_res, y_previsto_res)\n",
    "print(\"Acurácia LogisticRegression:\", round(acuracia_res, 2))\n",
    "\n",
    "cr_res = classification_report(y_teste_res, y_previsto_res)\n",
    "print(cr_res)"
   ],
   "metadata": {
    "collapsed": false,
    "pycharm": {
     "name": "#%%\n"
    }
   }
  },
  {
   "cell_type": "code",
   "execution_count": 30,
   "outputs": [],
   "source": [],
   "metadata": {
    "collapsed": false,
    "pycharm": {
     "name": "#%%\n"
    }
   }
  }
 ],
 "metadata": {
  "kernelspec": {
   "display_name": "Python 3.9.12 ('base')",
   "language": "python",
   "name": "python3"
  },
  "language_info": {
   "codemirror_mode": {
    "name": "ipython",
    "version": 3
   },
   "file_extension": ".py",
   "mimetype": "text/x-python",
   "name": "python",
   "nbconvert_exporter": "python",
   "pygments_lexer": "ipython3",
   "version": "3.9.12"
  },
  "vscode": {
   "interpreter": {
    "hash": "81e257058df10583e9d8d11ec74e8dbfa2c26d0d059139d21bb13510adff3663"
   }
  }
 },
 "nbformat": 4,
 "nbformat_minor": 0
}