{
 "cells": [
  {
   "cell_type": "markdown",
   "metadata": {
    "collapsed": false,
    "pycharm": {
     "name": "#%% md\n"
    }
   },
   "source": [
    "# Trabalho Final de Mineração de Dados"
   ]
  },
  {
   "cell_type": "markdown",
   "metadata": {
    "collapsed": false,
    "pycharm": {
     "name": "#%% md\n"
    }
   },
   "source": [
    "## Importando bibliotecas"
   ]
  },
  {
   "cell_type": "code",
   "execution_count": 1,
   "metadata": {
    "collapsed": false,
    "pycharm": {
     "name": "#%%\n"
    }
   },
   "outputs": [
    {
     "name": "stderr",
     "output_type": "stream",
     "text": [
      "C:\\Users\\demet\\AppData\\Roaming\\Python\\Python39\\site-packages\\numpy\\_distributor_init.py:30: UserWarning: loaded more than 1 DLL from .libs:\n",
      "C:\\Users\\demet\\AppData\\Roaming\\Python\\Python39\\site-packages\\numpy\\.libs\\libopenblas.EL2C6PLE4ZYW3ECEVIV3OXXGRN2NRFM2.gfortran-win_amd64.dll\n",
      "C:\\Users\\demet\\AppData\\Roaming\\Python\\Python39\\site-packages\\numpy\\.libs\\libopenblas.FB5AE2TYXYH2IJRDKGDGQ3XBKLKTF43H.gfortran-win_amd64.dll\n",
      "  warnings.warn(\"loaded more than 1 DLL from .libs:\"\n",
      "[nltk_data] Downloading package punkt to\n",
      "[nltk_data]     C:\\Users\\demet\\AppData\\Roaming\\nltk_data...\n",
      "[nltk_data]   Package punkt is already up-to-date!\n",
      "[nltk_data] Downloading package stopwords to\n",
      "[nltk_data]     C:\\Users\\demet\\AppData\\Roaming\\nltk_data...\n",
      "[nltk_data]   Package stopwords is already up-to-date!\n"
     ]
    },
    {
     "data": {
      "text/plain": [
       "True"
      ]
     },
     "execution_count": 1,
     "metadata": {},
     "output_type": "execute_result"
    }
   ],
   "source": [
    "from gensim.models import KeyedVectors\n",
    "from sklearn.model_selection import train_test_split\n",
    "from sklearn.linear_model import LogisticRegression\n",
    "from sklearn.metrics import classification_report\n",
    "from sklearn.dummy import DummyClassifier\n",
    "from sklearn import metrics\n",
    "from collections import Counter\n",
    "import pandas as pd\n",
    "import numpy as np\n",
    "import nltk\n",
    "import string\n",
    "nltk.download(\"punkt\")\n",
    "nltk.download(\"stopwords\")"
   ]
  },
  {
   "cell_type": "markdown",
   "metadata": {
    "collapsed": false,
    "pycharm": {
     "name": "#%% md\n"
    }
   },
   "source": [
    "## 1 - Fase de Preparação dos Dados\n",
    "---"
   ]
  },
  {
   "cell_type": "markdown",
   "metadata": {
    "collapsed": false,
    "pycharm": {
     "name": "#%% md\n"
    }
   },
   "source": [
    "Carregando o arquivo original de classes."
   ]
  },
  {
   "cell_type": "code",
   "execution_count": 2,
   "metadata": {
    "collapsed": false,
    "pycharm": {
     "name": "#%%\n"
    }
   },
   "outputs": [
    {
     "data": {
      "text/html": [
       "<div>\n",
       "<style scoped>\n",
       "    .dataframe tbody tr th:only-of-type {\n",
       "        vertical-align: middle;\n",
       "    }\n",
       "\n",
       "    .dataframe tbody tr th {\n",
       "        vertical-align: top;\n",
       "    }\n",
       "\n",
       "    .dataframe thead th {\n",
       "        text-align: right;\n",
       "    }\n",
       "</style>\n",
       "<table border=\"1\" class=\"dataframe\">\n",
       "  <thead>\n",
       "    <tr style=\"text-align: right;\">\n",
       "      <th></th>\n",
       "      <th></th>\n",
       "      <th>COD_CLASSE</th>\n",
       "      <th>DES_NOME_PREFERIDO</th>\n",
       "      <th>COD_CLASSE_PAI</th>\n",
       "      <th>NUM_NIVEL</th>\n",
       "      <th>CYCLE</th>\n",
       "      <th>TREE</th>\n",
       "      <th>PATH</th>\n",
       "      <th>QTD_FILHOS</th>\n",
       "      <th>DES_NIVEL1</th>\n",
       "      <th>DES_NIVEL2</th>\n",
       "      <th>DES_NIVEL3</th>\n",
       "      <th>DES_NIVEL4</th>\n",
       "    </tr>\n",
       "  </thead>\n",
       "  <tbody>\n",
       "    <tr>\n",
       "      <th>0</th>\n",
       "      <td>1</td>\n",
       "      <td>33254494</td>\n",
       "      <td>Classificação Temática Unificada</td>\n",
       "      <td>NaN</td>\n",
       "      <td>1</td>\n",
       "      <td>0</td>\n",
       "      <td>Classificação Temática Unificada</td>\n",
       "      <td>Classificação Temática Unificada</td>\n",
       "      <td>202</td>\n",
       "      <td>NaN</td>\n",
       "      <td>NaN</td>\n",
       "      <td>NaN</td>\n",
       "      <td>NaN</td>\n",
       "    </tr>\n",
       "    <tr>\n",
       "      <th>1</th>\n",
       "      <td>2</td>\n",
       "      <td>33809814</td>\n",
       "      <td>Temas Exclusivos de Pronunciamentos</td>\n",
       "      <td>33254494.0</td>\n",
       "      <td>2</td>\n",
       "      <td>0</td>\n",
       "      <td>-- Temas Exclusivos de Pronunciamentos</td>\n",
       "      <td>Classificação Temática Unificada / Temas Exclu...</td>\n",
       "      <td>22</td>\n",
       "      <td>Temas Exclusivos de Pronunciamentos</td>\n",
       "      <td>NaN</td>\n",
       "      <td>NaN</td>\n",
       "      <td>NaN</td>\n",
       "    </tr>\n",
       "    <tr>\n",
       "      <th>2</th>\n",
       "      <td>3</td>\n",
       "      <td>33809634</td>\n",
       "      <td>Meio Ambiente</td>\n",
       "      <td>33254494.0</td>\n",
       "      <td>2</td>\n",
       "      <td>0</td>\n",
       "      <td>-- Meio Ambiente</td>\n",
       "      <td>Classificação Temática Unificada / Meio Ambiente</td>\n",
       "      <td>11</td>\n",
       "      <td>Meio Ambiente</td>\n",
       "      <td>NaN</td>\n",
       "      <td>NaN</td>\n",
       "      <td>NaN</td>\n",
       "    </tr>\n",
       "    <tr>\n",
       "      <th>3</th>\n",
       "      <td>4</td>\n",
       "      <td>33809514</td>\n",
       "      <td>Soberania, Defesa Nacional e Ordem Pública</td>\n",
       "      <td>33254494.0</td>\n",
       "      <td>2</td>\n",
       "      <td>0</td>\n",
       "      <td>-- Soberania, Defesa Nacional e Ordem Pública</td>\n",
       "      <td>Classificação Temática Unificada / Soberania, ...</td>\n",
       "      <td>7</td>\n",
       "      <td>Soberania, Defesa Nacional e Ordem Pública</td>\n",
       "      <td>NaN</td>\n",
       "      <td>NaN</td>\n",
       "      <td>NaN</td>\n",
       "    </tr>\n",
       "    <tr>\n",
       "      <th>4</th>\n",
       "      <td>5</td>\n",
       "      <td>33808912</td>\n",
       "      <td>Política Social</td>\n",
       "      <td>33254494.0</td>\n",
       "      <td>2</td>\n",
       "      <td>0</td>\n",
       "      <td>-- Política Social</td>\n",
       "      <td>Classificação Temática Unificada / Política So...</td>\n",
       "      <td>37</td>\n",
       "      <td>Política Social</td>\n",
       "      <td>NaN</td>\n",
       "      <td>NaN</td>\n",
       "      <td>NaN</td>\n",
       "    </tr>\n",
       "  </tbody>\n",
       "</table>\n",
       "</div>"
      ],
      "text/plain": [
       "        COD_CLASSE                          DES_NOME_PREFERIDO  \\\n",
       "0    1    33254494            Classificação Temática Unificada   \n",
       "1    2    33809814         Temas Exclusivos de Pronunciamentos   \n",
       "2    3    33809634                               Meio Ambiente   \n",
       "3    4    33809514  Soberania, Defesa Nacional e Ordem Pública   \n",
       "4    5    33808912                             Política Social   \n",
       "\n",
       "   COD_CLASSE_PAI  NUM_NIVEL  CYCLE  \\\n",
       "0             NaN          1      0   \n",
       "1      33254494.0          2      0   \n",
       "2      33254494.0          2      0   \n",
       "3      33254494.0          2      0   \n",
       "4      33254494.0          2      0   \n",
       "\n",
       "                                            TREE  \\\n",
       "0               Classificação Temática Unificada   \n",
       "1         -- Temas Exclusivos de Pronunciamentos   \n",
       "2                               -- Meio Ambiente   \n",
       "3  -- Soberania, Defesa Nacional e Ordem Pública   \n",
       "4                             -- Política Social   \n",
       "\n",
       "                                                PATH  QTD_FILHOS  \\\n",
       "0                   Classificação Temática Unificada         202   \n",
       "1  Classificação Temática Unificada / Temas Exclu...          22   \n",
       "2   Classificação Temática Unificada / Meio Ambiente          11   \n",
       "3  Classificação Temática Unificada / Soberania, ...           7   \n",
       "4  Classificação Temática Unificada / Política So...          37   \n",
       "\n",
       "                                   DES_NIVEL1 DES_NIVEL2 DES_NIVEL3  \\\n",
       "0                                         NaN        NaN        NaN   \n",
       "1         Temas Exclusivos de Pronunciamentos        NaN        NaN   \n",
       "2                               Meio Ambiente        NaN        NaN   \n",
       "3  Soberania, Defesa Nacional e Ordem Pública        NaN        NaN   \n",
       "4                             Política Social        NaN        NaN   \n",
       "\n",
       "   DES_NIVEL4  \n",
       "0         NaN  \n",
       "1         NaN  \n",
       "2         NaN  \n",
       "3         NaN  \n",
       "4         NaN  "
      ]
     },
     "execution_count": 2,
     "metadata": {},
     "output_type": "execute_result"
    }
   ],
   "source": [
    "classes_original = pd.read_excel(\"dados/SistemaDeClassificacao.xlsx\", \"Select viw_classificacao_arvore\")\n",
    "classes_original.head()"
   ]
  },
  {
   "cell_type": "markdown",
   "metadata": {
    "collapsed": false,
    "pycharm": {
     "name": "#%% md\n"
    }
   },
   "source": [
    "Filtra o arquivo de classes original para exibir apenas aquelas que serão raiz na classificação da ementa.\n",
    "Essa classes possuem nível 2 na tabela original."
   ]
  },
  {
   "cell_type": "code",
   "execution_count": 3,
   "metadata": {
    "collapsed": false,
    "pycharm": {
     "name": "#%%\n"
    }
   },
   "outputs": [
    {
     "data": {
      "text/html": [
       "<div>\n",
       "<style scoped>\n",
       "    .dataframe tbody tr th:only-of-type {\n",
       "        vertical-align: middle;\n",
       "    }\n",
       "\n",
       "    .dataframe tbody tr th {\n",
       "        vertical-align: top;\n",
       "    }\n",
       "\n",
       "    .dataframe thead th {\n",
       "        text-align: right;\n",
       "    }\n",
       "</style>\n",
       "<table border=\"1\" class=\"dataframe\">\n",
       "  <thead>\n",
       "    <tr style=\"text-align: right;\">\n",
       "      <th></th>\n",
       "      <th>COD_CLASSE</th>\n",
       "      <th>DES_CLASSE</th>\n",
       "    </tr>\n",
       "  </thead>\n",
       "  <tbody>\n",
       "    <tr>\n",
       "      <th>1</th>\n",
       "      <td>33809814</td>\n",
       "      <td>Temas Exclusivos de Pronunciamentos</td>\n",
       "    </tr>\n",
       "    <tr>\n",
       "      <th>2</th>\n",
       "      <td>33809634</td>\n",
       "      <td>Meio Ambiente</td>\n",
       "    </tr>\n",
       "    <tr>\n",
       "      <th>3</th>\n",
       "      <td>33809514</td>\n",
       "      <td>Soberania, Defesa Nacional e Ordem Pública</td>\n",
       "    </tr>\n",
       "    <tr>\n",
       "      <th>4</th>\n",
       "      <td>33808912</td>\n",
       "      <td>Política Social</td>\n",
       "    </tr>\n",
       "    <tr>\n",
       "      <th>5</th>\n",
       "      <td>33805362</td>\n",
       "      <td>Jurídico</td>\n",
       "    </tr>\n",
       "    <tr>\n",
       "      <th>6</th>\n",
       "      <td>33805317</td>\n",
       "      <td>Honorífico</td>\n",
       "    </tr>\n",
       "    <tr>\n",
       "      <th>7</th>\n",
       "      <td>33805137</td>\n",
       "      <td>Infraestrutura</td>\n",
       "    </tr>\n",
       "    <tr>\n",
       "      <th>8</th>\n",
       "      <td>33769167</td>\n",
       "      <td>Economia e Desenvolvimento</td>\n",
       "    </tr>\n",
       "    <tr>\n",
       "      <th>9</th>\n",
       "      <td>33768972</td>\n",
       "      <td>Organização do Estado</td>\n",
       "    </tr>\n",
       "    <tr>\n",
       "      <th>10</th>\n",
       "      <td>33685789</td>\n",
       "      <td>Administração Pública</td>\n",
       "    </tr>\n",
       "    <tr>\n",
       "      <th>11</th>\n",
       "      <td>33260515</td>\n",
       "      <td>Orçamento Público</td>\n",
       "    </tr>\n",
       "  </tbody>\n",
       "</table>\n",
       "</div>"
      ],
      "text/plain": [
       "    COD_CLASSE                                  DES_CLASSE\n",
       "1     33809814         Temas Exclusivos de Pronunciamentos\n",
       "2     33809634                               Meio Ambiente\n",
       "3     33809514  Soberania, Defesa Nacional e Ordem Pública\n",
       "4     33808912                             Política Social\n",
       "5     33805362                                    Jurídico\n",
       "6     33805317                                  Honorífico\n",
       "7     33805137                              Infraestrutura\n",
       "8     33769167                  Economia e Desenvolvimento\n",
       "9     33768972                       Organização do Estado\n",
       "10    33685789                       Administração Pública\n",
       "11    33260515                           Orçamento Público"
      ]
     },
     "execution_count": 3,
     "metadata": {},
     "output_type": "execute_result"
    }
   ],
   "source": [
    "classes_raiz = classes_original.query(\"NUM_NIVEL == 2\").filter([\"COD_CLASSE\", \"DES_NOME_PREFERIDO\"])\n",
    "classes_raiz.rename(columns={\"DES_NOME_PREFERIDO\": \"DES_CLASSE\"}, inplace=True)\n",
    "classes_raiz"
   ]
  },
  {
   "cell_type": "markdown",
   "metadata": {
    "collapsed": false,
    "pycharm": {
     "name": "#%% md\n"
    }
   },
   "source": [
    "Carrega o dataset contendo as leis que já foram classificadas. Com os dados carregados, cria uma coluna derivada (DES_CLASSE_RAIZ) a partir da árvore de classes (DES_CLASSE_HIERARQUIA), da qual a informação de classe raiz é extraída."
   ]
  },
  {
   "cell_type": "code",
   "execution_count": 4,
   "metadata": {
    "collapsed": false,
    "pycharm": {
     "name": "#%%\n"
    }
   },
   "outputs": [
    {
     "data": {
      "text/html": [
       "<div>\n",
       "<style scoped>\n",
       "    .dataframe tbody tr th:only-of-type {\n",
       "        vertical-align: middle;\n",
       "    }\n",
       "\n",
       "    .dataframe tbody tr th {\n",
       "        vertical-align: top;\n",
       "    }\n",
       "\n",
       "    .dataframe thead th {\n",
       "        text-align: right;\n",
       "    }\n",
       "</style>\n",
       "<table border=\"1\" class=\"dataframe\">\n",
       "  <thead>\n",
       "    <tr style=\"text-align: right;\">\n",
       "      <th></th>\n",
       "      <th></th>\n",
       "      <th>COD_PRC_DOC_TEMA</th>\n",
       "      <th>COD_PROCESSO_DOCUMENTO</th>\n",
       "      <th>COD_CLASSE</th>\n",
       "      <th>DES_CLASSE</th>\n",
       "      <th>DES_CLASSE_HIERARQUIA</th>\n",
       "      <th>DES_CLASSE_RAIZ</th>\n",
       "    </tr>\n",
       "  </thead>\n",
       "  <tbody>\n",
       "    <tr>\n",
       "      <th>0</th>\n",
       "      <td>1</td>\n",
       "      <td>36155183</td>\n",
       "      <td>386343</td>\n",
       "      <td>33805827</td>\n",
       "      <td>Crédito Suplementar</td>\n",
       "      <td>Classificação Temática Unificada / Orçamento P...</td>\n",
       "      <td>Orçamento Público</td>\n",
       "    </tr>\n",
       "    <tr>\n",
       "      <th>1</th>\n",
       "      <td>2</td>\n",
       "      <td>36192020</td>\n",
       "      <td>386579</td>\n",
       "      <td>33805287</td>\n",
       "      <td>Rádio e TV</td>\n",
       "      <td>Classificação Temática Unificada / Infraestrut...</td>\n",
       "      <td>Infraestrutura</td>\n",
       "    </tr>\n",
       "    <tr>\n",
       "      <th>2</th>\n",
       "      <td>3</td>\n",
       "      <td>36155185</td>\n",
       "      <td>387419</td>\n",
       "      <td>33805827</td>\n",
       "      <td>Crédito Suplementar</td>\n",
       "      <td>Classificação Temática Unificada / Orçamento P...</td>\n",
       "      <td>Orçamento Público</td>\n",
       "    </tr>\n",
       "    <tr>\n",
       "      <th>3</th>\n",
       "      <td>4</td>\n",
       "      <td>36192056</td>\n",
       "      <td>387832</td>\n",
       "      <td>33805287</td>\n",
       "      <td>Rádio e TV</td>\n",
       "      <td>Classificação Temática Unificada / Infraestrut...</td>\n",
       "      <td>Infraestrutura</td>\n",
       "    </tr>\n",
       "    <tr>\n",
       "      <th>4</th>\n",
       "      <td>5</td>\n",
       "      <td>36155187</td>\n",
       "      <td>388197</td>\n",
       "      <td>33805827</td>\n",
       "      <td>Crédito Suplementar</td>\n",
       "      <td>Classificação Temática Unificada / Orçamento P...</td>\n",
       "      <td>Orçamento Público</td>\n",
       "    </tr>\n",
       "  </tbody>\n",
       "</table>\n",
       "</div>"
      ],
      "text/plain": [
       "        COD_PRC_DOC_TEMA  COD_PROCESSO_DOCUMENTO  COD_CLASSE  \\\n",
       "0    1          36155183                  386343    33805827   \n",
       "1    2          36192020                  386579    33805287   \n",
       "2    3          36155185                  387419    33805827   \n",
       "3    4          36192056                  387832    33805287   \n",
       "4    5          36155187                  388197    33805827   \n",
       "\n",
       "            DES_CLASSE                              DES_CLASSE_HIERARQUIA  \\\n",
       "0  Crédito Suplementar  Classificação Temática Unificada / Orçamento P...   \n",
       "1           Rádio e TV  Classificação Temática Unificada / Infraestrut...   \n",
       "2  Crédito Suplementar  Classificação Temática Unificada / Orçamento P...   \n",
       "3           Rádio e TV  Classificação Temática Unificada / Infraestrut...   \n",
       "4  Crédito Suplementar  Classificação Temática Unificada / Orçamento P...   \n",
       "\n",
       "     DES_CLASSE_RAIZ  \n",
       "0  Orçamento Público  \n",
       "1     Infraestrutura  \n",
       "2  Orçamento Público  \n",
       "3     Infraestrutura  \n",
       "4  Orçamento Público  "
      ]
     },
     "execution_count": 4,
     "metadata": {},
     "output_type": "execute_result"
    }
   ],
   "source": [
    "leis_classificadas_original = pd.read_excel(\"dados/ClassificacaoDeLeisOrdinarias-LeisComplementares-e-DecretosNumerados-Desde1900.xlsx\", \"Select mvw_u03_prc_doc_tema\")\n",
    "leis_classificadas_original[\"DES_CLASSE_RAIZ\"] = leis_classificadas_original[\"DES_CLASSE_HIERARQUIA\"].apply(lambda hierarquia : hierarquia.split(\" / \")[1])\n",
    "leis_classificadas_original.head()"
   ]
  },
  {
   "cell_type": "markdown",
   "metadata": {
    "collapsed": false,
    "pycharm": {
     "name": "#%% md\n"
    }
   },
   "source": [
    "Carrega os dados de todas as leis (classificadas e não classificadas) e aplica as transformações iniciais."
   ]
  },
  {
   "cell_type": "code",
   "execution_count": 5,
   "metadata": {
    "collapsed": false,
    "pycharm": {
     "name": "#%%\n"
    }
   },
   "outputs": [
    {
     "data": {
      "text/html": [
       "<div>\n",
       "<style scoped>\n",
       "    .dataframe tbody tr th:only-of-type {\n",
       "        vertical-align: middle;\n",
       "    }\n",
       "\n",
       "    .dataframe tbody tr th {\n",
       "        vertical-align: top;\n",
       "    }\n",
       "\n",
       "    .dataframe thead th {\n",
       "        text-align: right;\n",
       "    }\n",
       "</style>\n",
       "<table border=\"1\" class=\"dataframe\">\n",
       "  <thead>\n",
       "    <tr style=\"text-align: right;\">\n",
       "      <th></th>\n",
       "      <th>COD_DOCUMENTO</th>\n",
       "      <th>DES_NOME_PREFERIDO</th>\n",
       "      <th>DES_NOMES_ALTERNATIVOS</th>\n",
       "      <th>TXT_EMENTA</th>\n",
       "    </tr>\n",
       "  </thead>\n",
       "  <tbody>\n",
       "    <tr>\n",
       "      <th>0</th>\n",
       "      <td>35345364</td>\n",
       "      <td>Lei nº 14.263 de 22/12/2021</td>\n",
       "      <td>LEI-14263-2021-12-22</td>\n",
       "      <td>Abre ao Orçamento da Seguridade Social da Uniã...</td>\n",
       "    </tr>\n",
       "    <tr>\n",
       "      <th>1</th>\n",
       "      <td>26247104</td>\n",
       "      <td>Lei nº 13.486 de 03/10/2017</td>\n",
       "      <td>LEI-13486-2017-10-03</td>\n",
       "      <td>Altera o art. 8º da Lei nº 8.078, de 11 de set...</td>\n",
       "    </tr>\n",
       "    <tr>\n",
       "      <th>2</th>\n",
       "      <td>27445746</td>\n",
       "      <td>Lei nº 13.701 de 06/08/2018</td>\n",
       "      <td>LEI-13701-2018-08-06</td>\n",
       "      <td>Cria o cargo de natureza especial de Intervent...</td>\n",
       "    </tr>\n",
       "    <tr>\n",
       "      <th>3</th>\n",
       "      <td>36348502</td>\n",
       "      <td>Lei nº 14.447 de 09/09/2022</td>\n",
       "      <td>LEI-14447-2022-09-09</td>\n",
       "      <td>Altera os limites da Floresta Nacional de Bras...</td>\n",
       "    </tr>\n",
       "    <tr>\n",
       "      <th>4</th>\n",
       "      <td>32103727</td>\n",
       "      <td>Lei nº 13.988 de 14/04/2020</td>\n",
       "      <td>LEI-13988-2020-04-14</td>\n",
       "      <td>Dispõe sobre a transação nas hipóteses que esp...</td>\n",
       "    </tr>\n",
       "  </tbody>\n",
       "</table>\n",
       "</div>"
      ],
      "text/plain": [
       "   COD_DOCUMENTO           DES_NOME_PREFERIDO DES_NOMES_ALTERNATIVOS  \\\n",
       "0       35345364  Lei nº 14.263 de 22/12/2021   LEI-14263-2021-12-22   \n",
       "1       26247104  Lei nº 13.486 de 03/10/2017   LEI-13486-2017-10-03   \n",
       "2       27445746  Lei nº 13.701 de 06/08/2018   LEI-13701-2018-08-06   \n",
       "3       36348502  Lei nº 14.447 de 09/09/2022   LEI-14447-2022-09-09   \n",
       "4       32103727  Lei nº 13.988 de 14/04/2020   LEI-13988-2020-04-14   \n",
       "\n",
       "                                          TXT_EMENTA  \n",
       "0  Abre ao Orçamento da Seguridade Social da Uniã...  \n",
       "1  Altera o art. 8º da Lei nº 8.078, de 11 de set...  \n",
       "2  Cria o cargo de natureza especial de Intervent...  \n",
       "3  Altera os limites da Floresta Nacional de Bras...  \n",
       "4  Dispõe sobre a transação nas hipóteses que esp...  "
      ]
     },
     "execution_count": 5,
     "metadata": {},
     "output_type": "execute_result"
    }
   ],
   "source": [
    "leis_original = pd.read_excel(\"dados/LeisOrdinarias-LeisComplementare-e-DecretosNumeradosComClassificacaoDesde1900.xlsx\", \"Select mvw_s01_documento\")\n",
    "leis_original.rename(columns={\"DBMS_LOB.SUBSTR(S01.TXT_EMENTA\": \"TXT_EMENTA\"}, inplace=True)\n",
    "leis_original.drop(columns=\"   \", inplace=True)\n",
    "leis_original.head()"
   ]
  },
  {
   "cell_type": "code",
   "execution_count": 6,
   "metadata": {
    "collapsed": false,
    "pycharm": {
     "name": "#%%\n"
    }
   },
   "outputs": [
    {
     "data": {
      "text/plain": [
       "26959"
      ]
     },
     "execution_count": 6,
     "metadata": {},
     "output_type": "execute_result"
    }
   ],
   "source": [
    "leis_original.shape[0]"
   ]
  },
  {
   "cell_type": "markdown",
   "metadata": {
    "collapsed": false,
    "pycharm": {
     "name": "#%% md\n"
    }
   },
   "source": [
    "Com os datasets necessários já carregados, cria-se um novo dataset a partir do dataset contendo todas as leis, incluindo-se a informação das classes contidadas nas leis do dataset de leis classificadas."
   ]
  },
  {
   "cell_type": "code",
   "execution_count": 7,
   "metadata": {
    "collapsed": false,
    "pycharm": {
     "name": "#%%\n"
    }
   },
   "outputs": [
    {
     "data": {
      "text/html": [
       "<div>\n",
       "<style scoped>\n",
       "    .dataframe tbody tr th:only-of-type {\n",
       "        vertical-align: middle;\n",
       "    }\n",
       "\n",
       "    .dataframe tbody tr th {\n",
       "        vertical-align: top;\n",
       "    }\n",
       "\n",
       "    .dataframe thead th {\n",
       "        text-align: right;\n",
       "    }\n",
       "</style>\n",
       "<table border=\"1\" class=\"dataframe\">\n",
       "  <thead>\n",
       "    <tr style=\"text-align: right;\">\n",
       "      <th></th>\n",
       "      <th>COD_DOCUMENTO</th>\n",
       "      <th>DES_NOME_PREFERIDO</th>\n",
       "      <th>DES_NOMES_ALTERNATIVOS</th>\n",
       "      <th>TXT_EMENTA</th>\n",
       "      <th>COD_CLASSE</th>\n",
       "      <th>DES_CLASSE</th>\n",
       "    </tr>\n",
       "  </thead>\n",
       "  <tbody>\n",
       "    <tr>\n",
       "      <th>0</th>\n",
       "      <td>35345364</td>\n",
       "      <td>Lei nº 14.263 de 22/12/2021</td>\n",
       "      <td>LEI-14263-2021-12-22</td>\n",
       "      <td>Abre ao Orçamento da Seguridade Social da Uniã...</td>\n",
       "      <td>33260515.0</td>\n",
       "      <td>Orçamento Público</td>\n",
       "    </tr>\n",
       "    <tr>\n",
       "      <th>1</th>\n",
       "      <td>26247104</td>\n",
       "      <td>Lei nº 13.486 de 03/10/2017</td>\n",
       "      <td>LEI-13486-2017-10-03</td>\n",
       "      <td>Altera o art. 8º da Lei nº 8.078, de 11 de set...</td>\n",
       "      <td>33808912.0</td>\n",
       "      <td>Política Social</td>\n",
       "    </tr>\n",
       "    <tr>\n",
       "      <th>2</th>\n",
       "      <td>27445746</td>\n",
       "      <td>Lei nº 13.701 de 06/08/2018</td>\n",
       "      <td>LEI-13701-2018-08-06</td>\n",
       "      <td>Cria o cargo de natureza especial de Intervent...</td>\n",
       "      <td>33768972.0</td>\n",
       "      <td>Organização do Estado</td>\n",
       "    </tr>\n",
       "    <tr>\n",
       "      <th>3</th>\n",
       "      <td>36348502</td>\n",
       "      <td>Lei nº 14.447 de 09/09/2022</td>\n",
       "      <td>LEI-14447-2022-09-09</td>\n",
       "      <td>Altera os limites da Floresta Nacional de Bras...</td>\n",
       "      <td>33685789.0</td>\n",
       "      <td>Administração Pública</td>\n",
       "    </tr>\n",
       "    <tr>\n",
       "      <th>4</th>\n",
       "      <td>36348502</td>\n",
       "      <td>Lei nº 14.447 de 09/09/2022</td>\n",
       "      <td>LEI-14447-2022-09-09</td>\n",
       "      <td>Altera os limites da Floresta Nacional de Bras...</td>\n",
       "      <td>33809634.0</td>\n",
       "      <td>Meio Ambiente</td>\n",
       "    </tr>\n",
       "  </tbody>\n",
       "</table>\n",
       "</div>"
      ],
      "text/plain": [
       "   COD_DOCUMENTO           DES_NOME_PREFERIDO DES_NOMES_ALTERNATIVOS  \\\n",
       "0       35345364  Lei nº 14.263 de 22/12/2021   LEI-14263-2021-12-22   \n",
       "1       26247104  Lei nº 13.486 de 03/10/2017   LEI-13486-2017-10-03   \n",
       "2       27445746  Lei nº 13.701 de 06/08/2018   LEI-13701-2018-08-06   \n",
       "3       36348502  Lei nº 14.447 de 09/09/2022   LEI-14447-2022-09-09   \n",
       "4       36348502  Lei nº 14.447 de 09/09/2022   LEI-14447-2022-09-09   \n",
       "\n",
       "                                          TXT_EMENTA  COD_CLASSE  \\\n",
       "0  Abre ao Orçamento da Seguridade Social da Uniã...  33260515.0   \n",
       "1  Altera o art. 8º da Lei nº 8.078, de 11 de set...  33808912.0   \n",
       "2  Cria o cargo de natureza especial de Intervent...  33768972.0   \n",
       "3  Altera os limites da Floresta Nacional de Bras...  33685789.0   \n",
       "4  Altera os limites da Floresta Nacional de Bras...  33809634.0   \n",
       "\n",
       "              DES_CLASSE  \n",
       "0      Orçamento Público  \n",
       "1        Política Social  \n",
       "2  Organização do Estado  \n",
       "3  Administração Pública  \n",
       "4          Meio Ambiente  "
      ]
     },
     "execution_count": 7,
     "metadata": {},
     "output_type": "execute_result"
    }
   ],
   "source": [
    "leis = leis_original.merge(leis_classificadas_original.filter([\"COD_PROCESSO_DOCUMENTO\",\"DES_CLASSE_RAIZ\"]), left_on=\"COD_DOCUMENTO\", right_on=\"COD_PROCESSO_DOCUMENTO\", how=\"left\")\n",
    "leis = leis.merge(classes_raiz, left_on=\"DES_CLASSE_RAIZ\", right_on=\"DES_CLASSE\", how=\"left\")\n",
    "leis.drop(columns=[\"COD_PROCESSO_DOCUMENTO\", \"DES_CLASSE_RAIZ\"], inplace=True)\n",
    "leis.head()"
   ]
  },
  {
   "cell_type": "code",
   "execution_count": 8,
   "metadata": {
    "collapsed": false,
    "pycharm": {
     "name": "#%%\n"
    }
   },
   "outputs": [
    {
     "data": {
      "text/plain": [
       "27743"
      ]
     },
     "execution_count": 8,
     "metadata": {},
     "output_type": "execute_result"
    }
   ],
   "source": [
    "leis.shape[0]"
   ]
  },
  {
   "cell_type": "markdown",
   "metadata": {
    "collapsed": false,
    "pycharm": {
     "name": "#%% md\n"
    }
   },
   "source": [
    "Limpa os registros duplicados de leis que possuem mais de uma classe folha, mas que tenham mesma classe raiz e exibe as leis que possuem mais de uma classe folha, mas que tenham classes raiz diferentes."
   ]
  },
  {
   "cell_type": "code",
   "execution_count": 9,
   "metadata": {
    "collapsed": false,
    "pycharm": {
     "name": "#%%\n"
    }
   },
   "outputs": [
    {
     "data": {
      "text/html": [
       "<div>\n",
       "<style scoped>\n",
       "    .dataframe tbody tr th:only-of-type {\n",
       "        vertical-align: middle;\n",
       "    }\n",
       "\n",
       "    .dataframe tbody tr th {\n",
       "        vertical-align: top;\n",
       "    }\n",
       "\n",
       "    .dataframe thead th {\n",
       "        text-align: right;\n",
       "    }\n",
       "</style>\n",
       "<table border=\"1\" class=\"dataframe\">\n",
       "  <thead>\n",
       "    <tr style=\"text-align: right;\">\n",
       "      <th></th>\n",
       "      <th>COD_DOCUMENTO</th>\n",
       "      <th>COD_CLASSE</th>\n",
       "      <th>DES_CLASSE</th>\n",
       "    </tr>\n",
       "  </thead>\n",
       "  <tbody>\n",
       "    <tr>\n",
       "      <th>3</th>\n",
       "      <td>36348502</td>\n",
       "      <td>33685789.0</td>\n",
       "      <td>Administração Pública</td>\n",
       "    </tr>\n",
       "    <tr>\n",
       "      <th>4</th>\n",
       "      <td>36348502</td>\n",
       "      <td>33809634.0</td>\n",
       "      <td>Meio Ambiente</td>\n",
       "    </tr>\n",
       "    <tr>\n",
       "      <th>5</th>\n",
       "      <td>36348502</td>\n",
       "      <td>33769167.0</td>\n",
       "      <td>Economia e Desenvolvimento</td>\n",
       "    </tr>\n",
       "    <tr>\n",
       "      <th>20</th>\n",
       "      <td>36062349</td>\n",
       "      <td>33808912.0</td>\n",
       "      <td>Política Social</td>\n",
       "    </tr>\n",
       "    <tr>\n",
       "      <th>21</th>\n",
       "      <td>36062349</td>\n",
       "      <td>33769167.0</td>\n",
       "      <td>Economia e Desenvolvimento</td>\n",
       "    </tr>\n",
       "    <tr>\n",
       "      <th>...</th>\n",
       "      <td>...</td>\n",
       "      <td>...</td>\n",
       "      <td>...</td>\n",
       "    </tr>\n",
       "    <tr>\n",
       "      <th>27349</th>\n",
       "      <td>36032872</td>\n",
       "      <td>33808912.0</td>\n",
       "      <td>Política Social</td>\n",
       "    </tr>\n",
       "    <tr>\n",
       "      <th>27350</th>\n",
       "      <td>35556312</td>\n",
       "      <td>33685789.0</td>\n",
       "      <td>Administração Pública</td>\n",
       "    </tr>\n",
       "    <tr>\n",
       "      <th>27351</th>\n",
       "      <td>35556312</td>\n",
       "      <td>33808912.0</td>\n",
       "      <td>Política Social</td>\n",
       "    </tr>\n",
       "    <tr>\n",
       "      <th>27359</th>\n",
       "      <td>35396946</td>\n",
       "      <td>33809514.0</td>\n",
       "      <td>Soberania, Defesa Nacional e Ordem Pública</td>\n",
       "    </tr>\n",
       "    <tr>\n",
       "      <th>27360</th>\n",
       "      <td>35396946</td>\n",
       "      <td>33769167.0</td>\n",
       "      <td>Economia e Desenvolvimento</td>\n",
       "    </tr>\n",
       "  </tbody>\n",
       "</table>\n",
       "<p>630 rows × 3 columns</p>\n",
       "</div>"
      ],
      "text/plain": [
       "       COD_DOCUMENTO  COD_CLASSE                                  DES_CLASSE\n",
       "3           36348502  33685789.0                       Administração Pública\n",
       "4           36348502  33809634.0                               Meio Ambiente\n",
       "5           36348502  33769167.0                  Economia e Desenvolvimento\n",
       "20          36062349  33808912.0                             Política Social\n",
       "21          36062349  33769167.0                  Economia e Desenvolvimento\n",
       "...              ...         ...                                         ...\n",
       "27349       36032872  33808912.0                             Política Social\n",
       "27350       35556312  33685789.0                       Administração Pública\n",
       "27351       35556312  33808912.0                             Política Social\n",
       "27359       35396946  33809514.0  Soberania, Defesa Nacional e Ordem Pública\n",
       "27360       35396946  33769167.0                  Economia e Desenvolvimento\n",
       "\n",
       "[630 rows x 3 columns]"
      ]
     },
     "execution_count": 9,
     "metadata": {},
     "output_type": "execute_result"
    }
   ],
   "source": [
    "leis.drop_duplicates(inplace=True)\n",
    "temp = leis[[\"COD_DOCUMENTO\", \"COD_CLASSE\", \"DES_CLASSE\"]].groupby(\"COD_DOCUMENTO\")\n",
    "temp.filter(lambda x: len(x) > 1)"
   ]
  },
  {
   "cell_type": "markdown",
   "metadata": {
    "collapsed": false,
    "pycharm": {
     "name": "#%% md\n"
    }
   },
   "source": [
    "Tamanho da base tratada de leis."
   ]
  },
  {
   "cell_type": "code",
   "execution_count": 10,
   "metadata": {
    "collapsed": false,
    "pycharm": {
     "name": "#%%\n"
    }
   },
   "outputs": [
    {
     "data": {
      "text/plain": [
       "27294"
      ]
     },
     "execution_count": 10,
     "metadata": {},
     "output_type": "execute_result"
    }
   ],
   "source": [
    "leis.shape[0]"
   ]
  },
  {
   "cell_type": "markdown",
   "metadata": {
    "collapsed": false,
    "pycharm": {
     "name": "#%% md\n"
    }
   },
   "source": [
    "Total de classificações feitas em leis."
   ]
  },
  {
   "cell_type": "code",
   "execution_count": 11,
   "metadata": {
    "collapsed": false,
    "pycharm": {
     "name": "#%%\n"
    }
   },
   "outputs": [
    {
     "data": {
      "text/plain": [
       "17438"
      ]
     },
     "execution_count": 11,
     "metadata": {},
     "output_type": "execute_result"
    }
   ],
   "source": [
    "leis_classificadas = leis.query(\"not COD_CLASSE.isnull()\")\n",
    "quantidade_classificacoes = leis_classificadas.shape[0]\n",
    "quantidade_classificacoes"
   ]
  },
  {
   "cell_type": "markdown",
   "metadata": {
    "collapsed": false,
    "pycharm": {
     "name": "#%% md\n"
    }
   },
   "source": [
    "Número distinto de leis classificadas."
   ]
  },
  {
   "cell_type": "code",
   "execution_count": 12,
   "metadata": {
    "collapsed": false,
    "pycharm": {
     "name": "#%%\n"
    }
   },
   "outputs": [
    {
     "data": {
      "text/plain": [
       "17103"
      ]
     },
     "execution_count": 12,
     "metadata": {},
     "output_type": "execute_result"
    }
   ],
   "source": [
    "len(leis_classificadas[\"COD_DOCUMENTO\"].unique())"
   ]
  },
  {
   "cell_type": "markdown",
   "metadata": {
    "collapsed": false,
    "pycharm": {
     "name": "#%% md\n"
    }
   },
   "source": [
    "Quantidade de leis a classificar."
   ]
  },
  {
   "cell_type": "code",
   "execution_count": 13,
   "metadata": {
    "collapsed": false,
    "pycharm": {
     "name": "#%%\n"
    }
   },
   "outputs": [
    {
     "data": {
      "text/plain": [
       "9856"
      ]
     },
     "execution_count": 13,
     "metadata": {},
     "output_type": "execute_result"
    }
   ],
   "source": [
    "leis_nao_classificadas = leis.query(\"COD_CLASSE.isnull()\")\n",
    "leis_nao_classificadas.shape[0]"
   ]
  },
  {
   "cell_type": "markdown",
   "metadata": {
    "collapsed": false,
    "pycharm": {
     "name": "#%% md\n"
    }
   },
   "source": [
    "Verificação da distribuição das classes (em %)."
   ]
  },
  {
   "cell_type": "code",
   "execution_count": 14,
   "metadata": {
    "collapsed": false,
    "pycharm": {
     "name": "#%%\n"
    }
   },
   "outputs": [
    {
     "data": {
      "text/html": [
       "<div>\n",
       "<style scoped>\n",
       "    .dataframe tbody tr th:only-of-type {\n",
       "        vertical-align: middle;\n",
       "    }\n",
       "\n",
       "    .dataframe tbody tr th {\n",
       "        vertical-align: top;\n",
       "    }\n",
       "\n",
       "    .dataframe thead th {\n",
       "        text-align: right;\n",
       "    }\n",
       "</style>\n",
       "<table border=\"1\" class=\"dataframe\">\n",
       "  <thead>\n",
       "    <tr style=\"text-align: right;\">\n",
       "      <th></th>\n",
       "      <th>COD_CLASSE</th>\n",
       "    </tr>\n",
       "    <tr>\n",
       "      <th>DES_CLASSE</th>\n",
       "      <th></th>\n",
       "    </tr>\n",
       "  </thead>\n",
       "  <tbody>\n",
       "    <tr>\n",
       "      <th>Orçamento Público</th>\n",
       "      <td>64.181672</td>\n",
       "    </tr>\n",
       "    <tr>\n",
       "      <th>Infraestrutura</th>\n",
       "      <td>14.382383</td>\n",
       "    </tr>\n",
       "    <tr>\n",
       "      <th>Política Social</th>\n",
       "      <td>5.029246</td>\n",
       "    </tr>\n",
       "    <tr>\n",
       "      <th>Administração Pública</th>\n",
       "      <td>4.490194</td>\n",
       "    </tr>\n",
       "    <tr>\n",
       "      <th>Honorífico</th>\n",
       "      <td>3.847918</td>\n",
       "    </tr>\n",
       "    <tr>\n",
       "      <th>Economia e Desenvolvimento</th>\n",
       "      <td>3.693084</td>\n",
       "    </tr>\n",
       "    <tr>\n",
       "      <th>Jurídico</th>\n",
       "      <td>2.184884</td>\n",
       "    </tr>\n",
       "    <tr>\n",
       "      <th>Soberania, Defesa Nacional e Ordem Pública</th>\n",
       "      <td>0.951944</td>\n",
       "    </tr>\n",
       "    <tr>\n",
       "      <th>Organização do Estado</th>\n",
       "      <td>0.745498</td>\n",
       "    </tr>\n",
       "    <tr>\n",
       "      <th>Meio Ambiente</th>\n",
       "      <td>0.493176</td>\n",
       "    </tr>\n",
       "  </tbody>\n",
       "</table>\n",
       "</div>"
      ],
      "text/plain": [
       "                                            COD_CLASSE\n",
       "DES_CLASSE                                            \n",
       "Orçamento Público                            64.181672\n",
       "Infraestrutura                               14.382383\n",
       "Política Social                               5.029246\n",
       "Administração Pública                         4.490194\n",
       "Honorífico                                    3.847918\n",
       "Economia e Desenvolvimento                    3.693084\n",
       "Jurídico                                      2.184884\n",
       "Soberania, Defesa Nacional e Ordem Pública    0.951944\n",
       "Organização do Estado                         0.745498\n",
       "Meio Ambiente                                 0.493176"
      ]
     },
     "execution_count": 14,
     "metadata": {},
     "output_type": "execute_result"
    }
   ],
   "source": [
    "distribuicao_classes = leis_classificadas[[\"COD_CLASSE\", \"DES_CLASSE\"]].groupby(\"DES_CLASSE\").count() / quantidade_classificacoes * 100\n",
    "distribuicao_classes.sort_values(by=\"COD_CLASSE\", ascending=False)"
   ]
  },
  {
   "cell_type": "markdown",
   "metadata": {},
   "source": [
    "## Desbalanceamento\n",
    "\n",
    "É possível verificar que há um desbalanceamento grande entre as classes, o que prejudica o processo de aprendizado. Vamos tentar atacá-lo utilizando a técnica SMOTE:"
   ]
  },
  {
   "cell_type": "code",
   "execution_count": 15,
   "metadata": {},
   "outputs": [
    {
     "name": "stdout",
     "output_type": "stream",
     "text": [
      "Classe=Orçamento Público, n=11192 (64.182%)\n",
      "Classe=Política Social, n=877 (5.029%)\n",
      "Classe=Organização do Estado, n=130 (0.745%)\n",
      "Classe=Administração Pública, n=783 (4.490%)\n",
      "Classe=Meio Ambiente, n=86 (0.493%)\n",
      "Classe=Economia e Desenvolvimento, n=644 (3.693%)\n",
      "Classe=Honorífico, n=671 (3.848%)\n",
      "Classe=Jurídico, n=381 (2.185%)\n",
      "Classe=Infraestrutura, n=2508 (14.382%)\n",
      "Classe=Soberania, Defesa Nacional e Ordem Pública, n=166 (0.952%)\n"
     ]
    }
   ],
   "source": [
    "from imblearn.over_sampling import SMOTE\n",
    "from sklearn.preprocessing import LabelEncoder\n",
    "from numpy import where\n",
    "\n",
    "\n",
    "def printClasses(classes):\n",
    "\tcounter = Counter(classes)\n",
    "\tfor k,v in counter.items():\n",
    "\t\tper = v / len(classes) * 100\n",
    "\t\tprint('Classe=%s, n=%d (%.3f%%)' % (k, v, per))\n",
    "\n",
    "X_smote = leis_classificadas.drop(columns=[\"COD_CLASSE\", \"DES_CLASSE\"]).copy()\n",
    "y_smote = leis_classificadas[\"DES_CLASSE\"].copy()\n",
    "printClasses(y_smote)\n"
   ]
  },
  {
   "cell_type": "markdown",
   "metadata": {},
   "source": [
    "## One Class Classifier\n",
    "\n",
    "Montaremos um exemplo que possa trabalhar as classes separadamente, utilizando o OneClassSVM para predizer se um texto pertence a uma determinada classe de treinamento. No nosso caso, utilizaremos Administração Pública como o caso positivo, e os demais como negativos. O tutorial utilizado como base está aqui: https://www.kaggle.com/code/saikumar587/bbc-text-oneclass-classificaiton\n",
    "\n"
   ]
  },
  {
   "cell_type": "markdown",
   "metadata": {},
   "source": [
    "### Preparação\n",
    "\n",
    "Como Administração Pública será a nossa classe de treinamento, vamos adicionar, no nosso conjunto de treino, uma coluna para dizer se aquele registro faz parte da nossa classe-alvo. Se fizer, o valor armazenado será +1, caso contrário, -1.\n",
    "\n",
    "A função abaixo tem esse objetivo.\n"
   ]
  },
  {
   "cell_type": "code",
   "execution_count": 29,
   "metadata": {},
   "outputs": [],
   "source": [
    "def addPositiveNegativeMarker(dataFrame, columnName, classeAlvo):\n",
    "    # resultDataFrame = dataFrame.copy()\n",
    "    # mask = resultDataFrame['DES_CLASSE'].str.equals(classeAlvo)\n",
    "    # resultDataFrame.loc[mask, columnName] = 1\n",
    "    dataFrame[columnName] = np.where(dataFrame['DES_CLASSE'] == classeAlvo, 1, -1)"
   ]
  },
  {
   "cell_type": "markdown",
   "metadata": {},
   "source": [
    "Vamos modificar agora o dataset de treino para incluir essa coluna:"
   ]
  },
  {
   "cell_type": "code",
   "execution_count": 30,
   "metadata": {},
   "outputs": [
    {
     "name": "stderr",
     "output_type": "stream",
     "text": [
      "C:\\Users\\demet\\AppData\\Local\\Temp\\ipykernel_15008\\907047299.py:5: SettingWithCopyWarning: \n",
      "A value is trying to be set on a copy of a slice from a DataFrame.\n",
      "Try using .loc[row_indexer,col_indexer] = value instead\n",
      "\n",
      "See the caveats in the documentation: https://pandas.pydata.org/pandas-docs/stable/user_guide/indexing.html#returning-a-view-versus-a-copy\n",
      "  dataFrame[columnName] = np.where(dataFrame['DES_CLASSE'] == classeAlvo, 1, -1)\n"
     ]
    },
    {
     "data": {
      "text/html": [
       "<div>\n",
       "<style scoped>\n",
       "    .dataframe tbody tr th:only-of-type {\n",
       "        vertical-align: middle;\n",
       "    }\n",
       "\n",
       "    .dataframe tbody tr th {\n",
       "        vertical-align: top;\n",
       "    }\n",
       "\n",
       "    .dataframe thead th {\n",
       "        text-align: right;\n",
       "    }\n",
       "</style>\n",
       "<table border=\"1\" class=\"dataframe\">\n",
       "  <thead>\n",
       "    <tr style=\"text-align: right;\">\n",
       "      <th></th>\n",
       "      <th>COD_DOCUMENTO</th>\n",
       "      <th>DES_NOME_PREFERIDO</th>\n",
       "      <th>DES_NOMES_ALTERNATIVOS</th>\n",
       "      <th>TXT_EMENTA</th>\n",
       "      <th>COD_CLASSE</th>\n",
       "      <th>DES_CLASSE</th>\n",
       "      <th>MARKER</th>\n",
       "    </tr>\n",
       "  </thead>\n",
       "  <tbody>\n",
       "    <tr>\n",
       "      <th>0</th>\n",
       "      <td>35345364</td>\n",
       "      <td>Lei nº 14.263 de 22/12/2021</td>\n",
       "      <td>LEI-14263-2021-12-22</td>\n",
       "      <td>Abre ao Orçamento da Seguridade Social da Uniã...</td>\n",
       "      <td>33260515.0</td>\n",
       "      <td>Orçamento Público</td>\n",
       "      <td>-1</td>\n",
       "    </tr>\n",
       "    <tr>\n",
       "      <th>1</th>\n",
       "      <td>26247104</td>\n",
       "      <td>Lei nº 13.486 de 03/10/2017</td>\n",
       "      <td>LEI-13486-2017-10-03</td>\n",
       "      <td>Altera o art. 8º da Lei nº 8.078, de 11 de set...</td>\n",
       "      <td>33808912.0</td>\n",
       "      <td>Política Social</td>\n",
       "      <td>-1</td>\n",
       "    </tr>\n",
       "    <tr>\n",
       "      <th>2</th>\n",
       "      <td>27445746</td>\n",
       "      <td>Lei nº 13.701 de 06/08/2018</td>\n",
       "      <td>LEI-13701-2018-08-06</td>\n",
       "      <td>Cria o cargo de natureza especial de Intervent...</td>\n",
       "      <td>33768972.0</td>\n",
       "      <td>Organização do Estado</td>\n",
       "      <td>-1</td>\n",
       "    </tr>\n",
       "    <tr>\n",
       "      <th>3</th>\n",
       "      <td>36348502</td>\n",
       "      <td>Lei nº 14.447 de 09/09/2022</td>\n",
       "      <td>LEI-14447-2022-09-09</td>\n",
       "      <td>Altera os limites da Floresta Nacional de Bras...</td>\n",
       "      <td>33685789.0</td>\n",
       "      <td>Administração Pública</td>\n",
       "      <td>1</td>\n",
       "    </tr>\n",
       "    <tr>\n",
       "      <th>4</th>\n",
       "      <td>36348502</td>\n",
       "      <td>Lei nº 14.447 de 09/09/2022</td>\n",
       "      <td>LEI-14447-2022-09-09</td>\n",
       "      <td>Altera os limites da Floresta Nacional de Bras...</td>\n",
       "      <td>33809634.0</td>\n",
       "      <td>Meio Ambiente</td>\n",
       "      <td>-1</td>\n",
       "    </tr>\n",
       "  </tbody>\n",
       "</table>\n",
       "</div>"
      ],
      "text/plain": [
       "   COD_DOCUMENTO           DES_NOME_PREFERIDO DES_NOMES_ALTERNATIVOS  \\\n",
       "0       35345364  Lei nº 14.263 de 22/12/2021   LEI-14263-2021-12-22   \n",
       "1       26247104  Lei nº 13.486 de 03/10/2017   LEI-13486-2017-10-03   \n",
       "2       27445746  Lei nº 13.701 de 06/08/2018   LEI-13701-2018-08-06   \n",
       "3       36348502  Lei nº 14.447 de 09/09/2022   LEI-14447-2022-09-09   \n",
       "4       36348502  Lei nº 14.447 de 09/09/2022   LEI-14447-2022-09-09   \n",
       "\n",
       "                                          TXT_EMENTA  COD_CLASSE  \\\n",
       "0  Abre ao Orçamento da Seguridade Social da Uniã...  33260515.0   \n",
       "1  Altera o art. 8º da Lei nº 8.078, de 11 de set...  33808912.0   \n",
       "2  Cria o cargo de natureza especial de Intervent...  33768972.0   \n",
       "3  Altera os limites da Floresta Nacional de Bras...  33685789.0   \n",
       "4  Altera os limites da Floresta Nacional de Bras...  33809634.0   \n",
       "\n",
       "              DES_CLASSE  MARKER  \n",
       "0      Orçamento Público      -1  \n",
       "1        Política Social      -1  \n",
       "2  Organização do Estado      -1  \n",
       "3  Administração Pública       1  \n",
       "4          Meio Ambiente      -1  "
      ]
     },
     "execution_count": 30,
     "metadata": {},
     "output_type": "execute_result"
    }
   ],
   "source": [
    "MARKER_COLUMN_NAME = 'MARKER'\n",
    "CLASSE_TREINAMENTO = 'Administração Pública'\n",
    "addPositiveNegativeMarker(leis_classificadas, MARKER_COLUMN_NAME, CLASSE_TREINAMENTO)\n",
    "leis_classificadas.head()"
   ]
  },
  {
   "cell_type": "markdown",
   "metadata": {},
   "source": [
    "Criaremos agora um dataset que contém apenas os dados de Administração Pública:"
   ]
  },
  {
   "cell_type": "code",
   "execution_count": 31,
   "metadata": {},
   "outputs": [
    {
     "data": {
      "text/plain": [
       "(783, 7)"
      ]
     },
     "execution_count": 31,
     "metadata": {},
     "output_type": "execute_result"
    }
   ],
   "source": [
    "administracaoPublica_df = leis_classificadas[leis_classificadas[MARKER_COLUMN_NAME] == 1]\n",
    "administracaoPublica_df.shape"
   ]
  },
  {
   "cell_type": "markdown",
   "metadata": {},
   "source": [
    "Definiremos os datasets de treino e testes:"
   ]
  },
  {
   "cell_type": "code",
   "execution_count": 32,
   "metadata": {},
   "outputs": [],
   "source": [
    "X = leis_classificadas.drop(columns=[\"COD_CLASSE\", \"DES_CLASSE\"])\n",
    "y = leis_classificadas[MARKER_COLUMN_NAME]\n",
    "\n",
    "X_treino_dummy, X_teste, y_treino_dummy, y_teste = train_test_split(X, y, test_size=0.3, stratify=y, random_state=42)\n",
    "\n",
    "X_treino = administracaoPublica_df.drop(columns=[\"COD_CLASSE\", \"DES_CLASSE\"])\n",
    "y_treino = administracaoPublica_df[MARKER_COLUMN_NAME]\n"
   ]
  },
  {
   "cell_type": "code",
   "execution_count": 56,
   "metadata": {},
   "outputs": [
    {
     "data": {
      "text/plain": [
       "17925   -1\n",
       "10308   -1\n",
       "15421   -1\n",
       "19450   -1\n",
       "23970   -1\n",
       "Name: MARKER, dtype: int32"
      ]
     },
     "execution_count": 56,
     "metadata": {},
     "output_type": "execute_result"
    }
   ],
   "source": [
    "y_teste.head()"
   ]
  },
  {
   "cell_type": "markdown",
   "metadata": {
    "collapsed": false,
    "pycharm": {
     "name": "#%% md\n"
    }
   },
   "source": [
    "## 2 - Estruturação do texto\n",
    "***"
   ]
  },
  {
   "cell_type": "markdown",
   "metadata": {
    "collapsed": false,
    "pycharm": {
     "name": "#%% md\n"
    }
   },
   "source": [
    "Definição das funções para a tarefa de criação das matrizes de documentos (texto da ementa)"
   ]
  },
  {
   "cell_type": "code",
   "execution_count": 33,
   "metadata": {
    "collapsed": false,
    "pycharm": {
     "name": "#%%\n"
    }
   },
   "outputs": [],
   "source": [
    "# Divide um texto em tokens utilizando a biblioteca de NLP nltk\n",
    "def tokenizador(texto):\n",
    "    texto = texto.lower()\n",
    "    lista_alfanumerica = []\n",
    "\n",
    "    for token_valido in nltk.word_tokenize(texto, language=\"portuguese\"):\n",
    "        # Se for caracter de pontuação ou for stopword\n",
    "        if token_valido in string.punctuation:\n",
    "            continue\n",
    "        # elif token_valido in nltk.corpus.stopwords.words('portuguese'):\n",
    "        #     continue\n",
    "\n",
    "        lista_alfanumerica.append(token_valido)\n",
    "\n",
    "    return lista_alfanumerica"
   ]
  },
  {
   "cell_type": "code",
   "execution_count": 34,
   "metadata": {
    "collapsed": false,
    "pycharm": {
     "name": "#%%\n"
    }
   },
   "outputs": [],
   "source": [
    "# Combinação de vetores por soma\n",
    "def combinacao_vetores(palavras_numeros, vocabulario):\n",
    "    vetor_resultante = np.zeros(300)\n",
    "\n",
    "    for pn in palavras_numeros:\n",
    "        try:\n",
    "            vetor_resultante += vocabulario.get_vector(pn)\n",
    "        except KeyError:\n",
    "            if pn.isnumeric():\n",
    "                pn = \"0\" * len(pn) # \"0, 00, 000, 0000, etc. dependendo do tamanho de caracteres do número\n",
    "                vetor_resultante += vocabulario.get_vector(pn)\n",
    "            else:\n",
    "                vetor_resultante += vocabulario.get_vector(\"unknown\")\n",
    "\n",
    "    return vetor_resultante"
   ]
  },
  {
   "cell_type": "code",
   "execution_count": 35,
   "metadata": {
    "collapsed": false,
    "pycharm": {
     "name": "#%%\n"
    }
   },
   "outputs": [],
   "source": [
    "def matriz_vetores(textos, vocabulario):\n",
    "    x = len(textos)\n",
    "    y = 300 # número de dimensões do vocabulário skip300\n",
    "    matriz = np.zeros((x, y))\n",
    "\n",
    "    for i in range(x):\n",
    "        palavras_numeros = tokenizador(textos.iloc[i])\n",
    "        matriz[i] = combinacao_vetores(palavras_numeros, vocabulario)\n",
    "\n",
    "    return matriz"
   ]
  },
  {
   "cell_type": "markdown",
   "metadata": {
    "collapsed": false,
    "pycharm": {
     "name": "#%% md\n"
    }
   },
   "source": [
    "Carrega o vocabulário Word Embeddings (Word2Vec - Skipgram) pré-treinado pelo NILC (Núcleo Interinstitucional de Linguística Computacional)."
   ]
  },
  {
   "cell_type": "code",
   "execution_count": 36,
   "metadata": {
    "collapsed": false,
    "pycharm": {
     "name": "#%%\n"
    }
   },
   "outputs": [],
   "source": [
    "# Carrega vocabulário Skipgram\n",
    "vocabulario_skipgram = KeyedVectors.load_word2vec_format(\"dados/skip_s300.txt\")"
   ]
  },
  {
   "cell_type": "code",
   "execution_count": 68,
   "metadata": {},
   "outputs": [],
   "source": [
    "from sklearn.base import TransformerMixin\n",
    "def vetor(texto, vocabulario):\n",
    "    y = 300 # número de dimensões do vocabulário skip300\n",
    "    vetor = np.zeros((1, y))\n",
    "    palavras_numeros = tokenizador(texto)\n",
    "    vetor[0] = combinacao_vetores(palavras_numeros, vocabulario)\n",
    "    return vetor\n",
    "\n",
    "class Word2VecVectorizer(TransformerMixin):\n",
    "    def transform(self, X, **transform_params):\n",
    "        return matriz_vetores(X.TXT_EMENTA, vocabulario_skipgram)\n",
    "    def fit(self, X, y=None, **fit_params):\n",
    "        return self\n",
    "    def get_params(self, deep=True):\n",
    "            return {}\n",
    "    \n",
    "    "
   ]
  },
  {
   "cell_type": "markdown",
   "metadata": {
    "collapsed": false,
    "pycharm": {
     "name": "#%% md\n"
    }
   },
   "source": [
    "Criação da matriz de documentos do corpus (conjunto de ementas), aqui representada por matrizes por vetores (cada ementa é vetorizada assim como o vocabulário)."
   ]
  },
  {
   "cell_type": "code",
   "execution_count": 58,
   "metadata": {
    "collapsed": false,
    "pycharm": {
     "name": "#%%\n"
    }
   },
   "outputs": [],
   "source": [
    "matriz_vetores_treino = matriz_vetores(X_treino[\"TXT_EMENTA\"], vocabulario_skipgram)\n",
    "matriz_vetores_teste = matriz_vetores(X_teste[\"TXT_EMENTA\"], vocabulario_skipgram)"
   ]
  },
  {
   "cell_type": "markdown",
   "metadata": {
    "collapsed": false,
    "pycharm": {
     "name": "#%% md\n"
    }
   },
   "source": [
    "## 3 - Treinamento e predição do modelo de Machine Learning"
   ]
  },
  {
   "cell_type": "markdown",
   "metadata": {
    "collapsed": false,
    "pycharm": {
     "name": "#%% md\n"
    }
   },
   "source": [
    "Treinamento e predição do classificador One-class SVM"
   ]
  },
  {
   "cell_type": "code",
   "execution_count": 69,
   "metadata": {},
   "outputs": [
    {
     "data": {
      "text/html": [
       "<style>#sk-container-id-2 {color: black;background-color: white;}#sk-container-id-2 pre{padding: 0;}#sk-container-id-2 div.sk-toggleable {background-color: white;}#sk-container-id-2 label.sk-toggleable__label {cursor: pointer;display: block;width: 100%;margin-bottom: 0;padding: 0.3em;box-sizing: border-box;text-align: center;}#sk-container-id-2 label.sk-toggleable__label-arrow:before {content: \"▸\";float: left;margin-right: 0.25em;color: #696969;}#sk-container-id-2 label.sk-toggleable__label-arrow:hover:before {color: black;}#sk-container-id-2 div.sk-estimator:hover label.sk-toggleable__label-arrow:before {color: black;}#sk-container-id-2 div.sk-toggleable__content {max-height: 0;max-width: 0;overflow: hidden;text-align: left;background-color: #f0f8ff;}#sk-container-id-2 div.sk-toggleable__content pre {margin: 0.2em;color: black;border-radius: 0.25em;background-color: #f0f8ff;}#sk-container-id-2 input.sk-toggleable__control:checked~div.sk-toggleable__content {max-height: 200px;max-width: 100%;overflow: auto;}#sk-container-id-2 input.sk-toggleable__control:checked~label.sk-toggleable__label-arrow:before {content: \"▾\";}#sk-container-id-2 div.sk-estimator input.sk-toggleable__control:checked~label.sk-toggleable__label {background-color: #d4ebff;}#sk-container-id-2 div.sk-label input.sk-toggleable__control:checked~label.sk-toggleable__label {background-color: #d4ebff;}#sk-container-id-2 input.sk-hidden--visually {border: 0;clip: rect(1px 1px 1px 1px);clip: rect(1px, 1px, 1px, 1px);height: 1px;margin: -1px;overflow: hidden;padding: 0;position: absolute;width: 1px;}#sk-container-id-2 div.sk-estimator {font-family: monospace;background-color: #f0f8ff;border: 1px dotted black;border-radius: 0.25em;box-sizing: border-box;margin-bottom: 0.5em;}#sk-container-id-2 div.sk-estimator:hover {background-color: #d4ebff;}#sk-container-id-2 div.sk-parallel-item::after {content: \"\";width: 100%;border-bottom: 1px solid gray;flex-grow: 1;}#sk-container-id-2 div.sk-label:hover label.sk-toggleable__label {background-color: #d4ebff;}#sk-container-id-2 div.sk-serial::before {content: \"\";position: absolute;border-left: 1px solid gray;box-sizing: border-box;top: 0;bottom: 0;left: 50%;z-index: 0;}#sk-container-id-2 div.sk-serial {display: flex;flex-direction: column;align-items: center;background-color: white;padding-right: 0.2em;padding-left: 0.2em;position: relative;}#sk-container-id-2 div.sk-item {position: relative;z-index: 1;}#sk-container-id-2 div.sk-parallel {display: flex;align-items: stretch;justify-content: center;background-color: white;position: relative;}#sk-container-id-2 div.sk-item::before, #sk-container-id-2 div.sk-parallel-item::before {content: \"\";position: absolute;border-left: 1px solid gray;box-sizing: border-box;top: 0;bottom: 0;left: 50%;z-index: -1;}#sk-container-id-2 div.sk-parallel-item {display: flex;flex-direction: column;z-index: 1;position: relative;background-color: white;}#sk-container-id-2 div.sk-parallel-item:first-child::after {align-self: flex-end;width: 50%;}#sk-container-id-2 div.sk-parallel-item:last-child::after {align-self: flex-start;width: 50%;}#sk-container-id-2 div.sk-parallel-item:only-child::after {width: 0;}#sk-container-id-2 div.sk-dashed-wrapped {border: 1px dashed gray;margin: 0 0.4em 0.5em 0.4em;box-sizing: border-box;padding-bottom: 0.4em;background-color: white;}#sk-container-id-2 div.sk-label label {font-family: monospace;font-weight: bold;display: inline-block;line-height: 1.2em;}#sk-container-id-2 div.sk-label-container {text-align: center;}#sk-container-id-2 div.sk-container {/* jupyter's `normalize.less` sets `[hidden] { display: none; }` but bootstrap.min.css set `[hidden] { display: none !important; }` so we also need the `!important` here to be able to override the default hidden behavior on the sphinx rendered scikit-learn.org. See: https://github.com/scikit-learn/scikit-learn/issues/21755 */display: inline-block !important;position: relative;}#sk-container-id-2 div.sk-text-repr-fallback {display: none;}</style><div id=\"sk-container-id-2\" class=\"sk-top-container\"><div class=\"sk-text-repr-fallback\"><pre>Pipeline(steps=[(&#x27;vectorizer&#x27;,\n",
       "                 &lt;__main__.Word2VecVectorizer object at 0x0000022CA342C190&gt;),\n",
       "                (&#x27;oneClassSVM&#x27;, OneClassSVM(gamma=0.1, nu=0.1))])</pre><b>In a Jupyter environment, please rerun this cell to show the HTML representation or trust the notebook. <br />On GitHub, the HTML representation is unable to render, please try loading this page with nbviewer.org.</b></div><div class=\"sk-container\" hidden><div class=\"sk-item sk-dashed-wrapped\"><div class=\"sk-label-container\"><div class=\"sk-label sk-toggleable\"><input class=\"sk-toggleable__control sk-hidden--visually\" id=\"sk-estimator-id-2\" type=\"checkbox\" ><label for=\"sk-estimator-id-2\" class=\"sk-toggleable__label sk-toggleable__label-arrow\">Pipeline</label><div class=\"sk-toggleable__content\"><pre>Pipeline(steps=[(&#x27;vectorizer&#x27;,\n",
       "                 &lt;__main__.Word2VecVectorizer object at 0x0000022CA342C190&gt;),\n",
       "                (&#x27;oneClassSVM&#x27;, OneClassSVM(gamma=0.1, nu=0.1))])</pre></div></div></div><div class=\"sk-serial\"><div class=\"sk-item\"><div class=\"sk-estimator sk-toggleable\"><input class=\"sk-toggleable__control sk-hidden--visually\" id=\"sk-estimator-id-3\" type=\"checkbox\" ><label for=\"sk-estimator-id-3\" class=\"sk-toggleable__label sk-toggleable__label-arrow\">Word2VecVectorizer</label><div class=\"sk-toggleable__content\"><pre>&lt;__main__.Word2VecVectorizer object at 0x0000022CA342C190&gt;</pre></div></div></div><div class=\"sk-item\"><div class=\"sk-estimator sk-toggleable\"><input class=\"sk-toggleable__control sk-hidden--visually\" id=\"sk-estimator-id-4\" type=\"checkbox\" ><label for=\"sk-estimator-id-4\" class=\"sk-toggleable__label sk-toggleable__label-arrow\">OneClassSVM</label><div class=\"sk-toggleable__content\"><pre>OneClassSVM(gamma=0.1, nu=0.1)</pre></div></div></div></div></div></div></div>"
      ],
      "text/plain": [
       "Pipeline(steps=[('vectorizer',\n",
       "                 <__main__.Word2VecVectorizer object at 0x0000022CA342C190>),\n",
       "                ('oneClassSVM', OneClassSVM(gamma=0.1, nu=0.1))])"
      ]
     },
     "execution_count": 69,
     "metadata": {},
     "output_type": "execute_result"
    }
   ],
   "source": [
    "from sklearn.svm import OneClassSVM\n",
    "from sklearn.pipeline import Pipeline\n",
    "from sklearn.metrics import accuracy_score\n",
    "# OneClassSVM algorithm\n",
    "clf = OneClassSVM(nu=0.1, kernel=\"rbf\", gamma=0.1)\n",
    "pipe = Pipeline([('vectorizer', Word2VecVectorizer()), ('oneClassSVM', clf)])\n",
    "pipe.fit(X_treino, y_treino)"
   ]
  },
  {
   "cell_type": "code",
   "execution_count": 71,
   "metadata": {},
   "outputs": [
    {
     "name": "stdout",
     "output_type": "stream",
     "text": [
      "accuracy: 0.5006385696040868\n"
     ]
    }
   ],
   "source": [
    "# validate OneClassSVM model with train set\n",
    "preds_train = pipe.predict(X_treino)\n",
    "\n",
    "print(\"accuracy:\", accuracy_score(y_treino, preds_train))"
   ]
  },
  {
   "cell_type": "code",
   "execution_count": 73,
   "metadata": {},
   "outputs": [
    {
     "data": {
      "text/plain": [
       "array([-1, -1, -1, ..., -1, -1, -1], dtype=int64)"
      ]
     },
     "execution_count": 73,
     "metadata": {},
     "output_type": "execute_result"
    }
   ],
   "source": [
    "preds_test = pipe.predict(X_teste)\n",
    "preds_test"
   ]
  },
  {
   "cell_type": "code",
   "execution_count": 74,
   "metadata": {},
   "outputs": [
    {
     "name": "stdout",
     "output_type": "stream",
     "text": [
      "Confusion Matrix :\n",
      "[[4976   21]\n",
      " [ 119  116]]\n",
      "Accuracy Score : 0.9732415902140673\n",
      "Report : \n",
      "              precision    recall  f1-score   support\n",
      "\n",
      "          -1       0.98      1.00      0.99      4997\n",
      "           1       0.85      0.49      0.62       235\n",
      "\n",
      "    accuracy                           0.97      5232\n",
      "   macro avg       0.91      0.74      0.80      5232\n",
      "weighted avg       0.97      0.97      0.97      5232\n",
      "\n"
     ]
    }
   ],
   "source": [
    "from sklearn.metrics import confusion_matrix \n",
    "results = confusion_matrix(y_teste, preds_test) \n",
    "print('Confusion Matrix :')\n",
    "print(results) \n",
    "print('Accuracy Score :',accuracy_score(y_teste, preds_test)) \n",
    "print('Report : ')\n",
    "print(classification_report(y_teste, preds_test)) "
   ]
  },
  {
   "cell_type": "code",
   "execution_count": 75,
   "metadata": {},
   "outputs": [
    {
     "data": {
      "text/html": [
       "<div>\n",
       "<style scoped>\n",
       "    .dataframe tbody tr th:only-of-type {\n",
       "        vertical-align: middle;\n",
       "    }\n",
       "\n",
       "    .dataframe tbody tr th {\n",
       "        vertical-align: top;\n",
       "    }\n",
       "\n",
       "    .dataframe thead th {\n",
       "        text-align: right;\n",
       "    }\n",
       "</style>\n",
       "<table border=\"1\" class=\"dataframe\">\n",
       "  <thead>\n",
       "    <tr style=\"text-align: right;\">\n",
       "      <th></th>\n",
       "      <th>COD_DOCUMENTO</th>\n",
       "      <th>DES_NOME_PREFERIDO</th>\n",
       "      <th>DES_NOMES_ALTERNATIVOS</th>\n",
       "      <th>TXT_EMENTA</th>\n",
       "      <th>MARKER</th>\n",
       "    </tr>\n",
       "  </thead>\n",
       "  <tbody>\n",
       "    <tr>\n",
       "      <th>17925</th>\n",
       "      <td>511791</td>\n",
       "      <td>Decreto nº 89.151 de 07/12/1983</td>\n",
       "      <td>DEC-89151-1983-12-07</td>\n",
       "      <td>ABRE A PRESIDENCIA DA REPUBLICA E AO SUBANEXO ...</td>\n",
       "      <td>-1</td>\n",
       "    </tr>\n",
       "    <tr>\n",
       "      <th>10308</th>\n",
       "      <td>511404</td>\n",
       "      <td>Decreto nº 88.764 de 26/09/1983</td>\n",
       "      <td>DEC-88764-1983-09-26</td>\n",
       "      <td>ABRE AO MINISTERIO DO INTERIOR, EM FAVOR DE DI...</td>\n",
       "      <td>-1</td>\n",
       "    </tr>\n",
       "    <tr>\n",
       "      <th>15421</th>\n",
       "      <td>514754</td>\n",
       "      <td>Decreto nº 92.114 de 11/12/1985</td>\n",
       "      <td>DEC-92114-1985-12-11</td>\n",
       "      <td>ABRE A PRESIDENCIA DA REPUBLICA, EM FAVOR DA S...</td>\n",
       "      <td>-1</td>\n",
       "    </tr>\n",
       "    <tr>\n",
       "      <th>19450</th>\n",
       "      <td>552504</td>\n",
       "      <td>Lei nº 10.628 de 24/12/2002</td>\n",
       "      <td>LEI-10628-2002-12-24 , Lei do Foro Privilegiad...</td>\n",
       "      <td>Altera a redação do art. 84 do Decreto-Lei nº ...</td>\n",
       "      <td>-1</td>\n",
       "    </tr>\n",
       "    <tr>\n",
       "      <th>23970</th>\n",
       "      <td>484267</td>\n",
       "      <td>Decreto nº 61.642 de 03/11/1967</td>\n",
       "      <td>DEC-61642-1967-11-03</td>\n",
       "      <td>ABRE PELA PRESIDENCIA DA REPUBLICA EM FAVOR DO...</td>\n",
       "      <td>-1</td>\n",
       "    </tr>\n",
       "  </tbody>\n",
       "</table>\n",
       "</div>"
      ],
      "text/plain": [
       "       COD_DOCUMENTO               DES_NOME_PREFERIDO  \\\n",
       "17925         511791  Decreto nº 89.151 de 07/12/1983   \n",
       "10308         511404  Decreto nº 88.764 de 26/09/1983   \n",
       "15421         514754  Decreto nº 92.114 de 11/12/1985   \n",
       "19450         552504      Lei nº 10.628 de 24/12/2002   \n",
       "23970         484267  Decreto nº 61.642 de 03/11/1967   \n",
       "\n",
       "                                  DES_NOMES_ALTERNATIVOS  \\\n",
       "17925                               DEC-89151-1983-12-07   \n",
       "10308                               DEC-88764-1983-09-26   \n",
       "15421                               DEC-92114-1985-12-11   \n",
       "19450  LEI-10628-2002-12-24 , Lei do Foro Privilegiad...   \n",
       "23970                               DEC-61642-1967-11-03   \n",
       "\n",
       "                                              TXT_EMENTA  MARKER  \n",
       "17925  ABRE A PRESIDENCIA DA REPUBLICA E AO SUBANEXO ...      -1  \n",
       "10308  ABRE AO MINISTERIO DO INTERIOR, EM FAVOR DE DI...      -1  \n",
       "15421  ABRE A PRESIDENCIA DA REPUBLICA, EM FAVOR DA S...      -1  \n",
       "19450  Altera a redação do art. 84 do Decreto-Lei nº ...      -1  \n",
       "23970  ABRE PELA PRESIDENCIA DA REPUBLICA EM FAVOR DO...      -1  "
      ]
     },
     "execution_count": 75,
     "metadata": {},
     "output_type": "execute_result"
    }
   ],
   "source": [
    "X_teste.head()"
   ]
  },
  {
   "cell_type": "code",
   "execution_count": 76,
   "metadata": {},
   "outputs": [
    {
     "data": {
      "text/html": [
       "<div>\n",
       "<style scoped>\n",
       "    .dataframe tbody tr th:only-of-type {\n",
       "        vertical-align: middle;\n",
       "    }\n",
       "\n",
       "    .dataframe tbody tr th {\n",
       "        vertical-align: top;\n",
       "    }\n",
       "\n",
       "    .dataframe thead th {\n",
       "        text-align: right;\n",
       "    }\n",
       "</style>\n",
       "<table border=\"1\" class=\"dataframe\">\n",
       "  <thead>\n",
       "    <tr style=\"text-align: right;\">\n",
       "      <th></th>\n",
       "      <th>COD_DOCUMENTO</th>\n",
       "      <th>DES_NOME_PREFERIDO</th>\n",
       "      <th>DES_NOMES_ALTERNATIVOS</th>\n",
       "      <th>TXT_EMENTA</th>\n",
       "      <th>MARKER</th>\n",
       "    </tr>\n",
       "  </thead>\n",
       "  <tbody>\n",
       "    <tr>\n",
       "      <th>2924</th>\n",
       "      <td>552209</td>\n",
       "      <td>Lei nº 10.333 de 19/12/2001</td>\n",
       "      <td>LEI-10333-2001-12-19</td>\n",
       "      <td>Extingue a 5ª e a 6ª Auditorias da 1ª Circunsc...</td>\n",
       "      <td>1</td>\n",
       "    </tr>\n",
       "    <tr>\n",
       "      <th>22521</th>\n",
       "      <td>575911</td>\n",
       "      <td>Lei nº 12.269 de 21/06/2010</td>\n",
       "      <td>LEI-12269-2010-06-21</td>\n",
       "      <td>Dispõe sobre o prazo para formalizar a opção p...</td>\n",
       "      <td>1</td>\n",
       "    </tr>\n",
       "    <tr>\n",
       "      <th>10065</th>\n",
       "      <td>34834674</td>\n",
       "      <td>Decreto nº 10.790 de 09/09/2021</td>\n",
       "      <td>DEC-10790-2021-09-09</td>\n",
       "      <td>Altera o Decreto nº 9.783, de 7 de maio de 201...</td>\n",
       "      <td>1</td>\n",
       "    </tr>\n",
       "    <tr>\n",
       "      <th>6694</th>\n",
       "      <td>35699858</td>\n",
       "      <td>Decreto nº 11.051 de 26/04/2022</td>\n",
       "      <td>DEC-11051-2022-04-26</td>\n",
       "      <td>Regulamenta o art. 24-D da Lei nº 9.636, de 15...</td>\n",
       "      <td>1</td>\n",
       "    </tr>\n",
       "    <tr>\n",
       "      <th>16671</th>\n",
       "      <td>588146</td>\n",
       "      <td>Lei nº 12.770 de 28/12/2012</td>\n",
       "      <td>LEI-12770-2012-12-28</td>\n",
       "      <td>Dispõe sobre o subsídio do Procurador-Geral da...</td>\n",
       "      <td>1</td>\n",
       "    </tr>\n",
       "  </tbody>\n",
       "</table>\n",
       "</div>"
      ],
      "text/plain": [
       "       COD_DOCUMENTO               DES_NOME_PREFERIDO DES_NOMES_ALTERNATIVOS  \\\n",
       "2924          552209      Lei nº 10.333 de 19/12/2001   LEI-10333-2001-12-19   \n",
       "22521         575911      Lei nº 12.269 de 21/06/2010   LEI-12269-2010-06-21   \n",
       "10065       34834674  Decreto nº 10.790 de 09/09/2021   DEC-10790-2021-09-09   \n",
       "6694        35699858  Decreto nº 11.051 de 26/04/2022   DEC-11051-2022-04-26   \n",
       "16671         588146      Lei nº 12.770 de 28/12/2012   LEI-12770-2012-12-28   \n",
       "\n",
       "                                              TXT_EMENTA  MARKER  \n",
       "2924   Extingue a 5ª e a 6ª Auditorias da 1ª Circunsc...       1  \n",
       "22521  Dispõe sobre o prazo para formalizar a opção p...       1  \n",
       "10065  Altera o Decreto nº 9.783, de 7 de maio de 201...       1  \n",
       "6694   Regulamenta o art. 24-D da Lei nº 9.636, de 15...       1  \n",
       "16671  Dispõe sobre o subsídio do Procurador-Geral da...       1  "
      ]
     },
     "execution_count": 76,
     "metadata": {},
     "output_type": "execute_result"
    }
   ],
   "source": [
    "testPositives = X_teste.query(\"MARKER==1\")\n",
    "testPositives.head()\n"
   ]
  },
  {
   "cell_type": "code",
   "execution_count": 77,
   "metadata": {},
   "outputs": [
    {
     "data": {
      "text/html": [
       "<div>\n",
       "<style scoped>\n",
       "    .dataframe tbody tr th:only-of-type {\n",
       "        vertical-align: middle;\n",
       "    }\n",
       "\n",
       "    .dataframe tbody tr th {\n",
       "        vertical-align: top;\n",
       "    }\n",
       "\n",
       "    .dataframe thead th {\n",
       "        text-align: right;\n",
       "    }\n",
       "</style>\n",
       "<table border=\"1\" class=\"dataframe\">\n",
       "  <thead>\n",
       "    <tr style=\"text-align: right;\">\n",
       "      <th></th>\n",
       "      <th>COD_DOCUMENTO</th>\n",
       "      <th>DES_NOME_PREFERIDO</th>\n",
       "      <th>DES_NOMES_ALTERNATIVOS</th>\n",
       "      <th>TXT_EMENTA</th>\n",
       "      <th>MARKER</th>\n",
       "    </tr>\n",
       "  </thead>\n",
       "  <tbody>\n",
       "    <tr>\n",
       "      <th>17925</th>\n",
       "      <td>511791</td>\n",
       "      <td>Decreto nº 89.151 de 07/12/1983</td>\n",
       "      <td>DEC-89151-1983-12-07</td>\n",
       "      <td>ABRE A PRESIDENCIA DA REPUBLICA E AO SUBANEXO ...</td>\n",
       "      <td>-1</td>\n",
       "    </tr>\n",
       "    <tr>\n",
       "      <th>10308</th>\n",
       "      <td>511404</td>\n",
       "      <td>Decreto nº 88.764 de 26/09/1983</td>\n",
       "      <td>DEC-88764-1983-09-26</td>\n",
       "      <td>ABRE AO MINISTERIO DO INTERIOR, EM FAVOR DE DI...</td>\n",
       "      <td>-1</td>\n",
       "    </tr>\n",
       "    <tr>\n",
       "      <th>15421</th>\n",
       "      <td>514754</td>\n",
       "      <td>Decreto nº 92.114 de 11/12/1985</td>\n",
       "      <td>DEC-92114-1985-12-11</td>\n",
       "      <td>ABRE A PRESIDENCIA DA REPUBLICA, EM FAVOR DA S...</td>\n",
       "      <td>-1</td>\n",
       "    </tr>\n",
       "    <tr>\n",
       "      <th>19450</th>\n",
       "      <td>552504</td>\n",
       "      <td>Lei nº 10.628 de 24/12/2002</td>\n",
       "      <td>LEI-10628-2002-12-24 , Lei do Foro Privilegiad...</td>\n",
       "      <td>Altera a redação do art. 84 do Decreto-Lei nº ...</td>\n",
       "      <td>-1</td>\n",
       "    </tr>\n",
       "    <tr>\n",
       "      <th>23970</th>\n",
       "      <td>484267</td>\n",
       "      <td>Decreto nº 61.642 de 03/11/1967</td>\n",
       "      <td>DEC-61642-1967-11-03</td>\n",
       "      <td>ABRE PELA PRESIDENCIA DA REPUBLICA EM FAVOR DO...</td>\n",
       "      <td>-1</td>\n",
       "    </tr>\n",
       "  </tbody>\n",
       "</table>\n",
       "</div>"
      ],
      "text/plain": [
       "       COD_DOCUMENTO               DES_NOME_PREFERIDO  \\\n",
       "17925         511791  Decreto nº 89.151 de 07/12/1983   \n",
       "10308         511404  Decreto nº 88.764 de 26/09/1983   \n",
       "15421         514754  Decreto nº 92.114 de 11/12/1985   \n",
       "19450         552504      Lei nº 10.628 de 24/12/2002   \n",
       "23970         484267  Decreto nº 61.642 de 03/11/1967   \n",
       "\n",
       "                                  DES_NOMES_ALTERNATIVOS  \\\n",
       "17925                               DEC-89151-1983-12-07   \n",
       "10308                               DEC-88764-1983-09-26   \n",
       "15421                               DEC-92114-1985-12-11   \n",
       "19450  LEI-10628-2002-12-24 , Lei do Foro Privilegiad...   \n",
       "23970                               DEC-61642-1967-11-03   \n",
       "\n",
       "                                              TXT_EMENTA  MARKER  \n",
       "17925  ABRE A PRESIDENCIA DA REPUBLICA E AO SUBANEXO ...      -1  \n",
       "10308  ABRE AO MINISTERIO DO INTERIOR, EM FAVOR DE DI...      -1  \n",
       "15421  ABRE A PRESIDENCIA DA REPUBLICA, EM FAVOR DA S...      -1  \n",
       "19450  Altera a redação do art. 84 do Decreto-Lei nº ...      -1  \n",
       "23970  ABRE PELA PRESIDENCIA DA REPUBLICA EM FAVOR DO...      -1  "
      ]
     },
     "execution_count": 77,
     "metadata": {},
     "output_type": "execute_result"
    }
   ],
   "source": [
    "testNegatives = X_teste.query(\"MARKER==-1\")\n",
    "testNegatives.head()"
   ]
  },
  {
   "cell_type": "code",
   "execution_count": 47,
   "metadata": {},
   "outputs": [
    {
     "data": {
      "text/plain": [
       "-1"
      ]
     },
     "execution_count": 47,
     "metadata": {},
     "output_type": "execute_result"
    }
   ],
   "source": [
    "preds_test[3]"
   ]
  }
 ],
 "metadata": {
  "kernelspec": {
   "display_name": "Python 3.9.12 ('mdenv')",
   "language": "python",
   "name": "python3"
  },
  "language_info": {
   "codemirror_mode": {
    "name": "ipython",
    "version": 3
   },
   "file_extension": ".py",
   "mimetype": "text/x-python",
   "name": "python",
   "nbconvert_exporter": "python",
   "pygments_lexer": "ipython3",
   "version": "3.9.12"
  },
  "vscode": {
   "interpreter": {
    "hash": "bb26a599782b3853c870df2c7a4979ed6ea3ce3b4ae25b1f6e4fc2e40113204d"
   }
  }
 },
 "nbformat": 4,
 "nbformat_minor": 0
}
