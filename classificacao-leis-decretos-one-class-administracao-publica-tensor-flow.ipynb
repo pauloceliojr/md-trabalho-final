{
 "cells": [
  {
   "cell_type": "markdown",
   "metadata": {
    "collapsed": false,
    "pycharm": {
     "name": "#%% md\n"
    }
   },
   "source": [
    "# Trabalho Final de Mineração de Dados"
   ]
  },
  {
   "cell_type": "markdown",
   "metadata": {
    "collapsed": false,
    "pycharm": {
     "name": "#%% md\n"
    }
   },
   "source": [
    "## Importando bibliotecas"
   ]
  },
  {
   "cell_type": "code",
   "execution_count": 2,
   "metadata": {
    "collapsed": false,
    "pycharm": {
     "name": "#%%\n"
    }
   },
   "outputs": [
    {
     "name": "stderr",
     "output_type": "stream",
     "text": [
      "[nltk_data] Downloading package punkt to\n",
      "[nltk_data]     C:\\Users\\demet\\AppData\\Roaming\\nltk_data...\n",
      "[nltk_data]   Package punkt is already up-to-date!\n",
      "[nltk_data] Downloading package stopwords to\n",
      "[nltk_data]     C:\\Users\\demet\\AppData\\Roaming\\nltk_data...\n",
      "[nltk_data]   Package stopwords is already up-to-date!\n"
     ]
    },
    {
     "data": {
      "text/plain": [
       "True"
      ]
     },
     "execution_count": 2,
     "metadata": {},
     "output_type": "execute_result"
    }
   ],
   "source": [
    "from gensim.models import KeyedVectors\n",
    "from sklearn.model_selection import train_test_split\n",
    "from sklearn.linear_model import LogisticRegression\n",
    "from sklearn.metrics import classification_report\n",
    "from sklearn.dummy import DummyClassifier\n",
    "from sklearn import metrics\n",
    "from collections import Counter\n",
    "import pandas as pd\n",
    "import numpy as np\n",
    "import nltk\n",
    "import string\n",
    "nltk.download(\"punkt\")\n",
    "nltk.download(\"stopwords\")"
   ]
  },
  {
   "cell_type": "markdown",
   "metadata": {
    "collapsed": false,
    "pycharm": {
     "name": "#%% md\n"
    }
   },
   "source": [
    "## 1 - Fase de Preparação dos Dados\n",
    "---"
   ]
  },
  {
   "cell_type": "markdown",
   "metadata": {
    "collapsed": false,
    "pycharm": {
     "name": "#%% md\n"
    }
   },
   "source": [
    "Carregando o arquivo original de classes."
   ]
  },
  {
   "cell_type": "code",
   "execution_count": 3,
   "metadata": {
    "collapsed": false,
    "pycharm": {
     "name": "#%%\n"
    }
   },
   "outputs": [
    {
     "data": {
      "text/html": [
       "<div>\n",
       "<style scoped>\n",
       "    .dataframe tbody tr th:only-of-type {\n",
       "        vertical-align: middle;\n",
       "    }\n",
       "\n",
       "    .dataframe tbody tr th {\n",
       "        vertical-align: top;\n",
       "    }\n",
       "\n",
       "    .dataframe thead th {\n",
       "        text-align: right;\n",
       "    }\n",
       "</style>\n",
       "<table border=\"1\" class=\"dataframe\">\n",
       "  <thead>\n",
       "    <tr style=\"text-align: right;\">\n",
       "      <th></th>\n",
       "      <th></th>\n",
       "      <th>COD_CLASSE</th>\n",
       "      <th>DES_NOME_PREFERIDO</th>\n",
       "      <th>COD_CLASSE_PAI</th>\n",
       "      <th>NUM_NIVEL</th>\n",
       "      <th>CYCLE</th>\n",
       "      <th>TREE</th>\n",
       "      <th>PATH</th>\n",
       "      <th>QTD_FILHOS</th>\n",
       "      <th>DES_NIVEL1</th>\n",
       "      <th>DES_NIVEL2</th>\n",
       "      <th>DES_NIVEL3</th>\n",
       "      <th>DES_NIVEL4</th>\n",
       "    </tr>\n",
       "  </thead>\n",
       "  <tbody>\n",
       "    <tr>\n",
       "      <th>0</th>\n",
       "      <td>1</td>\n",
       "      <td>33254494</td>\n",
       "      <td>Classificação Temática Unificada</td>\n",
       "      <td>NaN</td>\n",
       "      <td>1</td>\n",
       "      <td>0</td>\n",
       "      <td>Classificação Temática Unificada</td>\n",
       "      <td>Classificação Temática Unificada</td>\n",
       "      <td>202</td>\n",
       "      <td>NaN</td>\n",
       "      <td>NaN</td>\n",
       "      <td>NaN</td>\n",
       "      <td>NaN</td>\n",
       "    </tr>\n",
       "    <tr>\n",
       "      <th>1</th>\n",
       "      <td>2</td>\n",
       "      <td>33809814</td>\n",
       "      <td>Temas Exclusivos de Pronunciamentos</td>\n",
       "      <td>33254494.0</td>\n",
       "      <td>2</td>\n",
       "      <td>0</td>\n",
       "      <td>-- Temas Exclusivos de Pronunciamentos</td>\n",
       "      <td>Classificação Temática Unificada / Temas Exclu...</td>\n",
       "      <td>22</td>\n",
       "      <td>Temas Exclusivos de Pronunciamentos</td>\n",
       "      <td>NaN</td>\n",
       "      <td>NaN</td>\n",
       "      <td>NaN</td>\n",
       "    </tr>\n",
       "    <tr>\n",
       "      <th>2</th>\n",
       "      <td>3</td>\n",
       "      <td>33809634</td>\n",
       "      <td>Meio Ambiente</td>\n",
       "      <td>33254494.0</td>\n",
       "      <td>2</td>\n",
       "      <td>0</td>\n",
       "      <td>-- Meio Ambiente</td>\n",
       "      <td>Classificação Temática Unificada / Meio Ambiente</td>\n",
       "      <td>11</td>\n",
       "      <td>Meio Ambiente</td>\n",
       "      <td>NaN</td>\n",
       "      <td>NaN</td>\n",
       "      <td>NaN</td>\n",
       "    </tr>\n",
       "    <tr>\n",
       "      <th>3</th>\n",
       "      <td>4</td>\n",
       "      <td>33809514</td>\n",
       "      <td>Soberania, Defesa Nacional e Ordem Pública</td>\n",
       "      <td>33254494.0</td>\n",
       "      <td>2</td>\n",
       "      <td>0</td>\n",
       "      <td>-- Soberania, Defesa Nacional e Ordem Pública</td>\n",
       "      <td>Classificação Temática Unificada / Soberania, ...</td>\n",
       "      <td>7</td>\n",
       "      <td>Soberania, Defesa Nacional e Ordem Pública</td>\n",
       "      <td>NaN</td>\n",
       "      <td>NaN</td>\n",
       "      <td>NaN</td>\n",
       "    </tr>\n",
       "    <tr>\n",
       "      <th>4</th>\n",
       "      <td>5</td>\n",
       "      <td>33808912</td>\n",
       "      <td>Política Social</td>\n",
       "      <td>33254494.0</td>\n",
       "      <td>2</td>\n",
       "      <td>0</td>\n",
       "      <td>-- Política Social</td>\n",
       "      <td>Classificação Temática Unificada / Política So...</td>\n",
       "      <td>37</td>\n",
       "      <td>Política Social</td>\n",
       "      <td>NaN</td>\n",
       "      <td>NaN</td>\n",
       "      <td>NaN</td>\n",
       "    </tr>\n",
       "  </tbody>\n",
       "</table>\n",
       "</div>"
      ],
      "text/plain": [
       "        COD_CLASSE                          DES_NOME_PREFERIDO  \\\n",
       "0    1    33254494            Classificação Temática Unificada   \n",
       "1    2    33809814         Temas Exclusivos de Pronunciamentos   \n",
       "2    3    33809634                               Meio Ambiente   \n",
       "3    4    33809514  Soberania, Defesa Nacional e Ordem Pública   \n",
       "4    5    33808912                             Política Social   \n",
       "\n",
       "   COD_CLASSE_PAI  NUM_NIVEL  CYCLE  \\\n",
       "0             NaN          1      0   \n",
       "1      33254494.0          2      0   \n",
       "2      33254494.0          2      0   \n",
       "3      33254494.0          2      0   \n",
       "4      33254494.0          2      0   \n",
       "\n",
       "                                            TREE  \\\n",
       "0               Classificação Temática Unificada   \n",
       "1         -- Temas Exclusivos de Pronunciamentos   \n",
       "2                               -- Meio Ambiente   \n",
       "3  -- Soberania, Defesa Nacional e Ordem Pública   \n",
       "4                             -- Política Social   \n",
       "\n",
       "                                                PATH  QTD_FILHOS  \\\n",
       "0                   Classificação Temática Unificada         202   \n",
       "1  Classificação Temática Unificada / Temas Exclu...          22   \n",
       "2   Classificação Temática Unificada / Meio Ambiente          11   \n",
       "3  Classificação Temática Unificada / Soberania, ...           7   \n",
       "4  Classificação Temática Unificada / Política So...          37   \n",
       "\n",
       "                                   DES_NIVEL1 DES_NIVEL2 DES_NIVEL3  \\\n",
       "0                                         NaN        NaN        NaN   \n",
       "1         Temas Exclusivos de Pronunciamentos        NaN        NaN   \n",
       "2                               Meio Ambiente        NaN        NaN   \n",
       "3  Soberania, Defesa Nacional e Ordem Pública        NaN        NaN   \n",
       "4                             Política Social        NaN        NaN   \n",
       "\n",
       "   DES_NIVEL4  \n",
       "0         NaN  \n",
       "1         NaN  \n",
       "2         NaN  \n",
       "3         NaN  \n",
       "4         NaN  "
      ]
     },
     "execution_count": 3,
     "metadata": {},
     "output_type": "execute_result"
    }
   ],
   "source": [
    "classes_original = pd.read_excel(\"dados/SistemaDeClassificacao.xlsx\", \"Select viw_classificacao_arvore\")\n",
    "classes_original.head()"
   ]
  },
  {
   "cell_type": "markdown",
   "metadata": {
    "collapsed": false,
    "pycharm": {
     "name": "#%% md\n"
    }
   },
   "source": [
    "Filtra o arquivo de classes original para exibir apenas aquelas que serão raiz na classificação da ementa.\n",
    "Essa classes possuem nível 2 na tabela original."
   ]
  },
  {
   "cell_type": "code",
   "execution_count": 4,
   "metadata": {
    "collapsed": false,
    "pycharm": {
     "name": "#%%\n"
    }
   },
   "outputs": [
    {
     "data": {
      "text/html": [
       "<div>\n",
       "<style scoped>\n",
       "    .dataframe tbody tr th:only-of-type {\n",
       "        vertical-align: middle;\n",
       "    }\n",
       "\n",
       "    .dataframe tbody tr th {\n",
       "        vertical-align: top;\n",
       "    }\n",
       "\n",
       "    .dataframe thead th {\n",
       "        text-align: right;\n",
       "    }\n",
       "</style>\n",
       "<table border=\"1\" class=\"dataframe\">\n",
       "  <thead>\n",
       "    <tr style=\"text-align: right;\">\n",
       "      <th></th>\n",
       "      <th>COD_CLASSE</th>\n",
       "      <th>DES_CLASSE</th>\n",
       "    </tr>\n",
       "  </thead>\n",
       "  <tbody>\n",
       "    <tr>\n",
       "      <th>1</th>\n",
       "      <td>33809814</td>\n",
       "      <td>Temas Exclusivos de Pronunciamentos</td>\n",
       "    </tr>\n",
       "    <tr>\n",
       "      <th>2</th>\n",
       "      <td>33809634</td>\n",
       "      <td>Meio Ambiente</td>\n",
       "    </tr>\n",
       "    <tr>\n",
       "      <th>3</th>\n",
       "      <td>33809514</td>\n",
       "      <td>Soberania, Defesa Nacional e Ordem Pública</td>\n",
       "    </tr>\n",
       "    <tr>\n",
       "      <th>4</th>\n",
       "      <td>33808912</td>\n",
       "      <td>Política Social</td>\n",
       "    </tr>\n",
       "    <tr>\n",
       "      <th>5</th>\n",
       "      <td>33805362</td>\n",
       "      <td>Jurídico</td>\n",
       "    </tr>\n",
       "    <tr>\n",
       "      <th>6</th>\n",
       "      <td>33805317</td>\n",
       "      <td>Honorífico</td>\n",
       "    </tr>\n",
       "    <tr>\n",
       "      <th>7</th>\n",
       "      <td>33805137</td>\n",
       "      <td>Infraestrutura</td>\n",
       "    </tr>\n",
       "    <tr>\n",
       "      <th>8</th>\n",
       "      <td>33769167</td>\n",
       "      <td>Economia e Desenvolvimento</td>\n",
       "    </tr>\n",
       "    <tr>\n",
       "      <th>9</th>\n",
       "      <td>33768972</td>\n",
       "      <td>Organização do Estado</td>\n",
       "    </tr>\n",
       "    <tr>\n",
       "      <th>10</th>\n",
       "      <td>33685789</td>\n",
       "      <td>Administração Pública</td>\n",
       "    </tr>\n",
       "    <tr>\n",
       "      <th>11</th>\n",
       "      <td>33260515</td>\n",
       "      <td>Orçamento Público</td>\n",
       "    </tr>\n",
       "  </tbody>\n",
       "</table>\n",
       "</div>"
      ],
      "text/plain": [
       "    COD_CLASSE                                  DES_CLASSE\n",
       "1     33809814         Temas Exclusivos de Pronunciamentos\n",
       "2     33809634                               Meio Ambiente\n",
       "3     33809514  Soberania, Defesa Nacional e Ordem Pública\n",
       "4     33808912                             Política Social\n",
       "5     33805362                                    Jurídico\n",
       "6     33805317                                  Honorífico\n",
       "7     33805137                              Infraestrutura\n",
       "8     33769167                  Economia e Desenvolvimento\n",
       "9     33768972                       Organização do Estado\n",
       "10    33685789                       Administração Pública\n",
       "11    33260515                           Orçamento Público"
      ]
     },
     "execution_count": 4,
     "metadata": {},
     "output_type": "execute_result"
    }
   ],
   "source": [
    "classes_raiz = classes_original.query(\"NUM_NIVEL == 2\").filter([\"COD_CLASSE\", \"DES_NOME_PREFERIDO\"])\n",
    "classes_raiz.rename(columns={\"DES_NOME_PREFERIDO\": \"DES_CLASSE\"}, inplace=True)\n",
    "classes_raiz"
   ]
  },
  {
   "cell_type": "markdown",
   "metadata": {
    "collapsed": false,
    "pycharm": {
     "name": "#%% md\n"
    }
   },
   "source": [
    "Carrega o dataset contendo as leis que já foram classificadas. Com os dados carregados, cria uma coluna derivada (DES_CLASSE_RAIZ) a partir da árvore de classes (DES_CLASSE_HIERARQUIA), da qual a informação de classe raiz é extraída."
   ]
  },
  {
   "cell_type": "code",
   "execution_count": 5,
   "metadata": {
    "collapsed": false,
    "pycharm": {
     "name": "#%%\n"
    }
   },
   "outputs": [
    {
     "data": {
      "text/html": [
       "<div>\n",
       "<style scoped>\n",
       "    .dataframe tbody tr th:only-of-type {\n",
       "        vertical-align: middle;\n",
       "    }\n",
       "\n",
       "    .dataframe tbody tr th {\n",
       "        vertical-align: top;\n",
       "    }\n",
       "\n",
       "    .dataframe thead th {\n",
       "        text-align: right;\n",
       "    }\n",
       "</style>\n",
       "<table border=\"1\" class=\"dataframe\">\n",
       "  <thead>\n",
       "    <tr style=\"text-align: right;\">\n",
       "      <th></th>\n",
       "      <th></th>\n",
       "      <th>COD_PRC_DOC_TEMA</th>\n",
       "      <th>COD_PROCESSO_DOCUMENTO</th>\n",
       "      <th>COD_CLASSE</th>\n",
       "      <th>DES_CLASSE</th>\n",
       "      <th>DES_CLASSE_HIERARQUIA</th>\n",
       "      <th>DES_CLASSE_RAIZ</th>\n",
       "    </tr>\n",
       "  </thead>\n",
       "  <tbody>\n",
       "    <tr>\n",
       "      <th>0</th>\n",
       "      <td>1</td>\n",
       "      <td>36155183</td>\n",
       "      <td>386343</td>\n",
       "      <td>33805827</td>\n",
       "      <td>Crédito Suplementar</td>\n",
       "      <td>Classificação Temática Unificada / Orçamento P...</td>\n",
       "      <td>Orçamento Público</td>\n",
       "    </tr>\n",
       "    <tr>\n",
       "      <th>1</th>\n",
       "      <td>2</td>\n",
       "      <td>36192020</td>\n",
       "      <td>386579</td>\n",
       "      <td>33805287</td>\n",
       "      <td>Rádio e TV</td>\n",
       "      <td>Classificação Temática Unificada / Infraestrut...</td>\n",
       "      <td>Infraestrutura</td>\n",
       "    </tr>\n",
       "    <tr>\n",
       "      <th>2</th>\n",
       "      <td>3</td>\n",
       "      <td>36155185</td>\n",
       "      <td>387419</td>\n",
       "      <td>33805827</td>\n",
       "      <td>Crédito Suplementar</td>\n",
       "      <td>Classificação Temática Unificada / Orçamento P...</td>\n",
       "      <td>Orçamento Público</td>\n",
       "    </tr>\n",
       "    <tr>\n",
       "      <th>3</th>\n",
       "      <td>4</td>\n",
       "      <td>36192056</td>\n",
       "      <td>387832</td>\n",
       "      <td>33805287</td>\n",
       "      <td>Rádio e TV</td>\n",
       "      <td>Classificação Temática Unificada / Infraestrut...</td>\n",
       "      <td>Infraestrutura</td>\n",
       "    </tr>\n",
       "    <tr>\n",
       "      <th>4</th>\n",
       "      <td>5</td>\n",
       "      <td>36155187</td>\n",
       "      <td>388197</td>\n",
       "      <td>33805827</td>\n",
       "      <td>Crédito Suplementar</td>\n",
       "      <td>Classificação Temática Unificada / Orçamento P...</td>\n",
       "      <td>Orçamento Público</td>\n",
       "    </tr>\n",
       "  </tbody>\n",
       "</table>\n",
       "</div>"
      ],
      "text/plain": [
       "        COD_PRC_DOC_TEMA  COD_PROCESSO_DOCUMENTO  COD_CLASSE  \\\n",
       "0    1          36155183                  386343    33805827   \n",
       "1    2          36192020                  386579    33805287   \n",
       "2    3          36155185                  387419    33805827   \n",
       "3    4          36192056                  387832    33805287   \n",
       "4    5          36155187                  388197    33805827   \n",
       "\n",
       "            DES_CLASSE                              DES_CLASSE_HIERARQUIA  \\\n",
       "0  Crédito Suplementar  Classificação Temática Unificada / Orçamento P...   \n",
       "1           Rádio e TV  Classificação Temática Unificada / Infraestrut...   \n",
       "2  Crédito Suplementar  Classificação Temática Unificada / Orçamento P...   \n",
       "3           Rádio e TV  Classificação Temática Unificada / Infraestrut...   \n",
       "4  Crédito Suplementar  Classificação Temática Unificada / Orçamento P...   \n",
       "\n",
       "     DES_CLASSE_RAIZ  \n",
       "0  Orçamento Público  \n",
       "1     Infraestrutura  \n",
       "2  Orçamento Público  \n",
       "3     Infraestrutura  \n",
       "4  Orçamento Público  "
      ]
     },
     "execution_count": 5,
     "metadata": {},
     "output_type": "execute_result"
    }
   ],
   "source": [
    "leis_classificadas_original = pd.read_excel(\"dados/ClassificacaoDeLeisOrdinarias-LeisComplementares-e-DecretosNumerados-Desde1900.xlsx\", \"Select mvw_u03_prc_doc_tema\")\n",
    "leis_classificadas_original[\"DES_CLASSE_RAIZ\"] = leis_classificadas_original[\"DES_CLASSE_HIERARQUIA\"].apply(lambda hierarquia : hierarquia.split(\" / \")[1])\n",
    "leis_classificadas_original.head()"
   ]
  },
  {
   "cell_type": "markdown",
   "metadata": {
    "collapsed": false,
    "pycharm": {
     "name": "#%% md\n"
    }
   },
   "source": [
    "Carrega os dados de todas as leis (classificadas e não classificadas) e aplica as transformações iniciais."
   ]
  },
  {
   "cell_type": "code",
   "execution_count": 6,
   "metadata": {
    "collapsed": false,
    "pycharm": {
     "name": "#%%\n"
    }
   },
   "outputs": [
    {
     "data": {
      "text/html": [
       "<div>\n",
       "<style scoped>\n",
       "    .dataframe tbody tr th:only-of-type {\n",
       "        vertical-align: middle;\n",
       "    }\n",
       "\n",
       "    .dataframe tbody tr th {\n",
       "        vertical-align: top;\n",
       "    }\n",
       "\n",
       "    .dataframe thead th {\n",
       "        text-align: right;\n",
       "    }\n",
       "</style>\n",
       "<table border=\"1\" class=\"dataframe\">\n",
       "  <thead>\n",
       "    <tr style=\"text-align: right;\">\n",
       "      <th></th>\n",
       "      <th>COD_DOCUMENTO</th>\n",
       "      <th>DES_NOME_PREFERIDO</th>\n",
       "      <th>DES_NOMES_ALTERNATIVOS</th>\n",
       "      <th>TXT_EMENTA</th>\n",
       "    </tr>\n",
       "  </thead>\n",
       "  <tbody>\n",
       "    <tr>\n",
       "      <th>0</th>\n",
       "      <td>35345364</td>\n",
       "      <td>Lei nº 14.263 de 22/12/2021</td>\n",
       "      <td>LEI-14263-2021-12-22</td>\n",
       "      <td>Abre ao Orçamento da Seguridade Social da Uniã...</td>\n",
       "    </tr>\n",
       "    <tr>\n",
       "      <th>1</th>\n",
       "      <td>26247104</td>\n",
       "      <td>Lei nº 13.486 de 03/10/2017</td>\n",
       "      <td>LEI-13486-2017-10-03</td>\n",
       "      <td>Altera o art. 8º da Lei nº 8.078, de 11 de set...</td>\n",
       "    </tr>\n",
       "    <tr>\n",
       "      <th>2</th>\n",
       "      <td>27445746</td>\n",
       "      <td>Lei nº 13.701 de 06/08/2018</td>\n",
       "      <td>LEI-13701-2018-08-06</td>\n",
       "      <td>Cria o cargo de natureza especial de Intervent...</td>\n",
       "    </tr>\n",
       "    <tr>\n",
       "      <th>3</th>\n",
       "      <td>36348502</td>\n",
       "      <td>Lei nº 14.447 de 09/09/2022</td>\n",
       "      <td>LEI-14447-2022-09-09</td>\n",
       "      <td>Altera os limites da Floresta Nacional de Bras...</td>\n",
       "    </tr>\n",
       "    <tr>\n",
       "      <th>4</th>\n",
       "      <td>32103727</td>\n",
       "      <td>Lei nº 13.988 de 14/04/2020</td>\n",
       "      <td>LEI-13988-2020-04-14</td>\n",
       "      <td>Dispõe sobre a transação nas hipóteses que esp...</td>\n",
       "    </tr>\n",
       "  </tbody>\n",
       "</table>\n",
       "</div>"
      ],
      "text/plain": [
       "   COD_DOCUMENTO           DES_NOME_PREFERIDO DES_NOMES_ALTERNATIVOS  \\\n",
       "0       35345364  Lei nº 14.263 de 22/12/2021   LEI-14263-2021-12-22   \n",
       "1       26247104  Lei nº 13.486 de 03/10/2017   LEI-13486-2017-10-03   \n",
       "2       27445746  Lei nº 13.701 de 06/08/2018   LEI-13701-2018-08-06   \n",
       "3       36348502  Lei nº 14.447 de 09/09/2022   LEI-14447-2022-09-09   \n",
       "4       32103727  Lei nº 13.988 de 14/04/2020   LEI-13988-2020-04-14   \n",
       "\n",
       "                                          TXT_EMENTA  \n",
       "0  Abre ao Orçamento da Seguridade Social da Uniã...  \n",
       "1  Altera o art. 8º da Lei nº 8.078, de 11 de set...  \n",
       "2  Cria o cargo de natureza especial de Intervent...  \n",
       "3  Altera os limites da Floresta Nacional de Bras...  \n",
       "4  Dispõe sobre a transação nas hipóteses que esp...  "
      ]
     },
     "execution_count": 6,
     "metadata": {},
     "output_type": "execute_result"
    }
   ],
   "source": [
    "leis_original = pd.read_excel(\"dados/LeisOrdinarias-LeisComplementare-e-DecretosNumeradosComClassificacaoDesde1900.xlsx\", \"Select mvw_s01_documento\")\n",
    "leis_original.rename(columns={\"DBMS_LOB.SUBSTR(S01.TXT_EMENTA\": \"TXT_EMENTA\"}, inplace=True)\n",
    "leis_original.drop(columns=\"   \", inplace=True)\n",
    "leis_original.head()"
   ]
  },
  {
   "cell_type": "code",
   "execution_count": 7,
   "metadata": {
    "collapsed": false,
    "pycharm": {
     "name": "#%%\n"
    }
   },
   "outputs": [
    {
     "data": {
      "text/plain": [
       "26959"
      ]
     },
     "execution_count": 7,
     "metadata": {},
     "output_type": "execute_result"
    }
   ],
   "source": [
    "leis_original.shape[0]"
   ]
  },
  {
   "cell_type": "markdown",
   "metadata": {
    "collapsed": false,
    "pycharm": {
     "name": "#%% md\n"
    }
   },
   "source": [
    "Com os datasets necessários já carregados, cria-se um novo dataset a partir do dataset contendo todas as leis, incluindo-se a informação das classes contidadas nas leis do dataset de leis classificadas."
   ]
  },
  {
   "cell_type": "code",
   "execution_count": 8,
   "metadata": {
    "collapsed": false,
    "pycharm": {
     "name": "#%%\n"
    }
   },
   "outputs": [
    {
     "data": {
      "text/html": [
       "<div>\n",
       "<style scoped>\n",
       "    .dataframe tbody tr th:only-of-type {\n",
       "        vertical-align: middle;\n",
       "    }\n",
       "\n",
       "    .dataframe tbody tr th {\n",
       "        vertical-align: top;\n",
       "    }\n",
       "\n",
       "    .dataframe thead th {\n",
       "        text-align: right;\n",
       "    }\n",
       "</style>\n",
       "<table border=\"1\" class=\"dataframe\">\n",
       "  <thead>\n",
       "    <tr style=\"text-align: right;\">\n",
       "      <th></th>\n",
       "      <th>COD_DOCUMENTO</th>\n",
       "      <th>DES_NOME_PREFERIDO</th>\n",
       "      <th>DES_NOMES_ALTERNATIVOS</th>\n",
       "      <th>TXT_EMENTA</th>\n",
       "      <th>COD_CLASSE</th>\n",
       "      <th>DES_CLASSE</th>\n",
       "    </tr>\n",
       "  </thead>\n",
       "  <tbody>\n",
       "    <tr>\n",
       "      <th>0</th>\n",
       "      <td>35345364</td>\n",
       "      <td>Lei nº 14.263 de 22/12/2021</td>\n",
       "      <td>LEI-14263-2021-12-22</td>\n",
       "      <td>Abre ao Orçamento da Seguridade Social da Uniã...</td>\n",
       "      <td>33260515.0</td>\n",
       "      <td>Orçamento Público</td>\n",
       "    </tr>\n",
       "    <tr>\n",
       "      <th>1</th>\n",
       "      <td>26247104</td>\n",
       "      <td>Lei nº 13.486 de 03/10/2017</td>\n",
       "      <td>LEI-13486-2017-10-03</td>\n",
       "      <td>Altera o art. 8º da Lei nº 8.078, de 11 de set...</td>\n",
       "      <td>33808912.0</td>\n",
       "      <td>Política Social</td>\n",
       "    </tr>\n",
       "    <tr>\n",
       "      <th>2</th>\n",
       "      <td>27445746</td>\n",
       "      <td>Lei nº 13.701 de 06/08/2018</td>\n",
       "      <td>LEI-13701-2018-08-06</td>\n",
       "      <td>Cria o cargo de natureza especial de Intervent...</td>\n",
       "      <td>33768972.0</td>\n",
       "      <td>Organização do Estado</td>\n",
       "    </tr>\n",
       "    <tr>\n",
       "      <th>3</th>\n",
       "      <td>36348502</td>\n",
       "      <td>Lei nº 14.447 de 09/09/2022</td>\n",
       "      <td>LEI-14447-2022-09-09</td>\n",
       "      <td>Altera os limites da Floresta Nacional de Bras...</td>\n",
       "      <td>33685789.0</td>\n",
       "      <td>Administração Pública</td>\n",
       "    </tr>\n",
       "    <tr>\n",
       "      <th>4</th>\n",
       "      <td>36348502</td>\n",
       "      <td>Lei nº 14.447 de 09/09/2022</td>\n",
       "      <td>LEI-14447-2022-09-09</td>\n",
       "      <td>Altera os limites da Floresta Nacional de Bras...</td>\n",
       "      <td>33809634.0</td>\n",
       "      <td>Meio Ambiente</td>\n",
       "    </tr>\n",
       "  </tbody>\n",
       "</table>\n",
       "</div>"
      ],
      "text/plain": [
       "   COD_DOCUMENTO           DES_NOME_PREFERIDO DES_NOMES_ALTERNATIVOS  \\\n",
       "0       35345364  Lei nº 14.263 de 22/12/2021   LEI-14263-2021-12-22   \n",
       "1       26247104  Lei nº 13.486 de 03/10/2017   LEI-13486-2017-10-03   \n",
       "2       27445746  Lei nº 13.701 de 06/08/2018   LEI-13701-2018-08-06   \n",
       "3       36348502  Lei nº 14.447 de 09/09/2022   LEI-14447-2022-09-09   \n",
       "4       36348502  Lei nº 14.447 de 09/09/2022   LEI-14447-2022-09-09   \n",
       "\n",
       "                                          TXT_EMENTA  COD_CLASSE  \\\n",
       "0  Abre ao Orçamento da Seguridade Social da Uniã...  33260515.0   \n",
       "1  Altera o art. 8º da Lei nº 8.078, de 11 de set...  33808912.0   \n",
       "2  Cria o cargo de natureza especial de Intervent...  33768972.0   \n",
       "3  Altera os limites da Floresta Nacional de Bras...  33685789.0   \n",
       "4  Altera os limites da Floresta Nacional de Bras...  33809634.0   \n",
       "\n",
       "              DES_CLASSE  \n",
       "0      Orçamento Público  \n",
       "1        Política Social  \n",
       "2  Organização do Estado  \n",
       "3  Administração Pública  \n",
       "4          Meio Ambiente  "
      ]
     },
     "execution_count": 8,
     "metadata": {},
     "output_type": "execute_result"
    }
   ],
   "source": [
    "leis = leis_original.merge(leis_classificadas_original.filter([\"COD_PROCESSO_DOCUMENTO\",\"DES_CLASSE_RAIZ\"]), left_on=\"COD_DOCUMENTO\", right_on=\"COD_PROCESSO_DOCUMENTO\", how=\"left\")\n",
    "leis = leis.merge(classes_raiz, left_on=\"DES_CLASSE_RAIZ\", right_on=\"DES_CLASSE\", how=\"left\")\n",
    "leis.drop(columns=[\"COD_PROCESSO_DOCUMENTO\", \"DES_CLASSE_RAIZ\"], inplace=True)\n",
    "leis.head()"
   ]
  },
  {
   "cell_type": "code",
   "execution_count": 9,
   "metadata": {
    "collapsed": false,
    "pycharm": {
     "name": "#%%\n"
    }
   },
   "outputs": [
    {
     "data": {
      "text/plain": [
       "27743"
      ]
     },
     "execution_count": 9,
     "metadata": {},
     "output_type": "execute_result"
    }
   ],
   "source": [
    "leis.shape[0]"
   ]
  },
  {
   "cell_type": "markdown",
   "metadata": {
    "collapsed": false,
    "pycharm": {
     "name": "#%% md\n"
    }
   },
   "source": [
    "Limpa os registros duplicados de leis que possuem mais de uma classe folha, mas que tenham mesma classe raiz e exibe as leis que possuem mais de uma classe folha, mas que tenham classes raiz diferentes."
   ]
  },
  {
   "cell_type": "code",
   "execution_count": 10,
   "metadata": {
    "collapsed": false,
    "pycharm": {
     "name": "#%%\n"
    }
   },
   "outputs": [
    {
     "data": {
      "text/html": [
       "<div>\n",
       "<style scoped>\n",
       "    .dataframe tbody tr th:only-of-type {\n",
       "        vertical-align: middle;\n",
       "    }\n",
       "\n",
       "    .dataframe tbody tr th {\n",
       "        vertical-align: top;\n",
       "    }\n",
       "\n",
       "    .dataframe thead th {\n",
       "        text-align: right;\n",
       "    }\n",
       "</style>\n",
       "<table border=\"1\" class=\"dataframe\">\n",
       "  <thead>\n",
       "    <tr style=\"text-align: right;\">\n",
       "      <th></th>\n",
       "      <th>COD_DOCUMENTO</th>\n",
       "      <th>COD_CLASSE</th>\n",
       "      <th>DES_CLASSE</th>\n",
       "    </tr>\n",
       "  </thead>\n",
       "  <tbody>\n",
       "    <tr>\n",
       "      <th>3</th>\n",
       "      <td>36348502</td>\n",
       "      <td>33685789.0</td>\n",
       "      <td>Administração Pública</td>\n",
       "    </tr>\n",
       "    <tr>\n",
       "      <th>4</th>\n",
       "      <td>36348502</td>\n",
       "      <td>33809634.0</td>\n",
       "      <td>Meio Ambiente</td>\n",
       "    </tr>\n",
       "    <tr>\n",
       "      <th>5</th>\n",
       "      <td>36348502</td>\n",
       "      <td>33769167.0</td>\n",
       "      <td>Economia e Desenvolvimento</td>\n",
       "    </tr>\n",
       "    <tr>\n",
       "      <th>20</th>\n",
       "      <td>36062349</td>\n",
       "      <td>33808912.0</td>\n",
       "      <td>Política Social</td>\n",
       "    </tr>\n",
       "    <tr>\n",
       "      <th>21</th>\n",
       "      <td>36062349</td>\n",
       "      <td>33769167.0</td>\n",
       "      <td>Economia e Desenvolvimento</td>\n",
       "    </tr>\n",
       "    <tr>\n",
       "      <th>...</th>\n",
       "      <td>...</td>\n",
       "      <td>...</td>\n",
       "      <td>...</td>\n",
       "    </tr>\n",
       "    <tr>\n",
       "      <th>27349</th>\n",
       "      <td>36032872</td>\n",
       "      <td>33808912.0</td>\n",
       "      <td>Política Social</td>\n",
       "    </tr>\n",
       "    <tr>\n",
       "      <th>27350</th>\n",
       "      <td>35556312</td>\n",
       "      <td>33685789.0</td>\n",
       "      <td>Administração Pública</td>\n",
       "    </tr>\n",
       "    <tr>\n",
       "      <th>27351</th>\n",
       "      <td>35556312</td>\n",
       "      <td>33808912.0</td>\n",
       "      <td>Política Social</td>\n",
       "    </tr>\n",
       "    <tr>\n",
       "      <th>27359</th>\n",
       "      <td>35396946</td>\n",
       "      <td>33809514.0</td>\n",
       "      <td>Soberania, Defesa Nacional e Ordem Pública</td>\n",
       "    </tr>\n",
       "    <tr>\n",
       "      <th>27360</th>\n",
       "      <td>35396946</td>\n",
       "      <td>33769167.0</td>\n",
       "      <td>Economia e Desenvolvimento</td>\n",
       "    </tr>\n",
       "  </tbody>\n",
       "</table>\n",
       "<p>630 rows × 3 columns</p>\n",
       "</div>"
      ],
      "text/plain": [
       "       COD_DOCUMENTO  COD_CLASSE                                  DES_CLASSE\n",
       "3           36348502  33685789.0                       Administração Pública\n",
       "4           36348502  33809634.0                               Meio Ambiente\n",
       "5           36348502  33769167.0                  Economia e Desenvolvimento\n",
       "20          36062349  33808912.0                             Política Social\n",
       "21          36062349  33769167.0                  Economia e Desenvolvimento\n",
       "...              ...         ...                                         ...\n",
       "27349       36032872  33808912.0                             Política Social\n",
       "27350       35556312  33685789.0                       Administração Pública\n",
       "27351       35556312  33808912.0                             Política Social\n",
       "27359       35396946  33809514.0  Soberania, Defesa Nacional e Ordem Pública\n",
       "27360       35396946  33769167.0                  Economia e Desenvolvimento\n",
       "\n",
       "[630 rows x 3 columns]"
      ]
     },
     "execution_count": 10,
     "metadata": {},
     "output_type": "execute_result"
    }
   ],
   "source": [
    "leis.drop_duplicates(inplace=True)\n",
    "temp = leis[[\"COD_DOCUMENTO\", \"COD_CLASSE\", \"DES_CLASSE\"]].groupby(\"COD_DOCUMENTO\")\n",
    "temp.filter(lambda x: len(x) > 1)"
   ]
  },
  {
   "cell_type": "markdown",
   "metadata": {
    "collapsed": false,
    "pycharm": {
     "name": "#%% md\n"
    }
   },
   "source": [
    "Tamanho da base tratada de leis."
   ]
  },
  {
   "cell_type": "code",
   "execution_count": 11,
   "metadata": {
    "collapsed": false,
    "pycharm": {
     "name": "#%%\n"
    }
   },
   "outputs": [
    {
     "data": {
      "text/plain": [
       "27294"
      ]
     },
     "execution_count": 11,
     "metadata": {},
     "output_type": "execute_result"
    }
   ],
   "source": [
    "leis.shape[0]"
   ]
  },
  {
   "cell_type": "markdown",
   "metadata": {
    "collapsed": false,
    "pycharm": {
     "name": "#%% md\n"
    }
   },
   "source": [
    "Total de classificações feitas em leis."
   ]
  },
  {
   "cell_type": "code",
   "execution_count": 12,
   "metadata": {
    "collapsed": false,
    "pycharm": {
     "name": "#%%\n"
    }
   },
   "outputs": [
    {
     "data": {
      "text/plain": [
       "17438"
      ]
     },
     "execution_count": 12,
     "metadata": {},
     "output_type": "execute_result"
    }
   ],
   "source": [
    "leis_classificadas = leis.query(\"not COD_CLASSE.isnull()\")\n",
    "quantidade_classificacoes = leis_classificadas.shape[0]\n",
    "quantidade_classificacoes"
   ]
  },
  {
   "cell_type": "markdown",
   "metadata": {
    "collapsed": false,
    "pycharm": {
     "name": "#%% md\n"
    }
   },
   "source": [
    "Número distinto de leis classificadas."
   ]
  },
  {
   "cell_type": "code",
   "execution_count": 13,
   "metadata": {
    "collapsed": false,
    "pycharm": {
     "name": "#%%\n"
    }
   },
   "outputs": [
    {
     "data": {
      "text/plain": [
       "17103"
      ]
     },
     "execution_count": 13,
     "metadata": {},
     "output_type": "execute_result"
    }
   ],
   "source": [
    "len(leis_classificadas[\"COD_DOCUMENTO\"].unique())"
   ]
  },
  {
   "cell_type": "markdown",
   "metadata": {
    "collapsed": false,
    "pycharm": {
     "name": "#%% md\n"
    }
   },
   "source": [
    "Quantidade de leis a classificar."
   ]
  },
  {
   "cell_type": "code",
   "execution_count": 14,
   "metadata": {
    "collapsed": false,
    "pycharm": {
     "name": "#%%\n"
    }
   },
   "outputs": [
    {
     "data": {
      "text/plain": [
       "9856"
      ]
     },
     "execution_count": 14,
     "metadata": {},
     "output_type": "execute_result"
    }
   ],
   "source": [
    "leis_nao_classificadas = leis.query(\"COD_CLASSE.isnull()\")\n",
    "leis_nao_classificadas.shape[0]"
   ]
  },
  {
   "cell_type": "markdown",
   "metadata": {
    "collapsed": false,
    "pycharm": {
     "name": "#%% md\n"
    }
   },
   "source": [
    "Verificação da distribuição das classes (em %)."
   ]
  },
  {
   "cell_type": "code",
   "execution_count": 15,
   "metadata": {
    "collapsed": false,
    "pycharm": {
     "name": "#%%\n"
    }
   },
   "outputs": [
    {
     "data": {
      "text/html": [
       "<div>\n",
       "<style scoped>\n",
       "    .dataframe tbody tr th:only-of-type {\n",
       "        vertical-align: middle;\n",
       "    }\n",
       "\n",
       "    .dataframe tbody tr th {\n",
       "        vertical-align: top;\n",
       "    }\n",
       "\n",
       "    .dataframe thead th {\n",
       "        text-align: right;\n",
       "    }\n",
       "</style>\n",
       "<table border=\"1\" class=\"dataframe\">\n",
       "  <thead>\n",
       "    <tr style=\"text-align: right;\">\n",
       "      <th></th>\n",
       "      <th>COD_CLASSE</th>\n",
       "    </tr>\n",
       "    <tr>\n",
       "      <th>DES_CLASSE</th>\n",
       "      <th></th>\n",
       "    </tr>\n",
       "  </thead>\n",
       "  <tbody>\n",
       "    <tr>\n",
       "      <th>Orçamento Público</th>\n",
       "      <td>64.181672</td>\n",
       "    </tr>\n",
       "    <tr>\n",
       "      <th>Infraestrutura</th>\n",
       "      <td>14.382383</td>\n",
       "    </tr>\n",
       "    <tr>\n",
       "      <th>Política Social</th>\n",
       "      <td>5.029246</td>\n",
       "    </tr>\n",
       "    <tr>\n",
       "      <th>Administração Pública</th>\n",
       "      <td>4.490194</td>\n",
       "    </tr>\n",
       "    <tr>\n",
       "      <th>Honorífico</th>\n",
       "      <td>3.847918</td>\n",
       "    </tr>\n",
       "    <tr>\n",
       "      <th>Economia e Desenvolvimento</th>\n",
       "      <td>3.693084</td>\n",
       "    </tr>\n",
       "    <tr>\n",
       "      <th>Jurídico</th>\n",
       "      <td>2.184884</td>\n",
       "    </tr>\n",
       "    <tr>\n",
       "      <th>Soberania, Defesa Nacional e Ordem Pública</th>\n",
       "      <td>0.951944</td>\n",
       "    </tr>\n",
       "    <tr>\n",
       "      <th>Organização do Estado</th>\n",
       "      <td>0.745498</td>\n",
       "    </tr>\n",
       "    <tr>\n",
       "      <th>Meio Ambiente</th>\n",
       "      <td>0.493176</td>\n",
       "    </tr>\n",
       "  </tbody>\n",
       "</table>\n",
       "</div>"
      ],
      "text/plain": [
       "                                            COD_CLASSE\n",
       "DES_CLASSE                                            \n",
       "Orçamento Público                            64.181672\n",
       "Infraestrutura                               14.382383\n",
       "Política Social                               5.029246\n",
       "Administração Pública                         4.490194\n",
       "Honorífico                                    3.847918\n",
       "Economia e Desenvolvimento                    3.693084\n",
       "Jurídico                                      2.184884\n",
       "Soberania, Defesa Nacional e Ordem Pública    0.951944\n",
       "Organização do Estado                         0.745498\n",
       "Meio Ambiente                                 0.493176"
      ]
     },
     "execution_count": 15,
     "metadata": {},
     "output_type": "execute_result"
    }
   ],
   "source": [
    "distribuicao_classes = leis_classificadas[[\"COD_CLASSE\", \"DES_CLASSE\"]].groupby(\"DES_CLASSE\").count() / quantidade_classificacoes * 100\n",
    "distribuicao_classes.sort_values(by=\"COD_CLASSE\", ascending=False)"
   ]
  },
  {
   "cell_type": "markdown",
   "metadata": {},
   "source": [
    "## Desbalanceamento\n",
    "\n",
    "É possível verificar que há um desbalanceamento grande entre as classes, o que prejudica o processo de aprendizado. Vamos tentar atacá-lo utilizando a técnica SMOTE:"
   ]
  },
  {
   "cell_type": "code",
   "execution_count": 16,
   "metadata": {},
   "outputs": [
    {
     "name": "stdout",
     "output_type": "stream",
     "text": [
      "Classe=Orçamento Público, n=11192 (64.182%)\n",
      "Classe=Política Social, n=877 (5.029%)\n",
      "Classe=Organização do Estado, n=130 (0.745%)\n",
      "Classe=Administração Pública, n=783 (4.490%)\n",
      "Classe=Meio Ambiente, n=86 (0.493%)\n",
      "Classe=Economia e Desenvolvimento, n=644 (3.693%)\n",
      "Classe=Honorífico, n=671 (3.848%)\n",
      "Classe=Jurídico, n=381 (2.185%)\n",
      "Classe=Infraestrutura, n=2508 (14.382%)\n",
      "Classe=Soberania, Defesa Nacional e Ordem Pública, n=166 (0.952%)\n"
     ]
    }
   ],
   "source": [
    "from imblearn.over_sampling import SMOTE\n",
    "from sklearn.preprocessing import LabelEncoder\n",
    "from numpy import where\n",
    "\n",
    "\n",
    "def printClasses(classes):\n",
    "\tcounter = Counter(classes)\n",
    "\tfor k,v in counter.items():\n",
    "\t\tper = v / len(classes) * 100\n",
    "\t\tprint('Classe=%s, n=%d (%.3f%%)' % (k, v, per))\n",
    "\n",
    "X_smote = leis_classificadas.drop(columns=[\"COD_CLASSE\", \"DES_CLASSE\"]).copy()\n",
    "y_smote = leis_classificadas[\"DES_CLASSE\"].copy()\n",
    "printClasses(y_smote)\n"
   ]
  },
  {
   "cell_type": "markdown",
   "metadata": {},
   "source": [
    "## One Class Classifier\n",
    "\n",
    "Montaremos um exemplo que possa trabalhar as classes separadamente, utilizando o OneClassSVM para predizer se um texto pertence a uma determinada classe de treinamento. No nosso caso, utilizaremos Administração Pública como o caso positivo, e os demais como negativos. O tutorial utilizado como base está aqui: https://www.kaggle.com/code/saikumar587/bbc-text-oneclass-classificaiton\n",
    "\n"
   ]
  },
  {
   "cell_type": "markdown",
   "metadata": {},
   "source": [
    "### Preparação\n",
    "\n",
    "Como Administração Pública será a nossa classe de treinamento, vamos adicionar, no nosso conjunto de treino, uma coluna para dizer se aquele registro faz parte da nossa classe-alvo. Se fizer, o valor armazenado será +1, caso contrário, -1.\n",
    "\n",
    "A função abaixo tem esse objetivo.\n"
   ]
  },
  {
   "cell_type": "code",
   "execution_count": 17,
   "metadata": {},
   "outputs": [],
   "source": [
    "def addPositiveNegativeMarker(dataFrame, columnName, classeAlvo):\n",
    "    # resultDataFrame = dataFrame.copy()\n",
    "    # mask = resultDataFrame['DES_CLASSE'].str.equals(classeAlvo)\n",
    "    # resultDataFrame.loc[mask, columnName] = 1\n",
    "    dataFrame[columnName] = np.where(dataFrame['DES_CLASSE'] == classeAlvo, 1, -1)"
   ]
  },
  {
   "cell_type": "markdown",
   "metadata": {},
   "source": [
    "Vamos modificar agora o dataset de treino para incluir essa coluna:"
   ]
  },
  {
   "cell_type": "code",
   "execution_count": 18,
   "metadata": {},
   "outputs": [
    {
     "name": "stderr",
     "output_type": "stream",
     "text": [
      "C:\\Users\\demet\\AppData\\Local\\Temp\\ipykernel_8540\\907047299.py:5: SettingWithCopyWarning: \n",
      "A value is trying to be set on a copy of a slice from a DataFrame.\n",
      "Try using .loc[row_indexer,col_indexer] = value instead\n",
      "\n",
      "See the caveats in the documentation: https://pandas.pydata.org/pandas-docs/stable/user_guide/indexing.html#returning-a-view-versus-a-copy\n",
      "  dataFrame[columnName] = np.where(dataFrame['DES_CLASSE'] == classeAlvo, 1, -1)\n"
     ]
    },
    {
     "data": {
      "text/html": [
       "<div>\n",
       "<style scoped>\n",
       "    .dataframe tbody tr th:only-of-type {\n",
       "        vertical-align: middle;\n",
       "    }\n",
       "\n",
       "    .dataframe tbody tr th {\n",
       "        vertical-align: top;\n",
       "    }\n",
       "\n",
       "    .dataframe thead th {\n",
       "        text-align: right;\n",
       "    }\n",
       "</style>\n",
       "<table border=\"1\" class=\"dataframe\">\n",
       "  <thead>\n",
       "    <tr style=\"text-align: right;\">\n",
       "      <th></th>\n",
       "      <th>COD_DOCUMENTO</th>\n",
       "      <th>DES_NOME_PREFERIDO</th>\n",
       "      <th>DES_NOMES_ALTERNATIVOS</th>\n",
       "      <th>TXT_EMENTA</th>\n",
       "      <th>COD_CLASSE</th>\n",
       "      <th>DES_CLASSE</th>\n",
       "      <th>MARKER</th>\n",
       "    </tr>\n",
       "  </thead>\n",
       "  <tbody>\n",
       "    <tr>\n",
       "      <th>0</th>\n",
       "      <td>35345364</td>\n",
       "      <td>Lei nº 14.263 de 22/12/2021</td>\n",
       "      <td>LEI-14263-2021-12-22</td>\n",
       "      <td>Abre ao Orçamento da Seguridade Social da Uniã...</td>\n",
       "      <td>33260515.0</td>\n",
       "      <td>Orçamento Público</td>\n",
       "      <td>-1</td>\n",
       "    </tr>\n",
       "    <tr>\n",
       "      <th>1</th>\n",
       "      <td>26247104</td>\n",
       "      <td>Lei nº 13.486 de 03/10/2017</td>\n",
       "      <td>LEI-13486-2017-10-03</td>\n",
       "      <td>Altera o art. 8º da Lei nº 8.078, de 11 de set...</td>\n",
       "      <td>33808912.0</td>\n",
       "      <td>Política Social</td>\n",
       "      <td>-1</td>\n",
       "    </tr>\n",
       "    <tr>\n",
       "      <th>2</th>\n",
       "      <td>27445746</td>\n",
       "      <td>Lei nº 13.701 de 06/08/2018</td>\n",
       "      <td>LEI-13701-2018-08-06</td>\n",
       "      <td>Cria o cargo de natureza especial de Intervent...</td>\n",
       "      <td>33768972.0</td>\n",
       "      <td>Organização do Estado</td>\n",
       "      <td>-1</td>\n",
       "    </tr>\n",
       "    <tr>\n",
       "      <th>3</th>\n",
       "      <td>36348502</td>\n",
       "      <td>Lei nº 14.447 de 09/09/2022</td>\n",
       "      <td>LEI-14447-2022-09-09</td>\n",
       "      <td>Altera os limites da Floresta Nacional de Bras...</td>\n",
       "      <td>33685789.0</td>\n",
       "      <td>Administração Pública</td>\n",
       "      <td>1</td>\n",
       "    </tr>\n",
       "    <tr>\n",
       "      <th>4</th>\n",
       "      <td>36348502</td>\n",
       "      <td>Lei nº 14.447 de 09/09/2022</td>\n",
       "      <td>LEI-14447-2022-09-09</td>\n",
       "      <td>Altera os limites da Floresta Nacional de Bras...</td>\n",
       "      <td>33809634.0</td>\n",
       "      <td>Meio Ambiente</td>\n",
       "      <td>-1</td>\n",
       "    </tr>\n",
       "  </tbody>\n",
       "</table>\n",
       "</div>"
      ],
      "text/plain": [
       "   COD_DOCUMENTO           DES_NOME_PREFERIDO DES_NOMES_ALTERNATIVOS  \\\n",
       "0       35345364  Lei nº 14.263 de 22/12/2021   LEI-14263-2021-12-22   \n",
       "1       26247104  Lei nº 13.486 de 03/10/2017   LEI-13486-2017-10-03   \n",
       "2       27445746  Lei nº 13.701 de 06/08/2018   LEI-13701-2018-08-06   \n",
       "3       36348502  Lei nº 14.447 de 09/09/2022   LEI-14447-2022-09-09   \n",
       "4       36348502  Lei nº 14.447 de 09/09/2022   LEI-14447-2022-09-09   \n",
       "\n",
       "                                          TXT_EMENTA  COD_CLASSE  \\\n",
       "0  Abre ao Orçamento da Seguridade Social da Uniã...  33260515.0   \n",
       "1  Altera o art. 8º da Lei nº 8.078, de 11 de set...  33808912.0   \n",
       "2  Cria o cargo de natureza especial de Intervent...  33768972.0   \n",
       "3  Altera os limites da Floresta Nacional de Bras...  33685789.0   \n",
       "4  Altera os limites da Floresta Nacional de Bras...  33809634.0   \n",
       "\n",
       "              DES_CLASSE  MARKER  \n",
       "0      Orçamento Público      -1  \n",
       "1        Política Social      -1  \n",
       "2  Organização do Estado      -1  \n",
       "3  Administração Pública       1  \n",
       "4          Meio Ambiente      -1  "
      ]
     },
     "execution_count": 18,
     "metadata": {},
     "output_type": "execute_result"
    }
   ],
   "source": [
    "MARKER_COLUMN_NAME = 'MARKER'\n",
    "CLASSE_TREINAMENTO = 'Administração Pública'\n",
    "addPositiveNegativeMarker(leis_classificadas, MARKER_COLUMN_NAME, CLASSE_TREINAMENTO)\n",
    "leis_classificadas.head()"
   ]
  },
  {
   "cell_type": "markdown",
   "metadata": {},
   "source": [
    "Criaremos agora um dataset que contém apenas os dados de Administração Pública:"
   ]
  },
  {
   "cell_type": "code",
   "execution_count": 19,
   "metadata": {},
   "outputs": [
    {
     "data": {
      "text/plain": [
       "(783, 7)"
      ]
     },
     "execution_count": 19,
     "metadata": {},
     "output_type": "execute_result"
    }
   ],
   "source": [
    "administracaoPublica_df = leis_classificadas[leis_classificadas[MARKER_COLUMN_NAME] == 1]\n",
    "administracaoPublica_df.shape"
   ]
  },
  {
   "cell_type": "markdown",
   "metadata": {},
   "source": [
    "# TensorFlow"
   ]
  },
  {
   "cell_type": "code",
   "execution_count": 52,
   "metadata": {},
   "outputs": [],
   "source": [
    "import tensorflow as tf\n",
    "from tensorflow import keras\n"
   ]
  },
  {
   "cell_type": "code",
   "execution_count": 1,
   "metadata": {},
   "outputs": [
    {
     "name": "stderr",
     "output_type": "stream",
     "text": [
      "C:\\Users\\demet\\AppData\\Roaming\\Python\\Python39\\site-packages\\numpy\\_distributor_init.py:30: UserWarning: loaded more than 1 DLL from .libs:\n",
      "C:\\Users\\demet\\AppData\\Roaming\\Python\\Python39\\site-packages\\numpy\\.libs\\libopenblas.EL2C6PLE4ZYW3ECEVIV3OXXGRN2NRFM2.gfortran-win_amd64.dll\n",
      "C:\\Users\\demet\\AppData\\Roaming\\Python\\Python39\\site-packages\\numpy\\.libs\\libopenblas.FB5AE2TYXYH2IJRDKGDGQ3XBKLKTF43H.gfortran-win_amd64.dll\n",
      "  warnings.warn(\"loaded more than 1 DLL from .libs:\"\n"
     ]
    },
    {
     "ename": "ModuleNotFoundError",
     "evalue": "No module named 'tensorflow.python.keras.preprocessing'",
     "output_type": "error",
     "traceback": [
      "\u001b[1;31m---------------------------------------------------------------------------\u001b[0m",
      "\u001b[1;31mModuleNotFoundError\u001b[0m                       Traceback (most recent call last)",
      "\u001b[1;32mc:\\Users\\demet\\git\\md-trabalho-final\\classificacao-leis-decretos-one-class-administracao-publica-tensor-flow.ipynb Célula: 40\u001b[0m in \u001b[0;36m<cell line: 1>\u001b[1;34m()\u001b[0m\n\u001b[1;32m----> <a href='vscode-notebook-cell:/c%3A/Users/demet/git/md-trabalho-final/classificacao-leis-decretos-one-class-administracao-publica-tensor-flow.ipynb#Y135sZmlsZQ%3D%3D?line=0'>1</a>\u001b[0m \u001b[39mfrom\u001b[39;00m \u001b[39mtensorflow\u001b[39;00m\u001b[39m.\u001b[39;00m\u001b[39mpython\u001b[39;00m\u001b[39m.\u001b[39;00m\u001b[39mkeras\u001b[39;00m\u001b[39m.\u001b[39;00m\u001b[39mpreprocessing\u001b[39;00m \u001b[39mimport\u001b[39;00m sequence\n\u001b[0;32m      <a href='vscode-notebook-cell:/c%3A/Users/demet/git/md-trabalho-final/classificacao-leis-decretos-one-class-administracao-publica-tensor-flow.ipynb#Y135sZmlsZQ%3D%3D?line=1'>2</a>\u001b[0m \u001b[39mfrom\u001b[39;00m \u001b[39mtensorflow\u001b[39;00m\u001b[39m.\u001b[39;00m\u001b[39mpython\u001b[39;00m\u001b[39m.\u001b[39;00m\u001b[39mkeras\u001b[39;00m\u001b[39m.\u001b[39;00m\u001b[39mpreprocessing\u001b[39;00m \u001b[39mimport\u001b[39;00m text\n\u001b[0;32m      <a href='vscode-notebook-cell:/c%3A/Users/demet/git/md-trabalho-final/classificacao-leis-decretos-one-class-administracao-publica-tensor-flow.ipynb#Y135sZmlsZQ%3D%3D?line=3'>4</a>\u001b[0m \u001b[39m# Vectorization parameters\u001b[39;00m\n\u001b[0;32m      <a href='vscode-notebook-cell:/c%3A/Users/demet/git/md-trabalho-final/classificacao-leis-decretos-one-class-administracao-publica-tensor-flow.ipynb#Y135sZmlsZQ%3D%3D?line=4'>5</a>\u001b[0m \u001b[39m# Limit on the number of features. We use the top 20K features.\u001b[39;00m\n",
      "\u001b[1;31mModuleNotFoundError\u001b[0m: No module named 'tensorflow.python.keras.preprocessing'"
     ]
    }
   ],
   "source": [
    "from tensorflow.python.keras.preprocessing import sequence\n",
    "from tensorflow.python.keras.preprocessing import text\n",
    "\n",
    "# Vectorization parameters\n",
    "# Limit on the number of features. We use the top 20K features.\n",
    "TOP_K = 20000\n",
    "\n",
    "# Limit on the length of text sequences. Sequences longer than this\n",
    "# will be truncated.\n",
    "MAX_SEQUENCE_LENGTH = 500\n",
    "\n",
    "def sequence_vectorize(train_texts, val_texts):\n",
    "    \"\"\"Vectorizes texts as sequence vectors.\n",
    "\n",
    "    1 text = 1 sequence vector with fixed length.\n",
    "\n",
    "    # Arguments\n",
    "        train_texts: list, training text strings.\n",
    "        val_texts: list, validation text strings.\n",
    "\n",
    "    # Returns\n",
    "        x_train, x_val, word_index: vectorized training and validation\n",
    "            texts and word index dictionary.\n",
    "    \"\"\"\n",
    "    # Create vocabulary with training texts.\n",
    "    tokenizer = text.Tokenizer(num_words=TOP_K)\n",
    "    tokenizer.fit_on_texts(train_texts)\n",
    "\n",
    "    # Vectorize training and validation texts.\n",
    "    x_train = tokenizer.texts_to_sequences(train_texts)\n",
    "    x_val = tokenizer.texts_to_sequences(val_texts)\n",
    "\n",
    "    # Get max sequence length.\n",
    "    max_length = len(max(x_train, key=len))\n",
    "    if max_length > MAX_SEQUENCE_LENGTH:\n",
    "        max_length = MAX_SEQUENCE_LENGTH\n",
    "\n",
    "    # Fix sequence length to max value. Sequences shorter than the length are\n",
    "    # padded in the beginning and sequences longer are truncated\n",
    "    # at the beginning.\n",
    "    x_train = sequence.pad_sequences(x_train, maxlen=max_length)\n",
    "    x_val = sequence.pad_sequences(x_val, maxlen=max_length)\n",
    "    return x_train, x_val, tokenizer.word_index"
   ]
  },
  {
   "cell_type": "code",
   "execution_count": null,
   "metadata": {},
   "outputs": [],
   "source": [
    "def _get_last_layer_units_and_activation(num_classes):\n",
    "    \"\"\"Gets the # units and activation function for the last network layer.\n",
    "\n",
    "    # Arguments\n",
    "        num_classes: int, number of classes.\n",
    "\n",
    "    # Returns\n",
    "        units, activation values.\n",
    "    \"\"\"\n",
    "    if num_classes == 2:\n",
    "        activation = 'sigmoid'\n",
    "        units = 1\n",
    "    else:\n",
    "        activation = 'softmax'\n",
    "        units = num_classes\n",
    "    return units, activation"
   ]
  },
  {
   "cell_type": "markdown",
   "metadata": {},
   "source": [
    "Definiremos os datasets de treino e testes:"
   ]
  },
  {
   "cell_type": "code",
   "execution_count": 50,
   "metadata": {},
   "outputs": [],
   "source": [
    "X = leis_classificadas['TXT_EMENTA']\n",
    "y = leis_classificadas[MARKER_COLUMN_NAME]\n",
    "\n",
    "train_data, test_data, train_labels, test_labels = train_test_split(X, y, test_size=0.3, stratify=y, random_state=42)\n",
    "\n",
    "\n"
   ]
  },
  {
   "cell_type": "markdown",
   "metadata": {
    "collapsed": false,
    "pycharm": {
     "name": "#%% md\n"
    }
   },
   "source": [
    "## 2 - Estruturação do texto\n",
    "***"
   ]
  },
  {
   "cell_type": "markdown",
   "metadata": {
    "collapsed": false,
    "pycharm": {
     "name": "#%% md\n"
    }
   },
   "source": [
    "Definição das funções para a tarefa de criação das matrizes de documentos (texto da ementa)"
   ]
  },
  {
   "cell_type": "code",
   "execution_count": 37,
   "metadata": {},
   "outputs": [],
   "source": [
    "from keras.preprocessing.text import Tokenizer\n",
    "def kerasTokenize(data):\n",
    "    tokenizer = Tokenizer(num_words=50,char_level=False)\n",
    "    tokenizer.fit_on_texts(data)\n",
    "    return tokenizer.texts_to_matrix(data,mode='count')\n",
    "    # print(data_encoded)\n",
    "    # print(tokenizer.word_index)"
   ]
  },
  {
   "cell_type": "code",
   "execution_count": 38,
   "metadata": {},
   "outputs": [],
   "source": [
    "# matriz_vetores_treino = matriz_vetores(train_data, vocabulario_skipgram)\n",
    "# matriz_vetores_teste = matriz_vetores(test_data, vocabulario_skipgram)\n",
    "matriz_vetores_treino = kerasTokenize(train_data)\n",
    "matriz_vetores_teste = kerasTokenize(test_data)"
   ]
  },
  {
   "cell_type": "code",
   "execution_count": 39,
   "metadata": {},
   "outputs": [],
   "source": [
    "train_data_processed = keras.preprocessing.sequence.pad_sequences(matriz_vetores_treino,\n",
    "                                                        value=0.0,\n",
    "                                                        padding='post',\n",
    "                                                        maxlen=256)\n",
    "\n",
    "test_data_processed = keras.preprocessing.sequence.pad_sequences(matriz_vetores_teste,\n",
    "                                                       value=0.0,\n",
    "                                                       padding='post',\n",
    "                                                       maxlen=256)\n",
    "\n"
   ]
  },
  {
   "cell_type": "code",
   "execution_count": 41,
   "metadata": {},
   "outputs": [
    {
     "data": {
      "text/plain": [
       "(256, 256)"
      ]
     },
     "execution_count": 41,
     "metadata": {},
     "output_type": "execute_result"
    }
   ],
   "source": [
    "len(train_data_processed[0]), len(train_data_processed[1])"
   ]
  },
  {
   "cell_type": "code",
   "execution_count": 42,
   "metadata": {},
   "outputs": [
    {
     "name": "stdout",
     "output_type": "stream",
     "text": [
      "[0 6 1 0 2 2 1 1 1 0 0 0 0 1 0 0 0 0 0 0 0 0 0 0 0 1 0 0 1 1 0 0 0 0 0 0 0\n",
      " 0 0 1 0 0 0 1 0 0 0 0 0 0 0 0 0 0 0 0 0 0 0 0 0 0 0 0 0 0 0 0 0 0 0 0 0 0\n",
      " 0 0 0 0 0 0 0 0 0 0 0 0 0 0 0 0 0 0 0 0 0 0 0 0 0 0 0 0 0 0 0 0 0 0 0 0 0\n",
      " 0 0 0 0 0 0 0 0 0 0 0 0 0 0 0 0 0 0 0 0 0 0 0 0 0 0 0 0 0 0 0 0 0 0 0 0 0\n",
      " 0 0 0 0 0 0 0 0 0 0 0 0 0 0 0 0 0 0 0 0 0 0 0 0 0 0 0 0 0 0 0 0 0 0 0 0 0\n",
      " 0 0 0 0 0 0 0 0 0 0 0 0 0 0 0 0 0 0 0 0 0 0 0 0 0 0 0 0 0 0 0 0 0 0 0 0 0\n",
      " 0 0 0 0 0 0 0 0 0 0 0 0 0 0 0 0 0 0 0 0 0 0 0 0 0 0 0 0 0 0 0 0 0 0]\n"
     ]
    }
   ],
   "source": [
    "print(train_data_processed[0])"
   ]
  },
  {
   "cell_type": "code",
   "execution_count": 43,
   "metadata": {},
   "outputs": [
    {
     "name": "stdout",
     "output_type": "stream",
     "text": [
      "Model: \"sequential_2\"\n",
      "_________________________________________________________________\n",
      " Layer (type)                Output Shape              Param #   \n",
      "=================================================================\n",
      " embedding (Embedding)       (None, None, 16)          160000    \n",
      "                                                                 \n",
      " global_average_pooling1d (G  (None, 16)               0         \n",
      " lobalAveragePooling1D)                                          \n",
      "                                                                 \n",
      " dense (Dense)               (None, 16)                272       \n",
      "                                                                 \n",
      " dense_1 (Dense)             (None, 1)                 17        \n",
      "                                                                 \n",
      "=================================================================\n",
      "Total params: 160,289\n",
      "Trainable params: 160,289\n",
      "Non-trainable params: 0\n",
      "_________________________________________________________________\n"
     ]
    }
   ],
   "source": [
    "# O formato de entrada é a contagem vocabulário usados pelas avaliações dos filmes (10000 palavras)\n",
    "vocab_size = 10000\n",
    "\n",
    "model = keras.Sequential()\n",
    "model.add(keras.layers.Embedding(vocab_size, 16))\n",
    "model.add(keras.layers.GlobalAveragePooling1D())\n",
    "model.add(keras.layers.Dense(16, activation='relu'))\n",
    "model.add(keras.layers.Dense(1, activation='sigmoid'))\n",
    "\n",
    "model.summary()"
   ]
  },
  {
   "cell_type": "code",
   "execution_count": 44,
   "metadata": {},
   "outputs": [],
   "source": [
    "model.compile(optimizer='adam',\n",
    "              loss='binary_crossentropy',\n",
    "              metrics=['accuracy'])"
   ]
  },
  {
   "cell_type": "code",
   "execution_count": 47,
   "metadata": {},
   "outputs": [],
   "source": [
    "x_val = train_data_processed[:3000]\n",
    "partial_x_train = train_data_processed[3000:]\n",
    "\n",
    "y_val = train_labels[:3000]\n",
    "partial_y_train = train_labels[3000:]"
   ]
  },
  {
   "cell_type": "code",
   "execution_count": 48,
   "metadata": {},
   "outputs": [
    {
     "name": "stdout",
     "output_type": "stream",
     "text": [
      "Epoch 1/40\n",
      "18/18 [==============================] - 1s 35ms/step - loss: -276.4585 - accuracy: 0.0000e+00 - val_loss: -288.2856 - val_accuracy: 0.0000e+00\n",
      "Epoch 2/40\n",
      "18/18 [==============================] - 1s 31ms/step - loss: -296.6894 - accuracy: 0.0000e+00 - val_loss: -309.0489 - val_accuracy: 0.0000e+00\n",
      "Epoch 3/40\n",
      "18/18 [==============================] - 0s 27ms/step - loss: -317.7885 - accuracy: 0.0000e+00 - val_loss: -330.7711 - val_accuracy: 0.0000e+00\n",
      "Epoch 4/40\n",
      "18/18 [==============================] - 0s 23ms/step - loss: -339.8242 - accuracy: 0.0000e+00 - val_loss: -353.4278 - val_accuracy: 0.0000e+00\n",
      "Epoch 5/40\n",
      "18/18 [==============================] - 0s 25ms/step - loss: -362.8402 - accuracy: 0.0000e+00 - val_loss: -376.9627 - val_accuracy: 0.0000e+00\n",
      "Epoch 6/40\n",
      "18/18 [==============================] - 0s 25ms/step - loss: -386.7540 - accuracy: 0.0000e+00 - val_loss: -401.4851 - val_accuracy: 0.0000e+00\n",
      "Epoch 7/40\n",
      "18/18 [==============================] - 0s 28ms/step - loss: -411.5959 - accuracy: 0.0000e+00 - val_loss: -427.0527 - val_accuracy: 0.0000e+00\n",
      "Epoch 8/40\n",
      "18/18 [==============================] - 0s 26ms/step - loss: -437.4625 - accuracy: 0.0000e+00 - val_loss: -453.5896 - val_accuracy: 0.0000e+00\n",
      "Epoch 9/40\n",
      "18/18 [==============================] - 0s 25ms/step - loss: -464.3465 - accuracy: 0.0000e+00 - val_loss: -481.0601 - val_accuracy: 0.0000e+00\n",
      "Epoch 10/40\n",
      "18/18 [==============================] - 0s 24ms/step - loss: -492.1847 - accuracy: 0.0000e+00 - val_loss: -509.5630 - val_accuracy: 0.0000e+00\n",
      "Epoch 11/40\n",
      "18/18 [==============================] - 0s 28ms/step - loss: -521.0372 - accuracy: 0.0000e+00 - val_loss: -539.1047 - val_accuracy: 0.0000e+00\n",
      "Epoch 12/40\n",
      "18/18 [==============================] - 0s 27ms/step - loss: -550.9492 - accuracy: 0.0000e+00 - val_loss: -569.6475 - val_accuracy: 0.0000e+00\n",
      "Epoch 13/40\n",
      "18/18 [==============================] - 0s 28ms/step - loss: -581.7986 - accuracy: 0.0000e+00 - val_loss: -601.3648 - val_accuracy: 0.0000e+00\n",
      "Epoch 14/40\n",
      "18/18 [==============================] - 1s 29ms/step - loss: -613.8642 - accuracy: 0.0000e+00 - val_loss: -633.9833 - val_accuracy: 0.0000e+00\n",
      "Epoch 15/40\n",
      "18/18 [==============================] - 0s 27ms/step - loss: -646.8999 - accuracy: 0.0000e+00 - val_loss: -667.6849 - val_accuracy: 0.0000e+00\n",
      "Epoch 16/40\n",
      "18/18 [==============================] - 0s 25ms/step - loss: -680.9976 - accuracy: 0.0000e+00 - val_loss: -702.5054 - val_accuracy: 0.0000e+00\n",
      "Epoch 17/40\n",
      "18/18 [==============================] - 0s 26ms/step - loss: -716.1372 - accuracy: 0.0000e+00 - val_loss: -738.5115 - val_accuracy: 0.0000e+00\n",
      "Epoch 18/40\n",
      "18/18 [==============================] - 0s 25ms/step - loss: -752.4722 - accuracy: 0.0000e+00 - val_loss: -775.5388 - val_accuracy: 0.0000e+00\n",
      "Epoch 19/40\n",
      "18/18 [==============================] - 0s 25ms/step - loss: -789.9055 - accuracy: 0.0000e+00 - val_loss: -813.6271 - val_accuracy: 0.0000e+00\n",
      "Epoch 20/40\n",
      "18/18 [==============================] - 0s 26ms/step - loss: -828.3676 - accuracy: 0.0000e+00 - val_loss: -852.9386 - val_accuracy: 0.0000e+00\n",
      "Epoch 21/40\n",
      "18/18 [==============================] - 0s 26ms/step - loss: -868.0431 - accuracy: 0.0000e+00 - val_loss: -893.3286 - val_accuracy: 0.0000e+00\n",
      "Epoch 22/40\n",
      "18/18 [==============================] - 0s 26ms/step - loss: -908.7496 - accuracy: 0.0000e+00 - val_loss: -934.9845 - val_accuracy: 0.0000e+00\n",
      "Epoch 23/40\n",
      "18/18 [==============================] - 0s 25ms/step - loss: -950.7367 - accuracy: 0.0000e+00 - val_loss: -977.6779 - val_accuracy: 0.0000e+00\n",
      "Epoch 24/40\n",
      "18/18 [==============================] - 0s 27ms/step - loss: -993.7822 - accuracy: 0.0000e+00 - val_loss: -1021.5952 - val_accuracy: 0.0000e+00\n",
      "Epoch 25/40\n",
      "18/18 [==============================] - 0s 25ms/step - loss: -1038.0444 - accuracy: 0.0000e+00 - val_loss: -1066.6558 - val_accuracy: 0.0000e+00\n",
      "Epoch 26/40\n",
      "18/18 [==============================] - 0s 25ms/step - loss: -1083.4746 - accuracy: 0.0000e+00 - val_loss: -1112.8817 - val_accuracy: 0.0000e+00\n",
      "Epoch 27/40\n",
      "18/18 [==============================] - 0s 26ms/step - loss: -1130.0498 - accuracy: 0.0000e+00 - val_loss: -1160.3546 - val_accuracy: 0.0000e+00\n",
      "Epoch 28/40\n",
      "18/18 [==============================] - 0s 25ms/step - loss: -1177.8423 - accuracy: 0.0000e+00 - val_loss: -1209.0280 - val_accuracy: 0.0000e+00\n",
      "Epoch 29/40\n",
      "18/18 [==============================] - 0s 26ms/step - loss: -1226.8854 - accuracy: 0.0000e+00 - val_loss: -1258.8484 - val_accuracy: 0.0000e+00\n",
      "Epoch 30/40\n",
      "18/18 [==============================] - 0s 25ms/step - loss: -1277.1011 - accuracy: 0.0000e+00 - val_loss: -1309.8943 - val_accuracy: 0.0000e+00\n",
      "Epoch 31/40\n",
      "18/18 [==============================] - 0s 24ms/step - loss: -1328.5477 - accuracy: 0.0000e+00 - val_loss: -1362.1489 - val_accuracy: 0.0000e+00\n",
      "Epoch 32/40\n",
      "18/18 [==============================] - 0s 26ms/step - loss: -1381.0887 - accuracy: 0.0000e+00 - val_loss: -1415.8552 - val_accuracy: 0.0000e+00\n",
      "Epoch 33/40\n",
      "18/18 [==============================] - 0s 25ms/step - loss: -1435.1150 - accuracy: 0.0000e+00 - val_loss: -1470.5807 - val_accuracy: 0.0000e+00\n",
      "Epoch 34/40\n",
      "18/18 [==============================] - 0s 24ms/step - loss: -1490.2135 - accuracy: 0.0000e+00 - val_loss: -1526.6447 - val_accuracy: 0.0000e+00\n",
      "Epoch 35/40\n",
      "18/18 [==============================] - 0s 24ms/step - loss: -1546.6027 - accuracy: 0.0000e+00 - val_loss: -1583.9794 - val_accuracy: 0.0000e+00\n",
      "Epoch 36/40\n",
      "18/18 [==============================] - 0s 22ms/step - loss: -1604.2976 - accuracy: 0.0000e+00 - val_loss: -1642.5215 - val_accuracy: 0.0000e+00\n",
      "Epoch 37/40\n",
      "18/18 [==============================] - 0s 28ms/step - loss: -1663.1840 - accuracy: 0.0000e+00 - val_loss: -1702.4153 - val_accuracy: 0.0000e+00\n",
      "Epoch 38/40\n",
      "18/18 [==============================] - 1s 33ms/step - loss: -1723.3942 - accuracy: 0.0000e+00 - val_loss: -1763.5839 - val_accuracy: 0.0000e+00\n",
      "Epoch 39/40\n",
      "18/18 [==============================] - 1s 33ms/step - loss: -1784.8171 - accuracy: 0.0000e+00 - val_loss: -1826.1410 - val_accuracy: 0.0000e+00\n",
      "Epoch 40/40\n",
      "18/18 [==============================] - 1s 31ms/step - loss: -1847.7035 - accuracy: 0.0000e+00 - val_loss: -1889.8060 - val_accuracy: 0.0000e+00\n"
     ]
    }
   ],
   "source": [
    "history = model.fit(partial_x_train,\n",
    "                    partial_y_train,\n",
    "                    epochs=40,\n",
    "                    batch_size=512,\n",
    "                    validation_data=(x_val, y_val),\n",
    "                    verbose=1)"
   ]
  },
  {
   "cell_type": "code",
   "execution_count": 49,
   "metadata": {},
   "outputs": [
    {
     "ename": "UnimplementedError",
     "evalue": "Graph execution error:\n\nDetected at node 'sequential_2/Cast' defined at (most recent call last):\n    File \"c:\\Users\\demet\\anaconda3\\envs\\mdenv\\lib\\runpy.py\", line 197, in _run_module_as_main\n      return _run_code(code, main_globals, None,\n    File \"c:\\Users\\demet\\anaconda3\\envs\\mdenv\\lib\\runpy.py\", line 87, in _run_code\n      exec(code, run_globals)\n    File \"c:\\Users\\demet\\anaconda3\\envs\\mdenv\\lib\\site-packages\\ipykernel_launcher.py\", line 16, in <module>\n      app.launch_new_instance()\n    File \"c:\\Users\\demet\\anaconda3\\envs\\mdenv\\lib\\site-packages\\traitlets\\config\\application.py\", line 846, in launch_instance\n      app.start()\n    File \"c:\\Users\\demet\\anaconda3\\envs\\mdenv\\lib\\site-packages\\ipykernel\\kernelapp.py\", line 677, in start\n      self.io_loop.start()\n    File \"c:\\Users\\demet\\anaconda3\\envs\\mdenv\\lib\\site-packages\\tornado\\platform\\asyncio.py\", line 199, in start\n      self.asyncio_loop.run_forever()\n    File \"c:\\Users\\demet\\anaconda3\\envs\\mdenv\\lib\\asyncio\\base_events.py\", line 601, in run_forever\n      self._run_once()\n    File \"c:\\Users\\demet\\anaconda3\\envs\\mdenv\\lib\\asyncio\\base_events.py\", line 1905, in _run_once\n      handle._run()\n    File \"c:\\Users\\demet\\anaconda3\\envs\\mdenv\\lib\\asyncio\\events.py\", line 80, in _run\n      self._context.run(self._callback, *self._args)\n    File \"c:\\Users\\demet\\anaconda3\\envs\\mdenv\\lib\\site-packages\\ipykernel\\kernelbase.py\", line 471, in dispatch_queue\n      await self.process_one()\n    File \"c:\\Users\\demet\\anaconda3\\envs\\mdenv\\lib\\site-packages\\ipykernel\\kernelbase.py\", line 460, in process_one\n      await dispatch(*args)\n    File \"c:\\Users\\demet\\anaconda3\\envs\\mdenv\\lib\\site-packages\\ipykernel\\kernelbase.py\", line 367, in dispatch_shell\n      await result\n    File \"c:\\Users\\demet\\anaconda3\\envs\\mdenv\\lib\\site-packages\\ipykernel\\kernelbase.py\", line 662, in execute_request\n      reply_content = await reply_content\n    File \"c:\\Users\\demet\\anaconda3\\envs\\mdenv\\lib\\site-packages\\ipykernel\\ipkernel.py\", line 360, in do_execute\n      res = shell.run_cell(code, store_history=store_history, silent=silent)\n    File \"c:\\Users\\demet\\anaconda3\\envs\\mdenv\\lib\\site-packages\\ipykernel\\zmqshell.py\", line 532, in run_cell\n      return super().run_cell(*args, **kwargs)\n    File \"c:\\Users\\demet\\anaconda3\\envs\\mdenv\\lib\\site-packages\\IPython\\core\\interactiveshell.py\", line 2880, in run_cell\n      result = self._run_cell(\n    File \"c:\\Users\\demet\\anaconda3\\envs\\mdenv\\lib\\site-packages\\IPython\\core\\interactiveshell.py\", line 2935, in _run_cell\n      return runner(coro)\n    File \"c:\\Users\\demet\\anaconda3\\envs\\mdenv\\lib\\site-packages\\IPython\\core\\async_helpers.py\", line 129, in _pseudo_sync_runner\n      coro.send(None)\n    File \"c:\\Users\\demet\\anaconda3\\envs\\mdenv\\lib\\site-packages\\IPython\\core\\interactiveshell.py\", line 3134, in run_cell_async\n      has_raised = await self.run_ast_nodes(code_ast.body, cell_name,\n    File \"c:\\Users\\demet\\anaconda3\\envs\\mdenv\\lib\\site-packages\\IPython\\core\\interactiveshell.py\", line 3337, in run_ast_nodes\n      if await self.run_code(code, result, async_=asy):\n    File \"c:\\Users\\demet\\anaconda3\\envs\\mdenv\\lib\\site-packages\\IPython\\core\\interactiveshell.py\", line 3397, in run_code\n      exec(code_obj, self.user_global_ns, self.user_ns)\n    File \"C:\\Users\\demet\\AppData\\Local\\Temp\\ipykernel_8540\\1416866407.py\", line 1, in <cell line: 1>\n      results = model.evaluate(test_data,  test_labels, verbose=2)\n    File \"c:\\Users\\demet\\anaconda3\\envs\\mdenv\\lib\\site-packages\\keras\\utils\\traceback_utils.py\", line 64, in error_handler\n      return fn(*args, **kwargs)\n    File \"c:\\Users\\demet\\anaconda3\\envs\\mdenv\\lib\\site-packages\\keras\\engine\\training.py\", line 1756, in evaluate\n      tmp_logs = self.test_function(iterator)\n    File \"c:\\Users\\demet\\anaconda3\\envs\\mdenv\\lib\\site-packages\\keras\\engine\\training.py\", line 1557, in test_function\n      return step_function(self, iterator)\n    File \"c:\\Users\\demet\\anaconda3\\envs\\mdenv\\lib\\site-packages\\keras\\engine\\training.py\", line 1546, in step_function\n      outputs = model.distribute_strategy.run(run_step, args=(data,))\n    File \"c:\\Users\\demet\\anaconda3\\envs\\mdenv\\lib\\site-packages\\keras\\engine\\training.py\", line 1535, in run_step\n      outputs = model.test_step(data)\n    File \"c:\\Users\\demet\\anaconda3\\envs\\mdenv\\lib\\site-packages\\keras\\engine\\training.py\", line 1499, in test_step\n      y_pred = self(x, training=False)\n    File \"c:\\Users\\demet\\anaconda3\\envs\\mdenv\\lib\\site-packages\\keras\\utils\\traceback_utils.py\", line 64, in error_handler\n      return fn(*args, **kwargs)\n    File \"c:\\Users\\demet\\anaconda3\\envs\\mdenv\\lib\\site-packages\\keras\\engine\\training.py\", line 490, in __call__\n      return super().__call__(*args, **kwargs)\n    File \"c:\\Users\\demet\\anaconda3\\envs\\mdenv\\lib\\site-packages\\keras\\utils\\traceback_utils.py\", line 64, in error_handler\n      return fn(*args, **kwargs)\n    File \"c:\\Users\\demet\\anaconda3\\envs\\mdenv\\lib\\site-packages\\keras\\engine\\base_layer.py\", line 1014, in __call__\n      outputs = call_fn(inputs, *args, **kwargs)\n    File \"c:\\Users\\demet\\anaconda3\\envs\\mdenv\\lib\\site-packages\\keras\\utils\\traceback_utils.py\", line 92, in error_handler\n      return fn(*args, **kwargs)\n    File \"c:\\Users\\demet\\anaconda3\\envs\\mdenv\\lib\\site-packages\\keras\\engine\\sequential.py\", line 374, in call\n      return super(Sequential, self).call(inputs, training=training, mask=mask)\n    File \"c:\\Users\\demet\\anaconda3\\envs\\mdenv\\lib\\site-packages\\keras\\engine\\functional.py\", line 458, in call\n      return self._run_internal_graph(\n    File \"c:\\Users\\demet\\anaconda3\\envs\\mdenv\\lib\\site-packages\\keras\\engine\\functional.py\", line 578, in _run_internal_graph\n      y = self._conform_to_reference_input(y, ref_input=x)\n    File \"c:\\Users\\demet\\anaconda3\\envs\\mdenv\\lib\\site-packages\\keras\\engine\\functional.py\", line 678, in _conform_to_reference_input\n      tensor = tf.cast(tensor, dtype=ref_input.dtype)\nNode: 'sequential_2/Cast'\nCast string to float is not supported\n\t [[{{node sequential_2/Cast}}]] [Op:__inference_test_function_10080]",
     "output_type": "error",
     "traceback": [
      "\u001b[1;31m---------------------------------------------------------------------------\u001b[0m",
      "\u001b[1;31mUnimplementedError\u001b[0m                        Traceback (most recent call last)",
      "\u001b[1;32mc:\\Users\\demet\\git\\md-trabalho-final\\classificacao-leis-decretos-one-class-administracao-publica-tensor-flow.ipynb Célula: 58\u001b[0m in \u001b[0;36m<cell line: 1>\u001b[1;34m()\u001b[0m\n\u001b[1;32m----> <a href='vscode-notebook-cell:/c%3A/Users/demet/git/md-trabalho-final/classificacao-leis-decretos-one-class-administracao-publica-tensor-flow.ipynb#Y132sZmlsZQ%3D%3D?line=0'>1</a>\u001b[0m results \u001b[39m=\u001b[39m model\u001b[39m.\u001b[39;49mevaluate(test_data,  test_labels, verbose\u001b[39m=\u001b[39;49m\u001b[39m2\u001b[39;49m)\n\u001b[0;32m      <a href='vscode-notebook-cell:/c%3A/Users/demet/git/md-trabalho-final/classificacao-leis-decretos-one-class-administracao-publica-tensor-flow.ipynb#Y132sZmlsZQ%3D%3D?line=2'>3</a>\u001b[0m \u001b[39mprint\u001b[39m(results)\n",
      "File \u001b[1;32mc:\\Users\\demet\\anaconda3\\envs\\mdenv\\lib\\site-packages\\keras\\utils\\traceback_utils.py:67\u001b[0m, in \u001b[0;36mfilter_traceback.<locals>.error_handler\u001b[1;34m(*args, **kwargs)\u001b[0m\n\u001b[0;32m     65\u001b[0m \u001b[39mexcept\u001b[39;00m \u001b[39mException\u001b[39;00m \u001b[39mas\u001b[39;00m e:  \u001b[39m# pylint: disable=broad-except\u001b[39;00m\n\u001b[0;32m     66\u001b[0m   filtered_tb \u001b[39m=\u001b[39m _process_traceback_frames(e\u001b[39m.\u001b[39m__traceback__)\n\u001b[1;32m---> 67\u001b[0m   \u001b[39mraise\u001b[39;00m e\u001b[39m.\u001b[39mwith_traceback(filtered_tb) \u001b[39mfrom\u001b[39;00m \u001b[39mNone\u001b[39m\n\u001b[0;32m     68\u001b[0m \u001b[39mfinally\u001b[39;00m:\n\u001b[0;32m     69\u001b[0m   \u001b[39mdel\u001b[39;00m filtered_tb\n",
      "File \u001b[1;32mc:\\Users\\demet\\anaconda3\\envs\\mdenv\\lib\\site-packages\\tensorflow\\python\\eager\\execute.py:54\u001b[0m, in \u001b[0;36mquick_execute\u001b[1;34m(op_name, num_outputs, inputs, attrs, ctx, name)\u001b[0m\n\u001b[0;32m     52\u001b[0m \u001b[39mtry\u001b[39;00m:\n\u001b[0;32m     53\u001b[0m   ctx\u001b[39m.\u001b[39mensure_initialized()\n\u001b[1;32m---> 54\u001b[0m   tensors \u001b[39m=\u001b[39m pywrap_tfe\u001b[39m.\u001b[39mTFE_Py_Execute(ctx\u001b[39m.\u001b[39m_handle, device_name, op_name,\n\u001b[0;32m     55\u001b[0m                                       inputs, attrs, num_outputs)\n\u001b[0;32m     56\u001b[0m \u001b[39mexcept\u001b[39;00m core\u001b[39m.\u001b[39m_NotOkStatusException \u001b[39mas\u001b[39;00m e:\n\u001b[0;32m     57\u001b[0m   \u001b[39mif\u001b[39;00m name \u001b[39mis\u001b[39;00m \u001b[39mnot\u001b[39;00m \u001b[39mNone\u001b[39;00m:\n",
      "\u001b[1;31mUnimplementedError\u001b[0m: Graph execution error:\n\nDetected at node 'sequential_2/Cast' defined at (most recent call last):\n    File \"c:\\Users\\demet\\anaconda3\\envs\\mdenv\\lib\\runpy.py\", line 197, in _run_module_as_main\n      return _run_code(code, main_globals, None,\n    File \"c:\\Users\\demet\\anaconda3\\envs\\mdenv\\lib\\runpy.py\", line 87, in _run_code\n      exec(code, run_globals)\n    File \"c:\\Users\\demet\\anaconda3\\envs\\mdenv\\lib\\site-packages\\ipykernel_launcher.py\", line 16, in <module>\n      app.launch_new_instance()\n    File \"c:\\Users\\demet\\anaconda3\\envs\\mdenv\\lib\\site-packages\\traitlets\\config\\application.py\", line 846, in launch_instance\n      app.start()\n    File \"c:\\Users\\demet\\anaconda3\\envs\\mdenv\\lib\\site-packages\\ipykernel\\kernelapp.py\", line 677, in start\n      self.io_loop.start()\n    File \"c:\\Users\\demet\\anaconda3\\envs\\mdenv\\lib\\site-packages\\tornado\\platform\\asyncio.py\", line 199, in start\n      self.asyncio_loop.run_forever()\n    File \"c:\\Users\\demet\\anaconda3\\envs\\mdenv\\lib\\asyncio\\base_events.py\", line 601, in run_forever\n      self._run_once()\n    File \"c:\\Users\\demet\\anaconda3\\envs\\mdenv\\lib\\asyncio\\base_events.py\", line 1905, in _run_once\n      handle._run()\n    File \"c:\\Users\\demet\\anaconda3\\envs\\mdenv\\lib\\asyncio\\events.py\", line 80, in _run\n      self._context.run(self._callback, *self._args)\n    File \"c:\\Users\\demet\\anaconda3\\envs\\mdenv\\lib\\site-packages\\ipykernel\\kernelbase.py\", line 471, in dispatch_queue\n      await self.process_one()\n    File \"c:\\Users\\demet\\anaconda3\\envs\\mdenv\\lib\\site-packages\\ipykernel\\kernelbase.py\", line 460, in process_one\n      await dispatch(*args)\n    File \"c:\\Users\\demet\\anaconda3\\envs\\mdenv\\lib\\site-packages\\ipykernel\\kernelbase.py\", line 367, in dispatch_shell\n      await result\n    File \"c:\\Users\\demet\\anaconda3\\envs\\mdenv\\lib\\site-packages\\ipykernel\\kernelbase.py\", line 662, in execute_request\n      reply_content = await reply_content\n    File \"c:\\Users\\demet\\anaconda3\\envs\\mdenv\\lib\\site-packages\\ipykernel\\ipkernel.py\", line 360, in do_execute\n      res = shell.run_cell(code, store_history=store_history, silent=silent)\n    File \"c:\\Users\\demet\\anaconda3\\envs\\mdenv\\lib\\site-packages\\ipykernel\\zmqshell.py\", line 532, in run_cell\n      return super().run_cell(*args, **kwargs)\n    File \"c:\\Users\\demet\\anaconda3\\envs\\mdenv\\lib\\site-packages\\IPython\\core\\interactiveshell.py\", line 2880, in run_cell\n      result = self._run_cell(\n    File \"c:\\Users\\demet\\anaconda3\\envs\\mdenv\\lib\\site-packages\\IPython\\core\\interactiveshell.py\", line 2935, in _run_cell\n      return runner(coro)\n    File \"c:\\Users\\demet\\anaconda3\\envs\\mdenv\\lib\\site-packages\\IPython\\core\\async_helpers.py\", line 129, in _pseudo_sync_runner\n      coro.send(None)\n    File \"c:\\Users\\demet\\anaconda3\\envs\\mdenv\\lib\\site-packages\\IPython\\core\\interactiveshell.py\", line 3134, in run_cell_async\n      has_raised = await self.run_ast_nodes(code_ast.body, cell_name,\n    File \"c:\\Users\\demet\\anaconda3\\envs\\mdenv\\lib\\site-packages\\IPython\\core\\interactiveshell.py\", line 3337, in run_ast_nodes\n      if await self.run_code(code, result, async_=asy):\n    File \"c:\\Users\\demet\\anaconda3\\envs\\mdenv\\lib\\site-packages\\IPython\\core\\interactiveshell.py\", line 3397, in run_code\n      exec(code_obj, self.user_global_ns, self.user_ns)\n    File \"C:\\Users\\demet\\AppData\\Local\\Temp\\ipykernel_8540\\1416866407.py\", line 1, in <cell line: 1>\n      results = model.evaluate(test_data,  test_labels, verbose=2)\n    File \"c:\\Users\\demet\\anaconda3\\envs\\mdenv\\lib\\site-packages\\keras\\utils\\traceback_utils.py\", line 64, in error_handler\n      return fn(*args, **kwargs)\n    File \"c:\\Users\\demet\\anaconda3\\envs\\mdenv\\lib\\site-packages\\keras\\engine\\training.py\", line 1756, in evaluate\n      tmp_logs = self.test_function(iterator)\n    File \"c:\\Users\\demet\\anaconda3\\envs\\mdenv\\lib\\site-packages\\keras\\engine\\training.py\", line 1557, in test_function\n      return step_function(self, iterator)\n    File \"c:\\Users\\demet\\anaconda3\\envs\\mdenv\\lib\\site-packages\\keras\\engine\\training.py\", line 1546, in step_function\n      outputs = model.distribute_strategy.run(run_step, args=(data,))\n    File \"c:\\Users\\demet\\anaconda3\\envs\\mdenv\\lib\\site-packages\\keras\\engine\\training.py\", line 1535, in run_step\n      outputs = model.test_step(data)\n    File \"c:\\Users\\demet\\anaconda3\\envs\\mdenv\\lib\\site-packages\\keras\\engine\\training.py\", line 1499, in test_step\n      y_pred = self(x, training=False)\n    File \"c:\\Users\\demet\\anaconda3\\envs\\mdenv\\lib\\site-packages\\keras\\utils\\traceback_utils.py\", line 64, in error_handler\n      return fn(*args, **kwargs)\n    File \"c:\\Users\\demet\\anaconda3\\envs\\mdenv\\lib\\site-packages\\keras\\engine\\training.py\", line 490, in __call__\n      return super().__call__(*args, **kwargs)\n    File \"c:\\Users\\demet\\anaconda3\\envs\\mdenv\\lib\\site-packages\\keras\\utils\\traceback_utils.py\", line 64, in error_handler\n      return fn(*args, **kwargs)\n    File \"c:\\Users\\demet\\anaconda3\\envs\\mdenv\\lib\\site-packages\\keras\\engine\\base_layer.py\", line 1014, in __call__\n      outputs = call_fn(inputs, *args, **kwargs)\n    File \"c:\\Users\\demet\\anaconda3\\envs\\mdenv\\lib\\site-packages\\keras\\utils\\traceback_utils.py\", line 92, in error_handler\n      return fn(*args, **kwargs)\n    File \"c:\\Users\\demet\\anaconda3\\envs\\mdenv\\lib\\site-packages\\keras\\engine\\sequential.py\", line 374, in call\n      return super(Sequential, self).call(inputs, training=training, mask=mask)\n    File \"c:\\Users\\demet\\anaconda3\\envs\\mdenv\\lib\\site-packages\\keras\\engine\\functional.py\", line 458, in call\n      return self._run_internal_graph(\n    File \"c:\\Users\\demet\\anaconda3\\envs\\mdenv\\lib\\site-packages\\keras\\engine\\functional.py\", line 578, in _run_internal_graph\n      y = self._conform_to_reference_input(y, ref_input=x)\n    File \"c:\\Users\\demet\\anaconda3\\envs\\mdenv\\lib\\site-packages\\keras\\engine\\functional.py\", line 678, in _conform_to_reference_input\n      tensor = tf.cast(tensor, dtype=ref_input.dtype)\nNode: 'sequential_2/Cast'\nCast string to float is not supported\n\t [[{{node sequential_2/Cast}}]] [Op:__inference_test_function_10080]"
     ]
    }
   ],
   "source": [
    "results = model.evaluate(test_data,  test_labels, verbose=2)\n",
    "\n",
    "print(results)"
   ]
  }
 ],
 "metadata": {
  "kernelspec": {
   "display_name": "Python 3.9.12 ('mdenv')",
   "language": "python",
   "name": "python3"
  },
  "language_info": {
   "codemirror_mode": {
    "name": "ipython",
    "version": 3
   },
   "file_extension": ".py",
   "mimetype": "text/x-python",
   "name": "python",
   "nbconvert_exporter": "python",
   "pygments_lexer": "ipython3",
   "version": "3.9.12"
  },
  "vscode": {
   "interpreter": {
    "hash": "bb26a599782b3853c870df2c7a4979ed6ea3ce3b4ae25b1f6e4fc2e40113204d"
   }
  }
 },
 "nbformat": 4,
 "nbformat_minor": 0
}
