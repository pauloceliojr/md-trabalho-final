{
 "cells": [
  {
   "cell_type": "code",
   "execution_count": 1,
   "metadata": {
    "collapsed": true
   },
   "outputs": [],
   "source": [
    "import pandas as pd"
   ]
  },
  {
   "cell_type": "code",
   "execution_count": 2,
   "outputs": [
    {
     "data": {
      "text/plain": "   Unnamed: 0                       NORMA           Unnamed: 2  \\\n0      550944  Lei nº 9.068 de 26/06/1995  LEI-9068-1995-06-26   \n1      551533  Lei nº 9.657 de 03/06/1998  LEI-9657-1998-06-03   \n2      550367  Lei nº 8.491 de 20/11/1992  LEI-8491-1992-11-20   \n3      550705  Lei nº 8.829 de 22/12/1993  LEI-8829-1993-12-22   \n4      551268  Lei nº 9.392 de 19/12/1996  LEI-9392-1996-12-19   \n\n                                              EMENTA   ANO  \\\n0  Cria, na 3ª Região da Justiça do Trabalho, em ...  1995   \n1  Cria, no âmbito das Forças Armadas, a Carreira...  1998   \n2  Altera a composição e a organização interna do...  1992   \n3  Cria, no Serviço Exterior Brasileiro, as Carre...  1993   \n4  Disciplina a remuneração e demais vantagens de...  1996   \n\n  CLASSIFICAÇÃO AUTOMÁTICA  Unnamed: 6 VALIDAÇÃO Classificação correta  \\\n0    Administração Pública    0.945005        OK                   NaN   \n1    Administração Pública    0.937654        OK                   NaN   \n2    Administração Pública    0.920366        OK                   NaN   \n3    Administração Pública    0.872302        OK                   NaN   \n4    Administração Pública    0.844883        OK                   NaN   \n\n  Unnamed: 9  \n0        NaN  \n1        NaN  \n2        NaN  \n3        NaN  \n4        NaN  ",
      "text/html": "<div>\n<style scoped>\n    .dataframe tbody tr th:only-of-type {\n        vertical-align: middle;\n    }\n\n    .dataframe tbody tr th {\n        vertical-align: top;\n    }\n\n    .dataframe thead th {\n        text-align: right;\n    }\n</style>\n<table border=\"1\" class=\"dataframe\">\n  <thead>\n    <tr style=\"text-align: right;\">\n      <th></th>\n      <th>Unnamed: 0</th>\n      <th>NORMA</th>\n      <th>Unnamed: 2</th>\n      <th>EMENTA</th>\n      <th>ANO</th>\n      <th>CLASSIFICAÇÃO AUTOMÁTICA</th>\n      <th>Unnamed: 6</th>\n      <th>VALIDAÇÃO</th>\n      <th>Classificação correta</th>\n      <th>Unnamed: 9</th>\n    </tr>\n  </thead>\n  <tbody>\n    <tr>\n      <th>0</th>\n      <td>550944</td>\n      <td>Lei nº 9.068 de 26/06/1995</td>\n      <td>LEI-9068-1995-06-26</td>\n      <td>Cria, na 3ª Região da Justiça do Trabalho, em ...</td>\n      <td>1995</td>\n      <td>Administração Pública</td>\n      <td>0.945005</td>\n      <td>OK</td>\n      <td>NaN</td>\n      <td>NaN</td>\n    </tr>\n    <tr>\n      <th>1</th>\n      <td>551533</td>\n      <td>Lei nº 9.657 de 03/06/1998</td>\n      <td>LEI-9657-1998-06-03</td>\n      <td>Cria, no âmbito das Forças Armadas, a Carreira...</td>\n      <td>1998</td>\n      <td>Administração Pública</td>\n      <td>0.937654</td>\n      <td>OK</td>\n      <td>NaN</td>\n      <td>NaN</td>\n    </tr>\n    <tr>\n      <th>2</th>\n      <td>550367</td>\n      <td>Lei nº 8.491 de 20/11/1992</td>\n      <td>LEI-8491-1992-11-20</td>\n      <td>Altera a composição e a organização interna do...</td>\n      <td>1992</td>\n      <td>Administração Pública</td>\n      <td>0.920366</td>\n      <td>OK</td>\n      <td>NaN</td>\n      <td>NaN</td>\n    </tr>\n    <tr>\n      <th>3</th>\n      <td>550705</td>\n      <td>Lei nº 8.829 de 22/12/1993</td>\n      <td>LEI-8829-1993-12-22</td>\n      <td>Cria, no Serviço Exterior Brasileiro, as Carre...</td>\n      <td>1993</td>\n      <td>Administração Pública</td>\n      <td>0.872302</td>\n      <td>OK</td>\n      <td>NaN</td>\n      <td>NaN</td>\n    </tr>\n    <tr>\n      <th>4</th>\n      <td>551268</td>\n      <td>Lei nº 9.392 de 19/12/1996</td>\n      <td>LEI-9392-1996-12-19</td>\n      <td>Disciplina a remuneração e demais vantagens de...</td>\n      <td>1996</td>\n      <td>Administração Pública</td>\n      <td>0.844883</td>\n      <td>OK</td>\n      <td>NaN</td>\n      <td>NaN</td>\n    </tr>\n  </tbody>\n</table>\n</div>"
     },
     "execution_count": 2,
     "metadata": {},
     "output_type": "execute_result"
    }
   ],
   "source": [
    "dados = pd.read_excel(\"dados/Classificacoes-validacao-usuario-resposta_usuario.xlsx\", \"Planilha1\")\n",
    "dados.head()"
   ],
   "metadata": {
    "collapsed": false
   }
  },
  {
   "cell_type": "code",
   "execution_count": 3,
   "outputs": [
    {
     "data": {
      "text/plain": "94"
     },
     "execution_count": 3,
     "metadata": {},
     "output_type": "execute_result"
    }
   ],
   "source": [
    "dados[\"VALIDAÇÃO\"].count()"
   ],
   "metadata": {
    "collapsed": false
   }
  },
  {
   "cell_type": "code",
   "execution_count": 4,
   "outputs": [
    {
     "data": {
      "text/plain": "OK      0.734043\nNOPE    0.265957\nName: VALIDAÇÃO, dtype: float64"
     },
     "execution_count": 4,
     "metadata": {},
     "output_type": "execute_result"
    }
   ],
   "source": [
    "dados[\"VALIDAÇÃO\"] = dados[\"VALIDAÇÃO\"].apply(lambda x : x.upper())\n",
    "dados[\"VALIDAÇÃO\"].value_counts(normalize=True)"
   ],
   "metadata": {
    "collapsed": false
   }
  },
  {
   "cell_type": "code",
   "execution_count": 5,
   "outputs": [
    {
     "data": {
      "text/plain": "VALIDAÇÃO  CLASSIFICAÇÃO AUTOMÁTICA                  \nNOPE       Meio Ambiente                                  6\n           Organização do Estado                          6\n           Infraestrutura                                 4\n           Soberania, Defesa Nacional e Ordem Pública     4\n           Economia e Desenvolvimento                     2\n           Política Social                                2\n           Honorífico                                     1\nOK         Administração Pública                         10\n           Orçamento Público                             10\n           Jurídico                                       9\n           Economia e Desenvolvimento                     8\n           Política Social                                8\n           Honorífico                                     7\n           Soberania, Defesa Nacional e Ordem Pública     5\n           Infraestrutura                                 4\n           Meio Ambiente                                  4\n           Organização do Estado                          4\nName: CLASSIFICAÇÃO AUTOMÁTICA, dtype: int64"
     },
     "execution_count": 5,
     "metadata": {},
     "output_type": "execute_result"
    }
   ],
   "source": [
    "dados.groupby(\"VALIDAÇÃO\")[\"CLASSIFICAÇÃO AUTOMÁTICA\"].value_counts()"
   ],
   "metadata": {
    "collapsed": false
   }
  }
 ],
 "metadata": {
  "kernelspec": {
   "display_name": "Python 3",
   "language": "python",
   "name": "python3"
  },
  "language_info": {
   "codemirror_mode": {
    "name": "ipython",
    "version": 2
   },
   "file_extension": ".py",
   "mimetype": "text/x-python",
   "name": "python",
   "nbconvert_exporter": "python",
   "pygments_lexer": "ipython2",
   "version": "2.7.6"
  }
 },
 "nbformat": 4,
 "nbformat_minor": 0
}
